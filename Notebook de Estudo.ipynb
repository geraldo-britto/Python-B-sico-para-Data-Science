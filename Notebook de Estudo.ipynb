{
 "cells": [
  {
   "cell_type": "markdown",
   "metadata": {},
   "source": [
    "# AULA 1"
   ]
  },
  {
   "cell_type": "markdown",
   "metadata": {},
   "source": [
    "\n",
    "### Variáveis Numéricas\n"
   ]
  },
  {
   "cell_type": "markdown",
   "metadata": {},
   "source": [
    "#### Variável int\n",
    "\n"
   ]
  },
  {
   "cell_type": "code",
   "execution_count": 1,
   "metadata": {},
   "outputs": [],
   "source": [
    "a = 10"
   ]
  },
  {
   "cell_type": "code",
   "execution_count": 2,
   "metadata": {},
   "outputs": [],
   "source": [
    "b = 20"
   ]
  },
  {
   "cell_type": "code",
   "execution_count": 4,
   "metadata": {},
   "outputs": [
    {
     "data": {
      "text/plain": [
       "30"
      ]
     },
     "execution_count": 4,
     "metadata": {},
     "output_type": "execute_result"
    }
   ],
   "source": [
    "a + b"
   ]
  },
  {
   "cell_type": "code",
   "execution_count": 5,
   "metadata": {},
   "outputs": [
    {
     "data": {
      "text/plain": [
       "int"
      ]
     },
     "execution_count": 5,
     "metadata": {},
     "output_type": "execute_result"
    }
   ],
   "source": [
    "type(a+b)"
   ]
  },
  {
   "cell_type": "markdown",
   "metadata": {},
   "source": [
    "#### Variável float"
   ]
  },
  {
   "cell_type": "code",
   "execution_count": 1,
   "metadata": {},
   "outputs": [],
   "source": [
    "c = 2.5"
   ]
  },
  {
   "cell_type": "code",
   "execution_count": 4,
   "metadata": {},
   "outputs": [
    {
     "data": {
      "text/plain": [
       "float"
      ]
     },
     "execution_count": 4,
     "metadata": {},
     "output_type": "execute_result"
    }
   ],
   "source": [
    "type(c)"
   ]
  },
  {
   "cell_type": "markdown",
   "metadata": {},
   "source": [
    "#### Variável string"
   ]
  },
  {
   "cell_type": "code",
   "execution_count": 5,
   "metadata": {},
   "outputs": [],
   "source": [
    "nome = 'Geraldo'"
   ]
  },
  {
   "cell_type": "code",
   "execution_count": 6,
   "metadata": {},
   "outputs": [
    {
     "data": {
      "text/plain": [
       "'Geraldo'"
      ]
     },
     "execution_count": 6,
     "metadata": {},
     "output_type": "execute_result"
    }
   ],
   "source": [
    "nome"
   ]
  },
  {
   "cell_type": "code",
   "execution_count": 7,
   "metadata": {},
   "outputs": [
    {
     "data": {
      "text/plain": [
       "str"
      ]
     },
     "execution_count": 7,
     "metadata": {},
     "output_type": "execute_result"
    }
   ],
   "source": [
    "type(nome)"
   ]
  },
  {
   "cell_type": "markdown",
   "metadata": {},
   "source": [
    "#### Variável do tipo booleana"
   ]
  },
  {
   "cell_type": "code",
   "execution_count": 8,
   "metadata": {},
   "outputs": [],
   "source": [
    "#variáveis lógicas que retornam TRUE ou FALSE\n",
    "\n",
    "n1 = 3\n",
    "n2 = 4\n",
    "\n"
   ]
  },
  {
   "cell_type": "code",
   "execution_count": 9,
   "metadata": {},
   "outputs": [
    {
     "data": {
      "text/plain": [
       "False"
      ]
     },
     "execution_count": 9,
     "metadata": {},
     "output_type": "execute_result"
    }
   ],
   "source": [
    "n1 > n2"
   ]
  },
  {
   "cell_type": "code",
   "execution_count": 10,
   "metadata": {},
   "outputs": [
    {
     "data": {
      "text/plain": [
       "True"
      ]
     },
     "execution_count": 10,
     "metadata": {},
     "output_type": "execute_result"
    }
   ],
   "source": [
    "n1 < n2"
   ]
  },
  {
   "cell_type": "markdown",
   "metadata": {},
   "source": [
    "# AULA 2"
   ]
  },
  {
   "cell_type": "markdown",
   "metadata": {},
   "source": [
    "### Operações com Variáveis"
   ]
  },
  {
   "cell_type": "markdown",
   "metadata": {},
   "source": [
    "#### soma"
   ]
  },
  {
   "cell_type": "code",
   "execution_count": 11,
   "metadata": {},
   "outputs": [
    {
     "data": {
      "text/plain": [
       "25"
      ]
     },
     "execution_count": 11,
     "metadata": {},
     "output_type": "execute_result"
    }
   ],
   "source": [
    "10 + 15"
   ]
  },
  {
   "cell_type": "code",
   "execution_count": 12,
   "metadata": {},
   "outputs": [],
   "source": [
    "a=4\n",
    "b=6"
   ]
  },
  {
   "cell_type": "code",
   "execution_count": 13,
   "metadata": {},
   "outputs": [
    {
     "data": {
      "text/plain": [
       "10"
      ]
     },
     "execution_count": 13,
     "metadata": {},
     "output_type": "execute_result"
    }
   ],
   "source": [
    "a + b\n"
   ]
  },
  {
   "cell_type": "code",
   "execution_count": 14,
   "metadata": {},
   "outputs": [
    {
     "data": {
      "text/plain": [
       "20.0"
      ]
     },
     "execution_count": 14,
     "metadata": {},
     "output_type": "execute_result"
    }
   ],
   "source": [
    "10.75 + 9.25"
   ]
  },
  {
   "cell_type": "markdown",
   "metadata": {},
   "source": [
    "#### subtração"
   ]
  },
  {
   "cell_type": "code",
   "execution_count": 15,
   "metadata": {},
   "outputs": [],
   "source": [
    "sub = 50 - 17"
   ]
  },
  {
   "cell_type": "code",
   "execution_count": 16,
   "metadata": {},
   "outputs": [
    {
     "data": {
      "text/plain": [
       "33"
      ]
     },
     "execution_count": 16,
     "metadata": {},
     "output_type": "execute_result"
    }
   ],
   "source": [
    "sub"
   ]
  },
  {
   "cell_type": "code",
   "execution_count": 17,
   "metadata": {},
   "outputs": [],
   "source": [
    "a = 74\n",
    "b = 33\n"
   ]
  },
  {
   "cell_type": "code",
   "execution_count": 18,
   "metadata": {},
   "outputs": [
    {
     "data": {
      "text/plain": [
       "41"
      ]
     },
     "execution_count": 18,
     "metadata": {},
     "output_type": "execute_result"
    }
   ],
   "source": [
    "a-b"
   ]
  },
  {
   "cell_type": "code",
   "execution_count": 19,
   "metadata": {},
   "outputs": [],
   "source": [
    "c = 1.89\n",
    "d = 0.56\n"
   ]
  },
  {
   "cell_type": "code",
   "execution_count": 20,
   "metadata": {},
   "outputs": [
    {
     "data": {
      "text/plain": [
       "1.3299999999999998"
      ]
     },
     "execution_count": 20,
     "metadata": {},
     "output_type": "execute_result"
    }
   ],
   "source": [
    "c - d"
   ]
  },
  {
   "cell_type": "markdown",
   "metadata": {},
   "source": [
    "#### multiplicação"
   ]
  },
  {
   "cell_type": "code",
   "execution_count": 21,
   "metadata": {},
   "outputs": [],
   "source": [
    "mult = 4 * 3"
   ]
  },
  {
   "cell_type": "code",
   "execution_count": 22,
   "metadata": {},
   "outputs": [
    {
     "data": {
      "text/plain": [
       "12"
      ]
     },
     "execution_count": 22,
     "metadata": {},
     "output_type": "execute_result"
    }
   ],
   "source": [
    "mult"
   ]
  },
  {
   "cell_type": "code",
   "execution_count": 23,
   "metadata": {},
   "outputs": [],
   "source": [
    "a = 5\n",
    "b = 8"
   ]
  },
  {
   "cell_type": "code",
   "execution_count": 24,
   "metadata": {},
   "outputs": [
    {
     "data": {
      "text/plain": [
       "40"
      ]
     },
     "execution_count": 24,
     "metadata": {},
     "output_type": "execute_result"
    }
   ],
   "source": [
    "a * b"
   ]
  },
  {
   "cell_type": "markdown",
   "metadata": {},
   "source": [
    "#### divisão"
   ]
  },
  {
   "cell_type": "code",
   "execution_count": 25,
   "metadata": {},
   "outputs": [],
   "source": [
    "div = 10 / 5\n"
   ]
  },
  {
   "cell_type": "code",
   "execution_count": 26,
   "metadata": {},
   "outputs": [
    {
     "data": {
      "text/plain": [
       "2.0"
      ]
     },
     "execution_count": 26,
     "metadata": {},
     "output_type": "execute_result"
    }
   ],
   "source": [
    "div"
   ]
  },
  {
   "cell_type": "code",
   "execution_count": 27,
   "metadata": {},
   "outputs": [],
   "source": [
    "a = 4\n",
    "b = 2"
   ]
  },
  {
   "cell_type": "code",
   "execution_count": 28,
   "metadata": {},
   "outputs": [
    {
     "data": {
      "text/plain": [
       "2.0"
      ]
     },
     "execution_count": 28,
     "metadata": {},
     "output_type": "execute_result"
    }
   ],
   "source": [
    "a / b"
   ]
  },
  {
   "cell_type": "markdown",
   "metadata": {},
   "source": [
    "#### divisão inteira (exibe a parte inteira de uma divisão)"
   ]
  },
  {
   "cell_type": "code",
   "execution_count": 29,
   "metadata": {},
   "outputs": [],
   "source": [
    "div_inteira = 3 // 2"
   ]
  },
  {
   "cell_type": "code",
   "execution_count": 30,
   "metadata": {},
   "outputs": [
    {
     "data": {
      "text/plain": [
       "1"
      ]
     },
     "execution_count": 30,
     "metadata": {},
     "output_type": "execute_result"
    }
   ],
   "source": [
    "div_inteira"
   ]
  },
  {
   "cell_type": "markdown",
   "metadata": {},
   "source": [
    "#### exponenciação"
   ]
  },
  {
   "cell_type": "code",
   "execution_count": 31,
   "metadata": {},
   "outputs": [],
   "source": [
    "exp = 5**2"
   ]
  },
  {
   "cell_type": "code",
   "execution_count": 32,
   "metadata": {},
   "outputs": [
    {
     "data": {
      "text/plain": [
       "25"
      ]
     },
     "execution_count": 32,
     "metadata": {},
     "output_type": "execute_result"
    }
   ],
   "source": [
    "exp"
   ]
  },
  {
   "cell_type": "markdown",
   "metadata": {},
   "source": [
    "#### resto da divisão (Mod)"
   ]
  },
  {
   "cell_type": "code",
   "execution_count": 33,
   "metadata": {},
   "outputs": [],
   "source": [
    "mod = 5 % 2"
   ]
  },
  {
   "cell_type": "code",
   "execution_count": 34,
   "metadata": {},
   "outputs": [
    {
     "data": {
      "text/plain": [
       "1"
      ]
     },
     "execution_count": 34,
     "metadata": {},
     "output_type": "execute_result"
    }
   ],
   "source": [
    "mod"
   ]
  },
  {
   "cell_type": "code",
   "execution_count": 35,
   "metadata": {},
   "outputs": [
    {
     "data": {
      "text/plain": [
       "0"
      ]
     },
     "execution_count": 35,
     "metadata": {},
     "output_type": "execute_result"
    }
   ],
   "source": [
    "6 % 3"
   ]
  },
  {
   "cell_type": "markdown",
   "metadata": {},
   "source": [
    "# AULA 3"
   ]
  },
  {
   "cell_type": "markdown",
   "metadata": {},
   "source": [
    "### Operadores e conectivos"
   ]
  },
  {
   "cell_type": "markdown",
   "metadata": {},
   "source": [
    "#### Maior"
   ]
  },
  {
   "cell_type": "code",
   "execution_count": 36,
   "metadata": {},
   "outputs": [],
   "source": [
    "a = 5 > 6\n"
   ]
  },
  {
   "cell_type": "code",
   "execution_count": 37,
   "metadata": {},
   "outputs": [
    {
     "data": {
      "text/plain": [
       "False"
      ]
     },
     "execution_count": 37,
     "metadata": {},
     "output_type": "execute_result"
    }
   ],
   "source": [
    "a"
   ]
  },
  {
   "cell_type": "markdown",
   "metadata": {},
   "source": [
    "#### Menor"
   ]
  },
  {
   "cell_type": "code",
   "execution_count": 38,
   "metadata": {},
   "outputs": [],
   "source": [
    "b = 4 < 5"
   ]
  },
  {
   "cell_type": "code",
   "execution_count": 39,
   "metadata": {},
   "outputs": [
    {
     "data": {
      "text/plain": [
       "True"
      ]
     },
     "execution_count": 39,
     "metadata": {},
     "output_type": "execute_result"
    }
   ],
   "source": [
    "b"
   ]
  },
  {
   "cell_type": "markdown",
   "metadata": {},
   "source": [
    "#### Maior ou Igual"
   ]
  },
  {
   "cell_type": "code",
   "execution_count": 40,
   "metadata": {},
   "outputs": [
    {
     "data": {
      "text/plain": [
       "True"
      ]
     },
     "execution_count": 40,
     "metadata": {},
     "output_type": "execute_result"
    }
   ],
   "source": [
    "5 >= 4"
   ]
  },
  {
   "cell_type": "code",
   "execution_count": 41,
   "metadata": {},
   "outputs": [
    {
     "data": {
      "text/plain": [
       "True"
      ]
     },
     "execution_count": 41,
     "metadata": {},
     "output_type": "execute_result"
    }
   ],
   "source": [
    "5 >= 5"
   ]
  },
  {
   "cell_type": "code",
   "execution_count": 42,
   "metadata": {},
   "outputs": [
    {
     "data": {
      "text/plain": [
       "False"
      ]
     },
     "execution_count": 42,
     "metadata": {},
     "output_type": "execute_result"
    }
   ],
   "source": [
    "5 >= 6"
   ]
  },
  {
   "cell_type": "markdown",
   "metadata": {},
   "source": [
    "#### Menor ou Igual"
   ]
  },
  {
   "cell_type": "code",
   "execution_count": 43,
   "metadata": {},
   "outputs": [
    {
     "data": {
      "text/plain": [
       "True"
      ]
     },
     "execution_count": 43,
     "metadata": {},
     "output_type": "execute_result"
    }
   ],
   "source": [
    "4 <= 6"
   ]
  },
  {
   "cell_type": "code",
   "execution_count": 44,
   "metadata": {},
   "outputs": [
    {
     "data": {
      "text/plain": [
       "True"
      ]
     },
     "execution_count": 44,
     "metadata": {},
     "output_type": "execute_result"
    }
   ],
   "source": [
    "4 <= 4"
   ]
  },
  {
   "cell_type": "code",
   "execution_count": 45,
   "metadata": {},
   "outputs": [
    {
     "data": {
      "text/plain": [
       "False"
      ]
     },
     "execution_count": 45,
     "metadata": {},
     "output_type": "execute_result"
    }
   ],
   "source": [
    "4 <= 2"
   ]
  },
  {
   "cell_type": "markdown",
   "metadata": {},
   "source": [
    "#### Igual"
   ]
  },
  {
   "cell_type": "code",
   "execution_count": 46,
   "metadata": {},
   "outputs": [
    {
     "data": {
      "text/plain": [
       "True"
      ]
     },
     "execution_count": 46,
     "metadata": {},
     "output_type": "execute_result"
    }
   ],
   "source": [
    "4 == 4"
   ]
  },
  {
   "cell_type": "code",
   "execution_count": 47,
   "metadata": {},
   "outputs": [
    {
     "data": {
      "text/plain": [
       "False"
      ]
     },
     "execution_count": 47,
     "metadata": {},
     "output_type": "execute_result"
    }
   ],
   "source": [
    "4 == 3"
   ]
  },
  {
   "cell_type": "markdown",
   "metadata": {},
   "source": [
    "#### Diferente"
   ]
  },
  {
   "cell_type": "code",
   "execution_count": 48,
   "metadata": {},
   "outputs": [
    {
     "data": {
      "text/plain": [
       "True"
      ]
     },
     "execution_count": 48,
     "metadata": {},
     "output_type": "execute_result"
    }
   ],
   "source": [
    "4 != 5"
   ]
  },
  {
   "cell_type": "code",
   "execution_count": 49,
   "metadata": {},
   "outputs": [
    {
     "data": {
      "text/plain": [
       "False"
      ]
     },
     "execution_count": 49,
     "metadata": {},
     "output_type": "execute_result"
    }
   ],
   "source": [
    "4 != 4"
   ]
  },
  {
   "cell_type": "markdown",
   "metadata": {},
   "source": [
    "#### Conectivo AND"
   ]
  },
  {
   "cell_type": "code",
   "execution_count": 50,
   "metadata": {},
   "outputs": [],
   "source": [
    "a = 4 < 5 and 4 < 6"
   ]
  },
  {
   "cell_type": "code",
   "execution_count": 51,
   "metadata": {},
   "outputs": [
    {
     "data": {
      "text/plain": [
       "True"
      ]
     },
     "execution_count": 51,
     "metadata": {},
     "output_type": "execute_result"
    }
   ],
   "source": [
    "a"
   ]
  },
  {
   "cell_type": "code",
   "execution_count": 52,
   "metadata": {},
   "outputs": [],
   "source": [
    "a = 4 < 5 and 4 < 3"
   ]
  },
  {
   "cell_type": "code",
   "execution_count": 53,
   "metadata": {},
   "outputs": [
    {
     "data": {
      "text/plain": [
       "False"
      ]
     },
     "execution_count": 53,
     "metadata": {},
     "output_type": "execute_result"
    }
   ],
   "source": [
    "a"
   ]
  },
  {
   "cell_type": "markdown",
   "metadata": {},
   "source": [
    "#### Conectivo OR"
   ]
  },
  {
   "cell_type": "code",
   "execution_count": 54,
   "metadata": {},
   "outputs": [],
   "source": [
    "a = 4 < 5 or 4 < 3"
   ]
  },
  {
   "cell_type": "code",
   "execution_count": 55,
   "metadata": {},
   "outputs": [
    {
     "data": {
      "text/plain": [
       "True"
      ]
     },
     "execution_count": 55,
     "metadata": {},
     "output_type": "execute_result"
    }
   ],
   "source": [
    "a"
   ]
  },
  {
   "cell_type": "markdown",
   "metadata": {},
   "source": [
    "#### Conectivo NOT"
   ]
  },
  {
   "cell_type": "code",
   "execution_count": 57,
   "metadata": {},
   "outputs": [],
   "source": [
    "a = 4 < 5 "
   ]
  },
  {
   "cell_type": "code",
   "execution_count": 58,
   "metadata": {},
   "outputs": [
    {
     "data": {
      "text/plain": [
       "True"
      ]
     },
     "execution_count": 58,
     "metadata": {},
     "output_type": "execute_result"
    }
   ],
   "source": [
    "a"
   ]
  },
  {
   "cell_type": "code",
   "execution_count": 59,
   "metadata": {},
   "outputs": [],
   "source": [
    "a = not 4 < 5"
   ]
  },
  {
   "cell_type": "code",
   "execution_count": 60,
   "metadata": {},
   "outputs": [
    {
     "data": {
      "text/plain": [
       "False"
      ]
     },
     "execution_count": 60,
     "metadata": {},
     "output_type": "execute_result"
    }
   ],
   "source": [
    "a"
   ]
  },
  {
   "cell_type": "markdown",
   "metadata": {},
   "source": [
    "# AULA 4"
   ]
  },
  {
   "cell_type": "markdown",
   "metadata": {},
   "source": [
    "### IF - ELSE - ELIF"
   ]
  },
  {
   "cell_type": "code",
   "execution_count": 61,
   "metadata": {},
   "outputs": [],
   "source": [
    "idade = 15"
   ]
  },
  {
   "cell_type": "code",
   "execution_count": 62,
   "metadata": {},
   "outputs": [
    {
     "name": "stdout",
     "output_type": "stream",
     "text": [
      "Não pode tirar CHN\n"
     ]
    }
   ],
   "source": [
    "if(idade>=18):\n",
    "    print('Pode tirar CNH')\n",
    "else:\n",
    "    print('Não pode tirar CHN')"
   ]
  },
  {
   "cell_type": "code",
   "execution_count": 63,
   "metadata": {},
   "outputs": [],
   "source": [
    "idade_Joao = 19\n",
    "idade_Maria = 20"
   ]
  },
  {
   "cell_type": "code",
   "execution_count": 64,
   "metadata": {},
   "outputs": [
    {
     "name": "stdout",
     "output_type": "stream",
     "text": [
      "Maria é mais velha que João\n"
     ]
    }
   ],
   "source": [
    "if(idade_Joao>idade_Maria):\n",
    "    print('João é mais velho que Maria')\n",
    "else:\n",
    "    print('Maria é mais velha que João')"
   ]
  },
  {
   "cell_type": "code",
   "execution_count": 65,
   "metadata": {},
   "outputs": [],
   "source": [
    "idade_Joao = 19\n",
    "idade_Maria = 20\n",
    "idade_Pedro = 23"
   ]
  },
  {
   "cell_type": "code",
   "execution_count": 66,
   "metadata": {},
   "outputs": [
    {
     "name": "stdout",
     "output_type": "stream",
     "text": [
      "Pedro é o mais velho de todos\n"
     ]
    }
   ],
   "source": [
    "if(idade_Joao>idade_Maria and idade_Joao>idade_Pedro):\n",
    "    print('João é o mais velho de todos')\n",
    "elif(idade_Maria>idade_Joao and idade_Maria>idade_Pedro):\n",
    "    print('Maria é a mais velha de todos')\n",
    "else:\n",
    "    print('Pedro é o mais velho de todos')"
   ]
  },
  {
   "cell_type": "code",
   "execution_count": 67,
   "metadata": {},
   "outputs": [],
   "source": [
    "#criança, adolescente, adulto e idoso"
   ]
  },
  {
   "cell_type": "code",
   "execution_count": 78,
   "metadata": {},
   "outputs": [],
   "source": [
    "idade = 35"
   ]
  },
  {
   "cell_type": "code",
   "execution_count": 79,
   "metadata": {},
   "outputs": [
    {
     "name": "stdout",
     "output_type": "stream",
     "text": [
      "Adulto\n"
     ]
    }
   ],
   "source": [
    "if(idade <= 13):\n",
    "    print('Criança')\n",
    "elif(idade >= 14 and idade < 18):\n",
    "    print('Adolescente')\n",
    "elif(idade >= 18 and idade < 60):\n",
    "    print('Adulto')\n",
    "else:\n",
    "    print('Idoso')\n"
   ]
  },
  {
   "cell_type": "markdown",
   "metadata": {},
   "source": [
    "# AULA 4.1"
   ]
  },
  {
   "cell_type": "markdown",
   "metadata": {},
   "source": [
    "### Indentação"
   ]
  },
  {
   "cell_type": "code",
   "execution_count": 80,
   "metadata": {},
   "outputs": [],
   "source": [
    "a = 5\n",
    "b = 4"
   ]
  },
  {
   "cell_type": "code",
   "execution_count": 82,
   "metadata": {},
   "outputs": [],
   "source": [
    "# Indentação correta:"
   ]
  },
  {
   "cell_type": "code",
   "execution_count": 83,
   "metadata": {},
   "outputs": [
    {
     "name": "stdout",
     "output_type": "stream",
     "text": [
      "a é maior que b\n"
     ]
    }
   ],
   "source": [
    "if(a > b):\n",
    "    print('a é maior que b')\n",
    "else:\n",
    "    print('b é maior que a')"
   ]
  },
  {
   "cell_type": "code",
   "execution_count": 84,
   "metadata": {},
   "outputs": [],
   "source": [
    "# Indentação incorreta:"
   ]
  },
  {
   "cell_type": "code",
   "execution_count": 85,
   "metadata": {
    "scrolled": true
   },
   "outputs": [
    {
     "ename": "IndentationError",
     "evalue": "expected an indented block (<ipython-input-85-dcf78f57cd75>, line 2)",
     "output_type": "error",
     "traceback": [
      "\u001b[1;36m  File \u001b[1;32m\"<ipython-input-85-dcf78f57cd75>\"\u001b[1;36m, line \u001b[1;32m2\u001b[0m\n\u001b[1;33m    print('a é maior que b')\u001b[0m\n\u001b[1;37m        ^\u001b[0m\n\u001b[1;31mIndentationError\u001b[0m\u001b[1;31m:\u001b[0m expected an indented block\n"
     ]
    }
   ],
   "source": [
    "if(a > b):\n",
    "print('a é maior que b')\n",
    "else:\n",
    "print('b é maior que a')"
   ]
  },
  {
   "cell_type": "code",
   "execution_count": 86,
   "metadata": {},
   "outputs": [],
   "source": [
    "# O Python se preocupa muito com a indentação, se os blocos ou linhas de comandos não estiverem alinhados dará erro."
   ]
  },
  {
   "cell_type": "markdown",
   "metadata": {},
   "source": [
    "# AULA 5"
   ]
  },
  {
   "cell_type": "markdown",
   "metadata": {},
   "source": [
    "### Listas"
   ]
  },
  {
   "cell_type": "code",
   "execution_count": 87,
   "metadata": {},
   "outputs": [],
   "source": [
    "A = [1, 2, 3, 4]"
   ]
  },
  {
   "cell_type": "code",
   "execution_count": 88,
   "metadata": {},
   "outputs": [
    {
     "data": {
      "text/plain": [
       "[1, 2, 3, 4]"
      ]
     },
     "execution_count": 88,
     "metadata": {},
     "output_type": "execute_result"
    }
   ],
   "source": [
    "A\n"
   ]
  },
  {
   "cell_type": "code",
   "execution_count": 89,
   "metadata": {},
   "outputs": [],
   "source": [
    "# Aceita valores de diversos tipos:"
   ]
  },
  {
   "cell_type": "code",
   "execution_count": 90,
   "metadata": {},
   "outputs": [],
   "source": [
    "B = [1, 2, 'Olá', 2.5, True]"
   ]
  },
  {
   "cell_type": "code",
   "execution_count": 91,
   "metadata": {},
   "outputs": [
    {
     "data": {
      "text/plain": [
       "[1, 2, 'Olá', 2.5, True]"
      ]
     },
     "execution_count": 91,
     "metadata": {},
     "output_type": "execute_result"
    }
   ],
   "source": [
    "B"
   ]
  },
  {
   "cell_type": "code",
   "execution_count": 92,
   "metadata": {},
   "outputs": [],
   "source": [
    "# As listas são ordenados pelos seus índices, e inicia no zero"
   ]
  },
  {
   "cell_type": "markdown",
   "metadata": {},
   "source": [
    " No índice 0 da variável B está o valor 1\n",
    " No índice 1 da variável B está o valor 2\n",
    " No índice 2 da variável B está o valor 'Olá' ... E assim por diante\n",
    "\n",
    " podemos utilizar índices negativos também onde \n",
    " - -1 é o último item da lista\n",
    " - -2 é o penúltimo item da lista\n",
    " - -3 é o antepenúltimo item da lista... etc\n",
    "\n",
    "\n",
    "![](images/lista1.jpg)\n"
   ]
  },
  {
   "cell_type": "code",
   "execution_count": 103,
   "metadata": {},
   "outputs": [],
   "source": [
    "frutas = ['maçã', 'laranja', 'banana', 'abacaxi']"
   ]
  },
  {
   "cell_type": "code",
   "execution_count": 96,
   "metadata": {},
   "outputs": [
    {
     "data": {
      "text/plain": [
       "['maçã', 'laranja', 'banana', 'abacaxi']"
      ]
     },
     "execution_count": 96,
     "metadata": {},
     "output_type": "execute_result"
    }
   ],
   "source": [
    "frutas"
   ]
  },
  {
   "cell_type": "code",
   "execution_count": 97,
   "metadata": {},
   "outputs": [
    {
     "data": {
      "text/plain": [
       "list"
      ]
     },
     "execution_count": 97,
     "metadata": {},
     "output_type": "execute_result"
    }
   ],
   "source": [
    "type(frutas)"
   ]
  },
  {
   "cell_type": "code",
   "execution_count": 98,
   "metadata": {},
   "outputs": [],
   "source": [
    "# acessando itens na lista"
   ]
  },
  {
   "cell_type": "code",
   "execution_count": 99,
   "metadata": {},
   "outputs": [
    {
     "data": {
      "text/plain": [
       "'banana'"
      ]
     },
     "execution_count": 99,
     "metadata": {},
     "output_type": "execute_result"
    }
   ],
   "source": [
    "frutas[2]"
   ]
  },
  {
   "cell_type": "code",
   "execution_count": 100,
   "metadata": {},
   "outputs": [
    {
     "data": {
      "text/plain": [
       "'maçã'"
      ]
     },
     "execution_count": 100,
     "metadata": {},
     "output_type": "execute_result"
    }
   ],
   "source": [
    "frutas[0]"
   ]
  },
  {
   "cell_type": "code",
   "execution_count": 102,
   "metadata": {},
   "outputs": [
    {
     "data": {
      "text/plain": [
       "['laranja', 'banana']"
      ]
     },
     "execution_count": 102,
     "metadata": {},
     "output_type": "execute_result"
    }
   ],
   "source": [
    "frutas[1:3] # O último valor do índice informado NÃO entra no intervalo"
   ]
  },
  {
   "cell_type": "code",
   "execution_count": 104,
   "metadata": {},
   "outputs": [],
   "source": [
    "frutas = ['maçã', 'laranja', 'banana', 'abacaxi', 'abacate', 'limão']"
   ]
  },
  {
   "cell_type": "code",
   "execution_count": 105,
   "metadata": {},
   "outputs": [
    {
     "data": {
      "text/plain": [
       "['maçã', 'laranja', 'banana', 'abacaxi', 'abacate', 'limão']"
      ]
     },
     "execution_count": 105,
     "metadata": {},
     "output_type": "execute_result"
    }
   ],
   "source": [
    "frutas"
   ]
  },
  {
   "cell_type": "code",
   "execution_count": 106,
   "metadata": {},
   "outputs": [],
   "source": [
    "# quero laranja, banana e abacaxi:"
   ]
  },
  {
   "cell_type": "code",
   "execution_count": 107,
   "metadata": {},
   "outputs": [
    {
     "data": {
      "text/plain": [
       "['laranja', 'banana', 'abacaxi']"
      ]
     },
     "execution_count": 107,
     "metadata": {},
     "output_type": "execute_result"
    }
   ],
   "source": [
    "frutas[1:4]"
   ]
  },
  {
   "cell_type": "code",
   "execution_count": 108,
   "metadata": {},
   "outputs": [
    {
     "data": {
      "text/plain": [
       "['banana', 'abacaxi', 'abacate', 'limão']"
      ]
     },
     "execution_count": 108,
     "metadata": {},
     "output_type": "execute_result"
    }
   ],
   "source": [
    "frutas[2:]"
   ]
  },
  {
   "cell_type": "code",
   "execution_count": 109,
   "metadata": {},
   "outputs": [
    {
     "data": {
      "text/plain": [
       "['maçã', 'laranja', 'banana', 'abacaxi', 'abacate']"
      ]
     },
     "execution_count": 109,
     "metadata": {},
     "output_type": "execute_result"
    }
   ],
   "source": [
    "frutas[:5]"
   ]
  },
  {
   "cell_type": "code",
   "execution_count": 110,
   "metadata": {},
   "outputs": [
    {
     "data": {
      "text/plain": [
       "'limão'"
      ]
     },
     "execution_count": 110,
     "metadata": {},
     "output_type": "execute_result"
    }
   ],
   "source": [
    "frutas[-1]"
   ]
  },
  {
   "cell_type": "code",
   "execution_count": 111,
   "metadata": {},
   "outputs": [
    {
     "data": {
      "text/plain": [
       "'abacate'"
      ]
     },
     "execution_count": 111,
     "metadata": {},
     "output_type": "execute_result"
    }
   ],
   "source": [
    "frutas[-2]"
   ]
  },
  {
   "cell_type": "code",
   "execution_count": 112,
   "metadata": {},
   "outputs": [
    {
     "data": {
      "text/plain": [
       "'abacaxi'"
      ]
     },
     "execution_count": 112,
     "metadata": {},
     "output_type": "execute_result"
    }
   ],
   "source": [
    "frutas[-3]"
   ]
  },
  {
   "cell_type": "code",
   "execution_count": 113,
   "metadata": {},
   "outputs": [],
   "source": [
    "lista = ['sim','não','sim','não','sim','não']"
   ]
  },
  {
   "cell_type": "code",
   "execution_count": 114,
   "metadata": {},
   "outputs": [
    {
     "data": {
      "text/plain": [
       "['sim', 'não', 'sim', 'não', 'sim', 'não']"
      ]
     },
     "execution_count": 114,
     "metadata": {},
     "output_type": "execute_result"
    }
   ],
   "source": [
    "lista[:]  # os dois pontos exibe a lista toda"
   ]
  },
  {
   "cell_type": "code",
   "execution_count": 115,
   "metadata": {},
   "outputs": [
    {
     "data": {
      "text/plain": [
       "['sim', 'não', 'sim', 'não', 'sim', 'não']"
      ]
     },
     "execution_count": 115,
     "metadata": {},
     "output_type": "execute_result"
    }
   ],
   "source": [
    "lista[0:7]"
   ]
  },
  {
   "cell_type": "code",
   "execution_count": 117,
   "metadata": {},
   "outputs": [
    {
     "data": {
      "text/plain": [
       "['sim', 'sim', 'sim']"
      ]
     },
     "execution_count": 117,
     "metadata": {},
     "output_type": "execute_result"
    }
   ],
   "source": [
    "lista[0:7:2] # O último valor determina o passo de seleção da lista, no exemplo ele percorre os índices 0, 2 e 4."
   ]
  },
  {
   "cell_type": "code",
   "execution_count": 118,
   "metadata": {},
   "outputs": [
    {
     "data": {
      "text/plain": [
       "['sim', 'sim', 'sim']"
      ]
     },
     "execution_count": 118,
     "metadata": {},
     "output_type": "execute_result"
    }
   ],
   "source": [
    "lista[::2] # Outra forma de escrever o mesmo comando do exemplo acima"
   ]
  },
  {
   "cell_type": "code",
   "execution_count": 119,
   "metadata": {},
   "outputs": [],
   "source": [
    "# testando se um valor está na lista:"
   ]
  },
  {
   "cell_type": "code",
   "execution_count": 120,
   "metadata": {},
   "outputs": [
    {
     "data": {
      "text/plain": [
       "['maçã', 'laranja', 'banana', 'abacaxi', 'abacate', 'limão']"
      ]
     },
     "execution_count": 120,
     "metadata": {},
     "output_type": "execute_result"
    }
   ],
   "source": [
    "frutas"
   ]
  },
  {
   "cell_type": "code",
   "execution_count": 121,
   "metadata": {},
   "outputs": [
    {
     "data": {
      "text/plain": [
       "True"
      ]
     },
     "execution_count": 121,
     "metadata": {},
     "output_type": "execute_result"
    }
   ],
   "source": [
    "'maçã' in frutas"
   ]
  },
  {
   "cell_type": "code",
   "execution_count": 122,
   "metadata": {},
   "outputs": [
    {
     "data": {
      "text/plain": [
       "False"
      ]
     },
     "execution_count": 122,
     "metadata": {},
     "output_type": "execute_result"
    }
   ],
   "source": [
    "'melancia' in frutas"
   ]
  },
  {
   "cell_type": "code",
   "execution_count": 123,
   "metadata": {},
   "outputs": [],
   "source": [
    "# Podemos também concatenar listas"
   ]
  },
  {
   "cell_type": "code",
   "execution_count": 124,
   "metadata": {},
   "outputs": [],
   "source": [
    "frutas2 = ['melancia', 'morango', 'manga']"
   ]
  },
  {
   "cell_type": "code",
   "execution_count": 125,
   "metadata": {},
   "outputs": [
    {
     "data": {
      "text/plain": [
       "['melancia', 'morango', 'manga']"
      ]
     },
     "execution_count": 125,
     "metadata": {},
     "output_type": "execute_result"
    }
   ],
   "source": [
    "frutas2"
   ]
  },
  {
   "cell_type": "code",
   "execution_count": 126,
   "metadata": {},
   "outputs": [],
   "source": [
    "frutas3 = frutas + frutas2"
   ]
  },
  {
   "cell_type": "code",
   "execution_count": 127,
   "metadata": {},
   "outputs": [
    {
     "data": {
      "text/plain": [
       "['maçã',\n",
       " 'laranja',\n",
       " 'banana',\n",
       " 'abacaxi',\n",
       " 'abacate',\n",
       " 'limão',\n",
       " 'melancia',\n",
       " 'morango',\n",
       " 'manga']"
      ]
     },
     "execution_count": 127,
     "metadata": {},
     "output_type": "execute_result"
    }
   ],
   "source": [
    "frutas3"
   ]
  },
  {
   "cell_type": "code",
   "execution_count": 128,
   "metadata": {},
   "outputs": [],
   "source": [
    "# listas dentro de listas"
   ]
  },
  {
   "cell_type": "code",
   "execution_count": 129,
   "metadata": {},
   "outputs": [],
   "source": [
    "lista = [1, 2, 3, 'alvo', 20]"
   ]
  },
  {
   "cell_type": "code",
   "execution_count": 130,
   "metadata": {},
   "outputs": [
    {
     "data": {
      "text/plain": [
       "'alvo'"
      ]
     },
     "execution_count": 130,
     "metadata": {},
     "output_type": "execute_result"
    }
   ],
   "source": [
    "lista[3]"
   ]
  },
  {
   "cell_type": "code",
   "execution_count": 131,
   "metadata": {},
   "outputs": [],
   "source": [
    "lista = [1, 2, 3, [10, 'alvo', 15], 18, 20]"
   ]
  },
  {
   "cell_type": "code",
   "execution_count": 132,
   "metadata": {},
   "outputs": [
    {
     "data": {
      "text/plain": [
       "[1, 2, 3, [10, 'alvo', 15], 18, 20]"
      ]
     },
     "execution_count": 132,
     "metadata": {},
     "output_type": "execute_result"
    }
   ],
   "source": [
    "lista"
   ]
  },
  {
   "cell_type": "code",
   "execution_count": 133,
   "metadata": {},
   "outputs": [
    {
     "data": {
      "text/plain": [
       "[10, 'alvo', 15]"
      ]
     },
     "execution_count": 133,
     "metadata": {},
     "output_type": "execute_result"
    }
   ],
   "source": [
    "lista[3]"
   ]
  },
  {
   "cell_type": "code",
   "execution_count": 134,
   "metadata": {},
   "outputs": [
    {
     "data": {
      "text/plain": [
       "'alvo'"
      ]
     },
     "execution_count": 134,
     "metadata": {},
     "output_type": "execute_result"
    }
   ],
   "source": [
    "lista[3][1]"
   ]
  },
  {
   "cell_type": "code",
   "execution_count": 135,
   "metadata": {},
   "outputs": [],
   "source": [
    "lista = [1, 2, 3, [10,2, [2, 4, 'alvo']], 25, 23]"
   ]
  },
  {
   "cell_type": "code",
   "execution_count": 136,
   "metadata": {},
   "outputs": [
    {
     "data": {
      "text/plain": [
       "[1, 2, 3, [10, 2, [2, 4, 'alvo']], 25, 23]"
      ]
     },
     "execution_count": 136,
     "metadata": {},
     "output_type": "execute_result"
    }
   ],
   "source": [
    "lista"
   ]
  },
  {
   "cell_type": "code",
   "execution_count": 137,
   "metadata": {},
   "outputs": [
    {
     "data": {
      "text/plain": [
       "'alvo'"
      ]
     },
     "execution_count": 137,
     "metadata": {},
     "output_type": "execute_result"
    }
   ],
   "source": [
    "lista[3][2][2]"
   ]
  },
  {
   "cell_type": "code",
   "execution_count": 138,
   "metadata": {},
   "outputs": [],
   "source": [
    "# Como alterar valores de uma lista"
   ]
  },
  {
   "cell_type": "code",
   "execution_count": 139,
   "metadata": {},
   "outputs": [],
   "source": [
    "lista = [2, 4, 6, 8]"
   ]
  },
  {
   "cell_type": "code",
   "execution_count": 140,
   "metadata": {},
   "outputs": [],
   "source": [
    "lista[1]=5"
   ]
  },
  {
   "cell_type": "code",
   "execution_count": 141,
   "metadata": {},
   "outputs": [
    {
     "data": {
      "text/plain": [
       "[2, 5, 6, 8]"
      ]
     },
     "execution_count": 141,
     "metadata": {},
     "output_type": "execute_result"
    }
   ],
   "source": [
    "lista"
   ]
  },
  {
   "cell_type": "code",
   "execution_count": 142,
   "metadata": {},
   "outputs": [],
   "source": [
    "lista[:] = ['mudei', 'mudei', 'mudei', 'mudei']"
   ]
  },
  {
   "cell_type": "code",
   "execution_count": 143,
   "metadata": {},
   "outputs": [
    {
     "data": {
      "text/plain": [
       "['mudei', 'mudei', 'mudei', 'mudei']"
      ]
     },
     "execution_count": 143,
     "metadata": {},
     "output_type": "execute_result"
    }
   ],
   "source": [
    "lista"
   ]
  },
  {
   "cell_type": "code",
   "execution_count": 144,
   "metadata": {},
   "outputs": [],
   "source": [
    "# Atribuindo e excluindo valores"
   ]
  },
  {
   "cell_type": "code",
   "execution_count": 145,
   "metadata": {},
   "outputs": [],
   "source": [
    "lista = [2, 4, 6, 8]"
   ]
  },
  {
   "cell_type": "code",
   "execution_count": 150,
   "metadata": {},
   "outputs": [],
   "source": [
    "lista.append(10) # Adiciona valor na última posição da lista"
   ]
  },
  {
   "cell_type": "code",
   "execution_count": 147,
   "metadata": {},
   "outputs": [
    {
     "data": {
      "text/plain": [
       "[2, 4, 6, 8, 10]"
      ]
     },
     "execution_count": 147,
     "metadata": {},
     "output_type": "execute_result"
    }
   ],
   "source": [
    "lista"
   ]
  },
  {
   "cell_type": "code",
   "execution_count": 148,
   "metadata": {},
   "outputs": [],
   "source": [
    "del(lista[2])"
   ]
  },
  {
   "cell_type": "code",
   "execution_count": 149,
   "metadata": {},
   "outputs": [
    {
     "data": {
      "text/plain": [
       "[2, 4, 8, 10]"
      ]
     },
     "execution_count": 149,
     "metadata": {},
     "output_type": "execute_result"
    }
   ],
   "source": [
    "lista"
   ]
  },
  {
   "cell_type": "markdown",
   "metadata": {},
   "source": [
    "# AULA 6"
   ]
  },
  {
   "cell_type": "markdown",
   "metadata": {},
   "source": [
    "### Tuplas"
   ]
  },
  {
   "cell_type": "code",
   "execution_count": 151,
   "metadata": {},
   "outputs": [],
   "source": [
    "# As tuplas são basicamente listas imutáveis. Armazenam valores mas não podemos adicionar ou remover valores"
   ]
  },
  {
   "cell_type": "code",
   "execution_count": 152,
   "metadata": {},
   "outputs": [],
   "source": [
    "lista = [1, 2, 3, 4]"
   ]
  },
  {
   "cell_type": "code",
   "execution_count": 153,
   "metadata": {},
   "outputs": [],
   "source": [
    "tupla = (1, 2, 3, 4)"
   ]
  },
  {
   "cell_type": "code",
   "execution_count": 154,
   "metadata": {},
   "outputs": [],
   "source": [
    "del(lista[2])"
   ]
  },
  {
   "cell_type": "code",
   "execution_count": 155,
   "metadata": {},
   "outputs": [
    {
     "data": {
      "text/plain": [
       "[1, 2, 4]"
      ]
     },
     "execution_count": 155,
     "metadata": {},
     "output_type": "execute_result"
    }
   ],
   "source": [
    "lista"
   ]
  },
  {
   "cell_type": "code",
   "execution_count": 156,
   "metadata": {},
   "outputs": [],
   "source": [
    "lista.append(100)"
   ]
  },
  {
   "cell_type": "code",
   "execution_count": 157,
   "metadata": {},
   "outputs": [
    {
     "data": {
      "text/plain": [
       "[1, 2, 4, 100]"
      ]
     },
     "execution_count": 157,
     "metadata": {},
     "output_type": "execute_result"
    }
   ],
   "source": [
    "lista"
   ]
  },
  {
   "cell_type": "code",
   "execution_count": 158,
   "metadata": {},
   "outputs": [
    {
     "ename": "AttributeError",
     "evalue": "'tuple' object has no attribute 'append'",
     "output_type": "error",
     "traceback": [
      "\u001b[1;31m---------------------------------------------------------------------------\u001b[0m",
      "\u001b[1;31mAttributeError\u001b[0m                            Traceback (most recent call last)",
      "\u001b[1;32m<ipython-input-158-81ce3824746a>\u001b[0m in \u001b[0;36m<module>\u001b[1;34m\u001b[0m\n\u001b[1;32m----> 1\u001b[1;33m \u001b[0mtupla\u001b[0m\u001b[1;33m.\u001b[0m\u001b[0mappend\u001b[0m\u001b[1;33m(\u001b[0m\u001b[1;36m100\u001b[0m\u001b[1;33m)\u001b[0m\u001b[1;33m\u001b[0m\u001b[1;33m\u001b[0m\u001b[0m\n\u001b[0m",
      "\u001b[1;31mAttributeError\u001b[0m: 'tuple' object has no attribute 'append'"
     ]
    }
   ],
   "source": [
    "tupla.append(100)"
   ]
  },
  {
   "cell_type": "code",
   "execution_count": 159,
   "metadata": {},
   "outputs": [
    {
     "ename": "TypeError",
     "evalue": "'tuple' object doesn't support item deletion",
     "output_type": "error",
     "traceback": [
      "\u001b[1;31m---------------------------------------------------------------------------\u001b[0m",
      "\u001b[1;31mTypeError\u001b[0m                                 Traceback (most recent call last)",
      "\u001b[1;32m<ipython-input-159-e627f5007c9f>\u001b[0m in \u001b[0;36m<module>\u001b[1;34m\u001b[0m\n\u001b[1;32m----> 1\u001b[1;33m \u001b[1;32mdel\u001b[0m\u001b[1;33m(\u001b[0m\u001b[0mtupla\u001b[0m\u001b[1;33m[\u001b[0m\u001b[1;36m2\u001b[0m\u001b[1;33m]\u001b[0m\u001b[1;33m)\u001b[0m\u001b[1;33m\u001b[0m\u001b[1;33m\u001b[0m\u001b[0m\n\u001b[0m",
      "\u001b[1;31mTypeError\u001b[0m: 'tuple' object doesn't support item deletion"
     ]
    }
   ],
   "source": [
    "del(tupla[2])"
   ]
  },
  {
   "cell_type": "code",
   "execution_count": 160,
   "metadata": {},
   "outputs": [],
   "source": [
    "# Acessar os valores de uma tupla utiliza EXATAMENTE o mesmo procedimento/comandos da lista"
   ]
  },
  {
   "cell_type": "markdown",
   "metadata": {},
   "source": [
    "# AULA 7"
   ]
  },
  {
   "cell_type": "markdown",
   "metadata": {},
   "source": [
    "### Dicionários"
   ]
  },
  {
   "cell_type": "markdown",
   "metadata": {},
   "source": [
    "Os dados em um dicionário não são acessados por índices e sim por CHAVES\n",
    "\n",
    "\n",
    "\n",
    "![](images/dicionario1.jpg)"
   ]
  },
  {
   "cell_type": "code",
   "execution_count": 162,
   "metadata": {},
   "outputs": [],
   "source": [
    "cadastro = { 'nome':'João', 'idade':30, 'sexo':'masculino' }"
   ]
  },
  {
   "cell_type": "code",
   "execution_count": 163,
   "metadata": {},
   "outputs": [
    {
     "data": {
      "text/plain": [
       "{'nome': 'João', 'idade': 30, 'sexo': 'masculino'}"
      ]
     },
     "execution_count": 163,
     "metadata": {},
     "output_type": "execute_result"
    }
   ],
   "source": [
    "cadastro"
   ]
  },
  {
   "cell_type": "code",
   "execution_count": 164,
   "metadata": {},
   "outputs": [
    {
     "data": {
      "text/plain": [
       "dict"
      ]
     },
     "execution_count": 164,
     "metadata": {},
     "output_type": "execute_result"
    }
   ],
   "source": [
    "type(cadastro)"
   ]
  },
  {
   "cell_type": "code",
   "execution_count": 165,
   "metadata": {},
   "outputs": [
    {
     "data": {
      "text/plain": [
       "'João'"
      ]
     },
     "execution_count": 165,
     "metadata": {},
     "output_type": "execute_result"
    }
   ],
   "source": [
    "cadastro['nome']"
   ]
  },
  {
   "cell_type": "code",
   "execution_count": 166,
   "metadata": {},
   "outputs": [
    {
     "data": {
      "text/plain": [
       "30"
      ]
     },
     "execution_count": 166,
     "metadata": {},
     "output_type": "execute_result"
    }
   ],
   "source": [
    "cadastro['idade']"
   ]
  },
  {
   "cell_type": "code",
   "execution_count": 167,
   "metadata": {},
   "outputs": [],
   "source": [
    "# Métodos do dicionário"
   ]
  },
  {
   "cell_type": "code",
   "execution_count": 168,
   "metadata": {},
   "outputs": [
    {
     "data": {
      "text/plain": [
       "False"
      ]
     },
     "execution_count": 168,
     "metadata": {},
     "output_type": "execute_result"
    }
   ],
   "source": [
    "'João' in cadastro "
   ]
  },
  {
   "cell_type": "code",
   "execution_count": 169,
   "metadata": {},
   "outputs": [
    {
     "data": {
      "text/plain": [
       "True"
      ]
     },
     "execution_count": 169,
     "metadata": {},
     "output_type": "execute_result"
    }
   ],
   "source": [
    "'João' in cadastro.values()"
   ]
  },
  {
   "cell_type": "code",
   "execution_count": 170,
   "metadata": {},
   "outputs": [
    {
     "data": {
      "text/plain": [
       "True"
      ]
     },
     "execution_count": 170,
     "metadata": {},
     "output_type": "execute_result"
    }
   ],
   "source": [
    "'nome' in cadastro"
   ]
  },
  {
   "cell_type": "code",
   "execution_count": 171,
   "metadata": {},
   "outputs": [
    {
     "data": {
      "text/plain": [
       "True"
      ]
     },
     "execution_count": 171,
     "metadata": {},
     "output_type": "execute_result"
    }
   ],
   "source": [
    "'nome'in cadastro.keys()"
   ]
  },
  {
   "cell_type": "code",
   "execution_count": 173,
   "metadata": {},
   "outputs": [
    {
     "data": {
      "text/plain": [
       "True"
      ]
     },
     "execution_count": 173,
     "metadata": {},
     "output_type": "execute_result"
    }
   ],
   "source": [
    "('nome', 'João') in cadastro.items()"
   ]
  },
  {
   "cell_type": "code",
   "execution_count": 174,
   "metadata": {},
   "outputs": [],
   "source": [
    "# Alterando valores do dicionário"
   ]
  },
  {
   "cell_type": "code",
   "execution_count": 175,
   "metadata": {},
   "outputs": [],
   "source": [
    "cadastro['nome'] = 'Pedro'"
   ]
  },
  {
   "cell_type": "code",
   "execution_count": 176,
   "metadata": {},
   "outputs": [
    {
     "data": {
      "text/plain": [
       "{'nome': 'Pedro', 'idade': 30, 'sexo': 'masculino'}"
      ]
     },
     "execution_count": 176,
     "metadata": {},
     "output_type": "execute_result"
    }
   ],
   "source": [
    "cadastro"
   ]
  },
  {
   "cell_type": "code",
   "execution_count": 177,
   "metadata": {},
   "outputs": [],
   "source": [
    "# Adicionar Valores"
   ]
  },
  {
   "cell_type": "code",
   "execution_count": 178,
   "metadata": {},
   "outputs": [],
   "source": [
    "cadastro['altura'] = 1.75"
   ]
  },
  {
   "cell_type": "code",
   "execution_count": 179,
   "metadata": {},
   "outputs": [
    {
     "data": {
      "text/plain": [
       "{'nome': 'Pedro', 'idade': 30, 'sexo': 'masculino', 'altura': 1.75}"
      ]
     },
     "execution_count": 179,
     "metadata": {},
     "output_type": "execute_result"
    }
   ],
   "source": [
    "cadastro"
   ]
  },
  {
   "cell_type": "code",
   "execution_count": 181,
   "metadata": {},
   "outputs": [],
   "source": [
    "# Remover Valores"
   ]
  },
  {
   "cell_type": "code",
   "execution_count": 182,
   "metadata": {},
   "outputs": [],
   "source": [
    "del(cadastro['sexo'])"
   ]
  },
  {
   "cell_type": "code",
   "execution_count": 183,
   "metadata": {},
   "outputs": [
    {
     "data": {
      "text/plain": [
       "{'nome': 'Pedro', 'idade': 30, 'altura': 1.75}"
      ]
     },
     "execution_count": 183,
     "metadata": {},
     "output_type": "execute_result"
    }
   ],
   "source": [
    "cadastro"
   ]
  },
  {
   "cell_type": "code",
   "execution_count": 184,
   "metadata": {},
   "outputs": [],
   "source": [
    "# Copiando dicionários"
   ]
  },
  {
   "cell_type": "code",
   "execution_count": 185,
   "metadata": {},
   "outputs": [
    {
     "data": {
      "text/plain": [
       "{'nome': 'Pedro', 'idade': 30, 'altura': 1.75}"
      ]
     },
     "execution_count": 185,
     "metadata": {},
     "output_type": "execute_result"
    }
   ],
   "source": [
    "cadastro"
   ]
  },
  {
   "cell_type": "code",
   "execution_count": 186,
   "metadata": {},
   "outputs": [],
   "source": [
    "cadastro_igual = cadastro     # MÉTODO 1 "
   ]
  },
  {
   "cell_type": "code",
   "execution_count": 187,
   "metadata": {},
   "outputs": [
    {
     "data": {
      "text/plain": [
       "{'nome': 'Pedro', 'idade': 30, 'altura': 1.75}"
      ]
     },
     "execution_count": 187,
     "metadata": {},
     "output_type": "execute_result"
    }
   ],
   "source": [
    "cadastro_igual"
   ]
  },
  {
   "cell_type": "code",
   "execution_count": 188,
   "metadata": {},
   "outputs": [],
   "source": [
    "copia = cadastro.copy()       # MÉTODO 2"
   ]
  },
  {
   "cell_type": "code",
   "execution_count": 189,
   "metadata": {},
   "outputs": [
    {
     "data": {
      "text/plain": [
       "{'nome': 'Pedro', 'idade': 30, 'altura': 1.75}"
      ]
     },
     "execution_count": 189,
     "metadata": {},
     "output_type": "execute_result"
    }
   ],
   "source": [
    "copia"
   ]
  },
  {
   "cell_type": "code",
   "execution_count": 191,
   "metadata": {},
   "outputs": [],
   "source": [
    "# Qual a diferença em criar pelo MÉTODO 1 ou pelo MÉTODO 2 ?\n",
    "\n",
    "\n",
    "# MÉTODO 1 -  Se eu fizer uma alteração no dicionário original então sua cópia também será alterada.\n",
    "# MÉTODO 2 -  Cria uma cópia que não é alterada se ocorrer mudanças no dicionário original.\n"
   ]
  },
  {
   "cell_type": "code",
   "execution_count": 192,
   "metadata": {},
   "outputs": [],
   "source": [
    "# Juntando dicionários"
   ]
  },
  {
   "cell_type": "code",
   "execution_count": 194,
   "metadata": {},
   "outputs": [],
   "source": [
    "meus_contatos = {'Geraldo':'9999-9999', 'Vanessa':'8888-8888', 'Carla':'7777-7777'}"
   ]
  },
  {
   "cell_type": "code",
   "execution_count": 195,
   "metadata": {},
   "outputs": [],
   "source": [
    "seus_contatos = {'Rafaela':'6666-6666', 'Luiza':'5555-5555', 'Bia':'4444-4444'}"
   ]
  },
  {
   "cell_type": "code",
   "execution_count": 196,
   "metadata": {},
   "outputs": [],
   "source": [
    "meus_contatos.update(seus_contatos)"
   ]
  },
  {
   "cell_type": "code",
   "execution_count": 197,
   "metadata": {},
   "outputs": [
    {
     "data": {
      "text/plain": [
       "{'Geraldo': '9999-9999',\n",
       " 'Vanessa': '8888-8888',\n",
       " 'Carla': '7777-7777',\n",
       " 'Rafaela': '6666-6666',\n",
       " 'Luiza': '5555-5555',\n",
       " 'Bia': '4444-4444'}"
      ]
     },
     "execution_count": 197,
     "metadata": {},
     "output_type": "execute_result"
    }
   ],
   "source": [
    "meus_contatos"
   ]
  },
  {
   "cell_type": "markdown",
   "metadata": {},
   "source": [
    "# AULA 8"
   ]
  },
  {
   "cell_type": "markdown",
   "metadata": {},
   "source": [
    "### While"
   ]
  },
  {
   "cell_type": "markdown",
   "metadata": {},
   "source": [
    "while (condição):\n",
    "    \n",
    "    bloco de ação\n",
    "    \n",
    "    iterador"
   ]
  },
  {
   "cell_type": "code",
   "execution_count": 198,
   "metadata": {},
   "outputs": [
    {
     "name": "stdout",
     "output_type": "stream",
     "text": [
      "1\n",
      "2\n",
      "3\n",
      "4\n",
      "5\n",
      "6\n",
      "7\n",
      "8\n",
      "9\n",
      "10\n",
      "11\n",
      "12\n",
      "13\n",
      "14\n",
      "15\n",
      "16\n",
      "17\n",
      "18\n",
      "19\n",
      "20\n",
      "21\n",
      "22\n",
      "23\n",
      "24\n",
      "25\n",
      "26\n",
      "27\n",
      "28\n",
      "29\n",
      "30\n",
      "31\n",
      "32\n",
      "33\n",
      "34\n",
      "35\n",
      "36\n",
      "37\n",
      "38\n",
      "39\n",
      "40\n",
      "41\n",
      "42\n",
      "43\n",
      "44\n",
      "45\n",
      "46\n",
      "47\n",
      "48\n",
      "49\n",
      "50\n"
     ]
    }
   ],
   "source": [
    "cont = 1\n",
    "\n",
    "while(cont <= 50):\n",
    "    print(cont)\n",
    "    cont = cont +1"
   ]
  },
  {
   "cell_type": "code",
   "execution_count": 199,
   "metadata": {},
   "outputs": [],
   "source": [
    "# BREAK"
   ]
  },
  {
   "cell_type": "code",
   "execution_count": 200,
   "metadata": {},
   "outputs": [
    {
     "name": "stdout",
     "output_type": "stream",
     "text": [
      "0\n",
      "1\n",
      "2\n",
      "3\n",
      "4\n",
      "5\n",
      "6\n",
      "7\n",
      "8\n",
      "9\n",
      "10\n"
     ]
    }
   ],
   "source": [
    "cont = 0\n",
    "\n",
    "while(cont <= 10):\n",
    "    print(cont)\n",
    "    cont = cont+1"
   ]
  },
  {
   "cell_type": "code",
   "execution_count": 201,
   "metadata": {},
   "outputs": [
    {
     "name": "stdout",
     "output_type": "stream",
     "text": [
      "0\n",
      "1\n",
      "2\n",
      "3\n",
      "4\n",
      "5\n",
      "6\n",
      "7\n"
     ]
    }
   ],
   "source": [
    "cont = 0\n",
    "\n",
    "while(cont <= 10):\n",
    "    print(cont)\n",
    "    if(cont == 7):\n",
    "        break\n",
    "    cont = cont+1"
   ]
  },
  {
   "cell_type": "code",
   "execution_count": 204,
   "metadata": {},
   "outputs": [],
   "source": [
    "# Continue -  Esse método faz com que a ação do while não seja realizada e o programa retorne ao loop"
   ]
  },
  {
   "cell_type": "code",
   "execution_count": 203,
   "metadata": {},
   "outputs": [
    {
     "name": "stdout",
     "output_type": "stream",
     "text": [
      "1\n",
      "2\n",
      "3\n",
      "4\n",
      "5\n",
      "6\n",
      "8\n",
      "9\n",
      "10\n"
     ]
    }
   ],
   "source": [
    "cont = 0\n",
    "\n",
    "while(cont < 10):\n",
    "    cont = cont+1\n",
    "    if(cont == 7):\n",
    "        continue\n",
    "    print(cont)"
   ]
  },
  {
   "cell_type": "code",
   "execution_count": 206,
   "metadata": {},
   "outputs": [],
   "source": [
    "#No caso acima quando cont = 7 o método faz com que o loop continue sem executar a ação seguinte, que no caso seria: print(cont)\n",
    "# O método pula o bloco de ação ( print(cont) ) e volta para o início do laço while"
   ]
  },
  {
   "cell_type": "markdown",
   "metadata": {},
   "source": [
    "# AULA 9\n",
    "### For"
   ]
  },
  {
   "cell_type": "markdown",
   "metadata": {},
   "source": [
    "============================================================================================================\n",
    "\n",
    "for x in range (0,16)\n",
    "    \n",
    "    print(x)\n",
    "\n",
    "============================================================================================================\n",
    "\n",
    "![](images/for1.jpg)\n",
    "\n",
    "\n",
    "Em palavras: Para cada valor (x) no intervalo de 0 a 16 ( in range (0,16) ), realize essa ação ( print(x) )\n",
    " \n",
    "============================================================================================================\n",
    "\n",
    "Iria sem exibido: 0,1,2,3,4,5,6,7,8,9,10,11,12,13,14,15   \n",
    "\n",
    "!!! Lembrando que o último valor, no caso 16, não entra."
   ]
  },
  {
   "cell_type": "code",
   "execution_count": 207,
   "metadata": {},
   "outputs": [],
   "source": [
    "# Loop in range"
   ]
  },
  {
   "cell_type": "code",
   "execution_count": 208,
   "metadata": {},
   "outputs": [
    {
     "name": "stdout",
     "output_type": "stream",
     "text": [
      "0\n",
      "1\n",
      "2\n",
      "3\n",
      "4\n",
      "5\n",
      "6\n",
      "7\n",
      "8\n",
      "9\n",
      "10\n",
      "11\n",
      "12\n",
      "13\n",
      "14\n",
      "15\n",
      "16\n",
      "17\n",
      "18\n",
      "19\n",
      "20\n"
     ]
    }
   ],
   "source": [
    "for valor in range (0,21):\n",
    "    print(valor)"
   ]
  },
  {
   "cell_type": "code",
   "execution_count": 210,
   "metadata": {},
   "outputs": [],
   "source": [
    "# Loop em uma lista"
   ]
  },
  {
   "cell_type": "code",
   "execution_count": 216,
   "metadata": {},
   "outputs": [],
   "source": [
    "frutas = ['maçã', 'banana', 'abacaxi', 'melão', 'morango']"
   ]
  },
  {
   "cell_type": "code",
   "execution_count": 217,
   "metadata": {},
   "outputs": [
    {
     "data": {
      "text/plain": [
       "['maçã', 'banana', 'abacaxi', 'melão', 'morango']"
      ]
     },
     "execution_count": 217,
     "metadata": {},
     "output_type": "execute_result"
    }
   ],
   "source": [
    "frutas"
   ]
  },
  {
   "cell_type": "code",
   "execution_count": 218,
   "metadata": {},
   "outputs": [
    {
     "name": "stdout",
     "output_type": "stream",
     "text": [
      "maçã\n",
      "banana\n",
      "abacaxi\n",
      "melão\n",
      "morango\n"
     ]
    }
   ],
   "source": [
    "for x in frutas:\n",
    "    print(x)"
   ]
  },
  {
   "cell_type": "code",
   "execution_count": 219,
   "metadata": {},
   "outputs": [],
   "source": [
    "# Loop em dicionário"
   ]
  },
  {
   "cell_type": "code",
   "execution_count": 220,
   "metadata": {},
   "outputs": [],
   "source": [
    "cadastro = {'nome':'João', 'idade':62, 'sexo':'masculino'}"
   ]
  },
  {
   "cell_type": "code",
   "execution_count": 221,
   "metadata": {},
   "outputs": [
    {
     "data": {
      "text/plain": [
       "{'nome': 'João', 'idade': 62, 'sexo': 'masculino'}"
      ]
     },
     "execution_count": 221,
     "metadata": {},
     "output_type": "execute_result"
    }
   ],
   "source": [
    "cadastro"
   ]
  },
  {
   "cell_type": "code",
   "execution_count": 222,
   "metadata": {},
   "outputs": [
    {
     "name": "stdout",
     "output_type": "stream",
     "text": [
      "nome\n",
      "idade\n",
      "sexo\n"
     ]
    }
   ],
   "source": [
    "for chave in cadastro:\n",
    "    print(chave)"
   ]
  },
  {
   "cell_type": "code",
   "execution_count": 223,
   "metadata": {},
   "outputs": [
    {
     "name": "stdout",
     "output_type": "stream",
     "text": [
      "João\n",
      "62\n",
      "masculino\n"
     ]
    }
   ],
   "source": [
    "for valor in cadastro.values():\n",
    "    print(valor)"
   ]
  },
  {
   "cell_type": "code",
   "execution_count": 224,
   "metadata": {},
   "outputs": [
    {
     "name": "stdout",
     "output_type": "stream",
     "text": [
      "nome João\n",
      "idade 62\n",
      "sexo masculino\n"
     ]
    }
   ],
   "source": [
    "for chave,valor in cadastro.items():\n",
    "    print(chave,valor)"
   ]
  },
  {
   "cell_type": "code",
   "execution_count": 225,
   "metadata": {},
   "outputs": [],
   "source": [
    "# Loop em Tuplas"
   ]
  },
  {
   "cell_type": "code",
   "execution_count": 226,
   "metadata": {},
   "outputs": [],
   "source": [
    "tupla = (1, 2, 3, 4, 5, 6)"
   ]
  },
  {
   "cell_type": "code",
   "execution_count": 227,
   "metadata": {},
   "outputs": [
    {
     "data": {
      "text/plain": [
       "(1, 2, 3, 4, 5, 6)"
      ]
     },
     "execution_count": 227,
     "metadata": {},
     "output_type": "execute_result"
    }
   ],
   "source": [
    "tupla"
   ]
  },
  {
   "cell_type": "code",
   "execution_count": 228,
   "metadata": {},
   "outputs": [
    {
     "name": "stdout",
     "output_type": "stream",
     "text": [
      "1\n",
      "2\n",
      "3\n",
      "4\n",
      "5\n",
      "6\n"
     ]
    }
   ],
   "source": [
    "for elemento in tupla:\n",
    "    print(elemento)"
   ]
  },
  {
   "cell_type": "code",
   "execution_count": 229,
   "metadata": {},
   "outputs": [],
   "source": [
    "# break"
   ]
  },
  {
   "cell_type": "code",
   "execution_count": 230,
   "metadata": {},
   "outputs": [
    {
     "name": "stdout",
     "output_type": "stream",
     "text": [
      "0\n",
      "1\n",
      "2\n",
      "3\n",
      "4\n",
      "5\n",
      "6\n",
      "7\n",
      "8\n",
      "9\n"
     ]
    }
   ],
   "source": [
    "for valor in range(0,10):\n",
    "    print(valor)"
   ]
  },
  {
   "cell_type": "code",
   "execution_count": 232,
   "metadata": {},
   "outputs": [
    {
     "name": "stdout",
     "output_type": "stream",
     "text": [
      "0\n",
      "1\n",
      "2\n",
      "3\n",
      "4\n",
      "5\n",
      "6\n"
     ]
    }
   ],
   "source": [
    "for valor in range(0,10):\n",
    "    if(valor == 7):\n",
    "        break\n",
    "    print(valor)"
   ]
  },
  {
   "cell_type": "code",
   "execution_count": 233,
   "metadata": {},
   "outputs": [],
   "source": [
    "# comtinue"
   ]
  },
  {
   "cell_type": "code",
   "execution_count": 235,
   "metadata": {},
   "outputs": [
    {
     "name": "stdout",
     "output_type": "stream",
     "text": [
      "0\n",
      "1\n",
      "2\n",
      "3\n",
      "4\n",
      "5\n",
      "6\n",
      "7\n",
      "8\n",
      "9\n",
      "10\n",
      "11\n",
      "12\n",
      "13\n",
      "14\n",
      "15\n",
      "16\n",
      "17\n",
      "18\n",
      "19\n",
      "20\n"
     ]
    }
   ],
   "source": [
    "for valor in range(0,21):\n",
    "    print(valor)"
   ]
  },
  {
   "cell_type": "code",
   "execution_count": 236,
   "metadata": {},
   "outputs": [
    {
     "name": "stdout",
     "output_type": "stream",
     "text": [
      "0\n",
      "1\n",
      "2\n",
      "3\n",
      "4\n",
      "6\n",
      "7\n",
      "8\n",
      "9\n",
      "11\n",
      "12\n",
      "13\n",
      "14\n",
      "16\n",
      "17\n",
      "18\n",
      "19\n"
     ]
    }
   ],
   "source": [
    "for valor in range(0,21):\n",
    "    if(valor == 5 or valor == 10 or valor == 15 or valor == 20):\n",
    "        continue\n",
    "    print(valor)"
   ]
  },
  {
   "cell_type": "markdown",
   "metadata": {},
   "source": [
    "# AULA 10\n",
    "### Funções"
   ]
  },
  {
   "cell_type": "code",
   "execution_count": 237,
   "metadata": {},
   "outputs": [],
   "source": [
    "lista = [10,43,12,45,57]"
   ]
  },
  {
   "cell_type": "code",
   "execution_count": 238,
   "metadata": {},
   "outputs": [
    {
     "data": {
      "text/plain": [
       "[10, 43, 12, 45, 57]"
      ]
     },
     "execution_count": 238,
     "metadata": {},
     "output_type": "execute_result"
    }
   ],
   "source": [
    "lista"
   ]
  },
  {
   "cell_type": "code",
   "execution_count": 244,
   "metadata": {},
   "outputs": [
    {
     "name": "stdout",
     "output_type": "stream",
     "text": [
      "57\n"
     ]
    }
   ],
   "source": [
    "maior = 0\n",
    "\n",
    "for elemento in lista:\n",
    "    if elemento > maior:\n",
    "        maior = elemento\n",
    "print(maior)"
   ]
  },
  {
   "cell_type": "code",
   "execution_count": 245,
   "metadata": {},
   "outputs": [
    {
     "data": {
      "text/plain": [
       "57"
      ]
     },
     "execution_count": 245,
     "metadata": {},
     "output_type": "execute_result"
    }
   ],
   "source": [
    "max(lista)"
   ]
  },
  {
   "cell_type": "code",
   "execution_count": 246,
   "metadata": {},
   "outputs": [],
   "source": [
    "# Definindo uma função que multiplique um número qualquer por dois"
   ]
  },
  {
   "cell_type": "code",
   "execution_count": 247,
   "metadata": {},
   "outputs": [],
   "source": [
    "def vezes_dois(a):\n",
    "    c = a*2\n",
    "    return c"
   ]
  },
  {
   "cell_type": "code",
   "execution_count": 248,
   "metadata": {},
   "outputs": [
    {
     "data": {
      "text/plain": [
       "function"
      ]
     },
     "execution_count": 248,
     "metadata": {},
     "output_type": "execute_result"
    }
   ],
   "source": [
    "type(vezes_dois)"
   ]
  },
  {
   "cell_type": "code",
   "execution_count": 251,
   "metadata": {},
   "outputs": [
    {
     "data": {
      "text/plain": [
       "8"
      ]
     },
     "execution_count": 251,
     "metadata": {},
     "output_type": "execute_result"
    }
   ],
   "source": [
    "vezes_dois(4)"
   ]
  },
  {
   "cell_type": "code",
   "execution_count": 252,
   "metadata": {},
   "outputs": [
    {
     "data": {
      "text/plain": [
       "9658"
      ]
     },
     "execution_count": 252,
     "metadata": {},
     "output_type": "execute_result"
    }
   ],
   "source": [
    "vezes_dois(4829)"
   ]
  },
  {
   "cell_type": "markdown",
   "metadata": {},
   "source": [
    "-------------------------------------------------------------------------------------------------------------------------------\n",
    "\n",
    "LAMBDA - Método simplificado de criar funções\n",
    "\n",
    "![](images/funcao1.jpg)"
   ]
  },
  {
   "cell_type": "code",
   "execution_count": 254,
   "metadata": {},
   "outputs": [],
   "source": [
    "# Criando a mesma função acima:"
   ]
  },
  {
   "cell_type": "code",
   "execution_count": 255,
   "metadata": {},
   "outputs": [],
   "source": [
    "vezes_dois = lambda x:x*2"
   ]
  },
  {
   "cell_type": "code",
   "execution_count": 256,
   "metadata": {},
   "outputs": [
    {
     "data": {
      "text/plain": [
       "6"
      ]
     },
     "execution_count": 256,
     "metadata": {},
     "output_type": "execute_result"
    }
   ],
   "source": [
    "vezes_dois(3)"
   ]
  },
  {
   "cell_type": "code",
   "execution_count": 257,
   "metadata": {},
   "outputs": [],
   "source": [
    "lista = [405, 2003, 784, 2890, 105]"
   ]
  },
  {
   "cell_type": "code",
   "execution_count": 258,
   "metadata": {},
   "outputs": [
    {
     "data": {
      "text/plain": [
       "2890"
      ]
     },
     "execution_count": 258,
     "metadata": {},
     "output_type": "execute_result"
    }
   ],
   "source": [
    "max(lista)"
   ]
  },
  {
   "cell_type": "code",
   "execution_count": 259,
   "metadata": {},
   "outputs": [
    {
     "data": {
      "text/plain": [
       "105"
      ]
     },
     "execution_count": 259,
     "metadata": {},
     "output_type": "execute_result"
    }
   ],
   "source": [
    "min(lista)"
   ]
  },
  {
   "cell_type": "code",
   "execution_count": 260,
   "metadata": {},
   "outputs": [
    {
     "data": {
      "text/plain": [
       "5"
      ]
     },
     "execution_count": 260,
     "metadata": {},
     "output_type": "execute_result"
    }
   ],
   "source": [
    "len(lista)"
   ]
  },
  {
   "cell_type": "code",
   "execution_count": 261,
   "metadata": {},
   "outputs": [
    {
     "data": {
      "text/plain": [
       "list"
      ]
     },
     "execution_count": 261,
     "metadata": {},
     "output_type": "execute_result"
    }
   ],
   "source": [
    "type(lista)"
   ]
  },
  {
   "cell_type": "code",
   "execution_count": 266,
   "metadata": {},
   "outputs": [],
   "source": [
    "def tr():                         # Função sem input de parâmetros\n",
    "    traços = print('-='*50)\n",
    "    return traços"
   ]
  },
  {
   "cell_type": "code",
   "execution_count": 267,
   "metadata": {},
   "outputs": [
    {
     "name": "stdout",
     "output_type": "stream",
     "text": [
      "-=-=-=-=-=-=-=-=-=-=-=-=-=-=-=-=-=-=-=-=-=-=-=-=-=-=-=-=-=-=-=-=-=-=-=-=-=-=-=-=-=-=-=-=-=-=-=-=-=-=\n"
     ]
    }
   ],
   "source": [
    "tr()"
   ]
  },
  {
   "cell_type": "code",
   "execution_count": 268,
   "metadata": {},
   "outputs": [],
   "source": [
    "salarios = [1290,3250,2890,4130,1540]"
   ]
  },
  {
   "cell_type": "markdown",
   "metadata": {},
   "source": [
    "Suponhamos que haverá reajuste salarial de 25%\n",
    "\n",
    "\n",
    "\n",
    "Função MAP é um método que percorre todos os valores de um iterável (lista,tuplas,dicionários) realizando uma ação em cada valor.\n",
    "\n",
    "Possui a estrutura:  map(função,iterável)\n",
    "\n",
    "A função pode ser passada para o map de duas maneiras:"
   ]
  },
  {
   "cell_type": "code",
   "execution_count": 270,
   "metadata": {},
   "outputs": [],
   "source": [
    "# 1º Maneira - Função método tradicional:"
   ]
  },
  {
   "cell_type": "code",
   "execution_count": 281,
   "metadata": {},
   "outputs": [],
   "source": [
    "def vezes_vc (x):\n",
    "    y = x + (x*0.25)\n",
    "    return y"
   ]
  },
  {
   "cell_type": "code",
   "execution_count": 282,
   "metadata": {},
   "outputs": [],
   "source": [
    "salarios_reajustados = map(vezes_vc,salarios)"
   ]
  },
  {
   "cell_type": "code",
   "execution_count": 283,
   "metadata": {},
   "outputs": [
    {
     "name": "stdout",
     "output_type": "stream",
     "text": [
      "[1612.5, 4062.5, 3612.5, 5162.5, 1925.0]\n"
     ]
    }
   ],
   "source": [
    "print(list(salarios_reajustados))   # A função list() transforma variáveis em lista"
   ]
  },
  {
   "cell_type": "code",
   "execution_count": 284,
   "metadata": {},
   "outputs": [],
   "source": [
    "# 2º Maneira - Função Lambda"
   ]
  },
  {
   "cell_type": "code",
   "execution_count": 285,
   "metadata": {},
   "outputs": [
    {
     "data": {
      "text/plain": [
       "[1290, 3250, 2890, 4130, 1540]"
      ]
     },
     "execution_count": 285,
     "metadata": {},
     "output_type": "execute_result"
    }
   ],
   "source": [
    "salarios"
   ]
  },
  {
   "cell_type": "code",
   "execution_count": 286,
   "metadata": {},
   "outputs": [],
   "source": [
    "salarios_reajustados = map(lambda x: x+(x*0.25), salarios)"
   ]
  },
  {
   "cell_type": "code",
   "execution_count": 287,
   "metadata": {},
   "outputs": [
    {
     "name": "stdout",
     "output_type": "stream",
     "text": [
      "[1612.5, 4062.5, 3612.5, 5162.5, 1925.0]\n"
     ]
    }
   ],
   "source": [
    "print(list(salarios_reajustados))"
   ]
  },
  {
   "cell_type": "markdown",
   "metadata": {},
   "source": [
    "# AULA 11\n",
    "### Numpy Arrays"
   ]
  },
  {
   "cell_type": "markdown",
   "metadata": {},
   "source": [
    "Numpy é uma biblioteca de Álgebra Linar pra Python e foi a partir dela que praticamente todas as outras bibliotecas para análise de dados pro Python foram criadas. \n",
    "\n",
    "O Numpy são baseados em arrays que são estruturas para guardar dados.\n",
    "\n",
    "\n",
    "![](images/np1.jpg)"
   ]
  },
  {
   "cell_type": "markdown",
   "metadata": {},
   "source": [
    "#### Arrays armazenam apenas valores numéricos"
   ]
  },
  {
   "cell_type": "code",
   "execution_count": 295,
   "metadata": {},
   "outputs": [],
   "source": [
    "import numpy as np"
   ]
  },
  {
   "cell_type": "code",
   "execution_count": 290,
   "metadata": {},
   "outputs": [],
   "source": [
    "# criar um array a partir de uma lista"
   ]
  },
  {
   "cell_type": "code",
   "execution_count": 94,
   "metadata": {},
   "outputs": [],
   "source": [
    "qtde = [2, 5, 10, 20, 35]\n",
    "custo = [100, 150, 450, 320, 195]"
   ]
  },
  {
   "cell_type": "code",
   "execution_count": 95,
   "metadata": {},
   "outputs": [],
   "source": [
    "arr1 = np.array(qtde)"
   ]
  },
  {
   "cell_type": "code",
   "execution_count": 96,
   "metadata": {},
   "outputs": [],
   "source": [
    "arr2 = np.array(custo)"
   ]
  },
  {
   "cell_type": "code",
   "execution_count": 97,
   "metadata": {},
   "outputs": [
    {
     "data": {
      "text/plain": [
       "array([ 2,  5, 10, 20, 35])"
      ]
     },
     "execution_count": 97,
     "metadata": {},
     "output_type": "execute_result"
    }
   ],
   "source": [
    "arr1"
   ]
  },
  {
   "cell_type": "code",
   "execution_count": 98,
   "metadata": {},
   "outputs": [
    {
     "data": {
      "text/plain": [
       "array([100, 150, 450, 320, 195])"
      ]
     },
     "execution_count": 98,
     "metadata": {},
     "output_type": "execute_result"
    }
   ],
   "source": [
    "arr2"
   ]
  },
  {
   "cell_type": "code",
   "execution_count": 99,
   "metadata": {},
   "outputs": [
    {
     "ename": "TypeError",
     "evalue": "can't multiply sequence by non-int of type 'list'",
     "output_type": "error",
     "traceback": [
      "\u001b[1;31m---------------------------------------------------------------------------\u001b[0m",
      "\u001b[1;31mTypeError\u001b[0m                                 Traceback (most recent call last)",
      "\u001b[1;32m<ipython-input-99-4887f08445e8>\u001b[0m in \u001b[0;36m<module>\u001b[1;34m\u001b[0m\n\u001b[1;32m----> 1\u001b[1;33m \u001b[0mestoque\u001b[0m \u001b[1;33m=\u001b[0m \u001b[0mqtde\u001b[0m\u001b[1;33m*\u001b[0m\u001b[0mcusto\u001b[0m\u001b[1;33m\u001b[0m\u001b[1;33m\u001b[0m\u001b[0m\n\u001b[0m",
      "\u001b[1;31mTypeError\u001b[0m: can't multiply sequence by non-int of type 'list'"
     ]
    }
   ],
   "source": [
    "estoque = qtde*custo   #Não posso multiplicar listas"
   ]
  },
  {
   "cell_type": "code",
   "execution_count": 100,
   "metadata": {},
   "outputs": [],
   "source": [
    "estoque = arr1*arr2"
   ]
  },
  {
   "cell_type": "code",
   "execution_count": 101,
   "metadata": {},
   "outputs": [
    {
     "data": {
      "text/plain": [
       "array([ 200,  750, 4500, 6400, 6825])"
      ]
     },
     "execution_count": 101,
     "metadata": {},
     "output_type": "execute_result"
    }
   ],
   "source": [
    "estoque"
   ]
  },
  {
   "cell_type": "markdown",
   "metadata": {},
   "source": [
    "#### Como visto acima, não poderíamos multiplicar os valores correspondentes entre duas LISTAS, porém com ARRAY isso é possível !"
   ]
  },
  {
   "cell_type": "code",
   "execution_count": 102,
   "metadata": {},
   "outputs": [],
   "source": [
    "custo = [100, 200, 300, 400]\n",
    "venda = [125, 235, 355, 490]"
   ]
  },
  {
   "cell_type": "code",
   "execution_count": 103,
   "metadata": {},
   "outputs": [],
   "source": [
    "arr3 = np.array(custo)\n",
    "arr4 = np.array(venda)"
   ]
  },
  {
   "cell_type": "code",
   "execution_count": 104,
   "metadata": {},
   "outputs": [],
   "source": [
    "lucro = arr4-arr3"
   ]
  },
  {
   "cell_type": "code",
   "execution_count": 307,
   "metadata": {},
   "outputs": [
    {
     "data": {
      "text/plain": [
       "array([25, 35, 55, 90])"
      ]
     },
     "execution_count": 307,
     "metadata": {},
     "output_type": "execute_result"
    }
   ],
   "source": [
    "lucro"
   ]
  },
  {
   "cell_type": "code",
   "execution_count": 309,
   "metadata": {},
   "outputs": [],
   "source": [
    "# Arrays a partir do Numpy\n",
    "\n",
    "# 1. ARANGE"
   ]
  },
  {
   "cell_type": "code",
   "execution_count": 310,
   "metadata": {},
   "outputs": [
    {
     "data": {
      "text/plain": [
       "array([10, 11, 12, 13, 14, 15, 16, 17, 18, 19])"
      ]
     },
     "execution_count": 310,
     "metadata": {},
     "output_type": "execute_result"
    }
   ],
   "source": [
    "np.arange(10,20)"
   ]
  },
  {
   "cell_type": "code",
   "execution_count": 311,
   "metadata": {},
   "outputs": [
    {
     "data": {
      "text/plain": [
       "array([10, 12, 14, 16, 18, 20])"
      ]
     },
     "execution_count": 311,
     "metadata": {},
     "output_type": "execute_result"
    }
   ],
   "source": [
    "np.arange(10,21,2)"
   ]
  },
  {
   "cell_type": "code",
   "execution_count": 312,
   "metadata": {},
   "outputs": [
    {
     "data": {
      "text/plain": [
       "array([ 10.,  12.,  14.,  16.,  18.,  20.,  22.,  24.,  26.,  28.,  30.,\n",
       "        32.,  34.,  36.,  38.,  40.,  42.,  44.,  46.,  48.,  50.,  52.,\n",
       "        54.,  56.,  58.,  60.,  62.,  64.,  66.,  68.,  70.,  72.,  74.,\n",
       "        76.,  78.,  80.,  82.,  84.,  86.,  88.,  90.,  92.,  94.,  96.,\n",
       "        98., 100.])"
      ]
     },
     "execution_count": 312,
     "metadata": {},
     "output_type": "execute_result"
    }
   ],
   "source": [
    "np.arange(10,101,2,dtype=float)"
   ]
  },
  {
   "cell_type": "code",
   "execution_count": 315,
   "metadata": {},
   "outputs": [],
   "source": [
    "# 2. Linspace - Utilizado para criar arrays com numeros definidos de elementos. Cada elemento é igualmente espaçado entre eles"
   ]
  },
  {
   "cell_type": "code",
   "execution_count": 320,
   "metadata": {},
   "outputs": [
    {
     "data": {
      "text/plain": [
       "array([0.        , 0.11111111, 0.22222222, 0.33333333, 0.44444444,\n",
       "       0.55555556, 0.66666667, 0.77777778, 0.88888889, 1.        ])"
      ]
     },
     "execution_count": 320,
     "metadata": {},
     "output_type": "execute_result"
    }
   ],
   "source": [
    "np.linspace(0,1,10)     #Array indo de 0 até 1 com 10 elementos"
   ]
  },
  {
   "cell_type": "code",
   "execution_count": 321,
   "metadata": {},
   "outputs": [
    {
     "data": {
      "text/plain": [
       "array([ 1.,  2.,  3.,  4.,  5.,  6.,  7.,  8.,  9., 10.])"
      ]
     },
     "execution_count": 321,
     "metadata": {},
     "output_type": "execute_result"
    }
   ],
   "source": [
    "np.linspace(1,10,10)    #Array indo de 1 até 10 com 10 elementos\n",
    "                        #Como determinei que teria 10 elementos então o Numpy adicionou o 10 também, porque senão iria até o 9."
   ]
  },
  {
   "cell_type": "markdown",
   "metadata": {},
   "source": [
    "# AULA 11.1 \n",
    "### Numpy Arrays (continuação...)"
   ]
  },
  {
   "cell_type": "markdown",
   "metadata": {},
   "source": [
    "\n",
    "![](images/np2.jpg)\n",
    "\n",
    "\n",
    "##### Numpy é uma biblioteca que contém módulos e esses módulos contém funções. A estrutura pra chamar uma função existente no Numpy é: numpy.módulo.função \n",
    "\n",
    "##### Pressionando ' Shift+Tab ' com o cursor dentro dos parênteses de uma função é exibido um \" guia \" de como os parâmetros devem ser inseridos.\n",
    "\n"
   ]
  },
  {
   "cell_type": "markdown",
   "metadata": {},
   "source": [
    "------------------------------------------------------------------------------------------------------------------------------\n",
    "\n",
    "\n",
    "![](images/np3.jpg)\n",
    "\n",
    "\n",
    "Módulo Random  // funções de Random: rand, randn, randint, etc"
   ]
  },
  {
   "cell_type": "code",
   "execution_count": 325,
   "metadata": {},
   "outputs": [],
   "source": [
    "# rand   -   Cria um Array que gera uma distribuição uniforme, basicamente gera números aleatórios entre 0 e 1"
   ]
  },
  {
   "cell_type": "code",
   "execution_count": 326,
   "metadata": {},
   "outputs": [
    {
     "data": {
      "text/plain": [
       "array([0.00464323, 0.11652793, 0.66225162, 0.49704407, 0.71012037,\n",
       "       0.65530593, 0.71825902, 0.68219958, 0.08368673, 0.74001167])"
      ]
     },
     "execution_count": 326,
     "metadata": {},
     "output_type": "execute_result"
    }
   ],
   "source": [
    "np.random.rand(10)   # O parâmetro de rand indica o número de valores do array "
   ]
  },
  {
   "cell_type": "code",
   "execution_count": 327,
   "metadata": {},
   "outputs": [],
   "source": [
    "# randn   -   Retorna um array que segue uma DISTRIBUIÇÃO NORMAL com média zero e variância 1."
   ]
  },
  {
   "cell_type": "code",
   "execution_count": 328,
   "metadata": {},
   "outputs": [
    {
     "data": {
      "text/plain": [
       "array([ 1.51514496,  0.40076206, -0.40167317, -0.44622683,  1.05911585,\n",
       "        0.95853585, -0.07502626, -0.56813003,  0.74329899,  0.21286914,\n",
       "       -0.2167811 , -1.19198403, -0.27953226,  0.44670783, -0.51031386])"
      ]
     },
     "execution_count": 328,
     "metadata": {},
     "output_type": "execute_result"
    }
   ],
   "source": [
    "np.random.randn(15)"
   ]
  },
  {
   "cell_type": "code",
   "execution_count": 329,
   "metadata": {},
   "outputs": [],
   "source": [
    "# randint   -   Retorna um array com números inteiros aleatórios"
   ]
  },
  {
   "cell_type": "code",
   "execution_count": 331,
   "metadata": {},
   "outputs": [
    {
     "data": {
      "text/plain": [
       "array([19, 83, 18, 71, 88, 58, 34, 54, 63, 89, 64, 26, 73, 74, 28, 42, 18,\n",
       "       54, 75, 52, 91, 21, 21, 64, 17, 54, 14, 52, 54, 32])"
      ]
     },
     "execution_count": 331,
     "metadata": {},
     "output_type": "execute_result"
    }
   ],
   "source": [
    "np.random.randint(10,100,30) "
   ]
  },
  {
   "cell_type": "code",
   "execution_count": 332,
   "metadata": {},
   "outputs": [],
   "source": [
    "# Criando um array bi-dimensional // zeros e uns"
   ]
  },
  {
   "cell_type": "code",
   "execution_count": 333,
   "metadata": {},
   "outputs": [
    {
     "data": {
      "text/plain": [
       "array([[0., 0., 0., 0.],\n",
       "       [0., 0., 0., 0.],\n",
       "       [0., 0., 0., 0.],\n",
       "       [0., 0., 0., 0.],\n",
       "       [0., 0., 0., 0.]])"
      ]
     },
     "execution_count": 333,
     "metadata": {},
     "output_type": "execute_result"
    }
   ],
   "source": [
    "np.zeros((5,4))"
   ]
  },
  {
   "cell_type": "code",
   "execution_count": 334,
   "metadata": {},
   "outputs": [
    {
     "data": {
      "text/plain": [
       "array([[1., 1., 1., 1., 1.],\n",
       "       [1., 1., 1., 1., 1.],\n",
       "       [1., 1., 1., 1., 1.],\n",
       "       [1., 1., 1., 1., 1.],\n",
       "       [1., 1., 1., 1., 1.]])"
      ]
     },
     "execution_count": 334,
     "metadata": {},
     "output_type": "execute_result"
    }
   ],
   "source": [
    "np.ones((5,5))"
   ]
  },
  {
   "cell_type": "code",
   "execution_count": 335,
   "metadata": {},
   "outputs": [
    {
     "data": {
      "text/plain": [
       "array([[1., 0., 0., 0., 0., 0.],\n",
       "       [0., 1., 0., 0., 0., 0.],\n",
       "       [0., 0., 1., 0., 0., 0.],\n",
       "       [0., 0., 0., 1., 0., 0.],\n",
       "       [0., 0., 0., 0., 1., 0.],\n",
       "       [0., 0., 0., 0., 0., 1.]])"
      ]
     },
     "execution_count": 335,
     "metadata": {},
     "output_type": "execute_result"
    }
   ],
   "source": [
    "np.eye(6)   # função eye() = Matriz identidade"
   ]
  },
  {
   "cell_type": "markdown",
   "metadata": {},
   "source": [
    "##### Arrays bidimensionais possuem dois colchetes no começo e dois colchetes no final, como pode-se observar acima."
   ]
  },
  {
   "cell_type": "markdown",
   "metadata": {},
   "source": [
    "# AULA 12\n",
    "### Indexação de arrays"
   ]
  },
  {
   "cell_type": "markdown",
   "metadata": {},
   "source": [
    "##### Arrays bidimensionais possuem dois índices para seus valores: um para a LINHA e outro para a COLUNA."
   ]
  },
  {
   "cell_type": "markdown",
   "metadata": {},
   "source": [
    "Estrutura para selecionar um valor em array bidimensional: arr [linha] [coluna] OU arr [linha(s) , coluna(s)]\n",
    "\n",
    "\n",
    "![](images/np4.jpg)\n",
    "\n"
   ]
  },
  {
   "cell_type": "code",
   "execution_count": 336,
   "metadata": {},
   "outputs": [],
   "source": [
    "# Criando array unidimensional"
   ]
  },
  {
   "cell_type": "code",
   "execution_count": 337,
   "metadata": {},
   "outputs": [],
   "source": [
    "import numpy as np"
   ]
  },
  {
   "cell_type": "code",
   "execution_count": 338,
   "metadata": {},
   "outputs": [],
   "source": [
    "arr = np.arange(1,11,dtype=int)"
   ]
  },
  {
   "cell_type": "code",
   "execution_count": 339,
   "metadata": {},
   "outputs": [
    {
     "data": {
      "text/plain": [
       "array([ 1,  2,  3,  4,  5,  6,  7,  8,  9, 10])"
      ]
     },
     "execution_count": 339,
     "metadata": {},
     "output_type": "execute_result"
    }
   ],
   "source": [
    "arr"
   ]
  },
  {
   "cell_type": "code",
   "execution_count": 340,
   "metadata": {},
   "outputs": [],
   "source": [
    "# Indexação de arrays unidimensionais"
   ]
  },
  {
   "cell_type": "code",
   "execution_count": 342,
   "metadata": {},
   "outputs": [
    {
     "data": {
      "text/plain": [
       "5"
      ]
     },
     "execution_count": 342,
     "metadata": {},
     "output_type": "execute_result"
    }
   ],
   "source": [
    "arr[4]"
   ]
  },
  {
   "cell_type": "code",
   "execution_count": 343,
   "metadata": {},
   "outputs": [
    {
     "data": {
      "text/plain": [
       "array([3, 4])"
      ]
     },
     "execution_count": 343,
     "metadata": {},
     "output_type": "execute_result"
    }
   ],
   "source": [
    "arr[2:4]"
   ]
  },
  {
   "cell_type": "code",
   "execution_count": 344,
   "metadata": {},
   "outputs": [
    {
     "data": {
      "text/plain": [
       "array([3, 4, 5])"
      ]
     },
     "execution_count": 344,
     "metadata": {},
     "output_type": "execute_result"
    }
   ],
   "source": [
    "arr[2:5]"
   ]
  },
  {
   "cell_type": "code",
   "execution_count": 345,
   "metadata": {},
   "outputs": [
    {
     "data": {
      "text/plain": [
       "array([1, 2, 3, 4, 5])"
      ]
     },
     "execution_count": 345,
     "metadata": {},
     "output_type": "execute_result"
    }
   ],
   "source": [
    "arr[:5]"
   ]
  },
  {
   "cell_type": "code",
   "execution_count": 346,
   "metadata": {},
   "outputs": [
    {
     "data": {
      "text/plain": [
       "array([ 4,  5,  6,  7,  8,  9, 10])"
      ]
     },
     "execution_count": 346,
     "metadata": {},
     "output_type": "execute_result"
    }
   ],
   "source": [
    "arr[3:]"
   ]
  },
  {
   "cell_type": "code",
   "execution_count": 347,
   "metadata": {},
   "outputs": [],
   "source": [
    "# Indexação de arrays bidimensionais"
   ]
  },
  {
   "cell_type": "code",
   "execution_count": 349,
   "metadata": {},
   "outputs": [],
   "source": [
    "arr2 = np.random.randint(10,50,size=(3,3))"
   ]
  },
  {
   "cell_type": "code",
   "execution_count": 350,
   "metadata": {},
   "outputs": [
    {
     "data": {
      "text/plain": [
       "array([[49, 40, 36],\n",
       "       [37, 11, 36],\n",
       "       [37, 36, 34]])"
      ]
     },
     "execution_count": 350,
     "metadata": {},
     "output_type": "execute_result"
    }
   ],
   "source": [
    "arr2"
   ]
  },
  {
   "cell_type": "code",
   "execution_count": 351,
   "metadata": {},
   "outputs": [
    {
     "data": {
      "text/plain": [
       "11"
      ]
     },
     "execution_count": 351,
     "metadata": {},
     "output_type": "execute_result"
    }
   ],
   "source": [
    "arr2[1][1]"
   ]
  },
  {
   "cell_type": "code",
   "execution_count": 352,
   "metadata": {},
   "outputs": [
    {
     "data": {
      "text/plain": [
       "36"
      ]
     },
     "execution_count": 352,
     "metadata": {},
     "output_type": "execute_result"
    }
   ],
   "source": [
    "arr2[1][2]"
   ]
  },
  {
   "cell_type": "code",
   "execution_count": 354,
   "metadata": {},
   "outputs": [
    {
     "data": {
      "text/plain": [
       "array([37, 36])"
      ]
     },
     "execution_count": 354,
     "metadata": {},
     "output_type": "execute_result"
    }
   ],
   "source": [
    "arr2[2][0:2]"
   ]
  },
  {
   "cell_type": "code",
   "execution_count": 355,
   "metadata": {},
   "outputs": [],
   "source": [
    "arr3 = np.random.randint(1,101,size=(10,10))"
   ]
  },
  {
   "cell_type": "code",
   "execution_count": 356,
   "metadata": {},
   "outputs": [
    {
     "data": {
      "text/plain": [
       "array([[86, 85, 16, 14, 69, 72, 90, 45, 88, 83],\n",
       "       [ 1,  9, 79, 41, 51,  6, 73, 49, 90, 96],\n",
       "       [53, 33,  9, 69, 65, 36,  9, 97, 94, 48],\n",
       "       [70, 18, 78, 94, 21, 47, 79, 69,  7, 67],\n",
       "       [75, 52, 17, 83, 81, 57, 53, 81,  4, 38],\n",
       "       [96, 62, 88, 19, 64, 85, 12, 60, 86, 15],\n",
       "       [82, 96,  3, 82, 87, 40,  5, 74, 27, 87],\n",
       "       [35, 12, 43, 24, 35, 84, 68, 84, 14, 76],\n",
       "       [10, 37, 11, 48, 33, 93, 43, 80, 97, 10],\n",
       "       [23, 68, 47,  8, 91, 11, 60, 64, 22, 94]])"
      ]
     },
     "execution_count": 356,
     "metadata": {},
     "output_type": "execute_result"
    }
   ],
   "source": [
    "arr3"
   ]
  },
  {
   "cell_type": "code",
   "execution_count": 357,
   "metadata": {},
   "outputs": [
    {
     "data": {
      "text/plain": [
       "94"
      ]
     },
     "execution_count": 357,
     "metadata": {},
     "output_type": "execute_result"
    }
   ],
   "source": [
    "arr3[3][3]"
   ]
  },
  {
   "cell_type": "code",
   "execution_count": 359,
   "metadata": {},
   "outputs": [
    {
     "data": {
      "text/plain": [
       "94"
      ]
     },
     "execution_count": 359,
     "metadata": {},
     "output_type": "execute_result"
    }
   ],
   "source": [
    "arr3[3,3]   # Outra maneira de escrever para obter o mesmo resultado do realizado acima"
   ]
  },
  {
   "cell_type": "code",
   "execution_count": 360,
   "metadata": {},
   "outputs": [],
   "source": [
    "# Agora queremos selecionar os valores: 45,88,83\n",
    "#                                       49,90,96\n",
    "#                                       97,94,48\n",
    "                                         "
   ]
  },
  {
   "cell_type": "code",
   "execution_count": 362,
   "metadata": {},
   "outputs": [
    {
     "data": {
      "text/plain": [
       "array([[45, 88, 83],\n",
       "       [49, 90, 96],\n",
       "       [97, 94, 48]])"
      ]
     },
     "execution_count": 362,
     "metadata": {},
     "output_type": "execute_result"
    }
   ],
   "source": [
    "arr3[0:3,7:]"
   ]
  },
  {
   "cell_type": "code",
   "execution_count": 363,
   "metadata": {},
   "outputs": [],
   "source": [
    "# Agora queremos selecionar os valores: 9,97,94\n",
    "#                                       79,69,7\n",
    "                                        "
   ]
  },
  {
   "cell_type": "code",
   "execution_count": 364,
   "metadata": {},
   "outputs": [
    {
     "data": {
      "text/plain": [
       "array([[ 9, 97, 94],\n",
       "       [79, 69,  7]])"
      ]
     },
     "execution_count": 364,
     "metadata": {},
     "output_type": "execute_result"
    }
   ],
   "source": [
    "arr3[2:4,6:9]"
   ]
  },
  {
   "cell_type": "code",
   "execution_count": 365,
   "metadata": {},
   "outputs": [
    {
     "data": {
      "text/plain": [
       "array([[86, 85, 16, 14, 69, 72, 90, 45, 88, 83],\n",
       "       [ 1,  9, 79, 41, 51,  6, 73, 49, 90, 96],\n",
       "       [53, 33,  9, 69, 65, 36,  9, 97, 94, 48],\n",
       "       [70, 18, 78, 94, 21, 47, 79, 69,  7, 67],\n",
       "       [75, 52, 17, 83, 81, 57, 53, 81,  4, 38],\n",
       "       [96, 62, 88, 19, 64, 85, 12, 60, 86, 15],\n",
       "       [82, 96,  3, 82, 87, 40,  5, 74, 27, 87],\n",
       "       [35, 12, 43, 24, 35, 84, 68, 84, 14, 76],\n",
       "       [10, 37, 11, 48, 33, 93, 43, 80, 97, 10],\n",
       "       [23, 68, 47,  8, 91, 11, 60, 64, 22, 94]])"
      ]
     },
     "execution_count": 365,
     "metadata": {},
     "output_type": "execute_result"
    }
   ],
   "source": [
    " arr3"
   ]
  },
  {
   "cell_type": "code",
   "execution_count": 367,
   "metadata": {},
   "outputs": [
    {
     "data": {
      "text/plain": [
       "array([[53, 33,  9, 69, 65, 36,  9, 97, 94, 48],\n",
       "       [75, 52, 17, 83, 81, 57, 53, 81,  4, 38],\n",
       "       [96, 62, 88, 19, 64, 85, 12, 60, 86, 15]])"
      ]
     },
     "execution_count": 367,
     "metadata": {},
     "output_type": "execute_result"
    }
   ],
   "source": [
    "arr3[[2,4,5]]  # Se colocar valores entre colchetes no local para colocar os índices o retorno será os valores da linha digitada"
   ]
  },
  {
   "cell_type": "code",
   "execution_count": 369,
   "metadata": {},
   "outputs": [],
   "source": [
    "# acima o retorno foi os valores da linha 2 , linha 4 e linha 5. Veja outro exemplo abaixo:"
   ]
  },
  {
   "cell_type": "code",
   "execution_count": 370,
   "metadata": {},
   "outputs": [
    {
     "data": {
      "text/plain": [
       "array([[10, 37, 11, 48, 33, 93, 43, 80, 97, 10],\n",
       "       [35, 12, 43, 24, 35, 84, 68, 84, 14, 76],\n",
       "       [53, 33,  9, 69, 65, 36,  9, 97, 94, 48]])"
      ]
     },
     "execution_count": 370,
     "metadata": {},
     "output_type": "execute_result"
    }
   ],
   "source": [
    "arr3[ [8,7,2] ]"
   ]
  },
  {
   "cell_type": "markdown",
   "metadata": {},
   "source": [
    "# AULA 13\n",
    "### Seleção de arrays\n"
   ]
  },
  {
   "cell_type": "code",
   "execution_count": 371,
   "metadata": {},
   "outputs": [],
   "source": [
    "import numpy as np"
   ]
  },
  {
   "cell_type": "code",
   "execution_count": 372,
   "metadata": {},
   "outputs": [],
   "source": [
    "cadastro = np.random.randint(15,51,size=(50,10))"
   ]
  },
  {
   "cell_type": "code",
   "execution_count": 373,
   "metadata": {},
   "outputs": [
    {
     "data": {
      "text/plain": [
       "array([[17, 27, 42, 17, 35, 32, 32, 23, 17, 34],\n",
       "       [22, 47, 46, 50, 24, 31, 23, 36, 21, 48],\n",
       "       [15, 21, 46, 38, 18, 34, 34, 45, 31, 22],\n",
       "       [17, 49, 42, 43, 26, 18, 23, 28, 27, 40],\n",
       "       [23, 17, 48, 21, 24, 27, 25, 22, 46, 29],\n",
       "       [33, 29, 16, 26, 36, 19, 39, 27, 26, 39],\n",
       "       [31, 25, 24, 34, 37, 43, 33, 49, 37, 27],\n",
       "       [36, 37, 21, 30, 30, 35, 23, 35, 50, 48],\n",
       "       [18, 28, 43, 18, 24, 23, 36, 48, 29, 28],\n",
       "       [29, 27, 18, 41, 18, 45, 41, 24, 33, 33],\n",
       "       [15, 28, 19, 16, 45, 34, 16, 20, 49, 23],\n",
       "       [20, 39, 33, 50, 43, 26, 20, 38, 17, 36],\n",
       "       [23, 44, 16, 19, 16, 21, 27, 37, 28, 32],\n",
       "       [18, 41, 28, 26, 29, 33, 39, 37, 47, 17],\n",
       "       [26, 42, 35, 34, 40, 41, 24, 42, 30, 24],\n",
       "       [42, 23, 43, 48, 42, 48, 47, 48, 50, 17],\n",
       "       [44, 42, 48, 49, 40, 36, 20, 28, 19, 47],\n",
       "       [40, 41, 28, 39, 32, 25, 32, 17, 35, 40],\n",
       "       [20, 39, 33, 43, 49, 28, 36, 20, 27, 38],\n",
       "       [50, 26, 49, 16, 25, 43, 20, 45, 15, 22],\n",
       "       [39, 38, 25, 38, 41, 26, 31, 43, 21, 40],\n",
       "       [24, 38, 48, 24, 41, 37, 30, 43, 38, 49],\n",
       "       [18, 43, 37, 16, 36, 22, 41, 43, 47, 50],\n",
       "       [30, 32, 50, 30, 26, 19, 49, 41, 43, 18],\n",
       "       [46, 27, 17, 48, 34, 42, 44, 16, 40, 46],\n",
       "       [19, 18, 29, 31, 17, 20, 28, 16, 35, 25],\n",
       "       [45, 25, 48, 23, 39, 16, 21, 48, 26, 25],\n",
       "       [28, 27, 47, 24, 29, 37, 36, 23, 47, 31],\n",
       "       [21, 22, 39, 19, 38, 35, 41, 16, 37, 30],\n",
       "       [45, 39, 32, 43, 23, 42, 27, 18, 33, 30],\n",
       "       [21, 20, 40, 42, 40, 20, 50, 48, 50, 47],\n",
       "       [40, 25, 28, 21, 36, 31, 31, 41, 26, 32],\n",
       "       [17, 46, 40, 41, 18, 30, 41, 20, 36, 48],\n",
       "       [41, 39, 43, 34, 21, 25, 31, 17, 49, 31],\n",
       "       [20, 38, 23, 29, 36, 30, 38, 41, 19, 35],\n",
       "       [15, 30, 50, 44, 17, 24, 43, 33, 28, 20],\n",
       "       [25, 38, 35, 19, 26, 22, 29, 25, 16, 45],\n",
       "       [20, 20, 50, 15, 37, 39, 39, 30, 15, 46],\n",
       "       [44, 26, 31, 45, 18, 20, 41, 48, 42, 20],\n",
       "       [20, 20, 41, 50, 27, 42, 20, 23, 26, 25],\n",
       "       [30, 44, 39, 43, 29, 46, 23, 46, 41, 26],\n",
       "       [39, 39, 41, 22, 26, 22, 27, 20, 33, 48],\n",
       "       [31, 49, 29, 24, 32, 33, 42, 34, 30, 30],\n",
       "       [29, 50, 48, 17, 16, 47, 34, 30, 19, 38],\n",
       "       [26, 39, 17, 33, 42, 18, 20, 45, 42, 35],\n",
       "       [47, 33, 39, 30, 44, 40, 19, 38, 22, 33],\n",
       "       [28, 46, 24, 35, 17, 23, 39, 49, 29, 49],\n",
       "       [37, 17, 37, 40, 22, 41, 27, 49, 41, 31],\n",
       "       [26, 36, 39, 24, 21, 30, 32, 16, 22, 28],\n",
       "       [49, 25, 42, 42, 30, 41, 18, 17, 40, 36]])"
      ]
     },
     "execution_count": 373,
     "metadata": {},
     "output_type": "execute_result"
    }
   ],
   "source": [
    "cadastro"
   ]
  },
  {
   "cell_type": "code",
   "execution_count": 374,
   "metadata": {},
   "outputs": [],
   "source": [
    "# saber os valores (de forma booleana) que são maiores que 18"
   ]
  },
  {
   "cell_type": "code",
   "execution_count": 375,
   "metadata": {},
   "outputs": [],
   "source": [
    "cadastro_maior18 = cadastro > 18"
   ]
  },
  {
   "cell_type": "code",
   "execution_count": 376,
   "metadata": {},
   "outputs": [
    {
     "data": {
      "text/plain": [
       "array([[False,  True,  True, False,  True,  True,  True,  True, False,\n",
       "         True],\n",
       "       [ True,  True,  True,  True,  True,  True,  True,  True,  True,\n",
       "         True],\n",
       "       [False,  True,  True,  True, False,  True,  True,  True,  True,\n",
       "         True],\n",
       "       [False,  True,  True,  True,  True, False,  True,  True,  True,\n",
       "         True],\n",
       "       [ True, False,  True,  True,  True,  True,  True,  True,  True,\n",
       "         True],\n",
       "       [ True,  True, False,  True,  True,  True,  True,  True,  True,\n",
       "         True],\n",
       "       [ True,  True,  True,  True,  True,  True,  True,  True,  True,\n",
       "         True],\n",
       "       [ True,  True,  True,  True,  True,  True,  True,  True,  True,\n",
       "         True],\n",
       "       [False,  True,  True, False,  True,  True,  True,  True,  True,\n",
       "         True],\n",
       "       [ True,  True, False,  True, False,  True,  True,  True,  True,\n",
       "         True],\n",
       "       [False,  True,  True, False,  True,  True, False,  True,  True,\n",
       "         True],\n",
       "       [ True,  True,  True,  True,  True,  True,  True,  True, False,\n",
       "         True],\n",
       "       [ True,  True, False,  True, False,  True,  True,  True,  True,\n",
       "         True],\n",
       "       [False,  True,  True,  True,  True,  True,  True,  True,  True,\n",
       "        False],\n",
       "       [ True,  True,  True,  True,  True,  True,  True,  True,  True,\n",
       "         True],\n",
       "       [ True,  True,  True,  True,  True,  True,  True,  True,  True,\n",
       "        False],\n",
       "       [ True,  True,  True,  True,  True,  True,  True,  True,  True,\n",
       "         True],\n",
       "       [ True,  True,  True,  True,  True,  True,  True, False,  True,\n",
       "         True],\n",
       "       [ True,  True,  True,  True,  True,  True,  True,  True,  True,\n",
       "         True],\n",
       "       [ True,  True,  True, False,  True,  True,  True,  True, False,\n",
       "         True],\n",
       "       [ True,  True,  True,  True,  True,  True,  True,  True,  True,\n",
       "         True],\n",
       "       [ True,  True,  True,  True,  True,  True,  True,  True,  True,\n",
       "         True],\n",
       "       [False,  True,  True, False,  True,  True,  True,  True,  True,\n",
       "         True],\n",
       "       [ True,  True,  True,  True,  True,  True,  True,  True,  True,\n",
       "        False],\n",
       "       [ True,  True, False,  True,  True,  True,  True, False,  True,\n",
       "         True],\n",
       "       [ True, False,  True,  True, False,  True,  True, False,  True,\n",
       "         True],\n",
       "       [ True,  True,  True,  True,  True, False,  True,  True,  True,\n",
       "         True],\n",
       "       [ True,  True,  True,  True,  True,  True,  True,  True,  True,\n",
       "         True],\n",
       "       [ True,  True,  True,  True,  True,  True,  True, False,  True,\n",
       "         True],\n",
       "       [ True,  True,  True,  True,  True,  True,  True, False,  True,\n",
       "         True],\n",
       "       [ True,  True,  True,  True,  True,  True,  True,  True,  True,\n",
       "         True],\n",
       "       [ True,  True,  True,  True,  True,  True,  True,  True,  True,\n",
       "         True],\n",
       "       [False,  True,  True,  True, False,  True,  True,  True,  True,\n",
       "         True],\n",
       "       [ True,  True,  True,  True,  True,  True,  True, False,  True,\n",
       "         True],\n",
       "       [ True,  True,  True,  True,  True,  True,  True,  True,  True,\n",
       "         True],\n",
       "       [False,  True,  True,  True, False,  True,  True,  True,  True,\n",
       "         True],\n",
       "       [ True,  True,  True,  True,  True,  True,  True,  True, False,\n",
       "         True],\n",
       "       [ True,  True,  True, False,  True,  True,  True,  True, False,\n",
       "         True],\n",
       "       [ True,  True,  True,  True, False,  True,  True,  True,  True,\n",
       "         True],\n",
       "       [ True,  True,  True,  True,  True,  True,  True,  True,  True,\n",
       "         True],\n",
       "       [ True,  True,  True,  True,  True,  True,  True,  True,  True,\n",
       "         True],\n",
       "       [ True,  True,  True,  True,  True,  True,  True,  True,  True,\n",
       "         True],\n",
       "       [ True,  True,  True,  True,  True,  True,  True,  True,  True,\n",
       "         True],\n",
       "       [ True,  True,  True, False, False,  True,  True,  True,  True,\n",
       "         True],\n",
       "       [ True,  True, False,  True,  True, False,  True,  True,  True,\n",
       "         True],\n",
       "       [ True,  True,  True,  True,  True,  True,  True,  True,  True,\n",
       "         True],\n",
       "       [ True,  True,  True,  True, False,  True,  True,  True,  True,\n",
       "         True],\n",
       "       [ True, False,  True,  True,  True,  True,  True,  True,  True,\n",
       "         True],\n",
       "       [ True,  True,  True,  True,  True,  True,  True, False,  True,\n",
       "         True],\n",
       "       [ True,  True,  True,  True,  True,  True, False, False,  True,\n",
       "         True]])"
      ]
     },
     "execution_count": 376,
     "metadata": {},
     "output_type": "execute_result"
    }
   ],
   "source": [
    "cadastro_maior18"
   ]
  },
  {
   "cell_type": "markdown",
   "metadata": {},
   "source": [
    "##### A partir do novo array criado é possível selecionar os valores reais no array original.\n",
    "\n",
    "##### O array que retornou o booleano quando inserido como índice no array original irá retornar apenas os valores TRUE encontrados\n",
    "\n",
    "##### Veja abaixo:"
   ]
  },
  {
   "cell_type": "code",
   "execution_count": 377,
   "metadata": {},
   "outputs": [
    {
     "data": {
      "text/plain": [
       "array([27, 42, 35, 32, 32, 23, 34, 22, 47, 46, 50, 24, 31, 23, 36, 21, 48,\n",
       "       21, 46, 38, 34, 34, 45, 31, 22, 49, 42, 43, 26, 23, 28, 27, 40, 23,\n",
       "       48, 21, 24, 27, 25, 22, 46, 29, 33, 29, 26, 36, 19, 39, 27, 26, 39,\n",
       "       31, 25, 24, 34, 37, 43, 33, 49, 37, 27, 36, 37, 21, 30, 30, 35, 23,\n",
       "       35, 50, 48, 28, 43, 24, 23, 36, 48, 29, 28, 29, 27, 41, 45, 41, 24,\n",
       "       33, 33, 28, 19, 45, 34, 20, 49, 23, 20, 39, 33, 50, 43, 26, 20, 38,\n",
       "       36, 23, 44, 19, 21, 27, 37, 28, 32, 41, 28, 26, 29, 33, 39, 37, 47,\n",
       "       26, 42, 35, 34, 40, 41, 24, 42, 30, 24, 42, 23, 43, 48, 42, 48, 47,\n",
       "       48, 50, 44, 42, 48, 49, 40, 36, 20, 28, 19, 47, 40, 41, 28, 39, 32,\n",
       "       25, 32, 35, 40, 20, 39, 33, 43, 49, 28, 36, 20, 27, 38, 50, 26, 49,\n",
       "       25, 43, 20, 45, 22, 39, 38, 25, 38, 41, 26, 31, 43, 21, 40, 24, 38,\n",
       "       48, 24, 41, 37, 30, 43, 38, 49, 43, 37, 36, 22, 41, 43, 47, 50, 30,\n",
       "       32, 50, 30, 26, 19, 49, 41, 43, 46, 27, 48, 34, 42, 44, 40, 46, 19,\n",
       "       29, 31, 20, 28, 35, 25, 45, 25, 48, 23, 39, 21, 48, 26, 25, 28, 27,\n",
       "       47, 24, 29, 37, 36, 23, 47, 31, 21, 22, 39, 19, 38, 35, 41, 37, 30,\n",
       "       45, 39, 32, 43, 23, 42, 27, 33, 30, 21, 20, 40, 42, 40, 20, 50, 48,\n",
       "       50, 47, 40, 25, 28, 21, 36, 31, 31, 41, 26, 32, 46, 40, 41, 30, 41,\n",
       "       20, 36, 48, 41, 39, 43, 34, 21, 25, 31, 49, 31, 20, 38, 23, 29, 36,\n",
       "       30, 38, 41, 19, 35, 30, 50, 44, 24, 43, 33, 28, 20, 25, 38, 35, 19,\n",
       "       26, 22, 29, 25, 45, 20, 20, 50, 37, 39, 39, 30, 46, 44, 26, 31, 45,\n",
       "       20, 41, 48, 42, 20, 20, 20, 41, 50, 27, 42, 20, 23, 26, 25, 30, 44,\n",
       "       39, 43, 29, 46, 23, 46, 41, 26, 39, 39, 41, 22, 26, 22, 27, 20, 33,\n",
       "       48, 31, 49, 29, 24, 32, 33, 42, 34, 30, 30, 29, 50, 48, 47, 34, 30,\n",
       "       19, 38, 26, 39, 33, 42, 20, 45, 42, 35, 47, 33, 39, 30, 44, 40, 19,\n",
       "       38, 22, 33, 28, 46, 24, 35, 23, 39, 49, 29, 49, 37, 37, 40, 22, 41,\n",
       "       27, 49, 41, 31, 26, 36, 39, 24, 21, 30, 32, 22, 28, 49, 25, 42, 42,\n",
       "       30, 41, 40, 36])"
      ]
     },
     "execution_count": 377,
     "metadata": {},
     "output_type": "execute_result"
    }
   ],
   "source": [
    "cadastro[cadastro_maior18]"
   ]
  },
  {
   "cell_type": "markdown",
   "metadata": {},
   "source": [
    "##### Daria no mesmo se fizesse: cadastro[ cadastro > 18 ] "
   ]
  },
  {
   "cell_type": "code",
   "execution_count": 378,
   "metadata": {},
   "outputs": [
    {
     "data": {
      "text/plain": [
       "array([27, 42, 35, 32, 32, 23, 34, 22, 47, 46, 50, 24, 31, 23, 36, 21, 48,\n",
       "       21, 46, 38, 34, 34, 45, 31, 22, 49, 42, 43, 26, 23, 28, 27, 40, 23,\n",
       "       48, 21, 24, 27, 25, 22, 46, 29, 33, 29, 26, 36, 19, 39, 27, 26, 39,\n",
       "       31, 25, 24, 34, 37, 43, 33, 49, 37, 27, 36, 37, 21, 30, 30, 35, 23,\n",
       "       35, 50, 48, 28, 43, 24, 23, 36, 48, 29, 28, 29, 27, 41, 45, 41, 24,\n",
       "       33, 33, 28, 19, 45, 34, 20, 49, 23, 20, 39, 33, 50, 43, 26, 20, 38,\n",
       "       36, 23, 44, 19, 21, 27, 37, 28, 32, 41, 28, 26, 29, 33, 39, 37, 47,\n",
       "       26, 42, 35, 34, 40, 41, 24, 42, 30, 24, 42, 23, 43, 48, 42, 48, 47,\n",
       "       48, 50, 44, 42, 48, 49, 40, 36, 20, 28, 19, 47, 40, 41, 28, 39, 32,\n",
       "       25, 32, 35, 40, 20, 39, 33, 43, 49, 28, 36, 20, 27, 38, 50, 26, 49,\n",
       "       25, 43, 20, 45, 22, 39, 38, 25, 38, 41, 26, 31, 43, 21, 40, 24, 38,\n",
       "       48, 24, 41, 37, 30, 43, 38, 49, 43, 37, 36, 22, 41, 43, 47, 50, 30,\n",
       "       32, 50, 30, 26, 19, 49, 41, 43, 46, 27, 48, 34, 42, 44, 40, 46, 19,\n",
       "       29, 31, 20, 28, 35, 25, 45, 25, 48, 23, 39, 21, 48, 26, 25, 28, 27,\n",
       "       47, 24, 29, 37, 36, 23, 47, 31, 21, 22, 39, 19, 38, 35, 41, 37, 30,\n",
       "       45, 39, 32, 43, 23, 42, 27, 33, 30, 21, 20, 40, 42, 40, 20, 50, 48,\n",
       "       50, 47, 40, 25, 28, 21, 36, 31, 31, 41, 26, 32, 46, 40, 41, 30, 41,\n",
       "       20, 36, 48, 41, 39, 43, 34, 21, 25, 31, 49, 31, 20, 38, 23, 29, 36,\n",
       "       30, 38, 41, 19, 35, 30, 50, 44, 24, 43, 33, 28, 20, 25, 38, 35, 19,\n",
       "       26, 22, 29, 25, 45, 20, 20, 50, 37, 39, 39, 30, 46, 44, 26, 31, 45,\n",
       "       20, 41, 48, 42, 20, 20, 20, 41, 50, 27, 42, 20, 23, 26, 25, 30, 44,\n",
       "       39, 43, 29, 46, 23, 46, 41, 26, 39, 39, 41, 22, 26, 22, 27, 20, 33,\n",
       "       48, 31, 49, 29, 24, 32, 33, 42, 34, 30, 30, 29, 50, 48, 47, 34, 30,\n",
       "       19, 38, 26, 39, 33, 42, 20, 45, 42, 35, 47, 33, 39, 30, 44, 40, 19,\n",
       "       38, 22, 33, 28, 46, 24, 35, 23, 39, 49, 29, 49, 37, 37, 40, 22, 41,\n",
       "       27, 49, 41, 31, 26, 36, 39, 24, 21, 30, 32, 22, 28, 49, 25, 42, 42,\n",
       "       30, 41, 40, 36])"
      ]
     },
     "execution_count": 378,
     "metadata": {},
     "output_type": "execute_result"
    }
   ],
   "source": [
    "cadastro[cadastro > 18]"
   ]
  },
  {
   "cell_type": "code",
   "execution_count": 380,
   "metadata": {},
   "outputs": [],
   "source": [
    "# Quantos números tem no array cadastro_maior18:"
   ]
  },
  {
   "cell_type": "code",
   "execution_count": 382,
   "metadata": {},
   "outputs": [
    {
     "data": {
      "text/plain": [
       "446"
      ]
     },
     "execution_count": 382,
     "metadata": {},
     "output_type": "execute_result"
    }
   ],
   "source": [
    "cadastro_maior18.sum() #No booleano false=0 e true=1 então ao somar tudo ocorrerá a soma dos números um que é o TRUE da condição"
   ]
  },
  {
   "cell_type": "code",
   "execution_count": 383,
   "metadata": {},
   "outputs": [],
   "source": [
    "# usando a função len() :"
   ]
  },
  {
   "cell_type": "code",
   "execution_count": 384,
   "metadata": {},
   "outputs": [],
   "source": [
    "arr4 = cadastro[cadastro>18]"
   ]
  },
  {
   "cell_type": "code",
   "execution_count": 385,
   "metadata": {},
   "outputs": [
    {
     "data": {
      "text/plain": [
       "446"
      ]
     },
     "execution_count": 385,
     "metadata": {},
     "output_type": "execute_result"
    }
   ],
   "source": [
    "len(arr4)"
   ]
  },
  {
   "cell_type": "code",
   "execution_count": 386,
   "metadata": {},
   "outputs": [],
   "source": [
    "# Há ainda uma OUTRA FORMA :"
   ]
  },
  {
   "cell_type": "code",
   "execution_count": 389,
   "metadata": {},
   "outputs": [],
   "source": [
    "condição = cadastro > 18"
   ]
  },
  {
   "cell_type": "code",
   "execution_count": 390,
   "metadata": {},
   "outputs": [],
   "source": [
    "extraído = np.extract(condição,cadastro)"
   ]
  },
  {
   "cell_type": "code",
   "execution_count": 391,
   "metadata": {},
   "outputs": [
    {
     "data": {
      "text/plain": [
       "array([27, 42, 35, 32, 32, 23, 34, 22, 47, 46, 50, 24, 31, 23, 36, 21, 48,\n",
       "       21, 46, 38, 34, 34, 45, 31, 22, 49, 42, 43, 26, 23, 28, 27, 40, 23,\n",
       "       48, 21, 24, 27, 25, 22, 46, 29, 33, 29, 26, 36, 19, 39, 27, 26, 39,\n",
       "       31, 25, 24, 34, 37, 43, 33, 49, 37, 27, 36, 37, 21, 30, 30, 35, 23,\n",
       "       35, 50, 48, 28, 43, 24, 23, 36, 48, 29, 28, 29, 27, 41, 45, 41, 24,\n",
       "       33, 33, 28, 19, 45, 34, 20, 49, 23, 20, 39, 33, 50, 43, 26, 20, 38,\n",
       "       36, 23, 44, 19, 21, 27, 37, 28, 32, 41, 28, 26, 29, 33, 39, 37, 47,\n",
       "       26, 42, 35, 34, 40, 41, 24, 42, 30, 24, 42, 23, 43, 48, 42, 48, 47,\n",
       "       48, 50, 44, 42, 48, 49, 40, 36, 20, 28, 19, 47, 40, 41, 28, 39, 32,\n",
       "       25, 32, 35, 40, 20, 39, 33, 43, 49, 28, 36, 20, 27, 38, 50, 26, 49,\n",
       "       25, 43, 20, 45, 22, 39, 38, 25, 38, 41, 26, 31, 43, 21, 40, 24, 38,\n",
       "       48, 24, 41, 37, 30, 43, 38, 49, 43, 37, 36, 22, 41, 43, 47, 50, 30,\n",
       "       32, 50, 30, 26, 19, 49, 41, 43, 46, 27, 48, 34, 42, 44, 40, 46, 19,\n",
       "       29, 31, 20, 28, 35, 25, 45, 25, 48, 23, 39, 21, 48, 26, 25, 28, 27,\n",
       "       47, 24, 29, 37, 36, 23, 47, 31, 21, 22, 39, 19, 38, 35, 41, 37, 30,\n",
       "       45, 39, 32, 43, 23, 42, 27, 33, 30, 21, 20, 40, 42, 40, 20, 50, 48,\n",
       "       50, 47, 40, 25, 28, 21, 36, 31, 31, 41, 26, 32, 46, 40, 41, 30, 41,\n",
       "       20, 36, 48, 41, 39, 43, 34, 21, 25, 31, 49, 31, 20, 38, 23, 29, 36,\n",
       "       30, 38, 41, 19, 35, 30, 50, 44, 24, 43, 33, 28, 20, 25, 38, 35, 19,\n",
       "       26, 22, 29, 25, 45, 20, 20, 50, 37, 39, 39, 30, 46, 44, 26, 31, 45,\n",
       "       20, 41, 48, 42, 20, 20, 20, 41, 50, 27, 42, 20, 23, 26, 25, 30, 44,\n",
       "       39, 43, 29, 46, 23, 46, 41, 26, 39, 39, 41, 22, 26, 22, 27, 20, 33,\n",
       "       48, 31, 49, 29, 24, 32, 33, 42, 34, 30, 30, 29, 50, 48, 47, 34, 30,\n",
       "       19, 38, 26, 39, 33, 42, 20, 45, 42, 35, 47, 33, 39, 30, 44, 40, 19,\n",
       "       38, 22, 33, 28, 46, 24, 35, 23, 39, 49, 29, 49, 37, 37, 40, 22, 41,\n",
       "       27, 49, 41, 31, 26, 36, 39, 24, 21, 30, 32, 22, 28, 49, 25, 42, 42,\n",
       "       30, 41, 40, 36])"
      ]
     },
     "execution_count": 391,
     "metadata": {},
     "output_type": "execute_result"
    }
   ],
   "source": [
    "extraído"
   ]
  },
  {
   "cell_type": "code",
   "execution_count": 392,
   "metadata": {},
   "outputs": [
    {
     "data": {
      "text/plain": [
       "446"
      ]
     },
     "execution_count": 392,
     "metadata": {},
     "output_type": "execute_result"
    }
   ],
   "source": [
    "len(extraído)"
   ]
  },
  {
   "cell_type": "markdown",
   "metadata": {},
   "source": [
    "# AULA 14\n",
    "### Pandas\n",
    "\n",
    "##### Pandas fornece estrutura de dados de alto desempenho, ferramentas e funções úteis na análise de dados. \n",
    "\n",
    "##### É através do Pandas que importamos dados, seja da internet ou de um arquivo .csv\n",
    "\n",
    "##### Apresenta-se em forma de COLUNAS e podem conter variáveis de diversos tipos, diferente dos arrays do Numpy que só eram números, além disso os índices podem ser alterados de qualquer maneira.\n",
    "\n",
    "\n",
    "\n",
    "![](images/pd1.jpg)\n",
    "\n",
    "\n"
   ]
  },
  {
   "cell_type": "code",
   "execution_count": 396,
   "metadata": {},
   "outputs": [],
   "source": [
    "import pandas as pd\n",
    "import numpy as np"
   ]
  },
  {
   "cell_type": "code",
   "execution_count": 397,
   "metadata": {},
   "outputs": [],
   "source": [
    "# Séries a partir de uma lista"
   ]
  },
  {
   "cell_type": "code",
   "execution_count": 398,
   "metadata": {},
   "outputs": [],
   "source": [
    "lista = [10,20,30,40,50]"
   ]
  },
  {
   "cell_type": "code",
   "execution_count": 408,
   "metadata": {},
   "outputs": [],
   "source": [
    "series1 = pd.Series(lista)  # A série criada a partir da lista faz que os índices da lista sejam colocados em uma coluna relacionada com seu valor"
   ]
  },
  {
   "cell_type": "code",
   "execution_count": 410,
   "metadata": {},
   "outputs": [
    {
     "data": {
      "text/plain": [
       "0    10\n",
       "1    20\n",
       "2    30\n",
       "3    40\n",
       "4    50\n",
       "dtype: int64"
      ]
     },
     "execution_count": 410,
     "metadata": {},
     "output_type": "execute_result"
    }
   ],
   "source": [
    "series1"
   ]
  },
  {
   "cell_type": "code",
   "execution_count": 411,
   "metadata": {},
   "outputs": [
    {
     "data": {
      "text/plain": [
       "20"
      ]
     },
     "execution_count": 411,
     "metadata": {},
     "output_type": "execute_result"
    }
   ],
   "source": [
    "series1[1]"
   ]
  },
  {
   "cell_type": "code",
   "execution_count": 409,
   "metadata": {},
   "outputs": [],
   "source": [
    "# Séries a partir de um dicionário"
   ]
  },
  {
   "cell_type": "code",
   "execution_count": 406,
   "metadata": {},
   "outputs": [],
   "source": [
    "dicionario = {'telefone':'9999999', 'telefone2':'5555555','telefone3':'4444444'}"
   ]
  },
  {
   "cell_type": "code",
   "execution_count": 414,
   "metadata": {},
   "outputs": [],
   "source": [
    "series2 = pd.Series(dicionario)   # A série criada a partir de um dicionário faz que as CHAVES do dicionário sejam TRANSFORMADOS EM ÍNDICES, mas os índices numéricos ainda existem."
   ]
  },
  {
   "cell_type": "code",
   "execution_count": 413,
   "metadata": {},
   "outputs": [
    {
     "data": {
      "text/plain": [
       "telefone     9999999\n",
       "telefone2    5555555\n",
       "telefone3    4444444\n",
       "dtype: object"
      ]
     },
     "execution_count": 413,
     "metadata": {},
     "output_type": "execute_result"
    }
   ],
   "source": [
    "series2"
   ]
  },
  {
   "cell_type": "code",
   "execution_count": 415,
   "metadata": {},
   "outputs": [],
   "source": [
    " # Obtendo valor pelo índice numérico:"
   ]
  },
  {
   "cell_type": "code",
   "execution_count": 416,
   "metadata": {},
   "outputs": [
    {
     "data": {
      "text/plain": [
       "'4444444'"
      ]
     },
     "execution_count": 416,
     "metadata": {},
     "output_type": "execute_result"
    }
   ],
   "source": [
    "series2[2]"
   ]
  },
  {
   "cell_type": "code",
   "execution_count": 417,
   "metadata": {},
   "outputs": [],
   "source": [
    "# Obtendo valor pelo nome da chave:"
   ]
  },
  {
   "cell_type": "code",
   "execution_count": 419,
   "metadata": {},
   "outputs": [
    {
     "data": {
      "text/plain": [
       "'4444444'"
      ]
     },
     "execution_count": 419,
     "metadata": {},
     "output_type": "execute_result"
    }
   ],
   "source": [
    "series2['telefone3']"
   ]
  },
  {
   "cell_type": "code",
   "execution_count": 420,
   "metadata": {},
   "outputs": [],
   "source": [
    "# Séries a partir de um array"
   ]
  },
  {
   "cell_type": "code",
   "execution_count": 421,
   "metadata": {},
   "outputs": [],
   "source": [
    "arr = np.array( [10,20,30,40,50] )"
   ]
  },
  {
   "cell_type": "code",
   "execution_count": 422,
   "metadata": {},
   "outputs": [],
   "source": [
    "series3 = pd.Series(arr)"
   ]
  },
  {
   "cell_type": "code",
   "execution_count": 423,
   "metadata": {},
   "outputs": [
    {
     "data": {
      "text/plain": [
       "0    10\n",
       "1    20\n",
       "2    30\n",
       "3    40\n",
       "4    50\n",
       "dtype: int32"
      ]
     },
     "execution_count": 423,
     "metadata": {},
     "output_type": "execute_result"
    }
   ],
   "source": [
    "series3"
   ]
  },
  {
   "cell_type": "code",
   "execution_count": 424,
   "metadata": {},
   "outputs": [],
   "source": [
    "series4 = pd.Series( [100,200,300,400,500] )"
   ]
  },
  {
   "cell_type": "code",
   "execution_count": 431,
   "metadata": {},
   "outputs": [
    {
     "data": {
      "text/plain": [
       "0    100\n",
       "1    200\n",
       "2    300\n",
       "3    400\n",
       "4    500\n",
       "dtype: int64"
      ]
     },
     "execution_count": 431,
     "metadata": {},
     "output_type": "execute_result"
    }
   ],
   "source": [
    "series4"
   ]
  },
  {
   "cell_type": "code",
   "execution_count": 433,
   "metadata": {},
   "outputs": [],
   "source": [
    "series5 = pd.Series( [1,2,3,4], index=['Brasil','USA','Argentina','Chile'])"
   ]
  },
  {
   "cell_type": "code",
   "execution_count": 434,
   "metadata": {},
   "outputs": [
    {
     "data": {
      "text/plain": [
       "Brasil       1\n",
       "USA          2\n",
       "Argentina    3\n",
       "Chile        4\n",
       "dtype: int64"
      ]
     },
     "execution_count": 434,
     "metadata": {},
     "output_type": "execute_result"
    }
   ],
   "source": [
    "series5"
   ]
  },
  {
   "cell_type": "code",
   "execution_count": 435,
   "metadata": {},
   "outputs": [],
   "source": [
    "lista = [5,6,7,8]\n",
    "label = ['Portugal','Itália','França','Alemanha']"
   ]
  },
  {
   "cell_type": "code",
   "execution_count": 436,
   "metadata": {},
   "outputs": [],
   "source": [
    "series6 = pd.Series(data=lista, index=label)"
   ]
  },
  {
   "cell_type": "code",
   "execution_count": 437,
   "metadata": {},
   "outputs": [
    {
     "data": {
      "text/plain": [
       "Portugal    5\n",
       "Itália      6\n",
       "França      7\n",
       "Alemanha    8\n",
       "dtype: int64"
      ]
     },
     "execution_count": 437,
     "metadata": {},
     "output_type": "execute_result"
    }
   ],
   "source": [
    "series6"
   ]
  },
  {
   "cell_type": "code",
   "execution_count": 438,
   "metadata": {},
   "outputs": [],
   "source": [
    "series7 = pd.Series(data=[2,4,6,8], index=['Uruguai','Mexico','Irlanda','Austrália'])"
   ]
  },
  {
   "cell_type": "code",
   "execution_count": 439,
   "metadata": {},
   "outputs": [
    {
     "data": {
      "text/plain": [
       "Uruguai      2\n",
       "Mexico       4\n",
       "Irlanda      6\n",
       "Austrália    8\n",
       "dtype: int64"
      ]
     },
     "execution_count": 439,
     "metadata": {},
     "output_type": "execute_result"
    }
   ],
   "source": [
    "series7"
   ]
  },
  {
   "cell_type": "code",
   "execution_count": 441,
   "metadata": {},
   "outputs": [
    {
     "data": {
      "text/plain": [
       "Alemanha    NaN\n",
       "Austrália   NaN\n",
       "França      NaN\n",
       "Irlanda     NaN\n",
       "Itália      NaN\n",
       "Mexico      NaN\n",
       "Portugal    NaN\n",
       "Uruguai     NaN\n",
       "dtype: float64"
      ]
     },
     "execution_count": 441,
     "metadata": {},
     "output_type": "execute_result"
    }
   ],
   "source": [
    "series7 + series6"
   ]
  },
  {
   "cell_type": "code",
   "execution_count": 442,
   "metadata": {},
   "outputs": [],
   "source": [
    "# A operação acima não conseguiu retornar nada porque não havia itens em comum"
   ]
  },
  {
   "cell_type": "code",
   "execution_count": 443,
   "metadata": {},
   "outputs": [],
   "source": [
    "# Construindo uma série que contenha algo em comum:"
   ]
  },
  {
   "cell_type": "code",
   "execution_count": 445,
   "metadata": {},
   "outputs": [],
   "source": [
    "series8 = pd.Series([12,13,14,15],index=('Alemanha','Irlanda','México','Itália'))"
   ]
  },
  {
   "cell_type": "code",
   "execution_count": 446,
   "metadata": {},
   "outputs": [
    {
     "data": {
      "text/plain": [
       "Alemanha    12\n",
       "Irlanda     13\n",
       "México      14\n",
       "Itália      15\n",
       "dtype: int64"
      ]
     },
     "execution_count": 446,
     "metadata": {},
     "output_type": "execute_result"
    }
   ],
   "source": [
    "series8"
   ]
  },
  {
   "cell_type": "code",
   "execution_count": 448,
   "metadata": {},
   "outputs": [
    {
     "data": {
      "text/plain": [
       "Alemanha    20.0\n",
       "França       NaN\n",
       "Irlanda      NaN\n",
       "Itália      21.0\n",
       "México       NaN\n",
       "Portugal     NaN\n",
       "dtype: float64"
      ]
     },
     "execution_count": 448,
     "metadata": {},
     "output_type": "execute_result"
    }
   ],
   "source": [
    "series6+series8  # Itália e Alemanha estão em series6 e series8, portanto foi somado o valor assiciado a esses países"
   ]
  },
  {
   "cell_type": "markdown",
   "metadata": {},
   "source": [
    "# AULA 15\n",
    "### Pandas Dataframes"
   ]
  },
  {
   "cell_type": "markdown",
   "metadata": {},
   "source": [
    "![](images/pd2.jpg)\n",
    "\n",
    "\n",
    "-------------------------------------------------------------------------------------------------------------------------------\n"
   ]
  },
  {
   "cell_type": "code",
   "execution_count": 450,
   "metadata": {},
   "outputs": [],
   "source": [
    "import pandas as pd\n",
    "import numpy as np"
   ]
  },
  {
   "cell_type": "code",
   "execution_count": 451,
   "metadata": {},
   "outputs": [],
   "source": [
    "# Criação de Dataframes a partir de um array"
   ]
  },
  {
   "cell_type": "code",
   "execution_count": 452,
   "metadata": {},
   "outputs": [],
   "source": [
    "arr = np.random.randint(10,55,size=(4,4))"
   ]
  },
  {
   "cell_type": "code",
   "execution_count": 453,
   "metadata": {},
   "outputs": [
    {
     "data": {
      "text/plain": [
       "array([[13, 13, 15, 41],\n",
       "       [53, 11, 22, 27],\n",
       "       [19, 43, 29, 36],\n",
       "       [19, 47, 39, 50]])"
      ]
     },
     "execution_count": 453,
     "metadata": {},
     "output_type": "execute_result"
    }
   ],
   "source": [
    "arr"
   ]
  },
  {
   "cell_type": "code",
   "execution_count": 454,
   "metadata": {},
   "outputs": [],
   "source": [
    "df1 = pd.DataFrame(data = arr, index = ['A','B','C','D'], columns = ['W','X','Y','Z'])"
   ]
  },
  {
   "cell_type": "code",
   "execution_count": 455,
   "metadata": {},
   "outputs": [
    {
     "data": {
      "text/html": [
       "<div>\n",
       "<style scoped>\n",
       "    .dataframe tbody tr th:only-of-type {\n",
       "        vertical-align: middle;\n",
       "    }\n",
       "\n",
       "    .dataframe tbody tr th {\n",
       "        vertical-align: top;\n",
       "    }\n",
       "\n",
       "    .dataframe thead th {\n",
       "        text-align: right;\n",
       "    }\n",
       "</style>\n",
       "<table border=\"1\" class=\"dataframe\">\n",
       "  <thead>\n",
       "    <tr style=\"text-align: right;\">\n",
       "      <th></th>\n",
       "      <th>W</th>\n",
       "      <th>X</th>\n",
       "      <th>Y</th>\n",
       "      <th>Z</th>\n",
       "    </tr>\n",
       "  </thead>\n",
       "  <tbody>\n",
       "    <tr>\n",
       "      <th>A</th>\n",
       "      <td>13</td>\n",
       "      <td>13</td>\n",
       "      <td>15</td>\n",
       "      <td>41</td>\n",
       "    </tr>\n",
       "    <tr>\n",
       "      <th>B</th>\n",
       "      <td>53</td>\n",
       "      <td>11</td>\n",
       "      <td>22</td>\n",
       "      <td>27</td>\n",
       "    </tr>\n",
       "    <tr>\n",
       "      <th>C</th>\n",
       "      <td>19</td>\n",
       "      <td>43</td>\n",
       "      <td>29</td>\n",
       "      <td>36</td>\n",
       "    </tr>\n",
       "    <tr>\n",
       "      <th>D</th>\n",
       "      <td>19</td>\n",
       "      <td>47</td>\n",
       "      <td>39</td>\n",
       "      <td>50</td>\n",
       "    </tr>\n",
       "  </tbody>\n",
       "</table>\n",
       "</div>"
      ],
      "text/plain": [
       "    W   X   Y   Z\n",
       "A  13  13  15  41\n",
       "B  53  11  22  27\n",
       "C  19  43  29  36\n",
       "D  19  47  39  50"
      ]
     },
     "execution_count": 455,
     "metadata": {},
     "output_type": "execute_result"
    }
   ],
   "source": [
    "df1"
   ]
  },
  {
   "cell_type": "code",
   "execution_count": 458,
   "metadata": {},
   "outputs": [],
   "source": [
    "# Criação de Dataframes a partir de listas (É preciso listas dentro de listas, porque uma lista só retorna uma simples série)"
   ]
  },
  {
   "cell_type": "code",
   "execution_count": 459,
   "metadata": {},
   "outputs": [],
   "source": [
    "lista = [10,20,30,40,50]"
   ]
  },
  {
   "cell_type": "code",
   "execution_count": 460,
   "metadata": {},
   "outputs": [],
   "source": [
    "df2 = pd.DataFrame(data=lista)"
   ]
  },
  {
   "cell_type": "code",
   "execution_count": 462,
   "metadata": {},
   "outputs": [
    {
     "data": {
      "text/html": [
       "<div>\n",
       "<style scoped>\n",
       "    .dataframe tbody tr th:only-of-type {\n",
       "        vertical-align: middle;\n",
       "    }\n",
       "\n",
       "    .dataframe tbody tr th {\n",
       "        vertical-align: top;\n",
       "    }\n",
       "\n",
       "    .dataframe thead th {\n",
       "        text-align: right;\n",
       "    }\n",
       "</style>\n",
       "<table border=\"1\" class=\"dataframe\">\n",
       "  <thead>\n",
       "    <tr style=\"text-align: right;\">\n",
       "      <th></th>\n",
       "      <th>0</th>\n",
       "    </tr>\n",
       "  </thead>\n",
       "  <tbody>\n",
       "    <tr>\n",
       "      <th>0</th>\n",
       "      <td>10</td>\n",
       "    </tr>\n",
       "    <tr>\n",
       "      <th>1</th>\n",
       "      <td>20</td>\n",
       "    </tr>\n",
       "    <tr>\n",
       "      <th>2</th>\n",
       "      <td>30</td>\n",
       "    </tr>\n",
       "    <tr>\n",
       "      <th>3</th>\n",
       "      <td>40</td>\n",
       "    </tr>\n",
       "    <tr>\n",
       "      <th>4</th>\n",
       "      <td>50</td>\n",
       "    </tr>\n",
       "  </tbody>\n",
       "</table>\n",
       "</div>"
      ],
      "text/plain": [
       "    0\n",
       "0  10\n",
       "1  20\n",
       "2  30\n",
       "3  40\n",
       "4  50"
      ]
     },
     "execution_count": 462,
     "metadata": {},
     "output_type": "execute_result"
    }
   ],
   "source": [
    "df2   # É uma série"
   ]
  },
  {
   "cell_type": "code",
   "execution_count": 467,
   "metadata": {},
   "outputs": [],
   "source": [
    "lista2 = [ [10,20,30,40,50],[60,70,80,90,100],[110,120,130,140,150] ]"
   ]
  },
  {
   "cell_type": "code",
   "execution_count": 470,
   "metadata": {},
   "outputs": [],
   "source": [
    "df_2= pd.DataFrame(data=lista2, index=['A','B','C'], columns=['V','W','X','Y','Z'])"
   ]
  },
  {
   "cell_type": "code",
   "execution_count": 471,
   "metadata": {},
   "outputs": [
    {
     "data": {
      "text/html": [
       "<div>\n",
       "<style scoped>\n",
       "    .dataframe tbody tr th:only-of-type {\n",
       "        vertical-align: middle;\n",
       "    }\n",
       "\n",
       "    .dataframe tbody tr th {\n",
       "        vertical-align: top;\n",
       "    }\n",
       "\n",
       "    .dataframe thead th {\n",
       "        text-align: right;\n",
       "    }\n",
       "</style>\n",
       "<table border=\"1\" class=\"dataframe\">\n",
       "  <thead>\n",
       "    <tr style=\"text-align: right;\">\n",
       "      <th></th>\n",
       "      <th>V</th>\n",
       "      <th>W</th>\n",
       "      <th>X</th>\n",
       "      <th>Y</th>\n",
       "      <th>Z</th>\n",
       "    </tr>\n",
       "  </thead>\n",
       "  <tbody>\n",
       "    <tr>\n",
       "      <th>A</th>\n",
       "      <td>10</td>\n",
       "      <td>20</td>\n",
       "      <td>30</td>\n",
       "      <td>40</td>\n",
       "      <td>50</td>\n",
       "    </tr>\n",
       "    <tr>\n",
       "      <th>B</th>\n",
       "      <td>60</td>\n",
       "      <td>70</td>\n",
       "      <td>80</td>\n",
       "      <td>90</td>\n",
       "      <td>100</td>\n",
       "    </tr>\n",
       "    <tr>\n",
       "      <th>C</th>\n",
       "      <td>110</td>\n",
       "      <td>120</td>\n",
       "      <td>130</td>\n",
       "      <td>140</td>\n",
       "      <td>150</td>\n",
       "    </tr>\n",
       "  </tbody>\n",
       "</table>\n",
       "</div>"
      ],
      "text/plain": [
       "     V    W    X    Y    Z\n",
       "A   10   20   30   40   50\n",
       "B   60   70   80   90  100\n",
       "C  110  120  130  140  150"
      ]
     },
     "execution_count": 471,
     "metadata": {},
     "output_type": "execute_result"
    }
   ],
   "source": [
    "df_2"
   ]
  },
  {
   "cell_type": "code",
   "execution_count": 475,
   "metadata": {},
   "outputs": [],
   "source": [
    "# Criação de Dataframes através de um dicionário"
   ]
  },
  {
   "cell_type": "code",
   "execution_count": 476,
   "metadata": {},
   "outputs": [],
   "source": [
    "# Os valores de uma chave pode ser uma LISTA"
   ]
  },
  {
   "cell_type": "code",
   "execution_count": 477,
   "metadata": {},
   "outputs": [],
   "source": [
    "# No exemplo abaixo os valores de 'Preço' precisam corresponder exatamente ao valores de 'Produto'. Videogame/2600, PC/2450, etc"
   ]
  },
  {
   "cell_type": "code",
   "execution_count": 31,
   "metadata": {},
   "outputs": [],
   "source": [
    "dados = {'Produtos':['VideoGame','PC','teclado', 'mouse','microfone'], 'Preço':[2600,2450.90,99.90,75,129.90]}"
   ]
  },
  {
   "cell_type": "code",
   "execution_count": 481,
   "metadata": {},
   "outputs": [
    {
     "data": {
      "text/plain": [
       "{'Produtos': ['VideoGame', 'PC', 'teclado', 'mouse', 'microfone'],\n",
       " 'Preço': [2600, 2450.9, 99.9, 75, 129.9]}"
      ]
     },
     "execution_count": 481,
     "metadata": {},
     "output_type": "execute_result"
    }
   ],
   "source": [
    "dados"
   ]
  },
  {
   "cell_type": "code",
   "execution_count": 482,
   "metadata": {},
   "outputs": [],
   "source": [
    "df3 = pd.DataFrame( data=dados )"
   ]
  },
  {
   "cell_type": "code",
   "execution_count": 483,
   "metadata": {},
   "outputs": [
    {
     "data": {
      "text/html": [
       "<div>\n",
       "<style scoped>\n",
       "    .dataframe tbody tr th:only-of-type {\n",
       "        vertical-align: middle;\n",
       "    }\n",
       "\n",
       "    .dataframe tbody tr th {\n",
       "        vertical-align: top;\n",
       "    }\n",
       "\n",
       "    .dataframe thead th {\n",
       "        text-align: right;\n",
       "    }\n",
       "</style>\n",
       "<table border=\"1\" class=\"dataframe\">\n",
       "  <thead>\n",
       "    <tr style=\"text-align: right;\">\n",
       "      <th></th>\n",
       "      <th>Produtos</th>\n",
       "      <th>Preço</th>\n",
       "    </tr>\n",
       "  </thead>\n",
       "  <tbody>\n",
       "    <tr>\n",
       "      <th>0</th>\n",
       "      <td>VideoGame</td>\n",
       "      <td>2600.0</td>\n",
       "    </tr>\n",
       "    <tr>\n",
       "      <th>1</th>\n",
       "      <td>PC</td>\n",
       "      <td>2450.9</td>\n",
       "    </tr>\n",
       "    <tr>\n",
       "      <th>2</th>\n",
       "      <td>teclado</td>\n",
       "      <td>99.9</td>\n",
       "    </tr>\n",
       "    <tr>\n",
       "      <th>3</th>\n",
       "      <td>mouse</td>\n",
       "      <td>75.0</td>\n",
       "    </tr>\n",
       "    <tr>\n",
       "      <th>4</th>\n",
       "      <td>microfone</td>\n",
       "      <td>129.9</td>\n",
       "    </tr>\n",
       "  </tbody>\n",
       "</table>\n",
       "</div>"
      ],
      "text/plain": [
       "    Produtos   Preço\n",
       "0  VideoGame  2600.0\n",
       "1         PC  2450.9\n",
       "2    teclado    99.9\n",
       "3      mouse    75.0\n",
       "4  microfone   129.9"
      ]
     },
     "execution_count": 483,
     "metadata": {},
     "output_type": "execute_result"
    }
   ],
   "source": [
    "df3"
   ]
  },
  {
   "cell_type": "code",
   "execution_count": 484,
   "metadata": {},
   "outputs": [],
   "source": [
    "# Adicionando colunas:"
   ]
  },
  {
   "cell_type": "code",
   "execution_count": 485,
   "metadata": {},
   "outputs": [],
   "source": [
    "df3['Custo'] = [1900,2000,40,56.50,95.4]"
   ]
  },
  {
   "cell_type": "code",
   "execution_count": 486,
   "metadata": {},
   "outputs": [
    {
     "data": {
      "text/html": [
       "<div>\n",
       "<style scoped>\n",
       "    .dataframe tbody tr th:only-of-type {\n",
       "        vertical-align: middle;\n",
       "    }\n",
       "\n",
       "    .dataframe tbody tr th {\n",
       "        vertical-align: top;\n",
       "    }\n",
       "\n",
       "    .dataframe thead th {\n",
       "        text-align: right;\n",
       "    }\n",
       "</style>\n",
       "<table border=\"1\" class=\"dataframe\">\n",
       "  <thead>\n",
       "    <tr style=\"text-align: right;\">\n",
       "      <th></th>\n",
       "      <th>Produtos</th>\n",
       "      <th>Preço</th>\n",
       "      <th>Custo</th>\n",
       "    </tr>\n",
       "  </thead>\n",
       "  <tbody>\n",
       "    <tr>\n",
       "      <th>0</th>\n",
       "      <td>VideoGame</td>\n",
       "      <td>2600.0</td>\n",
       "      <td>1900.0</td>\n",
       "    </tr>\n",
       "    <tr>\n",
       "      <th>1</th>\n",
       "      <td>PC</td>\n",
       "      <td>2450.9</td>\n",
       "      <td>2000.0</td>\n",
       "    </tr>\n",
       "    <tr>\n",
       "      <th>2</th>\n",
       "      <td>teclado</td>\n",
       "      <td>99.9</td>\n",
       "      <td>40.0</td>\n",
       "    </tr>\n",
       "    <tr>\n",
       "      <th>3</th>\n",
       "      <td>mouse</td>\n",
       "      <td>75.0</td>\n",
       "      <td>56.5</td>\n",
       "    </tr>\n",
       "    <tr>\n",
       "      <th>4</th>\n",
       "      <td>microfone</td>\n",
       "      <td>129.9</td>\n",
       "      <td>95.4</td>\n",
       "    </tr>\n",
       "  </tbody>\n",
       "</table>\n",
       "</div>"
      ],
      "text/plain": [
       "    Produtos   Preço   Custo\n",
       "0  VideoGame  2600.0  1900.0\n",
       "1         PC  2450.9  2000.0\n",
       "2    teclado    99.9    40.0\n",
       "3      mouse    75.0    56.5\n",
       "4  microfone   129.9    95.4"
      ]
     },
     "execution_count": 486,
     "metadata": {},
     "output_type": "execute_result"
    }
   ],
   "source": [
    "df3"
   ]
  },
  {
   "cell_type": "code",
   "execution_count": 489,
   "metadata": {},
   "outputs": [],
   "source": [
    "df3['Lucro'] = df3['Preço'] - df3['Custo'] "
   ]
  },
  {
   "cell_type": "code",
   "execution_count": 490,
   "metadata": {},
   "outputs": [
    {
     "data": {
      "text/html": [
       "<div>\n",
       "<style scoped>\n",
       "    .dataframe tbody tr th:only-of-type {\n",
       "        vertical-align: middle;\n",
       "    }\n",
       "\n",
       "    .dataframe tbody tr th {\n",
       "        vertical-align: top;\n",
       "    }\n",
       "\n",
       "    .dataframe thead th {\n",
       "        text-align: right;\n",
       "    }\n",
       "</style>\n",
       "<table border=\"1\" class=\"dataframe\">\n",
       "  <thead>\n",
       "    <tr style=\"text-align: right;\">\n",
       "      <th></th>\n",
       "      <th>Produtos</th>\n",
       "      <th>Preço</th>\n",
       "      <th>Custo</th>\n",
       "      <th>Lucro</th>\n",
       "    </tr>\n",
       "  </thead>\n",
       "  <tbody>\n",
       "    <tr>\n",
       "      <th>0</th>\n",
       "      <td>VideoGame</td>\n",
       "      <td>2600.0</td>\n",
       "      <td>1900.0</td>\n",
       "      <td>700.0</td>\n",
       "    </tr>\n",
       "    <tr>\n",
       "      <th>1</th>\n",
       "      <td>PC</td>\n",
       "      <td>2450.9</td>\n",
       "      <td>2000.0</td>\n",
       "      <td>450.9</td>\n",
       "    </tr>\n",
       "    <tr>\n",
       "      <th>2</th>\n",
       "      <td>teclado</td>\n",
       "      <td>99.9</td>\n",
       "      <td>40.0</td>\n",
       "      <td>59.9</td>\n",
       "    </tr>\n",
       "    <tr>\n",
       "      <th>3</th>\n",
       "      <td>mouse</td>\n",
       "      <td>75.0</td>\n",
       "      <td>56.5</td>\n",
       "      <td>18.5</td>\n",
       "    </tr>\n",
       "    <tr>\n",
       "      <th>4</th>\n",
       "      <td>microfone</td>\n",
       "      <td>129.9</td>\n",
       "      <td>95.4</td>\n",
       "      <td>34.5</td>\n",
       "    </tr>\n",
       "  </tbody>\n",
       "</table>\n",
       "</div>"
      ],
      "text/plain": [
       "    Produtos   Preço   Custo  Lucro\n",
       "0  VideoGame  2600.0  1900.0  700.0\n",
       "1         PC  2450.9  2000.0  450.9\n",
       "2    teclado    99.9    40.0   59.9\n",
       "3      mouse    75.0    56.5   18.5\n",
       "4  microfone   129.9    95.4   34.5"
      ]
     },
     "execution_count": 490,
     "metadata": {},
     "output_type": "execute_result"
    }
   ],
   "source": [
    "df3"
   ]
  },
  {
   "cell_type": "markdown",
   "metadata": {},
   "source": [
    "# AULA 16 \n",
    "### Indexação e Seleção de Dataframes"
   ]
  },
  {
   "cell_type": "code",
   "execution_count": 1,
   "metadata": {},
   "outputs": [],
   "source": [
    "import pandas as pd\n",
    "import numpy as np\n",
    "\n",
    "np.random.seed(100)  # Esse comando é só para que os números randômicos fiquem igual ao do exemplo da aula"
   ]
  },
  {
   "cell_type": "code",
   "execution_count": 527,
   "metadata": {},
   "outputs": [],
   "source": [
    "indices = ['Janeiro', 'Março', 'Maio','Julho','Agosto','Outubro','Dezembro']  # Meses com 31 dias"
   ]
  },
  {
   "cell_type": "code",
   "execution_count": 528,
   "metadata": {},
   "outputs": [],
   "source": [
    "colunas = np.arange(1,32)  # Criação de um array (31 dias)"
   ]
  },
  {
   "cell_type": "code",
   "execution_count": 529,
   "metadata": {},
   "outputs": [
    {
     "data": {
      "text/plain": [
       "array([ 1,  2,  3,  4,  5,  6,  7,  8,  9, 10, 11, 12, 13, 14, 15, 16, 17,\n",
       "       18, 19, 20, 21, 22, 23, 24, 25, 26, 27, 28, 29, 30, 31])"
      ]
     },
     "execution_count": 529,
     "metadata": {},
     "output_type": "execute_result"
    }
   ],
   "source": [
    "colunas"
   ]
  },
  {
   "cell_type": "code",
   "execution_count": 530,
   "metadata": {},
   "outputs": [],
   "source": [
    "dados = np.random.randint(492,2050, size=(7,31))  # size precisa ser condizente com o número de linhas e colunas"
   ]
  },
  {
   "cell_type": "code",
   "execution_count": 531,
   "metadata": {},
   "outputs": [
    {
     "data": {
      "text/plain": [
       "array([[2036, 1284,  571,  842,  545, 2042, 1294, 1501, 1244,  772, 1744,\n",
       "        1832, 1404, 2023, 1609,  578,  878,  907, 1389, 1657, 1249, 1104,\n",
       "        1520, 1095, 1327,  627,  541, 1947,  809, 1274, 1459],\n",
       "       [1255, 1852,  494, 1381, 1109,  970, 1919,  555, 1697,  775, 1754,\n",
       "        1885, 1436, 1819, 1298,  664,  766,  684, 1444, 1422,  929,  765,\n",
       "        2041, 1110, 1546,  509, 1569,  560,  980, 1863,  967],\n",
       "       [1185, 1338, 1516,  505, 1701, 1976,  854,  623, 1074, 1728,  886,\n",
       "        1731, 2018,  987, 1135, 1365, 1692, 1696,  528, 1331,  530, 1730,\n",
       "        1610, 1230, 1686, 1344,  587, 1592,  806,  594, 1430],\n",
       "       [ 898, 1772, 1254,  718, 1407,  688,  938, 1310, 1968,  911,  899,\n",
       "        1257, 2037, 1436, 2012,  901, 1954,  754, 1638, 1702, 1811,  778,\n",
       "        1381, 1070,  735, 1412,  931,  765, 1305, 2001,  581],\n",
       "       [ 921, 1295, 1532, 2040, 1982, 1113, 1583,  712, 1739, 1280,  630,\n",
       "        1268,  965, 1204, 1930, 1505, 1865, 1379, 1048, 1761, 1573,  875,\n",
       "        1260, 1186, 1480, 1905, 1951,  838,  526,  943, 1354],\n",
       "       [1186, 1593,  704,  877, 1530, 1805,  640,  660, 1993,  934, 1288,\n",
       "        1214, 1994, 1006, 1067, 1373, 1646, 1731,  637, 1753, 1766,  969,\n",
       "        1228,  566, 1953, 1583, 1160, 1598, 1490, 1917, 1145],\n",
       "       [1085, 1377, 1285, 1710, 1147,  856,  614,  503, 1105, 1496,  530,\n",
       "        1315,  805,  579, 1183, 1246,  998, 1185, 1197, 1814,  664,  636,\n",
       "        1698,  675,  575,  994, 1872, 1252, 1250, 1505,  605]])"
      ]
     },
     "execution_count": 531,
     "metadata": {},
     "output_type": "execute_result"
    }
   ],
   "source": [
    "dados"
   ]
  },
  {
   "cell_type": "code",
   "execution_count": 564,
   "metadata": {},
   "outputs": [],
   "source": [
    "df = pd.DataFrame(data=dados, index=indices, columns=colunas)"
   ]
  },
  {
   "cell_type": "code",
   "execution_count": 565,
   "metadata": {},
   "outputs": [
    {
     "data": {
      "text/html": [
       "<div>\n",
       "<style scoped>\n",
       "    .dataframe tbody tr th:only-of-type {\n",
       "        vertical-align: middle;\n",
       "    }\n",
       "\n",
       "    .dataframe tbody tr th {\n",
       "        vertical-align: top;\n",
       "    }\n",
       "\n",
       "    .dataframe thead th {\n",
       "        text-align: right;\n",
       "    }\n",
       "</style>\n",
       "<table border=\"1\" class=\"dataframe\">\n",
       "  <thead>\n",
       "    <tr style=\"text-align: right;\">\n",
       "      <th></th>\n",
       "      <th>1</th>\n",
       "      <th>2</th>\n",
       "      <th>3</th>\n",
       "      <th>4</th>\n",
       "      <th>5</th>\n",
       "      <th>6</th>\n",
       "      <th>7</th>\n",
       "      <th>8</th>\n",
       "      <th>9</th>\n",
       "      <th>10</th>\n",
       "      <th>...</th>\n",
       "      <th>22</th>\n",
       "      <th>23</th>\n",
       "      <th>24</th>\n",
       "      <th>25</th>\n",
       "      <th>26</th>\n",
       "      <th>27</th>\n",
       "      <th>28</th>\n",
       "      <th>29</th>\n",
       "      <th>30</th>\n",
       "      <th>31</th>\n",
       "    </tr>\n",
       "  </thead>\n",
       "  <tbody>\n",
       "    <tr>\n",
       "      <th>Janeiro</th>\n",
       "      <td>2036</td>\n",
       "      <td>1284</td>\n",
       "      <td>571</td>\n",
       "      <td>842</td>\n",
       "      <td>545</td>\n",
       "      <td>2042</td>\n",
       "      <td>1294</td>\n",
       "      <td>1501</td>\n",
       "      <td>1244</td>\n",
       "      <td>772</td>\n",
       "      <td>...</td>\n",
       "      <td>1104</td>\n",
       "      <td>1520</td>\n",
       "      <td>1095</td>\n",
       "      <td>1327</td>\n",
       "      <td>627</td>\n",
       "      <td>541</td>\n",
       "      <td>1947</td>\n",
       "      <td>809</td>\n",
       "      <td>1274</td>\n",
       "      <td>1459</td>\n",
       "    </tr>\n",
       "    <tr>\n",
       "      <th>Março</th>\n",
       "      <td>1255</td>\n",
       "      <td>1852</td>\n",
       "      <td>494</td>\n",
       "      <td>1381</td>\n",
       "      <td>1109</td>\n",
       "      <td>970</td>\n",
       "      <td>1919</td>\n",
       "      <td>555</td>\n",
       "      <td>1697</td>\n",
       "      <td>775</td>\n",
       "      <td>...</td>\n",
       "      <td>765</td>\n",
       "      <td>2041</td>\n",
       "      <td>1110</td>\n",
       "      <td>1546</td>\n",
       "      <td>509</td>\n",
       "      <td>1569</td>\n",
       "      <td>560</td>\n",
       "      <td>980</td>\n",
       "      <td>1863</td>\n",
       "      <td>967</td>\n",
       "    </tr>\n",
       "    <tr>\n",
       "      <th>Maio</th>\n",
       "      <td>1185</td>\n",
       "      <td>1338</td>\n",
       "      <td>1516</td>\n",
       "      <td>505</td>\n",
       "      <td>1701</td>\n",
       "      <td>1976</td>\n",
       "      <td>854</td>\n",
       "      <td>623</td>\n",
       "      <td>1074</td>\n",
       "      <td>1728</td>\n",
       "      <td>...</td>\n",
       "      <td>1730</td>\n",
       "      <td>1610</td>\n",
       "      <td>1230</td>\n",
       "      <td>1686</td>\n",
       "      <td>1344</td>\n",
       "      <td>587</td>\n",
       "      <td>1592</td>\n",
       "      <td>806</td>\n",
       "      <td>594</td>\n",
       "      <td>1430</td>\n",
       "    </tr>\n",
       "    <tr>\n",
       "      <th>Julho</th>\n",
       "      <td>898</td>\n",
       "      <td>1772</td>\n",
       "      <td>1254</td>\n",
       "      <td>718</td>\n",
       "      <td>1407</td>\n",
       "      <td>688</td>\n",
       "      <td>938</td>\n",
       "      <td>1310</td>\n",
       "      <td>1968</td>\n",
       "      <td>911</td>\n",
       "      <td>...</td>\n",
       "      <td>778</td>\n",
       "      <td>1381</td>\n",
       "      <td>1070</td>\n",
       "      <td>735</td>\n",
       "      <td>1412</td>\n",
       "      <td>931</td>\n",
       "      <td>765</td>\n",
       "      <td>1305</td>\n",
       "      <td>2001</td>\n",
       "      <td>581</td>\n",
       "    </tr>\n",
       "    <tr>\n",
       "      <th>Agosto</th>\n",
       "      <td>921</td>\n",
       "      <td>1295</td>\n",
       "      <td>1532</td>\n",
       "      <td>2040</td>\n",
       "      <td>1982</td>\n",
       "      <td>1113</td>\n",
       "      <td>1583</td>\n",
       "      <td>712</td>\n",
       "      <td>1739</td>\n",
       "      <td>1280</td>\n",
       "      <td>...</td>\n",
       "      <td>875</td>\n",
       "      <td>1260</td>\n",
       "      <td>1186</td>\n",
       "      <td>1480</td>\n",
       "      <td>1905</td>\n",
       "      <td>1951</td>\n",
       "      <td>838</td>\n",
       "      <td>526</td>\n",
       "      <td>943</td>\n",
       "      <td>1354</td>\n",
       "    </tr>\n",
       "    <tr>\n",
       "      <th>Outubro</th>\n",
       "      <td>1186</td>\n",
       "      <td>1593</td>\n",
       "      <td>704</td>\n",
       "      <td>877</td>\n",
       "      <td>1530</td>\n",
       "      <td>1805</td>\n",
       "      <td>640</td>\n",
       "      <td>660</td>\n",
       "      <td>1993</td>\n",
       "      <td>934</td>\n",
       "      <td>...</td>\n",
       "      <td>969</td>\n",
       "      <td>1228</td>\n",
       "      <td>566</td>\n",
       "      <td>1953</td>\n",
       "      <td>1583</td>\n",
       "      <td>1160</td>\n",
       "      <td>1598</td>\n",
       "      <td>1490</td>\n",
       "      <td>1917</td>\n",
       "      <td>1145</td>\n",
       "    </tr>\n",
       "    <tr>\n",
       "      <th>Dezembro</th>\n",
       "      <td>1085</td>\n",
       "      <td>1377</td>\n",
       "      <td>1285</td>\n",
       "      <td>1710</td>\n",
       "      <td>1147</td>\n",
       "      <td>856</td>\n",
       "      <td>614</td>\n",
       "      <td>503</td>\n",
       "      <td>1105</td>\n",
       "      <td>1496</td>\n",
       "      <td>...</td>\n",
       "      <td>636</td>\n",
       "      <td>1698</td>\n",
       "      <td>675</td>\n",
       "      <td>575</td>\n",
       "      <td>994</td>\n",
       "      <td>1872</td>\n",
       "      <td>1252</td>\n",
       "      <td>1250</td>\n",
       "      <td>1505</td>\n",
       "      <td>605</td>\n",
       "    </tr>\n",
       "  </tbody>\n",
       "</table>\n",
       "<p>7 rows × 31 columns</p>\n",
       "</div>"
      ],
      "text/plain": [
       "            1     2     3     4     5     6     7     8     9     10  ...  \\\n",
       "Janeiro   2036  1284   571   842   545  2042  1294  1501  1244   772  ...   \n",
       "Março     1255  1852   494  1381  1109   970  1919   555  1697   775  ...   \n",
       "Maio      1185  1338  1516   505  1701  1976   854   623  1074  1728  ...   \n",
       "Julho      898  1772  1254   718  1407   688   938  1310  1968   911  ...   \n",
       "Agosto     921  1295  1532  2040  1982  1113  1583   712  1739  1280  ...   \n",
       "Outubro   1186  1593   704   877  1530  1805   640   660  1993   934  ...   \n",
       "Dezembro  1085  1377  1285  1710  1147   856   614   503  1105  1496  ...   \n",
       "\n",
       "            22    23    24    25    26    27    28    29    30    31  \n",
       "Janeiro   1104  1520  1095  1327   627   541  1947   809  1274  1459  \n",
       "Março      765  2041  1110  1546   509  1569   560   980  1863   967  \n",
       "Maio      1730  1610  1230  1686  1344   587  1592   806   594  1430  \n",
       "Julho      778  1381  1070   735  1412   931   765  1305  2001   581  \n",
       "Agosto     875  1260  1186  1480  1905  1951   838   526   943  1354  \n",
       "Outubro    969  1228   566  1953  1583  1160  1598  1490  1917  1145  \n",
       "Dezembro   636  1698   675   575   994  1872  1252  1250  1505   605  \n",
       "\n",
       "[7 rows x 31 columns]"
      ]
     },
     "execution_count": 565,
     "metadata": {},
     "output_type": "execute_result"
    }
   ],
   "source": [
    "df"
   ]
  },
  {
   "cell_type": "markdown",
   "metadata": {},
   "source": [
    "   ## IMPORTANTE\n",
    "   \n",
    "   \n",
    "   \n",
    "   \n",
    "   - df[coluna]   -  Ao colocar algum índice dentro do colchete ira retornar a COLUNA relativa àquele índice\n",
    "    \n",
    " ------------------------------------------------------------------------------------------------------------------------------\n",
    " \n",
    "   - df[ [coluna1,coluna2,coluna3,...] ] -Colocando uma lista dentro do colchete,retorna várias COLUNAS relativas aos índices\n",
    "    \n",
    " ------------------------------------------------------------------------------------------------------------------------------\n",
    "   \n",
    "   - df[coluna][linha] - Seleção de coluna e linha por índices\n",
    "    \n",
    " ------------------------------------------------------------------------------------------------------------------------------\n",
    "     \n",
    "   - df[linha : linha] - Notação de seleção de ranges\n",
    "     \n",
    " ------------------------------------------------------------------------------------------------------------------------------\n",
    "     \n",
    "   -  df.loc[ indice linha , indice coluna ]  - Essa notação permite utilizar NOMES caso estes existam como índices, exemplo:                                                  df.loc['Julho', 30]\n",
    "     \n",
    " ------------------------------------------------------------------------------------------------------------------------------\n",
    "     \n",
    "   - df.iloc[índice numérico linha, índice numérico coluna  ] - Este só aceita índices numéricos, usando o mesmo exemplo                                                                       anterior teríamos: df.iloc[3, 30]\n",
    "     \n",
    " ------------------------------------------------------------------------------------------------------------------------------\n",
    "     \n",
    "     Podemos também passar listas dentro de listas tanto no .loc quanto no .iloc: \n",
    "     df.loc[ [indice1,indice2,indice3,etc],[coluna1,coluna2,coluna3,etc] ]     \n",
    "     \n",
    "------------------------------------------------------------------------------------------------------------------------------        "
   ]
  },
  {
   "cell_type": "code",
   "execution_count": 534,
   "metadata": {},
   "outputs": [],
   "source": [
    "# Quanto vendeu no dia 10 de todos os meses ?"
   ]
  },
  {
   "cell_type": "code",
   "execution_count": 537,
   "metadata": {},
   "outputs": [
    {
     "data": {
      "text/plain": [
       "Janeiro      772\n",
       "Março        775\n",
       "Maio        1728\n",
       "Julho        911\n",
       "Agosto      1280\n",
       "Outubro      934\n",
       "Dezembro    1496\n",
       "Name: 10, dtype: int32"
      ]
     },
     "execution_count": 537,
     "metadata": {},
     "output_type": "execute_result"
    }
   ],
   "source": [
    "df[10]"
   ]
  },
  {
   "cell_type": "code",
   "execution_count": 538,
   "metadata": {},
   "outputs": [],
   "source": [
    "# Quanto vendeu no dia 10, 20 e 30 de todos os meses ?"
   ]
  },
  {
   "cell_type": "code",
   "execution_count": 539,
   "metadata": {},
   "outputs": [
    {
     "data": {
      "text/html": [
       "<div>\n",
       "<style scoped>\n",
       "    .dataframe tbody tr th:only-of-type {\n",
       "        vertical-align: middle;\n",
       "    }\n",
       "\n",
       "    .dataframe tbody tr th {\n",
       "        vertical-align: top;\n",
       "    }\n",
       "\n",
       "    .dataframe thead th {\n",
       "        text-align: right;\n",
       "    }\n",
       "</style>\n",
       "<table border=\"1\" class=\"dataframe\">\n",
       "  <thead>\n",
       "    <tr style=\"text-align: right;\">\n",
       "      <th></th>\n",
       "      <th>10</th>\n",
       "      <th>20</th>\n",
       "      <th>30</th>\n",
       "    </tr>\n",
       "  </thead>\n",
       "  <tbody>\n",
       "    <tr>\n",
       "      <th>Janeiro</th>\n",
       "      <td>772</td>\n",
       "      <td>1657</td>\n",
       "      <td>1274</td>\n",
       "    </tr>\n",
       "    <tr>\n",
       "      <th>Março</th>\n",
       "      <td>775</td>\n",
       "      <td>1422</td>\n",
       "      <td>1863</td>\n",
       "    </tr>\n",
       "    <tr>\n",
       "      <th>Maio</th>\n",
       "      <td>1728</td>\n",
       "      <td>1331</td>\n",
       "      <td>594</td>\n",
       "    </tr>\n",
       "    <tr>\n",
       "      <th>Julho</th>\n",
       "      <td>911</td>\n",
       "      <td>1702</td>\n",
       "      <td>2001</td>\n",
       "    </tr>\n",
       "    <tr>\n",
       "      <th>Agosto</th>\n",
       "      <td>1280</td>\n",
       "      <td>1761</td>\n",
       "      <td>943</td>\n",
       "    </tr>\n",
       "    <tr>\n",
       "      <th>Outubro</th>\n",
       "      <td>934</td>\n",
       "      <td>1753</td>\n",
       "      <td>1917</td>\n",
       "    </tr>\n",
       "    <tr>\n",
       "      <th>Dezembro</th>\n",
       "      <td>1496</td>\n",
       "      <td>1814</td>\n",
       "      <td>1505</td>\n",
       "    </tr>\n",
       "  </tbody>\n",
       "</table>\n",
       "</div>"
      ],
      "text/plain": [
       "            10    20    30\n",
       "Janeiro    772  1657  1274\n",
       "Março      775  1422  1863\n",
       "Maio      1728  1331   594\n",
       "Julho      911  1702  2001\n",
       "Agosto    1280  1761   943\n",
       "Outubro    934  1753  1917\n",
       "Dezembro  1496  1814  1505"
      ]
     },
     "execution_count": 539,
     "metadata": {},
     "output_type": "execute_result"
    }
   ],
   "source": [
    "df[[10,20,30]]"
   ]
  },
  {
   "cell_type": "code",
   "execution_count": 583,
   "metadata": {},
   "outputs": [],
   "source": [
    "# Quanto vendeu no dia 15 de Março ?"
   ]
  },
  {
   "cell_type": "code",
   "execution_count": 584,
   "metadata": {},
   "outputs": [
    {
     "data": {
      "text/plain": [
       "1298"
      ]
     },
     "execution_count": 584,
     "metadata": {},
     "output_type": "execute_result"
    }
   ],
   "source": [
    "df[15][1]  # ou df[15]['Março']"
   ]
  },
  {
   "cell_type": "code",
   "execution_count": 585,
   "metadata": {},
   "outputs": [],
   "source": [
    "# Quanto vendeu nos meses Janeiro, Março e Maio ?"
   ]
  },
  {
   "cell_type": "code",
   "execution_count": 544,
   "metadata": {},
   "outputs": [
    {
     "data": {
      "text/html": [
       "<div>\n",
       "<style scoped>\n",
       "    .dataframe tbody tr th:only-of-type {\n",
       "        vertical-align: middle;\n",
       "    }\n",
       "\n",
       "    .dataframe tbody tr th {\n",
       "        vertical-align: top;\n",
       "    }\n",
       "\n",
       "    .dataframe thead th {\n",
       "        text-align: right;\n",
       "    }\n",
       "</style>\n",
       "<table border=\"1\" class=\"dataframe\">\n",
       "  <thead>\n",
       "    <tr style=\"text-align: right;\">\n",
       "      <th></th>\n",
       "      <th>1</th>\n",
       "      <th>2</th>\n",
       "      <th>3</th>\n",
       "      <th>4</th>\n",
       "      <th>5</th>\n",
       "      <th>6</th>\n",
       "      <th>7</th>\n",
       "      <th>8</th>\n",
       "      <th>9</th>\n",
       "      <th>10</th>\n",
       "      <th>...</th>\n",
       "      <th>22</th>\n",
       "      <th>23</th>\n",
       "      <th>24</th>\n",
       "      <th>25</th>\n",
       "      <th>26</th>\n",
       "      <th>27</th>\n",
       "      <th>28</th>\n",
       "      <th>29</th>\n",
       "      <th>30</th>\n",
       "      <th>31</th>\n",
       "    </tr>\n",
       "  </thead>\n",
       "  <tbody>\n",
       "    <tr>\n",
       "      <th>Janeiro</th>\n",
       "      <td>2036</td>\n",
       "      <td>1284</td>\n",
       "      <td>571</td>\n",
       "      <td>842</td>\n",
       "      <td>545</td>\n",
       "      <td>2042</td>\n",
       "      <td>1294</td>\n",
       "      <td>1501</td>\n",
       "      <td>1244</td>\n",
       "      <td>772</td>\n",
       "      <td>...</td>\n",
       "      <td>1104</td>\n",
       "      <td>1520</td>\n",
       "      <td>1095</td>\n",
       "      <td>1327</td>\n",
       "      <td>627</td>\n",
       "      <td>541</td>\n",
       "      <td>1947</td>\n",
       "      <td>809</td>\n",
       "      <td>1274</td>\n",
       "      <td>1459</td>\n",
       "    </tr>\n",
       "    <tr>\n",
       "      <th>Março</th>\n",
       "      <td>1255</td>\n",
       "      <td>1852</td>\n",
       "      <td>494</td>\n",
       "      <td>1381</td>\n",
       "      <td>1109</td>\n",
       "      <td>970</td>\n",
       "      <td>1919</td>\n",
       "      <td>555</td>\n",
       "      <td>1697</td>\n",
       "      <td>775</td>\n",
       "      <td>...</td>\n",
       "      <td>765</td>\n",
       "      <td>2041</td>\n",
       "      <td>1110</td>\n",
       "      <td>1546</td>\n",
       "      <td>509</td>\n",
       "      <td>1569</td>\n",
       "      <td>560</td>\n",
       "      <td>980</td>\n",
       "      <td>1863</td>\n",
       "      <td>967</td>\n",
       "    </tr>\n",
       "    <tr>\n",
       "      <th>Maio</th>\n",
       "      <td>1185</td>\n",
       "      <td>1338</td>\n",
       "      <td>1516</td>\n",
       "      <td>505</td>\n",
       "      <td>1701</td>\n",
       "      <td>1976</td>\n",
       "      <td>854</td>\n",
       "      <td>623</td>\n",
       "      <td>1074</td>\n",
       "      <td>1728</td>\n",
       "      <td>...</td>\n",
       "      <td>1730</td>\n",
       "      <td>1610</td>\n",
       "      <td>1230</td>\n",
       "      <td>1686</td>\n",
       "      <td>1344</td>\n",
       "      <td>587</td>\n",
       "      <td>1592</td>\n",
       "      <td>806</td>\n",
       "      <td>594</td>\n",
       "      <td>1430</td>\n",
       "    </tr>\n",
       "  </tbody>\n",
       "</table>\n",
       "<p>3 rows × 31 columns</p>\n",
       "</div>"
      ],
      "text/plain": [
       "           1     2     3     4     5     6     7     8     9     10  ...  \\\n",
       "Janeiro  2036  1284   571   842   545  2042  1294  1501  1244   772  ...   \n",
       "Março    1255  1852   494  1381  1109   970  1919   555  1697   775  ...   \n",
       "Maio     1185  1338  1516   505  1701  1976   854   623  1074  1728  ...   \n",
       "\n",
       "           22    23    24    25    26    27    28   29    30    31  \n",
       "Janeiro  1104  1520  1095  1327   627   541  1947  809  1274  1459  \n",
       "Março     765  2041  1110  1546   509  1569   560  980  1863   967  \n",
       "Maio     1730  1610  1230  1686  1344   587  1592  806   594  1430  \n",
       "\n",
       "[3 rows x 31 columns]"
      ]
     },
     "execution_count": 544,
     "metadata": {},
     "output_type": "execute_result"
    }
   ],
   "source": [
    "df[0:3]"
   ]
  },
  {
   "cell_type": "code",
   "execution_count": 586,
   "metadata": {},
   "outputs": [],
   "source": [
    "# Quanto vendeu nos meses de Julho, Agosto e Outubro nos dias 25 a 31"
   ]
  },
  {
   "cell_type": "code",
   "execution_count": 587,
   "metadata": {},
   "outputs": [
    {
     "data": {
      "text/html": [
       "<div>\n",
       "<style scoped>\n",
       "    .dataframe tbody tr th:only-of-type {\n",
       "        vertical-align: middle;\n",
       "    }\n",
       "\n",
       "    .dataframe tbody tr th {\n",
       "        vertical-align: top;\n",
       "    }\n",
       "\n",
       "    .dataframe thead th {\n",
       "        text-align: right;\n",
       "    }\n",
       "</style>\n",
       "<table border=\"1\" class=\"dataframe\">\n",
       "  <thead>\n",
       "    <tr style=\"text-align: right;\">\n",
       "      <th></th>\n",
       "      <th>25</th>\n",
       "      <th>26</th>\n",
       "      <th>27</th>\n",
       "      <th>28</th>\n",
       "      <th>29</th>\n",
       "      <th>30</th>\n",
       "      <th>31</th>\n",
       "    </tr>\n",
       "  </thead>\n",
       "  <tbody>\n",
       "    <tr>\n",
       "      <th>Julho</th>\n",
       "      <td>735</td>\n",
       "      <td>1412</td>\n",
       "      <td>931</td>\n",
       "      <td>765</td>\n",
       "      <td>1305</td>\n",
       "      <td>2001</td>\n",
       "      <td>581</td>\n",
       "    </tr>\n",
       "    <tr>\n",
       "      <th>Agosto</th>\n",
       "      <td>1480</td>\n",
       "      <td>1905</td>\n",
       "      <td>1951</td>\n",
       "      <td>838</td>\n",
       "      <td>526</td>\n",
       "      <td>943</td>\n",
       "      <td>1354</td>\n",
       "    </tr>\n",
       "    <tr>\n",
       "      <th>Outubro</th>\n",
       "      <td>1953</td>\n",
       "      <td>1583</td>\n",
       "      <td>1160</td>\n",
       "      <td>1598</td>\n",
       "      <td>1490</td>\n",
       "      <td>1917</td>\n",
       "      <td>1145</td>\n",
       "    </tr>\n",
       "  </tbody>\n",
       "</table>\n",
       "</div>"
      ],
      "text/plain": [
       "           25    26    27    28    29    30    31\n",
       "Julho     735  1412   931   765  1305  2001   581\n",
       "Agosto   1480  1905  1951   838   526   943  1354\n",
       "Outubro  1953  1583  1160  1598  1490  1917  1145"
      ]
     },
     "execution_count": 587,
     "metadata": {},
     "output_type": "execute_result"
    }
   ],
   "source": [
    "df.loc[ ['Julho','Agosto','Outubro'],[25,26,27,28,29,30,31] ]"
   ]
  },
  {
   "cell_type": "code",
   "execution_count": 547,
   "metadata": {},
   "outputs": [],
   "source": [
    "# Fazendo o mesmo com o .iloc"
   ]
  },
  {
   "cell_type": "code",
   "execution_count": 548,
   "metadata": {},
   "outputs": [
    {
     "data": {
      "text/html": [
       "<div>\n",
       "<style scoped>\n",
       "    .dataframe tbody tr th:only-of-type {\n",
       "        vertical-align: middle;\n",
       "    }\n",
       "\n",
       "    .dataframe tbody tr th {\n",
       "        vertical-align: top;\n",
       "    }\n",
       "\n",
       "    .dataframe thead th {\n",
       "        text-align: right;\n",
       "    }\n",
       "</style>\n",
       "<table border=\"1\" class=\"dataframe\">\n",
       "  <thead>\n",
       "    <tr style=\"text-align: right;\">\n",
       "      <th></th>\n",
       "      <th>25</th>\n",
       "      <th>26</th>\n",
       "      <th>27</th>\n",
       "      <th>28</th>\n",
       "      <th>29</th>\n",
       "      <th>30</th>\n",
       "      <th>31</th>\n",
       "    </tr>\n",
       "  </thead>\n",
       "  <tbody>\n",
       "    <tr>\n",
       "      <th>Julho</th>\n",
       "      <td>735</td>\n",
       "      <td>1412</td>\n",
       "      <td>931</td>\n",
       "      <td>765</td>\n",
       "      <td>1305</td>\n",
       "      <td>2001</td>\n",
       "      <td>581</td>\n",
       "    </tr>\n",
       "    <tr>\n",
       "      <th>Agosto</th>\n",
       "      <td>1480</td>\n",
       "      <td>1905</td>\n",
       "      <td>1951</td>\n",
       "      <td>838</td>\n",
       "      <td>526</td>\n",
       "      <td>943</td>\n",
       "      <td>1354</td>\n",
       "    </tr>\n",
       "    <tr>\n",
       "      <th>Outubro</th>\n",
       "      <td>1953</td>\n",
       "      <td>1583</td>\n",
       "      <td>1160</td>\n",
       "      <td>1598</td>\n",
       "      <td>1490</td>\n",
       "      <td>1917</td>\n",
       "      <td>1145</td>\n",
       "    </tr>\n",
       "  </tbody>\n",
       "</table>\n",
       "</div>"
      ],
      "text/plain": [
       "           25    26    27    28    29    30    31\n",
       "Julho     735  1412   931   765  1305  2001   581\n",
       "Agosto   1480  1905  1951   838   526   943  1354\n",
       "Outubro  1953  1583  1160  1598  1490  1917  1145"
      ]
     },
     "execution_count": 548,
     "metadata": {},
     "output_type": "execute_result"
    }
   ],
   "source": [
    "df.iloc[ [3,4,5],[24,25,26,27,28,29,30] ]"
   ]
  },
  {
   "cell_type": "markdown",
   "metadata": {},
   "source": [
    "## Seleção condicional de Dataframes"
   ]
  },
  {
   "cell_type": "code",
   "execution_count": 549,
   "metadata": {},
   "outputs": [
    {
     "data": {
      "text/html": [
       "<div>\n",
       "<style scoped>\n",
       "    .dataframe tbody tr th:only-of-type {\n",
       "        vertical-align: middle;\n",
       "    }\n",
       "\n",
       "    .dataframe tbody tr th {\n",
       "        vertical-align: top;\n",
       "    }\n",
       "\n",
       "    .dataframe thead th {\n",
       "        text-align: right;\n",
       "    }\n",
       "</style>\n",
       "<table border=\"1\" class=\"dataframe\">\n",
       "  <thead>\n",
       "    <tr style=\"text-align: right;\">\n",
       "      <th></th>\n",
       "      <th>1</th>\n",
       "      <th>2</th>\n",
       "      <th>3</th>\n",
       "      <th>4</th>\n",
       "      <th>5</th>\n",
       "      <th>6</th>\n",
       "      <th>7</th>\n",
       "      <th>8</th>\n",
       "      <th>9</th>\n",
       "      <th>10</th>\n",
       "      <th>...</th>\n",
       "      <th>22</th>\n",
       "      <th>23</th>\n",
       "      <th>24</th>\n",
       "      <th>25</th>\n",
       "      <th>26</th>\n",
       "      <th>27</th>\n",
       "      <th>28</th>\n",
       "      <th>29</th>\n",
       "      <th>30</th>\n",
       "      <th>31</th>\n",
       "    </tr>\n",
       "  </thead>\n",
       "  <tbody>\n",
       "    <tr>\n",
       "      <th>Janeiro</th>\n",
       "      <td>2036</td>\n",
       "      <td>1284</td>\n",
       "      <td>571</td>\n",
       "      <td>842</td>\n",
       "      <td>545</td>\n",
       "      <td>2042</td>\n",
       "      <td>1294</td>\n",
       "      <td>1501</td>\n",
       "      <td>1244</td>\n",
       "      <td>772</td>\n",
       "      <td>...</td>\n",
       "      <td>1104</td>\n",
       "      <td>1520</td>\n",
       "      <td>1095</td>\n",
       "      <td>1327</td>\n",
       "      <td>627</td>\n",
       "      <td>541</td>\n",
       "      <td>1947</td>\n",
       "      <td>809</td>\n",
       "      <td>1274</td>\n",
       "      <td>1459</td>\n",
       "    </tr>\n",
       "    <tr>\n",
       "      <th>Março</th>\n",
       "      <td>1255</td>\n",
       "      <td>1852</td>\n",
       "      <td>494</td>\n",
       "      <td>1381</td>\n",
       "      <td>1109</td>\n",
       "      <td>970</td>\n",
       "      <td>1919</td>\n",
       "      <td>555</td>\n",
       "      <td>1697</td>\n",
       "      <td>775</td>\n",
       "      <td>...</td>\n",
       "      <td>765</td>\n",
       "      <td>2041</td>\n",
       "      <td>1110</td>\n",
       "      <td>1546</td>\n",
       "      <td>509</td>\n",
       "      <td>1569</td>\n",
       "      <td>560</td>\n",
       "      <td>980</td>\n",
       "      <td>1863</td>\n",
       "      <td>967</td>\n",
       "    </tr>\n",
       "    <tr>\n",
       "      <th>Maio</th>\n",
       "      <td>1185</td>\n",
       "      <td>1338</td>\n",
       "      <td>1516</td>\n",
       "      <td>505</td>\n",
       "      <td>1701</td>\n",
       "      <td>1976</td>\n",
       "      <td>854</td>\n",
       "      <td>623</td>\n",
       "      <td>1074</td>\n",
       "      <td>1728</td>\n",
       "      <td>...</td>\n",
       "      <td>1730</td>\n",
       "      <td>1610</td>\n",
       "      <td>1230</td>\n",
       "      <td>1686</td>\n",
       "      <td>1344</td>\n",
       "      <td>587</td>\n",
       "      <td>1592</td>\n",
       "      <td>806</td>\n",
       "      <td>594</td>\n",
       "      <td>1430</td>\n",
       "    </tr>\n",
       "    <tr>\n",
       "      <th>Julho</th>\n",
       "      <td>898</td>\n",
       "      <td>1772</td>\n",
       "      <td>1254</td>\n",
       "      <td>718</td>\n",
       "      <td>1407</td>\n",
       "      <td>688</td>\n",
       "      <td>938</td>\n",
       "      <td>1310</td>\n",
       "      <td>1968</td>\n",
       "      <td>911</td>\n",
       "      <td>...</td>\n",
       "      <td>778</td>\n",
       "      <td>1381</td>\n",
       "      <td>1070</td>\n",
       "      <td>735</td>\n",
       "      <td>1412</td>\n",
       "      <td>931</td>\n",
       "      <td>765</td>\n",
       "      <td>1305</td>\n",
       "      <td>2001</td>\n",
       "      <td>581</td>\n",
       "    </tr>\n",
       "    <tr>\n",
       "      <th>Agosto</th>\n",
       "      <td>921</td>\n",
       "      <td>1295</td>\n",
       "      <td>1532</td>\n",
       "      <td>2040</td>\n",
       "      <td>1982</td>\n",
       "      <td>1113</td>\n",
       "      <td>1583</td>\n",
       "      <td>712</td>\n",
       "      <td>1739</td>\n",
       "      <td>1280</td>\n",
       "      <td>...</td>\n",
       "      <td>875</td>\n",
       "      <td>1260</td>\n",
       "      <td>1186</td>\n",
       "      <td>1480</td>\n",
       "      <td>1905</td>\n",
       "      <td>1951</td>\n",
       "      <td>838</td>\n",
       "      <td>526</td>\n",
       "      <td>943</td>\n",
       "      <td>1354</td>\n",
       "    </tr>\n",
       "    <tr>\n",
       "      <th>Outubro</th>\n",
       "      <td>1186</td>\n",
       "      <td>1593</td>\n",
       "      <td>704</td>\n",
       "      <td>877</td>\n",
       "      <td>1530</td>\n",
       "      <td>1805</td>\n",
       "      <td>640</td>\n",
       "      <td>660</td>\n",
       "      <td>1993</td>\n",
       "      <td>934</td>\n",
       "      <td>...</td>\n",
       "      <td>969</td>\n",
       "      <td>1228</td>\n",
       "      <td>566</td>\n",
       "      <td>1953</td>\n",
       "      <td>1583</td>\n",
       "      <td>1160</td>\n",
       "      <td>1598</td>\n",
       "      <td>1490</td>\n",
       "      <td>1917</td>\n",
       "      <td>1145</td>\n",
       "    </tr>\n",
       "    <tr>\n",
       "      <th>Dezembro</th>\n",
       "      <td>1085</td>\n",
       "      <td>1377</td>\n",
       "      <td>1285</td>\n",
       "      <td>1710</td>\n",
       "      <td>1147</td>\n",
       "      <td>856</td>\n",
       "      <td>614</td>\n",
       "      <td>503</td>\n",
       "      <td>1105</td>\n",
       "      <td>1496</td>\n",
       "      <td>...</td>\n",
       "      <td>636</td>\n",
       "      <td>1698</td>\n",
       "      <td>675</td>\n",
       "      <td>575</td>\n",
       "      <td>994</td>\n",
       "      <td>1872</td>\n",
       "      <td>1252</td>\n",
       "      <td>1250</td>\n",
       "      <td>1505</td>\n",
       "      <td>605</td>\n",
       "    </tr>\n",
       "  </tbody>\n",
       "</table>\n",
       "<p>7 rows × 31 columns</p>\n",
       "</div>"
      ],
      "text/plain": [
       "            1     2     3     4     5     6     7     8     9     10  ...  \\\n",
       "Janeiro   2036  1284   571   842   545  2042  1294  1501  1244   772  ...   \n",
       "Março     1255  1852   494  1381  1109   970  1919   555  1697   775  ...   \n",
       "Maio      1185  1338  1516   505  1701  1976   854   623  1074  1728  ...   \n",
       "Julho      898  1772  1254   718  1407   688   938  1310  1968   911  ...   \n",
       "Agosto     921  1295  1532  2040  1982  1113  1583   712  1739  1280  ...   \n",
       "Outubro   1186  1593   704   877  1530  1805   640   660  1993   934  ...   \n",
       "Dezembro  1085  1377  1285  1710  1147   856   614   503  1105  1496  ...   \n",
       "\n",
       "            22    23    24    25    26    27    28    29    30    31  \n",
       "Janeiro   1104  1520  1095  1327   627   541  1947   809  1274  1459  \n",
       "Março      765  2041  1110  1546   509  1569   560   980  1863   967  \n",
       "Maio      1730  1610  1230  1686  1344   587  1592   806   594  1430  \n",
       "Julho      778  1381  1070   735  1412   931   765  1305  2001   581  \n",
       "Agosto     875  1260  1186  1480  1905  1951   838   526   943  1354  \n",
       "Outubro    969  1228   566  1953  1583  1160  1598  1490  1917  1145  \n",
       "Dezembro   636  1698   675   575   994  1872  1252  1250  1505   605  \n",
       "\n",
       "[7 rows x 31 columns]"
      ]
     },
     "execution_count": 549,
     "metadata": {},
     "output_type": "execute_result"
    }
   ],
   "source": [
    "df"
   ]
  },
  {
   "cell_type": "code",
   "execution_count": 550,
   "metadata": {},
   "outputs": [],
   "source": [
    "# Desejo saber todos os dias em que minhas vendas foram maiores que 1000"
   ]
  },
  {
   "cell_type": "code",
   "execution_count": 551,
   "metadata": {},
   "outputs": [
    {
     "data": {
      "text/html": [
       "<div>\n",
       "<style scoped>\n",
       "    .dataframe tbody tr th:only-of-type {\n",
       "        vertical-align: middle;\n",
       "    }\n",
       "\n",
       "    .dataframe tbody tr th {\n",
       "        vertical-align: top;\n",
       "    }\n",
       "\n",
       "    .dataframe thead th {\n",
       "        text-align: right;\n",
       "    }\n",
       "</style>\n",
       "<table border=\"1\" class=\"dataframe\">\n",
       "  <thead>\n",
       "    <tr style=\"text-align: right;\">\n",
       "      <th></th>\n",
       "      <th>1</th>\n",
       "      <th>2</th>\n",
       "      <th>3</th>\n",
       "      <th>4</th>\n",
       "      <th>5</th>\n",
       "      <th>6</th>\n",
       "      <th>7</th>\n",
       "      <th>8</th>\n",
       "      <th>9</th>\n",
       "      <th>10</th>\n",
       "      <th>...</th>\n",
       "      <th>22</th>\n",
       "      <th>23</th>\n",
       "      <th>24</th>\n",
       "      <th>25</th>\n",
       "      <th>26</th>\n",
       "      <th>27</th>\n",
       "      <th>28</th>\n",
       "      <th>29</th>\n",
       "      <th>30</th>\n",
       "      <th>31</th>\n",
       "    </tr>\n",
       "  </thead>\n",
       "  <tbody>\n",
       "    <tr>\n",
       "      <th>Janeiro</th>\n",
       "      <td>2036.0</td>\n",
       "      <td>1284</td>\n",
       "      <td>NaN</td>\n",
       "      <td>NaN</td>\n",
       "      <td>NaN</td>\n",
       "      <td>2042.0</td>\n",
       "      <td>1294.0</td>\n",
       "      <td>1501.0</td>\n",
       "      <td>1244</td>\n",
       "      <td>NaN</td>\n",
       "      <td>...</td>\n",
       "      <td>1104.0</td>\n",
       "      <td>1520</td>\n",
       "      <td>1095.0</td>\n",
       "      <td>1327.0</td>\n",
       "      <td>NaN</td>\n",
       "      <td>NaN</td>\n",
       "      <td>1947.0</td>\n",
       "      <td>NaN</td>\n",
       "      <td>1274.0</td>\n",
       "      <td>1459.0</td>\n",
       "    </tr>\n",
       "    <tr>\n",
       "      <th>Março</th>\n",
       "      <td>1255.0</td>\n",
       "      <td>1852</td>\n",
       "      <td>NaN</td>\n",
       "      <td>1381.0</td>\n",
       "      <td>1109.0</td>\n",
       "      <td>NaN</td>\n",
       "      <td>1919.0</td>\n",
       "      <td>NaN</td>\n",
       "      <td>1697</td>\n",
       "      <td>NaN</td>\n",
       "      <td>...</td>\n",
       "      <td>NaN</td>\n",
       "      <td>2041</td>\n",
       "      <td>1110.0</td>\n",
       "      <td>1546.0</td>\n",
       "      <td>NaN</td>\n",
       "      <td>1569.0</td>\n",
       "      <td>NaN</td>\n",
       "      <td>NaN</td>\n",
       "      <td>1863.0</td>\n",
       "      <td>NaN</td>\n",
       "    </tr>\n",
       "    <tr>\n",
       "      <th>Maio</th>\n",
       "      <td>1185.0</td>\n",
       "      <td>1338</td>\n",
       "      <td>1516.0</td>\n",
       "      <td>NaN</td>\n",
       "      <td>1701.0</td>\n",
       "      <td>1976.0</td>\n",
       "      <td>NaN</td>\n",
       "      <td>NaN</td>\n",
       "      <td>1074</td>\n",
       "      <td>1728.0</td>\n",
       "      <td>...</td>\n",
       "      <td>1730.0</td>\n",
       "      <td>1610</td>\n",
       "      <td>1230.0</td>\n",
       "      <td>1686.0</td>\n",
       "      <td>1344.0</td>\n",
       "      <td>NaN</td>\n",
       "      <td>1592.0</td>\n",
       "      <td>NaN</td>\n",
       "      <td>NaN</td>\n",
       "      <td>1430.0</td>\n",
       "    </tr>\n",
       "    <tr>\n",
       "      <th>Julho</th>\n",
       "      <td>NaN</td>\n",
       "      <td>1772</td>\n",
       "      <td>1254.0</td>\n",
       "      <td>NaN</td>\n",
       "      <td>1407.0</td>\n",
       "      <td>NaN</td>\n",
       "      <td>NaN</td>\n",
       "      <td>1310.0</td>\n",
       "      <td>1968</td>\n",
       "      <td>NaN</td>\n",
       "      <td>...</td>\n",
       "      <td>NaN</td>\n",
       "      <td>1381</td>\n",
       "      <td>1070.0</td>\n",
       "      <td>NaN</td>\n",
       "      <td>1412.0</td>\n",
       "      <td>NaN</td>\n",
       "      <td>NaN</td>\n",
       "      <td>1305.0</td>\n",
       "      <td>2001.0</td>\n",
       "      <td>NaN</td>\n",
       "    </tr>\n",
       "    <tr>\n",
       "      <th>Agosto</th>\n",
       "      <td>NaN</td>\n",
       "      <td>1295</td>\n",
       "      <td>1532.0</td>\n",
       "      <td>2040.0</td>\n",
       "      <td>1982.0</td>\n",
       "      <td>1113.0</td>\n",
       "      <td>1583.0</td>\n",
       "      <td>NaN</td>\n",
       "      <td>1739</td>\n",
       "      <td>1280.0</td>\n",
       "      <td>...</td>\n",
       "      <td>NaN</td>\n",
       "      <td>1260</td>\n",
       "      <td>1186.0</td>\n",
       "      <td>1480.0</td>\n",
       "      <td>1905.0</td>\n",
       "      <td>1951.0</td>\n",
       "      <td>NaN</td>\n",
       "      <td>NaN</td>\n",
       "      <td>NaN</td>\n",
       "      <td>1354.0</td>\n",
       "    </tr>\n",
       "    <tr>\n",
       "      <th>Outubro</th>\n",
       "      <td>1186.0</td>\n",
       "      <td>1593</td>\n",
       "      <td>NaN</td>\n",
       "      <td>NaN</td>\n",
       "      <td>1530.0</td>\n",
       "      <td>1805.0</td>\n",
       "      <td>NaN</td>\n",
       "      <td>NaN</td>\n",
       "      <td>1993</td>\n",
       "      <td>NaN</td>\n",
       "      <td>...</td>\n",
       "      <td>NaN</td>\n",
       "      <td>1228</td>\n",
       "      <td>NaN</td>\n",
       "      <td>1953.0</td>\n",
       "      <td>1583.0</td>\n",
       "      <td>1160.0</td>\n",
       "      <td>1598.0</td>\n",
       "      <td>1490.0</td>\n",
       "      <td>1917.0</td>\n",
       "      <td>1145.0</td>\n",
       "    </tr>\n",
       "    <tr>\n",
       "      <th>Dezembro</th>\n",
       "      <td>1085.0</td>\n",
       "      <td>1377</td>\n",
       "      <td>1285.0</td>\n",
       "      <td>1710.0</td>\n",
       "      <td>1147.0</td>\n",
       "      <td>NaN</td>\n",
       "      <td>NaN</td>\n",
       "      <td>NaN</td>\n",
       "      <td>1105</td>\n",
       "      <td>1496.0</td>\n",
       "      <td>...</td>\n",
       "      <td>NaN</td>\n",
       "      <td>1698</td>\n",
       "      <td>NaN</td>\n",
       "      <td>NaN</td>\n",
       "      <td>NaN</td>\n",
       "      <td>1872.0</td>\n",
       "      <td>1252.0</td>\n",
       "      <td>1250.0</td>\n",
       "      <td>1505.0</td>\n",
       "      <td>NaN</td>\n",
       "    </tr>\n",
       "  </tbody>\n",
       "</table>\n",
       "<p>7 rows × 31 columns</p>\n",
       "</div>"
      ],
      "text/plain": [
       "              1     2       3       4       5       6       7       8     9   \\\n",
       "Janeiro   2036.0  1284     NaN     NaN     NaN  2042.0  1294.0  1501.0  1244   \n",
       "Março     1255.0  1852     NaN  1381.0  1109.0     NaN  1919.0     NaN  1697   \n",
       "Maio      1185.0  1338  1516.0     NaN  1701.0  1976.0     NaN     NaN  1074   \n",
       "Julho        NaN  1772  1254.0     NaN  1407.0     NaN     NaN  1310.0  1968   \n",
       "Agosto       NaN  1295  1532.0  2040.0  1982.0  1113.0  1583.0     NaN  1739   \n",
       "Outubro   1186.0  1593     NaN     NaN  1530.0  1805.0     NaN     NaN  1993   \n",
       "Dezembro  1085.0  1377  1285.0  1710.0  1147.0     NaN     NaN     NaN  1105   \n",
       "\n",
       "              10  ...      22    23      24      25      26      27      28  \\\n",
       "Janeiro      NaN  ...  1104.0  1520  1095.0  1327.0     NaN     NaN  1947.0   \n",
       "Março        NaN  ...     NaN  2041  1110.0  1546.0     NaN  1569.0     NaN   \n",
       "Maio      1728.0  ...  1730.0  1610  1230.0  1686.0  1344.0     NaN  1592.0   \n",
       "Julho        NaN  ...     NaN  1381  1070.0     NaN  1412.0     NaN     NaN   \n",
       "Agosto    1280.0  ...     NaN  1260  1186.0  1480.0  1905.0  1951.0     NaN   \n",
       "Outubro      NaN  ...     NaN  1228     NaN  1953.0  1583.0  1160.0  1598.0   \n",
       "Dezembro  1496.0  ...     NaN  1698     NaN     NaN     NaN  1872.0  1252.0   \n",
       "\n",
       "              29      30      31  \n",
       "Janeiro      NaN  1274.0  1459.0  \n",
       "Março        NaN  1863.0     NaN  \n",
       "Maio         NaN     NaN  1430.0  \n",
       "Julho     1305.0  2001.0     NaN  \n",
       "Agosto       NaN     NaN  1354.0  \n",
       "Outubro   1490.0  1917.0  1145.0  \n",
       "Dezembro  1250.0  1505.0     NaN  \n",
       "\n",
       "[7 rows x 31 columns]"
      ]
     },
     "execution_count": 551,
     "metadata": {},
     "output_type": "execute_result"
    }
   ],
   "source": [
    "df[df>1000]"
   ]
  },
  {
   "cell_type": "code",
   "execution_count": 552,
   "metadata": {},
   "outputs": [],
   "source": [
    "# fica ruim a visualização com os NaN sendo exibidos. Podemos alterar isso colocando qualquer outra informação:"
   ]
  },
  {
   "cell_type": "code",
   "execution_count": 558,
   "metadata": {},
   "outputs": [
    {
     "data": {
      "text/html": [
       "<div>\n",
       "<style scoped>\n",
       "    .dataframe tbody tr th:only-of-type {\n",
       "        vertical-align: middle;\n",
       "    }\n",
       "\n",
       "    .dataframe tbody tr th {\n",
       "        vertical-align: top;\n",
       "    }\n",
       "\n",
       "    .dataframe thead th {\n",
       "        text-align: right;\n",
       "    }\n",
       "</style>\n",
       "<table border=\"1\" class=\"dataframe\">\n",
       "  <thead>\n",
       "    <tr style=\"text-align: right;\">\n",
       "      <th></th>\n",
       "      <th>1</th>\n",
       "      <th>2</th>\n",
       "      <th>3</th>\n",
       "      <th>4</th>\n",
       "      <th>5</th>\n",
       "      <th>6</th>\n",
       "      <th>7</th>\n",
       "      <th>8</th>\n",
       "      <th>9</th>\n",
       "      <th>10</th>\n",
       "      <th>...</th>\n",
       "      <th>22</th>\n",
       "      <th>23</th>\n",
       "      <th>24</th>\n",
       "      <th>25</th>\n",
       "      <th>26</th>\n",
       "      <th>27</th>\n",
       "      <th>28</th>\n",
       "      <th>29</th>\n",
       "      <th>30</th>\n",
       "      <th>31</th>\n",
       "    </tr>\n",
       "  </thead>\n",
       "  <tbody>\n",
       "    <tr>\n",
       "      <th>Janeiro</th>\n",
       "      <td>2036</td>\n",
       "      <td>1284</td>\n",
       "      <td>-</td>\n",
       "      <td>-</td>\n",
       "      <td>-</td>\n",
       "      <td>2042</td>\n",
       "      <td>1294</td>\n",
       "      <td>1501</td>\n",
       "      <td>1244</td>\n",
       "      <td>-</td>\n",
       "      <td>...</td>\n",
       "      <td>1104</td>\n",
       "      <td>1520</td>\n",
       "      <td>1095</td>\n",
       "      <td>1327</td>\n",
       "      <td>-</td>\n",
       "      <td>-</td>\n",
       "      <td>1947</td>\n",
       "      <td>-</td>\n",
       "      <td>1274</td>\n",
       "      <td>1459</td>\n",
       "    </tr>\n",
       "    <tr>\n",
       "      <th>Março</th>\n",
       "      <td>1255</td>\n",
       "      <td>1852</td>\n",
       "      <td>-</td>\n",
       "      <td>1381</td>\n",
       "      <td>1109</td>\n",
       "      <td>-</td>\n",
       "      <td>1919</td>\n",
       "      <td>-</td>\n",
       "      <td>1697</td>\n",
       "      <td>-</td>\n",
       "      <td>...</td>\n",
       "      <td>-</td>\n",
       "      <td>2041</td>\n",
       "      <td>1110</td>\n",
       "      <td>1546</td>\n",
       "      <td>-</td>\n",
       "      <td>1569</td>\n",
       "      <td>-</td>\n",
       "      <td>-</td>\n",
       "      <td>1863</td>\n",
       "      <td>-</td>\n",
       "    </tr>\n",
       "    <tr>\n",
       "      <th>Maio</th>\n",
       "      <td>1185</td>\n",
       "      <td>1338</td>\n",
       "      <td>1516</td>\n",
       "      <td>-</td>\n",
       "      <td>1701</td>\n",
       "      <td>1976</td>\n",
       "      <td>-</td>\n",
       "      <td>-</td>\n",
       "      <td>1074</td>\n",
       "      <td>1728</td>\n",
       "      <td>...</td>\n",
       "      <td>1730</td>\n",
       "      <td>1610</td>\n",
       "      <td>1230</td>\n",
       "      <td>1686</td>\n",
       "      <td>1344</td>\n",
       "      <td>-</td>\n",
       "      <td>1592</td>\n",
       "      <td>-</td>\n",
       "      <td>-</td>\n",
       "      <td>1430</td>\n",
       "    </tr>\n",
       "    <tr>\n",
       "      <th>Julho</th>\n",
       "      <td>-</td>\n",
       "      <td>1772</td>\n",
       "      <td>1254</td>\n",
       "      <td>-</td>\n",
       "      <td>1407</td>\n",
       "      <td>-</td>\n",
       "      <td>-</td>\n",
       "      <td>1310</td>\n",
       "      <td>1968</td>\n",
       "      <td>-</td>\n",
       "      <td>...</td>\n",
       "      <td>-</td>\n",
       "      <td>1381</td>\n",
       "      <td>1070</td>\n",
       "      <td>-</td>\n",
       "      <td>1412</td>\n",
       "      <td>-</td>\n",
       "      <td>-</td>\n",
       "      <td>1305</td>\n",
       "      <td>2001</td>\n",
       "      <td>-</td>\n",
       "    </tr>\n",
       "    <tr>\n",
       "      <th>Agosto</th>\n",
       "      <td>-</td>\n",
       "      <td>1295</td>\n",
       "      <td>1532</td>\n",
       "      <td>2040</td>\n",
       "      <td>1982</td>\n",
       "      <td>1113</td>\n",
       "      <td>1583</td>\n",
       "      <td>-</td>\n",
       "      <td>1739</td>\n",
       "      <td>1280</td>\n",
       "      <td>...</td>\n",
       "      <td>-</td>\n",
       "      <td>1260</td>\n",
       "      <td>1186</td>\n",
       "      <td>1480</td>\n",
       "      <td>1905</td>\n",
       "      <td>1951</td>\n",
       "      <td>-</td>\n",
       "      <td>-</td>\n",
       "      <td>-</td>\n",
       "      <td>1354</td>\n",
       "    </tr>\n",
       "    <tr>\n",
       "      <th>Outubro</th>\n",
       "      <td>1186</td>\n",
       "      <td>1593</td>\n",
       "      <td>-</td>\n",
       "      <td>-</td>\n",
       "      <td>1530</td>\n",
       "      <td>1805</td>\n",
       "      <td>-</td>\n",
       "      <td>-</td>\n",
       "      <td>1993</td>\n",
       "      <td>-</td>\n",
       "      <td>...</td>\n",
       "      <td>-</td>\n",
       "      <td>1228</td>\n",
       "      <td>-</td>\n",
       "      <td>1953</td>\n",
       "      <td>1583</td>\n",
       "      <td>1160</td>\n",
       "      <td>1598</td>\n",
       "      <td>1490</td>\n",
       "      <td>1917</td>\n",
       "      <td>1145</td>\n",
       "    </tr>\n",
       "    <tr>\n",
       "      <th>Dezembro</th>\n",
       "      <td>1085</td>\n",
       "      <td>1377</td>\n",
       "      <td>1285</td>\n",
       "      <td>1710</td>\n",
       "      <td>1147</td>\n",
       "      <td>-</td>\n",
       "      <td>-</td>\n",
       "      <td>-</td>\n",
       "      <td>1105</td>\n",
       "      <td>1496</td>\n",
       "      <td>...</td>\n",
       "      <td>-</td>\n",
       "      <td>1698</td>\n",
       "      <td>-</td>\n",
       "      <td>-</td>\n",
       "      <td>-</td>\n",
       "      <td>1872</td>\n",
       "      <td>1252</td>\n",
       "      <td>1250</td>\n",
       "      <td>1505</td>\n",
       "      <td>-</td>\n",
       "    </tr>\n",
       "  </tbody>\n",
       "</table>\n",
       "<p>7 rows × 31 columns</p>\n",
       "</div>"
      ],
      "text/plain": [
       "            1     2     3     4     5     6     7     8     9     10  ...  \\\n",
       "Janeiro   2036  1284     -     -     -  2042  1294  1501  1244     -  ...   \n",
       "Março     1255  1852     -  1381  1109     -  1919     -  1697     -  ...   \n",
       "Maio      1185  1338  1516     -  1701  1976     -     -  1074  1728  ...   \n",
       "Julho        -  1772  1254     -  1407     -     -  1310  1968     -  ...   \n",
       "Agosto       -  1295  1532  2040  1982  1113  1583     -  1739  1280  ...   \n",
       "Outubro   1186  1593     -     -  1530  1805     -     -  1993     -  ...   \n",
       "Dezembro  1085  1377  1285  1710  1147     -     -     -  1105  1496  ...   \n",
       "\n",
       "            22    23    24    25    26    27    28    29    30    31  \n",
       "Janeiro   1104  1520  1095  1327     -     -  1947     -  1274  1459  \n",
       "Março        -  2041  1110  1546     -  1569     -     -  1863     -  \n",
       "Maio      1730  1610  1230  1686  1344     -  1592     -     -  1430  \n",
       "Julho        -  1381  1070     -  1412     -     -  1305  2001     -  \n",
       "Agosto       -  1260  1186  1480  1905  1951     -     -     -  1354  \n",
       "Outubro      -  1228     -  1953  1583  1160  1598  1490  1917  1145  \n",
       "Dezembro     -  1698     -     -     -  1872  1252  1250  1505     -  \n",
       "\n",
       "[7 rows x 31 columns]"
      ]
     },
     "execution_count": 558,
     "metadata": {},
     "output_type": "execute_result"
    }
   ],
   "source": [
    "df[df>1000].fillna('-')"
   ]
  },
  {
   "cell_type": "code",
   "execution_count": 559,
   "metadata": {},
   "outputs": [],
   "source": [
    "# Desejo saber as vendas maiores que 1000 nos meses de Janeiro, Março e Maio:"
   ]
  },
  {
   "cell_type": "code",
   "execution_count": 561,
   "metadata": {},
   "outputs": [
    {
     "data": {
      "text/html": [
       "<div>\n",
       "<style scoped>\n",
       "    .dataframe tbody tr th:only-of-type {\n",
       "        vertical-align: middle;\n",
       "    }\n",
       "\n",
       "    .dataframe tbody tr th {\n",
       "        vertical-align: top;\n",
       "    }\n",
       "\n",
       "    .dataframe thead th {\n",
       "        text-align: right;\n",
       "    }\n",
       "</style>\n",
       "<table border=\"1\" class=\"dataframe\">\n",
       "  <thead>\n",
       "    <tr style=\"text-align: right;\">\n",
       "      <th></th>\n",
       "      <th>1</th>\n",
       "      <th>2</th>\n",
       "      <th>3</th>\n",
       "      <th>4</th>\n",
       "      <th>5</th>\n",
       "      <th>6</th>\n",
       "      <th>7</th>\n",
       "      <th>8</th>\n",
       "      <th>9</th>\n",
       "      <th>10</th>\n",
       "      <th>...</th>\n",
       "      <th>22</th>\n",
       "      <th>23</th>\n",
       "      <th>24</th>\n",
       "      <th>25</th>\n",
       "      <th>26</th>\n",
       "      <th>27</th>\n",
       "      <th>28</th>\n",
       "      <th>29</th>\n",
       "      <th>30</th>\n",
       "      <th>31</th>\n",
       "    </tr>\n",
       "  </thead>\n",
       "  <tbody>\n",
       "    <tr>\n",
       "      <th>Janeiro</th>\n",
       "      <td>2036.0</td>\n",
       "      <td>1284</td>\n",
       "      <td>-</td>\n",
       "      <td>-</td>\n",
       "      <td>-</td>\n",
       "      <td>2042</td>\n",
       "      <td>1294</td>\n",
       "      <td>1501</td>\n",
       "      <td>1244</td>\n",
       "      <td>-</td>\n",
       "      <td>...</td>\n",
       "      <td>1104</td>\n",
       "      <td>1520</td>\n",
       "      <td>1095.0</td>\n",
       "      <td>1327.0</td>\n",
       "      <td>-</td>\n",
       "      <td>-</td>\n",
       "      <td>1947</td>\n",
       "      <td>-</td>\n",
       "      <td>1274</td>\n",
       "      <td>1459</td>\n",
       "    </tr>\n",
       "    <tr>\n",
       "      <th>Março</th>\n",
       "      <td>1255.0</td>\n",
       "      <td>1852</td>\n",
       "      <td>-</td>\n",
       "      <td>1381</td>\n",
       "      <td>1109</td>\n",
       "      <td>-</td>\n",
       "      <td>1919</td>\n",
       "      <td>-</td>\n",
       "      <td>1697</td>\n",
       "      <td>-</td>\n",
       "      <td>...</td>\n",
       "      <td>-</td>\n",
       "      <td>2041</td>\n",
       "      <td>1110.0</td>\n",
       "      <td>1546.0</td>\n",
       "      <td>-</td>\n",
       "      <td>1569</td>\n",
       "      <td>-</td>\n",
       "      <td>-</td>\n",
       "      <td>1863</td>\n",
       "      <td>-</td>\n",
       "    </tr>\n",
       "    <tr>\n",
       "      <th>Maio</th>\n",
       "      <td>1185.0</td>\n",
       "      <td>1338</td>\n",
       "      <td>1516</td>\n",
       "      <td>-</td>\n",
       "      <td>1701</td>\n",
       "      <td>1976</td>\n",
       "      <td>-</td>\n",
       "      <td>-</td>\n",
       "      <td>1074</td>\n",
       "      <td>1728</td>\n",
       "      <td>...</td>\n",
       "      <td>1730</td>\n",
       "      <td>1610</td>\n",
       "      <td>1230.0</td>\n",
       "      <td>1686.0</td>\n",
       "      <td>1344</td>\n",
       "      <td>-</td>\n",
       "      <td>1592</td>\n",
       "      <td>-</td>\n",
       "      <td>-</td>\n",
       "      <td>1430</td>\n",
       "    </tr>\n",
       "  </tbody>\n",
       "</table>\n",
       "<p>3 rows × 31 columns</p>\n",
       "</div>"
      ],
      "text/plain": [
       "             1     2     3     4     5     6     7     8     9     10  ...  \\\n",
       "Janeiro  2036.0  1284     -     -     -  2042  1294  1501  1244     -  ...   \n",
       "Março    1255.0  1852     -  1381  1109     -  1919     -  1697     -  ...   \n",
       "Maio     1185.0  1338  1516     -  1701  1976     -     -  1074  1728  ...   \n",
       "\n",
       "           22    23      24      25    26    27    28 29    30    31  \n",
       "Janeiro  1104  1520  1095.0  1327.0     -     -  1947  -  1274  1459  \n",
       "Março       -  2041  1110.0  1546.0     -  1569     -  -  1863     -  \n",
       "Maio     1730  1610  1230.0  1686.0  1344     -  1592  -     -  1430  \n",
       "\n",
       "[3 rows x 31 columns]"
      ]
     },
     "execution_count": 561,
     "metadata": {},
     "output_type": "execute_result"
    }
   ],
   "source": [
    "df[df>1000][0:3].fillna('-')"
   ]
  },
  {
   "cell_type": "code",
   "execution_count": 562,
   "metadata": {},
   "outputs": [],
   "source": [
    "# Desejo saber as vendas maiores que 1000 em todos os meses nos dias de 1 a 5:"
   ]
  },
  {
   "cell_type": "code",
   "execution_count": 567,
   "metadata": {},
   "outputs": [
    {
     "data": {
      "text/html": [
       "<div>\n",
       "<style scoped>\n",
       "    .dataframe tbody tr th:only-of-type {\n",
       "        vertical-align: middle;\n",
       "    }\n",
       "\n",
       "    .dataframe tbody tr th {\n",
       "        vertical-align: top;\n",
       "    }\n",
       "\n",
       "    .dataframe thead th {\n",
       "        text-align: right;\n",
       "    }\n",
       "</style>\n",
       "<table border=\"1\" class=\"dataframe\">\n",
       "  <thead>\n",
       "    <tr style=\"text-align: right;\">\n",
       "      <th></th>\n",
       "      <th>1</th>\n",
       "      <th>2</th>\n",
       "      <th>3</th>\n",
       "      <th>4</th>\n",
       "      <th>5</th>\n",
       "    </tr>\n",
       "  </thead>\n",
       "  <tbody>\n",
       "    <tr>\n",
       "      <th>Janeiro</th>\n",
       "      <td>2036</td>\n",
       "      <td>1284</td>\n",
       "      <td>-</td>\n",
       "      <td>-</td>\n",
       "      <td>-</td>\n",
       "    </tr>\n",
       "    <tr>\n",
       "      <th>Março</th>\n",
       "      <td>1255</td>\n",
       "      <td>1852</td>\n",
       "      <td>-</td>\n",
       "      <td>1381</td>\n",
       "      <td>1109</td>\n",
       "    </tr>\n",
       "    <tr>\n",
       "      <th>Maio</th>\n",
       "      <td>1185</td>\n",
       "      <td>1338</td>\n",
       "      <td>1516</td>\n",
       "      <td>-</td>\n",
       "      <td>1701</td>\n",
       "    </tr>\n",
       "    <tr>\n",
       "      <th>Julho</th>\n",
       "      <td>-</td>\n",
       "      <td>1772</td>\n",
       "      <td>1254</td>\n",
       "      <td>-</td>\n",
       "      <td>1407</td>\n",
       "    </tr>\n",
       "    <tr>\n",
       "      <th>Agosto</th>\n",
       "      <td>-</td>\n",
       "      <td>1295</td>\n",
       "      <td>1532</td>\n",
       "      <td>2040</td>\n",
       "      <td>1982</td>\n",
       "    </tr>\n",
       "    <tr>\n",
       "      <th>Outubro</th>\n",
       "      <td>1186</td>\n",
       "      <td>1593</td>\n",
       "      <td>-</td>\n",
       "      <td>-</td>\n",
       "      <td>1530</td>\n",
       "    </tr>\n",
       "    <tr>\n",
       "      <th>Dezembro</th>\n",
       "      <td>1085</td>\n",
       "      <td>1377</td>\n",
       "      <td>1285</td>\n",
       "      <td>1710</td>\n",
       "      <td>1147</td>\n",
       "    </tr>\n",
       "  </tbody>\n",
       "</table>\n",
       "</div>"
      ],
      "text/plain": [
       "             1     2     3     4     5\n",
       "Janeiro   2036  1284     -     -     -\n",
       "Março     1255  1852     -  1381  1109\n",
       "Maio      1185  1338  1516     -  1701\n",
       "Julho        -  1772  1254     -  1407\n",
       "Agosto       -  1295  1532  2040  1982\n",
       "Outubro   1186  1593     -     -  1530\n",
       "Dezembro  1085  1377  1285  1710  1147"
      ]
     },
     "execution_count": 567,
     "metadata": {},
     "output_type": "execute_result"
    }
   ],
   "source": [
    "df[df>1000][:][[1,2,3,4,5]].fillna('-')"
   ]
  },
  {
   "cell_type": "code",
   "execution_count": 594,
   "metadata": {},
   "outputs": [],
   "source": [
    "# Quero saber em qual mês(es) ocorreu de no dia 10 ter venda maior que 1000, E no dia 25 vendas maiores que 1500."
   ]
  },
  {
   "cell_type": "markdown",
   "metadata": {},
   "source": [
    "Quando há mais de uma condição estas são passadas por meio de TUPLAS e separadas por &(por causa do Pandas/Numpy) e não por AND. Do mesmo modo (no caso de estar utilizando Pandas/Numpy) quando o conectivo for OU devo utilizar | e não OR. "
   ]
  },
  {
   "cell_type": "code",
   "execution_count": 588,
   "metadata": {},
   "outputs": [
    {
     "data": {
      "text/html": [
       "<div>\n",
       "<style scoped>\n",
       "    .dataframe tbody tr th:only-of-type {\n",
       "        vertical-align: middle;\n",
       "    }\n",
       "\n",
       "    .dataframe tbody tr th {\n",
       "        vertical-align: top;\n",
       "    }\n",
       "\n",
       "    .dataframe thead th {\n",
       "        text-align: right;\n",
       "    }\n",
       "</style>\n",
       "<table border=\"1\" class=\"dataframe\">\n",
       "  <thead>\n",
       "    <tr style=\"text-align: right;\">\n",
       "      <th></th>\n",
       "      <th>1</th>\n",
       "      <th>2</th>\n",
       "      <th>3</th>\n",
       "      <th>4</th>\n",
       "      <th>5</th>\n",
       "      <th>6</th>\n",
       "      <th>7</th>\n",
       "      <th>8</th>\n",
       "      <th>9</th>\n",
       "      <th>10</th>\n",
       "      <th>...</th>\n",
       "      <th>22</th>\n",
       "      <th>23</th>\n",
       "      <th>24</th>\n",
       "      <th>25</th>\n",
       "      <th>26</th>\n",
       "      <th>27</th>\n",
       "      <th>28</th>\n",
       "      <th>29</th>\n",
       "      <th>30</th>\n",
       "      <th>31</th>\n",
       "    </tr>\n",
       "  </thead>\n",
       "  <tbody>\n",
       "    <tr>\n",
       "      <th>Janeiro</th>\n",
       "      <td>2036</td>\n",
       "      <td>1284</td>\n",
       "      <td>571</td>\n",
       "      <td>842</td>\n",
       "      <td>545</td>\n",
       "      <td>2042</td>\n",
       "      <td>1294</td>\n",
       "      <td>1501</td>\n",
       "      <td>1244</td>\n",
       "      <td>772</td>\n",
       "      <td>...</td>\n",
       "      <td>1104</td>\n",
       "      <td>1520</td>\n",
       "      <td>1095</td>\n",
       "      <td>1327</td>\n",
       "      <td>627</td>\n",
       "      <td>541</td>\n",
       "      <td>1947</td>\n",
       "      <td>809</td>\n",
       "      <td>1274</td>\n",
       "      <td>1459</td>\n",
       "    </tr>\n",
       "    <tr>\n",
       "      <th>Março</th>\n",
       "      <td>1255</td>\n",
       "      <td>1852</td>\n",
       "      <td>494</td>\n",
       "      <td>1381</td>\n",
       "      <td>1109</td>\n",
       "      <td>970</td>\n",
       "      <td>1919</td>\n",
       "      <td>555</td>\n",
       "      <td>1697</td>\n",
       "      <td>775</td>\n",
       "      <td>...</td>\n",
       "      <td>765</td>\n",
       "      <td>2041</td>\n",
       "      <td>1110</td>\n",
       "      <td>1546</td>\n",
       "      <td>509</td>\n",
       "      <td>1569</td>\n",
       "      <td>560</td>\n",
       "      <td>980</td>\n",
       "      <td>1863</td>\n",
       "      <td>967</td>\n",
       "    </tr>\n",
       "    <tr>\n",
       "      <th>Maio</th>\n",
       "      <td>1185</td>\n",
       "      <td>1338</td>\n",
       "      <td>1516</td>\n",
       "      <td>505</td>\n",
       "      <td>1701</td>\n",
       "      <td>1976</td>\n",
       "      <td>854</td>\n",
       "      <td>623</td>\n",
       "      <td>1074</td>\n",
       "      <td>1728</td>\n",
       "      <td>...</td>\n",
       "      <td>1730</td>\n",
       "      <td>1610</td>\n",
       "      <td>1230</td>\n",
       "      <td>1686</td>\n",
       "      <td>1344</td>\n",
       "      <td>587</td>\n",
       "      <td>1592</td>\n",
       "      <td>806</td>\n",
       "      <td>594</td>\n",
       "      <td>1430</td>\n",
       "    </tr>\n",
       "    <tr>\n",
       "      <th>Julho</th>\n",
       "      <td>898</td>\n",
       "      <td>1772</td>\n",
       "      <td>1254</td>\n",
       "      <td>718</td>\n",
       "      <td>1407</td>\n",
       "      <td>688</td>\n",
       "      <td>938</td>\n",
       "      <td>1310</td>\n",
       "      <td>1968</td>\n",
       "      <td>911</td>\n",
       "      <td>...</td>\n",
       "      <td>778</td>\n",
       "      <td>1381</td>\n",
       "      <td>1070</td>\n",
       "      <td>735</td>\n",
       "      <td>1412</td>\n",
       "      <td>931</td>\n",
       "      <td>765</td>\n",
       "      <td>1305</td>\n",
       "      <td>2001</td>\n",
       "      <td>581</td>\n",
       "    </tr>\n",
       "    <tr>\n",
       "      <th>Agosto</th>\n",
       "      <td>921</td>\n",
       "      <td>1295</td>\n",
       "      <td>1532</td>\n",
       "      <td>2040</td>\n",
       "      <td>1982</td>\n",
       "      <td>1113</td>\n",
       "      <td>1583</td>\n",
       "      <td>712</td>\n",
       "      <td>1739</td>\n",
       "      <td>1280</td>\n",
       "      <td>...</td>\n",
       "      <td>875</td>\n",
       "      <td>1260</td>\n",
       "      <td>1186</td>\n",
       "      <td>1480</td>\n",
       "      <td>1905</td>\n",
       "      <td>1951</td>\n",
       "      <td>838</td>\n",
       "      <td>526</td>\n",
       "      <td>943</td>\n",
       "      <td>1354</td>\n",
       "    </tr>\n",
       "    <tr>\n",
       "      <th>Outubro</th>\n",
       "      <td>1186</td>\n",
       "      <td>1593</td>\n",
       "      <td>704</td>\n",
       "      <td>877</td>\n",
       "      <td>1530</td>\n",
       "      <td>1805</td>\n",
       "      <td>640</td>\n",
       "      <td>660</td>\n",
       "      <td>1993</td>\n",
       "      <td>934</td>\n",
       "      <td>...</td>\n",
       "      <td>969</td>\n",
       "      <td>1228</td>\n",
       "      <td>566</td>\n",
       "      <td>1953</td>\n",
       "      <td>1583</td>\n",
       "      <td>1160</td>\n",
       "      <td>1598</td>\n",
       "      <td>1490</td>\n",
       "      <td>1917</td>\n",
       "      <td>1145</td>\n",
       "    </tr>\n",
       "    <tr>\n",
       "      <th>Dezembro</th>\n",
       "      <td>1085</td>\n",
       "      <td>1377</td>\n",
       "      <td>1285</td>\n",
       "      <td>1710</td>\n",
       "      <td>1147</td>\n",
       "      <td>856</td>\n",
       "      <td>614</td>\n",
       "      <td>503</td>\n",
       "      <td>1105</td>\n",
       "      <td>1496</td>\n",
       "      <td>...</td>\n",
       "      <td>636</td>\n",
       "      <td>1698</td>\n",
       "      <td>675</td>\n",
       "      <td>575</td>\n",
       "      <td>994</td>\n",
       "      <td>1872</td>\n",
       "      <td>1252</td>\n",
       "      <td>1250</td>\n",
       "      <td>1505</td>\n",
       "      <td>605</td>\n",
       "    </tr>\n",
       "  </tbody>\n",
       "</table>\n",
       "<p>7 rows × 31 columns</p>\n",
       "</div>"
      ],
      "text/plain": [
       "            1     2     3     4     5     6     7     8     9     10  ...  \\\n",
       "Janeiro   2036  1284   571   842   545  2042  1294  1501  1244   772  ...   \n",
       "Março     1255  1852   494  1381  1109   970  1919   555  1697   775  ...   \n",
       "Maio      1185  1338  1516   505  1701  1976   854   623  1074  1728  ...   \n",
       "Julho      898  1772  1254   718  1407   688   938  1310  1968   911  ...   \n",
       "Agosto     921  1295  1532  2040  1982  1113  1583   712  1739  1280  ...   \n",
       "Outubro   1186  1593   704   877  1530  1805   640   660  1993   934  ...   \n",
       "Dezembro  1085  1377  1285  1710  1147   856   614   503  1105  1496  ...   \n",
       "\n",
       "            22    23    24    25    26    27    28    29    30    31  \n",
       "Janeiro   1104  1520  1095  1327   627   541  1947   809  1274  1459  \n",
       "Março      765  2041  1110  1546   509  1569   560   980  1863   967  \n",
       "Maio      1730  1610  1230  1686  1344   587  1592   806   594  1430  \n",
       "Julho      778  1381  1070   735  1412   931   765  1305  2001   581  \n",
       "Agosto     875  1260  1186  1480  1905  1951   838   526   943  1354  \n",
       "Outubro    969  1228   566  1953  1583  1160  1598  1490  1917  1145  \n",
       "Dezembro   636  1698   675   575   994  1872  1252  1250  1505   605  \n",
       "\n",
       "[7 rows x 31 columns]"
      ]
     },
     "execution_count": 588,
     "metadata": {},
     "output_type": "execute_result"
    }
   ],
   "source": [
    "df"
   ]
  },
  {
   "cell_type": "code",
   "execution_count": 593,
   "metadata": {},
   "outputs": [
    {
     "data": {
      "text/html": [
       "<div>\n",
       "<style scoped>\n",
       "    .dataframe tbody tr th:only-of-type {\n",
       "        vertical-align: middle;\n",
       "    }\n",
       "\n",
       "    .dataframe tbody tr th {\n",
       "        vertical-align: top;\n",
       "    }\n",
       "\n",
       "    .dataframe thead th {\n",
       "        text-align: right;\n",
       "    }\n",
       "</style>\n",
       "<table border=\"1\" class=\"dataframe\">\n",
       "  <thead>\n",
       "    <tr style=\"text-align: right;\">\n",
       "      <th></th>\n",
       "      <th>1</th>\n",
       "      <th>2</th>\n",
       "      <th>3</th>\n",
       "      <th>4</th>\n",
       "      <th>5</th>\n",
       "      <th>6</th>\n",
       "      <th>7</th>\n",
       "      <th>8</th>\n",
       "      <th>9</th>\n",
       "      <th>10</th>\n",
       "      <th>...</th>\n",
       "      <th>22</th>\n",
       "      <th>23</th>\n",
       "      <th>24</th>\n",
       "      <th>25</th>\n",
       "      <th>26</th>\n",
       "      <th>27</th>\n",
       "      <th>28</th>\n",
       "      <th>29</th>\n",
       "      <th>30</th>\n",
       "      <th>31</th>\n",
       "    </tr>\n",
       "  </thead>\n",
       "  <tbody>\n",
       "    <tr>\n",
       "      <th>Maio</th>\n",
       "      <td>1185</td>\n",
       "      <td>1338</td>\n",
       "      <td>1516</td>\n",
       "      <td>505</td>\n",
       "      <td>1701</td>\n",
       "      <td>1976</td>\n",
       "      <td>854</td>\n",
       "      <td>623</td>\n",
       "      <td>1074</td>\n",
       "      <td>1728</td>\n",
       "      <td>...</td>\n",
       "      <td>1730</td>\n",
       "      <td>1610</td>\n",
       "      <td>1230</td>\n",
       "      <td>1686</td>\n",
       "      <td>1344</td>\n",
       "      <td>587</td>\n",
       "      <td>1592</td>\n",
       "      <td>806</td>\n",
       "      <td>594</td>\n",
       "      <td>1430</td>\n",
       "    </tr>\n",
       "  </tbody>\n",
       "</table>\n",
       "<p>1 rows × 31 columns</p>\n",
       "</div>"
      ],
      "text/plain": [
       "        1     2     3    4     5     6    7    8     9     10  ...    22  \\\n",
       "Maio  1185  1338  1516  505  1701  1976  854  623  1074  1728  ...  1730   \n",
       "\n",
       "        23    24    25    26   27    28   29   30    31  \n",
       "Maio  1610  1230  1686  1344  587  1592  806  594  1430  \n",
       "\n",
       "[1 rows x 31 columns]"
      ]
     },
     "execution_count": 593,
     "metadata": {},
     "output_type": "execute_result"
    }
   ],
   "source": [
    "df[ (df[10] > 1000) & (df[25] > 1500) ]   # A situação suposta ocorreu apenos no mês de Maio:  dia 10 = 1780 // dia 25 = 1686"
   ]
  },
  {
   "cell_type": "code",
   "execution_count": 595,
   "metadata": {},
   "outputs": [],
   "source": [
    "# Quero saber em qual mês(es) ocorreu de no dia 10 ter venda maior que 1000, OU no dia 25 vendas maiores que 1500."
   ]
  },
  {
   "cell_type": "code",
   "execution_count": 598,
   "metadata": {},
   "outputs": [
    {
     "data": {
      "text/html": [
       "<div>\n",
       "<style scoped>\n",
       "    .dataframe tbody tr th:only-of-type {\n",
       "        vertical-align: middle;\n",
       "    }\n",
       "\n",
       "    .dataframe tbody tr th {\n",
       "        vertical-align: top;\n",
       "    }\n",
       "\n",
       "    .dataframe thead th {\n",
       "        text-align: right;\n",
       "    }\n",
       "</style>\n",
       "<table border=\"1\" class=\"dataframe\">\n",
       "  <thead>\n",
       "    <tr style=\"text-align: right;\">\n",
       "      <th></th>\n",
       "      <th>1</th>\n",
       "      <th>2</th>\n",
       "      <th>3</th>\n",
       "      <th>4</th>\n",
       "      <th>5</th>\n",
       "      <th>6</th>\n",
       "      <th>7</th>\n",
       "      <th>8</th>\n",
       "      <th>9</th>\n",
       "      <th>10</th>\n",
       "      <th>...</th>\n",
       "      <th>22</th>\n",
       "      <th>23</th>\n",
       "      <th>24</th>\n",
       "      <th>25</th>\n",
       "      <th>26</th>\n",
       "      <th>27</th>\n",
       "      <th>28</th>\n",
       "      <th>29</th>\n",
       "      <th>30</th>\n",
       "      <th>31</th>\n",
       "    </tr>\n",
       "  </thead>\n",
       "  <tbody>\n",
       "    <tr>\n",
       "      <th>Março</th>\n",
       "      <td>1255</td>\n",
       "      <td>1852</td>\n",
       "      <td>494</td>\n",
       "      <td>1381</td>\n",
       "      <td>1109</td>\n",
       "      <td>970</td>\n",
       "      <td>1919</td>\n",
       "      <td>555</td>\n",
       "      <td>1697</td>\n",
       "      <td>775</td>\n",
       "      <td>...</td>\n",
       "      <td>765</td>\n",
       "      <td>2041</td>\n",
       "      <td>1110</td>\n",
       "      <td>1546</td>\n",
       "      <td>509</td>\n",
       "      <td>1569</td>\n",
       "      <td>560</td>\n",
       "      <td>980</td>\n",
       "      <td>1863</td>\n",
       "      <td>967</td>\n",
       "    </tr>\n",
       "    <tr>\n",
       "      <th>Maio</th>\n",
       "      <td>1185</td>\n",
       "      <td>1338</td>\n",
       "      <td>1516</td>\n",
       "      <td>505</td>\n",
       "      <td>1701</td>\n",
       "      <td>1976</td>\n",
       "      <td>854</td>\n",
       "      <td>623</td>\n",
       "      <td>1074</td>\n",
       "      <td>1728</td>\n",
       "      <td>...</td>\n",
       "      <td>1730</td>\n",
       "      <td>1610</td>\n",
       "      <td>1230</td>\n",
       "      <td>1686</td>\n",
       "      <td>1344</td>\n",
       "      <td>587</td>\n",
       "      <td>1592</td>\n",
       "      <td>806</td>\n",
       "      <td>594</td>\n",
       "      <td>1430</td>\n",
       "    </tr>\n",
       "    <tr>\n",
       "      <th>Agosto</th>\n",
       "      <td>921</td>\n",
       "      <td>1295</td>\n",
       "      <td>1532</td>\n",
       "      <td>2040</td>\n",
       "      <td>1982</td>\n",
       "      <td>1113</td>\n",
       "      <td>1583</td>\n",
       "      <td>712</td>\n",
       "      <td>1739</td>\n",
       "      <td>1280</td>\n",
       "      <td>...</td>\n",
       "      <td>875</td>\n",
       "      <td>1260</td>\n",
       "      <td>1186</td>\n",
       "      <td>1480</td>\n",
       "      <td>1905</td>\n",
       "      <td>1951</td>\n",
       "      <td>838</td>\n",
       "      <td>526</td>\n",
       "      <td>943</td>\n",
       "      <td>1354</td>\n",
       "    </tr>\n",
       "    <tr>\n",
       "      <th>Outubro</th>\n",
       "      <td>1186</td>\n",
       "      <td>1593</td>\n",
       "      <td>704</td>\n",
       "      <td>877</td>\n",
       "      <td>1530</td>\n",
       "      <td>1805</td>\n",
       "      <td>640</td>\n",
       "      <td>660</td>\n",
       "      <td>1993</td>\n",
       "      <td>934</td>\n",
       "      <td>...</td>\n",
       "      <td>969</td>\n",
       "      <td>1228</td>\n",
       "      <td>566</td>\n",
       "      <td>1953</td>\n",
       "      <td>1583</td>\n",
       "      <td>1160</td>\n",
       "      <td>1598</td>\n",
       "      <td>1490</td>\n",
       "      <td>1917</td>\n",
       "      <td>1145</td>\n",
       "    </tr>\n",
       "    <tr>\n",
       "      <th>Dezembro</th>\n",
       "      <td>1085</td>\n",
       "      <td>1377</td>\n",
       "      <td>1285</td>\n",
       "      <td>1710</td>\n",
       "      <td>1147</td>\n",
       "      <td>856</td>\n",
       "      <td>614</td>\n",
       "      <td>503</td>\n",
       "      <td>1105</td>\n",
       "      <td>1496</td>\n",
       "      <td>...</td>\n",
       "      <td>636</td>\n",
       "      <td>1698</td>\n",
       "      <td>675</td>\n",
       "      <td>575</td>\n",
       "      <td>994</td>\n",
       "      <td>1872</td>\n",
       "      <td>1252</td>\n",
       "      <td>1250</td>\n",
       "      <td>1505</td>\n",
       "      <td>605</td>\n",
       "    </tr>\n",
       "  </tbody>\n",
       "</table>\n",
       "<p>5 rows × 31 columns</p>\n",
       "</div>"
      ],
      "text/plain": [
       "            1     2     3     4     5     6     7    8     9     10  ...  \\\n",
       "Março     1255  1852   494  1381  1109   970  1919  555  1697   775  ...   \n",
       "Maio      1185  1338  1516   505  1701  1976   854  623  1074  1728  ...   \n",
       "Agosto     921  1295  1532  2040  1982  1113  1583  712  1739  1280  ...   \n",
       "Outubro   1186  1593   704   877  1530  1805   640  660  1993   934  ...   \n",
       "Dezembro  1085  1377  1285  1710  1147   856   614  503  1105  1496  ...   \n",
       "\n",
       "            22    23    24    25    26    27    28    29    30    31  \n",
       "Março      765  2041  1110  1546   509  1569   560   980  1863   967  \n",
       "Maio      1730  1610  1230  1686  1344   587  1592   806   594  1430  \n",
       "Agosto     875  1260  1186  1480  1905  1951   838   526   943  1354  \n",
       "Outubro    969  1228   566  1953  1583  1160  1598  1490  1917  1145  \n",
       "Dezembro   636  1698   675   575   994  1872  1252  1250  1505   605  \n",
       "\n",
       "[5 rows x 31 columns]"
      ]
     },
     "execution_count": 598,
     "metadata": {},
     "output_type": "execute_result"
    }
   ],
   "source": [
    "df[ (df[10] > 1000) | (df[25] > 1500) ]  # Nos meses abaixo OU dia 10 > 1000, OU dia 25 > 1500 OU ocorram simultâneamente"
   ]
  },
  {
   "cell_type": "markdown",
   "metadata": {},
   "source": [
    "-------------------------------------------------------------------------------------------------------------------------------\n",
    "\n",
    "# AULA 17\n",
    "### Dataframes Multi-Index\n",
    "\n",
    "\n",
    "![](images/pd3.jpg)\n",
    "\n"
   ]
  },
  {
   "cell_type": "code",
   "execution_count": 5,
   "metadata": {},
   "outputs": [],
   "source": [
    "import pandas as pd\n",
    "import numpy as np"
   ]
  },
  {
   "cell_type": "code",
   "execution_count": 6,
   "metadata": {},
   "outputs": [],
   "source": [
    "lista = [ ['BRASIL','BRASIL','BRASIL','ARGENTINA','ARGENTINA','ARGENTINA'],[2017,2018,2019,2017,2018,2019] ]"
   ]
  },
  {
   "cell_type": "code",
   "execution_count": 7,
   "metadata": {},
   "outputs": [],
   "source": [
    "tuplas = zip(*lista)"
   ]
  },
  {
   "cell_type": "markdown",
   "metadata": {},
   "source": [
    "A função zip 'junta' o 1º item da 1ª lista com o 1º item da 1ª lista... 2º item da 1ª lista com o 2º item da 2ª lista... e assim por diante."
   ]
  },
  {
   "cell_type": "code",
   "execution_count": 8,
   "metadata": {},
   "outputs": [
    {
     "data": {
      "text/plain": [
       "<zip at 0x181d7870b48>"
      ]
     },
     "execution_count": 8,
     "metadata": {},
     "output_type": "execute_result"
    }
   ],
   "source": [
    "tuplas     #Chamando a tupla notamos que foi armazenado valor em endereço de memória."
   ]
  },
  {
   "cell_type": "code",
   "execution_count": 9,
   "metadata": {},
   "outputs": [],
   "source": [
    "tuplas = list(tuplas)  # Esse comando sim gera as tuplas em forma de lista formadas pelo zip."
   ]
  },
  {
   "cell_type": "code",
   "execution_count": 10,
   "metadata": {},
   "outputs": [
    {
     "data": {
      "text/plain": [
       "[('BRASIL', 2017),\n",
       " ('BRASIL', 2018),\n",
       " ('BRASIL', 2019),\n",
       " ('ARGENTINA', 2017),\n",
       " ('ARGENTINA', 2018),\n",
       " ('ARGENTINA', 2019)]"
      ]
     },
     "execution_count": 10,
     "metadata": {},
     "output_type": "execute_result"
    }
   ],
   "source": [
    "tuplas"
   ]
  },
  {
   "cell_type": "code",
   "execution_count": 11,
   "metadata": {},
   "outputs": [],
   "source": [
    "multi = pd.MultiIndex.from_tuples(tuplas) "
   ]
  },
  {
   "cell_type": "markdown",
   "metadata": {},
   "source": [
    "Esse comando recebe como argumento o item que desejo transformar em Multi-índice, no caso é tupla ( from_tuples ). Agora o Python já entende que a variável multi possui vários níveis."
   ]
  },
  {
   "cell_type": "code",
   "execution_count": 12,
   "metadata": {},
   "outputs": [
    {
     "data": {
      "text/plain": [
       "MultiIndex([(   'BRASIL', 2017),\n",
       "            (   'BRASIL', 2018),\n",
       "            (   'BRASIL', 2019),\n",
       "            ('ARGENTINA', 2017),\n",
       "            ('ARGENTINA', 2018),\n",
       "            ('ARGENTINA', 2019)],\n",
       "           )"
      ]
     },
     "execution_count": 12,
     "metadata": {},
     "output_type": "execute_result"
    }
   ],
   "source": [
    "multi"
   ]
  },
  {
   "cell_type": "code",
   "execution_count": 13,
   "metadata": {},
   "outputs": [],
   "source": [
    "# Agora podemos criar o Dataframe"
   ]
  },
  {
   "cell_type": "code",
   "execution_count": 14,
   "metadata": {},
   "outputs": [],
   "source": [
    "df1 = pd.DataFrame(data = np.random.randn(6,2), index = multi, columns = ['EXP. TRIGO','EXP. ARROZ'] )"
   ]
  },
  {
   "cell_type": "markdown",
   "metadata": {},
   "source": [
    "Entendendo a linha de comando:\n",
    "\n",
    "\n",
    "pd.DataFrame  -  criação de um Dataframe a partir de parâmetros que serão inseridos;\n",
    "\n",
    "data = np.random.randn(6,2)  -  Como não há valores, geramos através do Numpy, valores randômicos (6 linhas, 2 colunas);\n",
    "\n",
    "index = multi  -  Os índices (multi-índices) provém da variável multi que foi criada;\n",
    "\n",
    "columns = ['EXP. TRIGO','EXP. ARROZ']  -  Nomeamos as duas colunas. \n",
    "\n",
    "-------------------------------------------------------------------------------------------------------------------------------"
   ]
  },
  {
   "cell_type": "code",
   "execution_count": 15,
   "metadata": {},
   "outputs": [
    {
     "data": {
      "text/html": [
       "<div>\n",
       "<style scoped>\n",
       "    .dataframe tbody tr th:only-of-type {\n",
       "        vertical-align: middle;\n",
       "    }\n",
       "\n",
       "    .dataframe tbody tr th {\n",
       "        vertical-align: top;\n",
       "    }\n",
       "\n",
       "    .dataframe thead th {\n",
       "        text-align: right;\n",
       "    }\n",
       "</style>\n",
       "<table border=\"1\" class=\"dataframe\">\n",
       "  <thead>\n",
       "    <tr style=\"text-align: right;\">\n",
       "      <th></th>\n",
       "      <th></th>\n",
       "      <th>EXP. TRIGO</th>\n",
       "      <th>EXP. ARROZ</th>\n",
       "    </tr>\n",
       "  </thead>\n",
       "  <tbody>\n",
       "    <tr>\n",
       "      <th rowspan=\"3\" valign=\"top\">BRASIL</th>\n",
       "      <th>2017</th>\n",
       "      <td>0.627241</td>\n",
       "      <td>1.260346</td>\n",
       "    </tr>\n",
       "    <tr>\n",
       "      <th>2018</th>\n",
       "      <td>-1.862879</td>\n",
       "      <td>0.002226</td>\n",
       "    </tr>\n",
       "    <tr>\n",
       "      <th>2019</th>\n",
       "      <td>-1.491504</td>\n",
       "      <td>-0.050891</td>\n",
       "    </tr>\n",
       "    <tr>\n",
       "      <th rowspan=\"3\" valign=\"top\">ARGENTINA</th>\n",
       "      <th>2017</th>\n",
       "      <td>0.713418</td>\n",
       "      <td>-0.225940</td>\n",
       "    </tr>\n",
       "    <tr>\n",
       "      <th>2018</th>\n",
       "      <td>0.480641</td>\n",
       "      <td>0.022010</td>\n",
       "    </tr>\n",
       "    <tr>\n",
       "      <th>2019</th>\n",
       "      <td>-0.238249</td>\n",
       "      <td>-1.791445</td>\n",
       "    </tr>\n",
       "  </tbody>\n",
       "</table>\n",
       "</div>"
      ],
      "text/plain": [
       "                EXP. TRIGO  EXP. ARROZ\n",
       "BRASIL    2017    0.627241    1.260346\n",
       "          2018   -1.862879    0.002226\n",
       "          2019   -1.491504   -0.050891\n",
       "ARGENTINA 2017    0.713418   -0.225940\n",
       "          2018    0.480641    0.022010\n",
       "          2019   -0.238249   -1.791445"
      ]
     },
     "execution_count": 15,
     "metadata": {},
     "output_type": "execute_result"
    }
   ],
   "source": [
    "df1"
   ]
  },
  {
   "cell_type": "markdown",
   "metadata": {},
   "source": [
    "-------------------------------------------------------------------------------------------------------------------------------\n",
    "#### O dataframe criado possui 2 níveis de linha:\n",
    "#### NÍVEL 0 que se refere a 'BRASIL'/'ARGENTINA'  e;\n",
    "#### NÍVEL 1 que se refere aos anos 2017,2018 e 2019.\n",
    "\n",
    "-------------------------------------------------------------------------------------------------------------------------------"
   ]
  },
  {
   "cell_type": "code",
   "execution_count": 16,
   "metadata": {},
   "outputs": [],
   "source": [
    "df1.index.names = ['PAÍS','ANO']"
   ]
  },
  {
   "cell_type": "code",
   "execution_count": 17,
   "metadata": {},
   "outputs": [
    {
     "data": {
      "text/html": [
       "<div>\n",
       "<style scoped>\n",
       "    .dataframe tbody tr th:only-of-type {\n",
       "        vertical-align: middle;\n",
       "    }\n",
       "\n",
       "    .dataframe tbody tr th {\n",
       "        vertical-align: top;\n",
       "    }\n",
       "\n",
       "    .dataframe thead th {\n",
       "        text-align: right;\n",
       "    }\n",
       "</style>\n",
       "<table border=\"1\" class=\"dataframe\">\n",
       "  <thead>\n",
       "    <tr style=\"text-align: right;\">\n",
       "      <th></th>\n",
       "      <th></th>\n",
       "      <th>EXP. TRIGO</th>\n",
       "      <th>EXP. ARROZ</th>\n",
       "    </tr>\n",
       "    <tr>\n",
       "      <th>PAÍS</th>\n",
       "      <th>ANO</th>\n",
       "      <th></th>\n",
       "      <th></th>\n",
       "    </tr>\n",
       "  </thead>\n",
       "  <tbody>\n",
       "    <tr>\n",
       "      <th rowspan=\"3\" valign=\"top\">BRASIL</th>\n",
       "      <th>2017</th>\n",
       "      <td>0.627241</td>\n",
       "      <td>1.260346</td>\n",
       "    </tr>\n",
       "    <tr>\n",
       "      <th>2018</th>\n",
       "      <td>-1.862879</td>\n",
       "      <td>0.002226</td>\n",
       "    </tr>\n",
       "    <tr>\n",
       "      <th>2019</th>\n",
       "      <td>-1.491504</td>\n",
       "      <td>-0.050891</td>\n",
       "    </tr>\n",
       "    <tr>\n",
       "      <th rowspan=\"3\" valign=\"top\">ARGENTINA</th>\n",
       "      <th>2017</th>\n",
       "      <td>0.713418</td>\n",
       "      <td>-0.225940</td>\n",
       "    </tr>\n",
       "    <tr>\n",
       "      <th>2018</th>\n",
       "      <td>0.480641</td>\n",
       "      <td>0.022010</td>\n",
       "    </tr>\n",
       "    <tr>\n",
       "      <th>2019</th>\n",
       "      <td>-0.238249</td>\n",
       "      <td>-1.791445</td>\n",
       "    </tr>\n",
       "  </tbody>\n",
       "</table>\n",
       "</div>"
      ],
      "text/plain": [
       "                EXP. TRIGO  EXP. ARROZ\n",
       "PAÍS      ANO                         \n",
       "BRASIL    2017    0.627241    1.260346\n",
       "          2018   -1.862879    0.002226\n",
       "          2019   -1.491504   -0.050891\n",
       "ARGENTINA 2017    0.713418   -0.225940\n",
       "          2018    0.480641    0.022010\n",
       "          2019   -0.238249   -1.791445"
      ]
     },
     "execution_count": 17,
     "metadata": {},
     "output_type": "execute_result"
    }
   ],
   "source": [
    "df1"
   ]
  },
  {
   "cell_type": "code",
   "execution_count": 18,
   "metadata": {},
   "outputs": [],
   "source": [
    "# Encontrando valores"
   ]
  },
  {
   "cell_type": "code",
   "execution_count": 19,
   "metadata": {},
   "outputs": [
    {
     "data": {
      "text/plain": [
       "PAÍS       ANO \n",
       "BRASIL     2017    1.260346\n",
       "           2018    0.002226\n",
       "           2019   -0.050891\n",
       "ARGENTINA  2017   -0.225940\n",
       "           2018    0.022010\n",
       "           2019   -1.791445\n",
       "Name: EXP. ARROZ, dtype: float64"
      ]
     },
     "execution_count": 19,
     "metadata": {},
     "output_type": "execute_result"
    }
   ],
   "source": [
    "df1['EXP. ARROZ']     # Dentro de colchetes são aceitos os nomes das COLUNAS"
   ]
  },
  {
   "cell_type": "code",
   "execution_count": 20,
   "metadata": {},
   "outputs": [
    {
     "data": {
      "text/html": [
       "<div>\n",
       "<style scoped>\n",
       "    .dataframe tbody tr th:only-of-type {\n",
       "        vertical-align: middle;\n",
       "    }\n",
       "\n",
       "    .dataframe tbody tr th {\n",
       "        vertical-align: top;\n",
       "    }\n",
       "\n",
       "    .dataframe thead th {\n",
       "        text-align: right;\n",
       "    }\n",
       "</style>\n",
       "<table border=\"1\" class=\"dataframe\">\n",
       "  <thead>\n",
       "    <tr style=\"text-align: right;\">\n",
       "      <th></th>\n",
       "      <th>EXP. TRIGO</th>\n",
       "      <th>EXP. ARROZ</th>\n",
       "    </tr>\n",
       "    <tr>\n",
       "      <th>ANO</th>\n",
       "      <th></th>\n",
       "      <th></th>\n",
       "    </tr>\n",
       "  </thead>\n",
       "  <tbody>\n",
       "    <tr>\n",
       "      <th>2017</th>\n",
       "      <td>0.627241</td>\n",
       "      <td>1.260346</td>\n",
       "    </tr>\n",
       "    <tr>\n",
       "      <th>2018</th>\n",
       "      <td>-1.862879</td>\n",
       "      <td>0.002226</td>\n",
       "    </tr>\n",
       "    <tr>\n",
       "      <th>2019</th>\n",
       "      <td>-1.491504</td>\n",
       "      <td>-0.050891</td>\n",
       "    </tr>\n",
       "  </tbody>\n",
       "</table>\n",
       "</div>"
      ],
      "text/plain": [
       "      EXP. TRIGO  EXP. ARROZ\n",
       "ANO                         \n",
       "2017    0.627241    1.260346\n",
       "2018   -1.862879    0.002226\n",
       "2019   -1.491504   -0.050891"
      ]
     },
     "execution_count": 20,
     "metadata": {},
     "output_type": "execute_result"
    }
   ],
   "source": [
    "df1.loc['BRASIL']   #Para selecionar linhas usar a função .loc "
   ]
  },
  {
   "cell_type": "markdown",
   "metadata": {},
   "source": [
    " #### No caso acima foram exibidos os valores relacionados aos anos referentes ao 'BRASIL' (linha de NÍVEL 0)\n",
    " \n",
    " ------------------------------------------------------------------------------------------------------------------------------"
   ]
  },
  {
   "cell_type": "markdown",
   "metadata": {},
   "source": [
    "#### E se eu quisesse saber valores relacionados a um índice de NÍVEL 1 ? Usa-se uma função  XS() que acessa outros níveis."
   ]
  },
  {
   "cell_type": "code",
   "execution_count": 21,
   "metadata": {},
   "outputs": [
    {
     "data": {
      "text/html": [
       "<div>\n",
       "<style scoped>\n",
       "    .dataframe tbody tr th:only-of-type {\n",
       "        vertical-align: middle;\n",
       "    }\n",
       "\n",
       "    .dataframe tbody tr th {\n",
       "        vertical-align: top;\n",
       "    }\n",
       "\n",
       "    .dataframe thead th {\n",
       "        text-align: right;\n",
       "    }\n",
       "</style>\n",
       "<table border=\"1\" class=\"dataframe\">\n",
       "  <thead>\n",
       "    <tr style=\"text-align: right;\">\n",
       "      <th></th>\n",
       "      <th>EXP. TRIGO</th>\n",
       "      <th>EXP. ARROZ</th>\n",
       "    </tr>\n",
       "    <tr>\n",
       "      <th>PAÍS</th>\n",
       "      <th></th>\n",
       "      <th></th>\n",
       "    </tr>\n",
       "  </thead>\n",
       "  <tbody>\n",
       "    <tr>\n",
       "      <th>BRASIL</th>\n",
       "      <td>0.627241</td>\n",
       "      <td>1.260346</td>\n",
       "    </tr>\n",
       "    <tr>\n",
       "      <th>ARGENTINA</th>\n",
       "      <td>0.713418</td>\n",
       "      <td>-0.225940</td>\n",
       "    </tr>\n",
       "  </tbody>\n",
       "</table>\n",
       "</div>"
      ],
      "text/plain": [
       "           EXP. TRIGO  EXP. ARROZ\n",
       "PAÍS                             \n",
       "BRASIL       0.627241    1.260346\n",
       "ARGENTINA    0.713418   -0.225940"
      ]
     },
     "execution_count": 21,
     "metadata": {},
     "output_type": "execute_result"
    }
   ],
   "source": [
    "df1.xs(2017,axis=0,level=1) # Acessou os valores de 2017 para ambos os países/ AXIS=0 significa LINHA"
   ]
  },
  {
   "cell_type": "markdown",
   "metadata": {},
   "source": [
    "-------------------------------------------------------------------------------------------------------------------------------\n",
    "#### Desejo saber o valor de EXP. TRIGO do BRASIL em 2018:"
   ]
  },
  {
   "cell_type": "code",
   "execution_count": 25,
   "metadata": {},
   "outputs": [
    {
     "data": {
      "text/plain": [
       "-1.8628793466853286"
      ]
     },
     "execution_count": 25,
     "metadata": {},
     "output_type": "execute_result"
    }
   ],
   "source": [
    "df1.loc[('BRASIL',2018),('EXP. TRIGO')]"
   ]
  },
  {
   "cell_type": "markdown",
   "metadata": {},
   "source": [
    "##### Explicando o código acima: Localize, as linhas \"Brasil\" e \"2018\" e a coluna \"EXP TRIGO\" aí ele retornará para você o valor correspondente.\n",
    "\n",
    "-------------------------------------------------------------------------------------------------------------------------------"
   ]
  },
  {
   "cell_type": "code",
   "execution_count": 27,
   "metadata": {},
   "outputs": [
    {
     "data": {
      "text/html": [
       "<div>\n",
       "<style scoped>\n",
       "    .dataframe tbody tr th:only-of-type {\n",
       "        vertical-align: middle;\n",
       "    }\n",
       "\n",
       "    .dataframe tbody tr th {\n",
       "        vertical-align: top;\n",
       "    }\n",
       "\n",
       "    .dataframe thead th {\n",
       "        text-align: right;\n",
       "    }\n",
       "</style>\n",
       "<table border=\"1\" class=\"dataframe\">\n",
       "  <thead>\n",
       "    <tr style=\"text-align: right;\">\n",
       "      <th></th>\n",
       "      <th></th>\n",
       "      <th>EXP. TRIGO</th>\n",
       "      <th>EXP. ARROZ</th>\n",
       "    </tr>\n",
       "    <tr>\n",
       "      <th>PAÍS</th>\n",
       "      <th>ANO</th>\n",
       "      <th></th>\n",
       "      <th></th>\n",
       "    </tr>\n",
       "  </thead>\n",
       "  <tbody>\n",
       "    <tr>\n",
       "      <th rowspan=\"3\" valign=\"top\">BRASIL</th>\n",
       "      <th>2017</th>\n",
       "      <td>0.627241</td>\n",
       "      <td>1.260346</td>\n",
       "    </tr>\n",
       "    <tr>\n",
       "      <th>2018</th>\n",
       "      <td>-1.862879</td>\n",
       "      <td>0.002226</td>\n",
       "    </tr>\n",
       "    <tr>\n",
       "      <th>2019</th>\n",
       "      <td>-1.491504</td>\n",
       "      <td>-0.050891</td>\n",
       "    </tr>\n",
       "    <tr>\n",
       "      <th>ARGENTINA</th>\n",
       "      <th>2017</th>\n",
       "      <td>0.713418</td>\n",
       "      <td>-0.225940</td>\n",
       "    </tr>\n",
       "  </tbody>\n",
       "</table>\n",
       "</div>"
      ],
      "text/plain": [
       "                EXP. TRIGO  EXP. ARROZ\n",
       "PAÍS      ANO                         \n",
       "BRASIL    2017    0.627241    1.260346\n",
       "          2018   -1.862879    0.002226\n",
       "          2019   -1.491504   -0.050891\n",
       "ARGENTINA 2017    0.713418   -0.225940"
      ]
     },
     "execution_count": 27,
     "metadata": {},
     "output_type": "execute_result"
    }
   ],
   "source": [
    "df1[0:4]  #Notação de linhas.... irá do índice zero ao índice 3... como já visto anteriormente"
   ]
  },
  {
   "cell_type": "markdown",
   "metadata": {},
   "source": [
    "### Outra maneira de visualização: Utilização da função UNSTACK()"
   ]
  },
  {
   "cell_type": "code",
   "execution_count": 34,
   "metadata": {},
   "outputs": [],
   "source": [
    "df2 = df1.unstack()"
   ]
  },
  {
   "cell_type": "code",
   "execution_count": 35,
   "metadata": {},
   "outputs": [
    {
     "data": {
      "text/html": [
       "<div>\n",
       "<style scoped>\n",
       "    .dataframe tbody tr th:only-of-type {\n",
       "        vertical-align: middle;\n",
       "    }\n",
       "\n",
       "    .dataframe tbody tr th {\n",
       "        vertical-align: top;\n",
       "    }\n",
       "\n",
       "    .dataframe thead tr th {\n",
       "        text-align: left;\n",
       "    }\n",
       "\n",
       "    .dataframe thead tr:last-of-type th {\n",
       "        text-align: right;\n",
       "    }\n",
       "</style>\n",
       "<table border=\"1\" class=\"dataframe\">\n",
       "  <thead>\n",
       "    <tr>\n",
       "      <th></th>\n",
       "      <th colspan=\"3\" halign=\"left\">EXP. TRIGO</th>\n",
       "      <th colspan=\"3\" halign=\"left\">EXP. ARROZ</th>\n",
       "    </tr>\n",
       "    <tr>\n",
       "      <th>ANO</th>\n",
       "      <th>2017</th>\n",
       "      <th>2018</th>\n",
       "      <th>2019</th>\n",
       "      <th>2017</th>\n",
       "      <th>2018</th>\n",
       "      <th>2019</th>\n",
       "    </tr>\n",
       "    <tr>\n",
       "      <th>PAÍS</th>\n",
       "      <th></th>\n",
       "      <th></th>\n",
       "      <th></th>\n",
       "      <th></th>\n",
       "      <th></th>\n",
       "      <th></th>\n",
       "    </tr>\n",
       "  </thead>\n",
       "  <tbody>\n",
       "    <tr>\n",
       "      <th>ARGENTINA</th>\n",
       "      <td>0.713418</td>\n",
       "      <td>0.480641</td>\n",
       "      <td>-0.238249</td>\n",
       "      <td>-0.225940</td>\n",
       "      <td>0.022010</td>\n",
       "      <td>-1.791445</td>\n",
       "    </tr>\n",
       "    <tr>\n",
       "      <th>BRASIL</th>\n",
       "      <td>0.627241</td>\n",
       "      <td>-1.862879</td>\n",
       "      <td>-1.491504</td>\n",
       "      <td>1.260346</td>\n",
       "      <td>0.002226</td>\n",
       "      <td>-0.050891</td>\n",
       "    </tr>\n",
       "  </tbody>\n",
       "</table>\n",
       "</div>"
      ],
      "text/plain": [
       "          EXP. TRIGO                     EXP. ARROZ                    \n",
       "ANO             2017      2018      2019       2017      2018      2019\n",
       "PAÍS                                                                   \n",
       "ARGENTINA   0.713418  0.480641 -0.238249  -0.225940  0.022010 -1.791445\n",
       "BRASIL      0.627241 -1.862879 -1.491504   1.260346  0.002226 -0.050891"
      ]
     },
     "execution_count": 35,
     "metadata": {},
     "output_type": "execute_result"
    }
   ],
   "source": [
    "df2"
   ]
  },
  {
   "cell_type": "markdown",
   "metadata": {},
   "source": [
    "#### Verificamos acima que agora as COLUNAS que possuem níveis "
   ]
  },
  {
   "cell_type": "code",
   "execution_count": 36,
   "metadata": {},
   "outputs": [
    {
     "data": {
      "text/html": [
       "<div>\n",
       "<style scoped>\n",
       "    .dataframe tbody tr th:only-of-type {\n",
       "        vertical-align: middle;\n",
       "    }\n",
       "\n",
       "    .dataframe tbody tr th {\n",
       "        vertical-align: top;\n",
       "    }\n",
       "\n",
       "    .dataframe thead th {\n",
       "        text-align: right;\n",
       "    }\n",
       "</style>\n",
       "<table border=\"1\" class=\"dataframe\">\n",
       "  <thead>\n",
       "    <tr style=\"text-align: right;\">\n",
       "      <th>ANO</th>\n",
       "      <th>2017</th>\n",
       "      <th>2018</th>\n",
       "      <th>2019</th>\n",
       "    </tr>\n",
       "    <tr>\n",
       "      <th>PAÍS</th>\n",
       "      <th></th>\n",
       "      <th></th>\n",
       "      <th></th>\n",
       "    </tr>\n",
       "  </thead>\n",
       "  <tbody>\n",
       "    <tr>\n",
       "      <th>ARGENTINA</th>\n",
       "      <td>0.713418</td>\n",
       "      <td>0.480641</td>\n",
       "      <td>-0.238249</td>\n",
       "    </tr>\n",
       "    <tr>\n",
       "      <th>BRASIL</th>\n",
       "      <td>0.627241</td>\n",
       "      <td>-1.862879</td>\n",
       "      <td>-1.491504</td>\n",
       "    </tr>\n",
       "  </tbody>\n",
       "</table>\n",
       "</div>"
      ],
      "text/plain": [
       "ANO            2017      2018      2019\n",
       "PAÍS                                   \n",
       "ARGENTINA  0.713418  0.480641 -0.238249\n",
       "BRASIL     0.627241 -1.862879 -1.491504"
      ]
     },
     "execution_count": 36,
     "metadata": {},
     "output_type": "execute_result"
    }
   ],
   "source": [
    "df2['EXP. TRIGO']"
   ]
  },
  {
   "cell_type": "code",
   "execution_count": 32,
   "metadata": {},
   "outputs": [
    {
     "data": {
      "text/html": [
       "<div>\n",
       "<style scoped>\n",
       "    .dataframe tbody tr th:only-of-type {\n",
       "        vertical-align: middle;\n",
       "    }\n",
       "\n",
       "    .dataframe tbody tr th {\n",
       "        vertical-align: top;\n",
       "    }\n",
       "\n",
       "    .dataframe thead th {\n",
       "        text-align: right;\n",
       "    }\n",
       "</style>\n",
       "<table border=\"1\" class=\"dataframe\">\n",
       "  <thead>\n",
       "    <tr style=\"text-align: right;\">\n",
       "      <th></th>\n",
       "      <th>EXP. TRIGO</th>\n",
       "      <th>EXP. ARROZ</th>\n",
       "    </tr>\n",
       "    <tr>\n",
       "      <th>PAÍS</th>\n",
       "      <th></th>\n",
       "      <th></th>\n",
       "    </tr>\n",
       "  </thead>\n",
       "  <tbody>\n",
       "    <tr>\n",
       "      <th>ARGENTINA</th>\n",
       "      <td>0.713418</td>\n",
       "      <td>-0.225940</td>\n",
       "    </tr>\n",
       "    <tr>\n",
       "      <th>BRASIL</th>\n",
       "      <td>0.627241</td>\n",
       "      <td>1.260346</td>\n",
       "    </tr>\n",
       "  </tbody>\n",
       "</table>\n",
       "</div>"
      ],
      "text/plain": [
       "           EXP. TRIGO  EXP. ARROZ\n",
       "PAÍS                             \n",
       "ARGENTINA    0.713418   -0.225940\n",
       "BRASIL       0.627241    1.260346"
      ]
     },
     "execution_count": 32,
     "metadata": {},
     "output_type": "execute_result"
    }
   ],
   "source": [
    "df2.xs(2017,axis=1,level=1)  # acessar valores de 2017, que está em uma coluna (AXIS=1) e está no NÍVEL 1 (level=1)"
   ]
  },
  {
   "cell_type": "code",
   "execution_count": 33,
   "metadata": {},
   "outputs": [
    {
     "data": {
      "text/plain": [
       "-1.8628793466853286"
      ]
     },
     "execution_count": 33,
     "metadata": {},
     "output_type": "execute_result"
    }
   ],
   "source": [
    "df2.loc[('BRASIL'),('EXP. TRIGO',2018)]     # Como no exemplo anterior: Desejo saber o valor de EXP. TRIGO do BRASIL em 2018:"
   ]
  },
  {
   "cell_type": "markdown",
   "metadata": {},
   "source": [
    "-------------------------------------------------------------------------------------------------------------------\n",
    "# AULA 18\n",
    "### Unindo Dataframes ( Merge, Join, Concatenate )"
   ]
  },
  {
   "cell_type": "markdown",
   "metadata": {},
   "source": [
    "- Concatenate\n",
    "\n",
    "Mais utilizado/apropriado para concatenar LINHAS.\n",
    "\n",
    "\n",
    "\n",
    "![](images/concatenate1.jpg)\n"
   ]
  },
  {
   "cell_type": "markdown",
   "metadata": {},
   "source": [
    "-------------------------------------------------------------------------------------------------------------------------------\n",
    "\n",
    "\n",
    "- Merge / Join\n",
    "\n",
    "Mais apropriado para concatenar COLUNAS.\n",
    "\n",
    "Essas funções possuem um atributo chamado HOW que especifica como a função irá concatenar:\n",
    " \n",
    "* LEFT (à esquerda)\n",
    "* INNER (internamente)\n",
    "* OUTER (externamente)\n",
    "* RIGHT (à direita)\n",
    "\n"
   ]
  },
  {
   "cell_type": "markdown",
   "metadata": {},
   "source": [
    "---------------------------------------------------------------\n",
    "\n",
    "##### Merge/Join utilizando LEFT\n",
    "\n",
    "O Dataframe da esquerda compara suas chaves com o Dataframe da direita e se forem comuns as colunas dos valores serão concatenadas --- da esquerda para a direita.\n",
    "\n",
    "\n",
    "![](images/merge_join_left.jpg)"
   ]
  },
  {
   "cell_type": "markdown",
   "metadata": {},
   "source": [
    "------------------------------------------------------------------\n",
    "\n",
    "##### Merge/Join utilizando RIGHT\n",
    "\n",
    "O Dataframe da direita compara suas chaves com o Dataframe da esquerda e se forem comuns as colunas dos valores serão concatenadas --- da direita para a esquerda.\n",
    "\n",
    "\n",
    "![](images/merge_join_right.jpg)"
   ]
  },
  {
   "cell_type": "markdown",
   "metadata": {},
   "source": [
    "------------------------------------------------------------------\n",
    "\n",
    "##### Merge/Join utilizando OUTER\n",
    "\n",
    "O Dataframe resultante irá colocar as chaves dos Dataframe da esquerda e da direita eirá verificar a correspondência de cada um e aquilo que não tiver correspondência será indicado o valor nulo.\n",
    "\n",
    "\n",
    "![](images/merge_join_outer.jpg)"
   ]
  },
  {
   "cell_type": "markdown",
   "metadata": {},
   "source": [
    "------------------------------------------------------------------\n",
    "\n",
    "##### Merge/Join utilizando INNER\n",
    "\n",
    "Basicamente é o contrário do OUTER. Nesse atributo somente o que existe em comum nos dois Dataframes será considerado.\n",
    "\n",
    "![](images/merge_join_inner.jpg)"
   ]
  },
  {
   "cell_type": "code",
   "execution_count": 2,
   "metadata": {},
   "outputs": [],
   "source": [
    "import pandas as pd\n",
    "import numpy as np\n",
    "np.random.seed(100)"
   ]
  },
  {
   "cell_type": "code",
   "execution_count": 9,
   "metadata": {},
   "outputs": [],
   "source": [
    "df1 = pd.DataFrame( {'A': ['A0', 'A1', 'A2', 'A3'],\n",
    "                     'B': ['B0', 'B1', 'B2', 'B3'],\n",
    "                     'C': ['C0', 'C1', 'C2', 'C3'],\n",
    "                     'D': ['D0', 'D1', 'D2', 'D3']},\n",
    "                     index = [0, 1, 2, 3])\n",
    "\n",
    "df2 = pd.DataFrame( {'A': ['A4', 'A5', 'A6', 'A7'],\n",
    "                     'B': ['B4', 'B5', 'B6', 'B7'],\n",
    "                     'C': ['C4', 'C5', 'C6', 'C7'],\n",
    "                     'D': ['D4', 'D5', 'D6', 'D7']},\n",
    "                     index = [4, 5, 6, 7])\n",
    "\n",
    "df3 = pd.DataFrame( {'A': ['A8', 'A9', 'A10', 'A11'],\n",
    "                     'B': ['B8', 'B9', 'B10', 'B11'],\n",
    "                     'C': ['C8', 'C9', 'C10', 'C11'],\n",
    "                     'D': ['D8', 'D9', 'D10', 'D11']},\n",
    "                     index = [8, 9, 10, 11])"
   ]
  },
  {
   "cell_type": "code",
   "execution_count": 10,
   "metadata": {},
   "outputs": [],
   "source": [
    "dicionario = {'ID':[10, 11, 12, 13,14,], 'NOME':['Mario', 'Joana','Claudia', 'Lucas','Gabriel'],\n",
    "              'CIDADE':['SÃO PAULO', 'RIO DE JANEIRO', 'SÃO PAULO', 'CAMPINAS', 'PORTO ALEGRE']}\n",
    "dicionario2 = {'ID':[16, 11, 12, 13, 18,], 'Experiência':['Junior', 'Senior', 'Pleno', 'Estagiário', 'Analista']}\n",
    "\n",
    "df4 = pd.DataFrame(data=dicionario)\n",
    "df5 = pd.DataFrame(data=dicionario2)"
   ]
  },
  {
   "cell_type": "code",
   "execution_count": 11,
   "metadata": {},
   "outputs": [
    {
     "data": {
      "text/html": [
       "<div>\n",
       "<style scoped>\n",
       "    .dataframe tbody tr th:only-of-type {\n",
       "        vertical-align: middle;\n",
       "    }\n",
       "\n",
       "    .dataframe tbody tr th {\n",
       "        vertical-align: top;\n",
       "    }\n",
       "\n",
       "    .dataframe thead th {\n",
       "        text-align: right;\n",
       "    }\n",
       "</style>\n",
       "<table border=\"1\" class=\"dataframe\">\n",
       "  <thead>\n",
       "    <tr style=\"text-align: right;\">\n",
       "      <th></th>\n",
       "      <th>A</th>\n",
       "      <th>B</th>\n",
       "      <th>C</th>\n",
       "      <th>D</th>\n",
       "    </tr>\n",
       "  </thead>\n",
       "  <tbody>\n",
       "    <tr>\n",
       "      <th>0</th>\n",
       "      <td>A0</td>\n",
       "      <td>B0</td>\n",
       "      <td>C0</td>\n",
       "      <td>D0</td>\n",
       "    </tr>\n",
       "    <tr>\n",
       "      <th>1</th>\n",
       "      <td>A1</td>\n",
       "      <td>B1</td>\n",
       "      <td>C1</td>\n",
       "      <td>D1</td>\n",
       "    </tr>\n",
       "    <tr>\n",
       "      <th>2</th>\n",
       "      <td>A2</td>\n",
       "      <td>B2</td>\n",
       "      <td>C2</td>\n",
       "      <td>D2</td>\n",
       "    </tr>\n",
       "    <tr>\n",
       "      <th>3</th>\n",
       "      <td>A3</td>\n",
       "      <td>B3</td>\n",
       "      <td>C3</td>\n",
       "      <td>D3</td>\n",
       "    </tr>\n",
       "  </tbody>\n",
       "</table>\n",
       "</div>"
      ],
      "text/plain": [
       "    A   B   C   D\n",
       "0  A0  B0  C0  D0\n",
       "1  A1  B1  C1  D1\n",
       "2  A2  B2  C2  D2\n",
       "3  A3  B3  C3  D3"
      ]
     },
     "execution_count": 11,
     "metadata": {},
     "output_type": "execute_result"
    }
   ],
   "source": [
    " df1"
   ]
  },
  {
   "cell_type": "code",
   "execution_count": 12,
   "metadata": {},
   "outputs": [
    {
     "data": {
      "text/html": [
       "<div>\n",
       "<style scoped>\n",
       "    .dataframe tbody tr th:only-of-type {\n",
       "        vertical-align: middle;\n",
       "    }\n",
       "\n",
       "    .dataframe tbody tr th {\n",
       "        vertical-align: top;\n",
       "    }\n",
       "\n",
       "    .dataframe thead th {\n",
       "        text-align: right;\n",
       "    }\n",
       "</style>\n",
       "<table border=\"1\" class=\"dataframe\">\n",
       "  <thead>\n",
       "    <tr style=\"text-align: right;\">\n",
       "      <th></th>\n",
       "      <th>A</th>\n",
       "      <th>B</th>\n",
       "      <th>C</th>\n",
       "      <th>D</th>\n",
       "    </tr>\n",
       "  </thead>\n",
       "  <tbody>\n",
       "    <tr>\n",
       "      <th>4</th>\n",
       "      <td>A4</td>\n",
       "      <td>B4</td>\n",
       "      <td>C4</td>\n",
       "      <td>D4</td>\n",
       "    </tr>\n",
       "    <tr>\n",
       "      <th>5</th>\n",
       "      <td>A5</td>\n",
       "      <td>B5</td>\n",
       "      <td>C5</td>\n",
       "      <td>D5</td>\n",
       "    </tr>\n",
       "    <tr>\n",
       "      <th>6</th>\n",
       "      <td>A6</td>\n",
       "      <td>B6</td>\n",
       "      <td>C6</td>\n",
       "      <td>D6</td>\n",
       "    </tr>\n",
       "    <tr>\n",
       "      <th>7</th>\n",
       "      <td>A7</td>\n",
       "      <td>B7</td>\n",
       "      <td>C7</td>\n",
       "      <td>D7</td>\n",
       "    </tr>\n",
       "  </tbody>\n",
       "</table>\n",
       "</div>"
      ],
      "text/plain": [
       "    A   B   C   D\n",
       "4  A4  B4  C4  D4\n",
       "5  A5  B5  C5  D5\n",
       "6  A6  B6  C6  D6\n",
       "7  A7  B7  C7  D7"
      ]
     },
     "execution_count": 12,
     "metadata": {},
     "output_type": "execute_result"
    }
   ],
   "source": [
    "df2"
   ]
  },
  {
   "cell_type": "code",
   "execution_count": 13,
   "metadata": {},
   "outputs": [
    {
     "data": {
      "text/html": [
       "<div>\n",
       "<style scoped>\n",
       "    .dataframe tbody tr th:only-of-type {\n",
       "        vertical-align: middle;\n",
       "    }\n",
       "\n",
       "    .dataframe tbody tr th {\n",
       "        vertical-align: top;\n",
       "    }\n",
       "\n",
       "    .dataframe thead th {\n",
       "        text-align: right;\n",
       "    }\n",
       "</style>\n",
       "<table border=\"1\" class=\"dataframe\">\n",
       "  <thead>\n",
       "    <tr style=\"text-align: right;\">\n",
       "      <th></th>\n",
       "      <th>A</th>\n",
       "      <th>B</th>\n",
       "      <th>C</th>\n",
       "      <th>D</th>\n",
       "    </tr>\n",
       "  </thead>\n",
       "  <tbody>\n",
       "    <tr>\n",
       "      <th>8</th>\n",
       "      <td>A8</td>\n",
       "      <td>B8</td>\n",
       "      <td>C8</td>\n",
       "      <td>D8</td>\n",
       "    </tr>\n",
       "    <tr>\n",
       "      <th>9</th>\n",
       "      <td>A9</td>\n",
       "      <td>B9</td>\n",
       "      <td>C9</td>\n",
       "      <td>D9</td>\n",
       "    </tr>\n",
       "    <tr>\n",
       "      <th>10</th>\n",
       "      <td>A10</td>\n",
       "      <td>B10</td>\n",
       "      <td>C10</td>\n",
       "      <td>D10</td>\n",
       "    </tr>\n",
       "    <tr>\n",
       "      <th>11</th>\n",
       "      <td>A11</td>\n",
       "      <td>B11</td>\n",
       "      <td>C11</td>\n",
       "      <td>D11</td>\n",
       "    </tr>\n",
       "  </tbody>\n",
       "</table>\n",
       "</div>"
      ],
      "text/plain": [
       "      A    B    C    D\n",
       "8    A8   B8   C8   D8\n",
       "9    A9   B9   C9   D9\n",
       "10  A10  B10  C10  D10\n",
       "11  A11  B11  C11  D11"
      ]
     },
     "execution_count": 13,
     "metadata": {},
     "output_type": "execute_result"
    }
   ],
   "source": [
    "df3"
   ]
  },
  {
   "cell_type": "markdown",
   "metadata": {},
   "source": [
    "#### Usando a função de CONCATENAR:"
   ]
  },
  {
   "cell_type": "code",
   "execution_count": 16,
   "metadata": {},
   "outputs": [],
   "source": [
    "df_concat = pd.concat( [df1,df2] )  # PRECISA DOS COLCHETES !!!"
   ]
  },
  {
   "cell_type": "code",
   "execution_count": 17,
   "metadata": {},
   "outputs": [
    {
     "data": {
      "text/html": [
       "<div>\n",
       "<style scoped>\n",
       "    .dataframe tbody tr th:only-of-type {\n",
       "        vertical-align: middle;\n",
       "    }\n",
       "\n",
       "    .dataframe tbody tr th {\n",
       "        vertical-align: top;\n",
       "    }\n",
       "\n",
       "    .dataframe thead th {\n",
       "        text-align: right;\n",
       "    }\n",
       "</style>\n",
       "<table border=\"1\" class=\"dataframe\">\n",
       "  <thead>\n",
       "    <tr style=\"text-align: right;\">\n",
       "      <th></th>\n",
       "      <th>A</th>\n",
       "      <th>B</th>\n",
       "      <th>C</th>\n",
       "      <th>D</th>\n",
       "    </tr>\n",
       "  </thead>\n",
       "  <tbody>\n",
       "    <tr>\n",
       "      <th>0</th>\n",
       "      <td>A0</td>\n",
       "      <td>B0</td>\n",
       "      <td>C0</td>\n",
       "      <td>D0</td>\n",
       "    </tr>\n",
       "    <tr>\n",
       "      <th>1</th>\n",
       "      <td>A1</td>\n",
       "      <td>B1</td>\n",
       "      <td>C1</td>\n",
       "      <td>D1</td>\n",
       "    </tr>\n",
       "    <tr>\n",
       "      <th>2</th>\n",
       "      <td>A2</td>\n",
       "      <td>B2</td>\n",
       "      <td>C2</td>\n",
       "      <td>D2</td>\n",
       "    </tr>\n",
       "    <tr>\n",
       "      <th>3</th>\n",
       "      <td>A3</td>\n",
       "      <td>B3</td>\n",
       "      <td>C3</td>\n",
       "      <td>D3</td>\n",
       "    </tr>\n",
       "    <tr>\n",
       "      <th>4</th>\n",
       "      <td>A4</td>\n",
       "      <td>B4</td>\n",
       "      <td>C4</td>\n",
       "      <td>D4</td>\n",
       "    </tr>\n",
       "    <tr>\n",
       "      <th>5</th>\n",
       "      <td>A5</td>\n",
       "      <td>B5</td>\n",
       "      <td>C5</td>\n",
       "      <td>D5</td>\n",
       "    </tr>\n",
       "    <tr>\n",
       "      <th>6</th>\n",
       "      <td>A6</td>\n",
       "      <td>B6</td>\n",
       "      <td>C6</td>\n",
       "      <td>D6</td>\n",
       "    </tr>\n",
       "    <tr>\n",
       "      <th>7</th>\n",
       "      <td>A7</td>\n",
       "      <td>B7</td>\n",
       "      <td>C7</td>\n",
       "      <td>D7</td>\n",
       "    </tr>\n",
       "  </tbody>\n",
       "</table>\n",
       "</div>"
      ],
      "text/plain": [
       "    A   B   C   D\n",
       "0  A0  B0  C0  D0\n",
       "1  A1  B1  C1  D1\n",
       "2  A2  B2  C2  D2\n",
       "3  A3  B3  C3  D3\n",
       "4  A4  B4  C4  D4\n",
       "5  A5  B5  C5  D5\n",
       "6  A6  B6  C6  D6\n",
       "7  A7  B7  C7  D7"
      ]
     },
     "execution_count": 17,
     "metadata": {},
     "output_type": "execute_result"
    }
   ],
   "source": [
    "df_concat"
   ]
  },
  {
   "cell_type": "code",
   "execution_count": 18,
   "metadata": {},
   "outputs": [],
   "source": [
    "df_concat = pd.concat( [df1,df2,df3] )"
   ]
  },
  {
   "cell_type": "code",
   "execution_count": 19,
   "metadata": {},
   "outputs": [
    {
     "data": {
      "text/html": [
       "<div>\n",
       "<style scoped>\n",
       "    .dataframe tbody tr th:only-of-type {\n",
       "        vertical-align: middle;\n",
       "    }\n",
       "\n",
       "    .dataframe tbody tr th {\n",
       "        vertical-align: top;\n",
       "    }\n",
       "\n",
       "    .dataframe thead th {\n",
       "        text-align: right;\n",
       "    }\n",
       "</style>\n",
       "<table border=\"1\" class=\"dataframe\">\n",
       "  <thead>\n",
       "    <tr style=\"text-align: right;\">\n",
       "      <th></th>\n",
       "      <th>A</th>\n",
       "      <th>B</th>\n",
       "      <th>C</th>\n",
       "      <th>D</th>\n",
       "    </tr>\n",
       "  </thead>\n",
       "  <tbody>\n",
       "    <tr>\n",
       "      <th>0</th>\n",
       "      <td>A0</td>\n",
       "      <td>B0</td>\n",
       "      <td>C0</td>\n",
       "      <td>D0</td>\n",
       "    </tr>\n",
       "    <tr>\n",
       "      <th>1</th>\n",
       "      <td>A1</td>\n",
       "      <td>B1</td>\n",
       "      <td>C1</td>\n",
       "      <td>D1</td>\n",
       "    </tr>\n",
       "    <tr>\n",
       "      <th>2</th>\n",
       "      <td>A2</td>\n",
       "      <td>B2</td>\n",
       "      <td>C2</td>\n",
       "      <td>D2</td>\n",
       "    </tr>\n",
       "    <tr>\n",
       "      <th>3</th>\n",
       "      <td>A3</td>\n",
       "      <td>B3</td>\n",
       "      <td>C3</td>\n",
       "      <td>D3</td>\n",
       "    </tr>\n",
       "    <tr>\n",
       "      <th>4</th>\n",
       "      <td>A4</td>\n",
       "      <td>B4</td>\n",
       "      <td>C4</td>\n",
       "      <td>D4</td>\n",
       "    </tr>\n",
       "    <tr>\n",
       "      <th>5</th>\n",
       "      <td>A5</td>\n",
       "      <td>B5</td>\n",
       "      <td>C5</td>\n",
       "      <td>D5</td>\n",
       "    </tr>\n",
       "    <tr>\n",
       "      <th>6</th>\n",
       "      <td>A6</td>\n",
       "      <td>B6</td>\n",
       "      <td>C6</td>\n",
       "      <td>D6</td>\n",
       "    </tr>\n",
       "    <tr>\n",
       "      <th>7</th>\n",
       "      <td>A7</td>\n",
       "      <td>B7</td>\n",
       "      <td>C7</td>\n",
       "      <td>D7</td>\n",
       "    </tr>\n",
       "    <tr>\n",
       "      <th>8</th>\n",
       "      <td>A8</td>\n",
       "      <td>B8</td>\n",
       "      <td>C8</td>\n",
       "      <td>D8</td>\n",
       "    </tr>\n",
       "    <tr>\n",
       "      <th>9</th>\n",
       "      <td>A9</td>\n",
       "      <td>B9</td>\n",
       "      <td>C9</td>\n",
       "      <td>D9</td>\n",
       "    </tr>\n",
       "    <tr>\n",
       "      <th>10</th>\n",
       "      <td>A10</td>\n",
       "      <td>B10</td>\n",
       "      <td>C10</td>\n",
       "      <td>D10</td>\n",
       "    </tr>\n",
       "    <tr>\n",
       "      <th>11</th>\n",
       "      <td>A11</td>\n",
       "      <td>B11</td>\n",
       "      <td>C11</td>\n",
       "      <td>D11</td>\n",
       "    </tr>\n",
       "  </tbody>\n",
       "</table>\n",
       "</div>"
      ],
      "text/plain": [
       "      A    B    C    D\n",
       "0    A0   B0   C0   D0\n",
       "1    A1   B1   C1   D1\n",
       "2    A2   B2   C2   D2\n",
       "3    A3   B3   C3   D3\n",
       "4    A4   B4   C4   D4\n",
       "5    A5   B5   C5   D5\n",
       "6    A6   B6   C6   D6\n",
       "7    A7   B7   C7   D7\n",
       "8    A8   B8   C8   D8\n",
       "9    A9   B9   C9   D9\n",
       "10  A10  B10  C10  D10\n",
       "11  A11  B11  C11  D11"
      ]
     },
     "execution_count": 19,
     "metadata": {},
     "output_type": "execute_result"
    }
   ],
   "source": [
    "df_concat"
   ]
  },
  {
   "cell_type": "markdown",
   "metadata": {},
   "source": [
    "#### Como dissemos concatenar no sentido das colunas não é apropriado com essa função, vejamos abaixo o motivo:"
   ]
  },
  {
   "cell_type": "code",
   "execution_count": 20,
   "metadata": {},
   "outputs": [],
   "source": [
    "df_concat = pd.concat([df1,df2], axis=1)"
   ]
  },
  {
   "cell_type": "code",
   "execution_count": 22,
   "metadata": {},
   "outputs": [
    {
     "data": {
      "text/html": [
       "<div>\n",
       "<style scoped>\n",
       "    .dataframe tbody tr th:only-of-type {\n",
       "        vertical-align: middle;\n",
       "    }\n",
       "\n",
       "    .dataframe tbody tr th {\n",
       "        vertical-align: top;\n",
       "    }\n",
       "\n",
       "    .dataframe thead th {\n",
       "        text-align: right;\n",
       "    }\n",
       "</style>\n",
       "<table border=\"1\" class=\"dataframe\">\n",
       "  <thead>\n",
       "    <tr style=\"text-align: right;\">\n",
       "      <th></th>\n",
       "      <th>A</th>\n",
       "      <th>B</th>\n",
       "      <th>C</th>\n",
       "      <th>D</th>\n",
       "      <th>A</th>\n",
       "      <th>B</th>\n",
       "      <th>C</th>\n",
       "      <th>D</th>\n",
       "    </tr>\n",
       "  </thead>\n",
       "  <tbody>\n",
       "    <tr>\n",
       "      <th>0</th>\n",
       "      <td>A0</td>\n",
       "      <td>B0</td>\n",
       "      <td>C0</td>\n",
       "      <td>D0</td>\n",
       "      <td>NaN</td>\n",
       "      <td>NaN</td>\n",
       "      <td>NaN</td>\n",
       "      <td>NaN</td>\n",
       "    </tr>\n",
       "    <tr>\n",
       "      <th>1</th>\n",
       "      <td>A1</td>\n",
       "      <td>B1</td>\n",
       "      <td>C1</td>\n",
       "      <td>D1</td>\n",
       "      <td>NaN</td>\n",
       "      <td>NaN</td>\n",
       "      <td>NaN</td>\n",
       "      <td>NaN</td>\n",
       "    </tr>\n",
       "    <tr>\n",
       "      <th>2</th>\n",
       "      <td>A2</td>\n",
       "      <td>B2</td>\n",
       "      <td>C2</td>\n",
       "      <td>D2</td>\n",
       "      <td>NaN</td>\n",
       "      <td>NaN</td>\n",
       "      <td>NaN</td>\n",
       "      <td>NaN</td>\n",
       "    </tr>\n",
       "    <tr>\n",
       "      <th>3</th>\n",
       "      <td>A3</td>\n",
       "      <td>B3</td>\n",
       "      <td>C3</td>\n",
       "      <td>D3</td>\n",
       "      <td>NaN</td>\n",
       "      <td>NaN</td>\n",
       "      <td>NaN</td>\n",
       "      <td>NaN</td>\n",
       "    </tr>\n",
       "    <tr>\n",
       "      <th>4</th>\n",
       "      <td>NaN</td>\n",
       "      <td>NaN</td>\n",
       "      <td>NaN</td>\n",
       "      <td>NaN</td>\n",
       "      <td>A4</td>\n",
       "      <td>B4</td>\n",
       "      <td>C4</td>\n",
       "      <td>D4</td>\n",
       "    </tr>\n",
       "    <tr>\n",
       "      <th>5</th>\n",
       "      <td>NaN</td>\n",
       "      <td>NaN</td>\n",
       "      <td>NaN</td>\n",
       "      <td>NaN</td>\n",
       "      <td>A5</td>\n",
       "      <td>B5</td>\n",
       "      <td>C5</td>\n",
       "      <td>D5</td>\n",
       "    </tr>\n",
       "    <tr>\n",
       "      <th>6</th>\n",
       "      <td>NaN</td>\n",
       "      <td>NaN</td>\n",
       "      <td>NaN</td>\n",
       "      <td>NaN</td>\n",
       "      <td>A6</td>\n",
       "      <td>B6</td>\n",
       "      <td>C6</td>\n",
       "      <td>D6</td>\n",
       "    </tr>\n",
       "    <tr>\n",
       "      <th>7</th>\n",
       "      <td>NaN</td>\n",
       "      <td>NaN</td>\n",
       "      <td>NaN</td>\n",
       "      <td>NaN</td>\n",
       "      <td>A7</td>\n",
       "      <td>B7</td>\n",
       "      <td>C7</td>\n",
       "      <td>D7</td>\n",
       "    </tr>\n",
       "  </tbody>\n",
       "</table>\n",
       "</div>"
      ],
      "text/plain": [
       "     A    B    C    D    A    B    C    D\n",
       "0   A0   B0   C0   D0  NaN  NaN  NaN  NaN\n",
       "1   A1   B1   C1   D1  NaN  NaN  NaN  NaN\n",
       "2   A2   B2   C2   D2  NaN  NaN  NaN  NaN\n",
       "3   A3   B3   C3   D3  NaN  NaN  NaN  NaN\n",
       "4  NaN  NaN  NaN  NaN   A4   B4   C4   D4\n",
       "5  NaN  NaN  NaN  NaN   A5   B5   C5   D5\n",
       "6  NaN  NaN  NaN  NaN   A6   B6   C6   D6\n",
       "7  NaN  NaN  NaN  NaN   A7   B7   C7   D7"
      ]
     },
     "execution_count": 22,
     "metadata": {},
     "output_type": "execute_result"
    }
   ],
   "source": [
    "df_concat     # Aparece um monte de NaN e os valores numéricos ficam expressos diagonalmente!"
   ]
  },
  {
   "cell_type": "markdown",
   "metadata": {},
   "source": [
    "#### Usando a função MERGE:"
   ]
  },
  {
   "cell_type": "code",
   "execution_count": 23,
   "metadata": {},
   "outputs": [
    {
     "data": {
      "text/html": [
       "<div>\n",
       "<style scoped>\n",
       "    .dataframe tbody tr th:only-of-type {\n",
       "        vertical-align: middle;\n",
       "    }\n",
       "\n",
       "    .dataframe tbody tr th {\n",
       "        vertical-align: top;\n",
       "    }\n",
       "\n",
       "    .dataframe thead th {\n",
       "        text-align: right;\n",
       "    }\n",
       "</style>\n",
       "<table border=\"1\" class=\"dataframe\">\n",
       "  <thead>\n",
       "    <tr style=\"text-align: right;\">\n",
       "      <th></th>\n",
       "      <th>ID</th>\n",
       "      <th>NOME</th>\n",
       "      <th>CIDADE</th>\n",
       "    </tr>\n",
       "  </thead>\n",
       "  <tbody>\n",
       "    <tr>\n",
       "      <th>0</th>\n",
       "      <td>10</td>\n",
       "      <td>Mario</td>\n",
       "      <td>SÃO PAULO</td>\n",
       "    </tr>\n",
       "    <tr>\n",
       "      <th>1</th>\n",
       "      <td>11</td>\n",
       "      <td>Joana</td>\n",
       "      <td>RIO DE JANEIRO</td>\n",
       "    </tr>\n",
       "    <tr>\n",
       "      <th>2</th>\n",
       "      <td>12</td>\n",
       "      <td>Claudia</td>\n",
       "      <td>SÃO PAULO</td>\n",
       "    </tr>\n",
       "    <tr>\n",
       "      <th>3</th>\n",
       "      <td>13</td>\n",
       "      <td>Lucas</td>\n",
       "      <td>CAMPINAS</td>\n",
       "    </tr>\n",
       "    <tr>\n",
       "      <th>4</th>\n",
       "      <td>14</td>\n",
       "      <td>Gabriel</td>\n",
       "      <td>PORTO ALEGRE</td>\n",
       "    </tr>\n",
       "  </tbody>\n",
       "</table>\n",
       "</div>"
      ],
      "text/plain": [
       "   ID     NOME          CIDADE\n",
       "0  10    Mario       SÃO PAULO\n",
       "1  11    Joana  RIO DE JANEIRO\n",
       "2  12  Claudia       SÃO PAULO\n",
       "3  13    Lucas        CAMPINAS\n",
       "4  14  Gabriel    PORTO ALEGRE"
      ]
     },
     "execution_count": 23,
     "metadata": {},
     "output_type": "execute_result"
    }
   ],
   "source": [
    "df4"
   ]
  },
  {
   "cell_type": "code",
   "execution_count": 24,
   "metadata": {},
   "outputs": [
    {
     "data": {
      "text/html": [
       "<div>\n",
       "<style scoped>\n",
       "    .dataframe tbody tr th:only-of-type {\n",
       "        vertical-align: middle;\n",
       "    }\n",
       "\n",
       "    .dataframe tbody tr th {\n",
       "        vertical-align: top;\n",
       "    }\n",
       "\n",
       "    .dataframe thead th {\n",
       "        text-align: right;\n",
       "    }\n",
       "</style>\n",
       "<table border=\"1\" class=\"dataframe\">\n",
       "  <thead>\n",
       "    <tr style=\"text-align: right;\">\n",
       "      <th></th>\n",
       "      <th>ID</th>\n",
       "      <th>Experiência</th>\n",
       "    </tr>\n",
       "  </thead>\n",
       "  <tbody>\n",
       "    <tr>\n",
       "      <th>0</th>\n",
       "      <td>16</td>\n",
       "      <td>Junior</td>\n",
       "    </tr>\n",
       "    <tr>\n",
       "      <th>1</th>\n",
       "      <td>11</td>\n",
       "      <td>Senior</td>\n",
       "    </tr>\n",
       "    <tr>\n",
       "      <th>2</th>\n",
       "      <td>12</td>\n",
       "      <td>Pleno</td>\n",
       "    </tr>\n",
       "    <tr>\n",
       "      <th>3</th>\n",
       "      <td>13</td>\n",
       "      <td>Estagiário</td>\n",
       "    </tr>\n",
       "    <tr>\n",
       "      <th>4</th>\n",
       "      <td>18</td>\n",
       "      <td>Analista</td>\n",
       "    </tr>\n",
       "  </tbody>\n",
       "</table>\n",
       "</div>"
      ],
      "text/plain": [
       "   ID Experiência\n",
       "0  16      Junior\n",
       "1  11      Senior\n",
       "2  12       Pleno\n",
       "3  13  Estagiário\n",
       "4  18    Analista"
      ]
     },
     "execution_count": 24,
     "metadata": {},
     "output_type": "execute_result"
    }
   ],
   "source": [
    "df5"
   ]
  },
  {
   "cell_type": "markdown",
   "metadata": {},
   "source": [
    "- MERGE ( INNER )"
   ]
  },
  {
   "cell_type": "code",
   "execution_count": 30,
   "metadata": {},
   "outputs": [],
   "source": [
    "merge_inner = pd.merge(df4,df5)        # NÃO precisei especificar o modo INNER do merge porque já é o padrão inicial da função"
   ]
  },
  {
   "cell_type": "code",
   "execution_count": 31,
   "metadata": {},
   "outputs": [
    {
     "data": {
      "text/html": [
       "<div>\n",
       "<style scoped>\n",
       "    .dataframe tbody tr th:only-of-type {\n",
       "        vertical-align: middle;\n",
       "    }\n",
       "\n",
       "    .dataframe tbody tr th {\n",
       "        vertical-align: top;\n",
       "    }\n",
       "\n",
       "    .dataframe thead th {\n",
       "        text-align: right;\n",
       "    }\n",
       "</style>\n",
       "<table border=\"1\" class=\"dataframe\">\n",
       "  <thead>\n",
       "    <tr style=\"text-align: right;\">\n",
       "      <th></th>\n",
       "      <th>ID</th>\n",
       "      <th>NOME</th>\n",
       "      <th>CIDADE</th>\n",
       "      <th>Experiência</th>\n",
       "    </tr>\n",
       "  </thead>\n",
       "  <tbody>\n",
       "    <tr>\n",
       "      <th>0</th>\n",
       "      <td>11</td>\n",
       "      <td>Joana</td>\n",
       "      <td>RIO DE JANEIRO</td>\n",
       "      <td>Senior</td>\n",
       "    </tr>\n",
       "    <tr>\n",
       "      <th>1</th>\n",
       "      <td>12</td>\n",
       "      <td>Claudia</td>\n",
       "      <td>SÃO PAULO</td>\n",
       "      <td>Pleno</td>\n",
       "    </tr>\n",
       "    <tr>\n",
       "      <th>2</th>\n",
       "      <td>13</td>\n",
       "      <td>Lucas</td>\n",
       "      <td>CAMPINAS</td>\n",
       "      <td>Estagiário</td>\n",
       "    </tr>\n",
       "  </tbody>\n",
       "</table>\n",
       "</div>"
      ],
      "text/plain": [
       "   ID     NOME          CIDADE Experiência\n",
       "0  11    Joana  RIO DE JANEIRO      Senior\n",
       "1  12  Claudia       SÃO PAULO       Pleno\n",
       "2  13    Lucas        CAMPINAS  Estagiário"
      ]
     },
     "execution_count": 31,
     "metadata": {},
     "output_type": "execute_result"
    }
   ],
   "source": [
    "merge_inner"
   ]
  },
  {
   "cell_type": "markdown",
   "metadata": {},
   "source": [
    "- MERGE ( OUTER )"
   ]
  },
  {
   "cell_type": "code",
   "execution_count": 32,
   "metadata": {},
   "outputs": [],
   "source": [
    "merge_outer = pd.merge(df4,df5, how='outer')"
   ]
  },
  {
   "cell_type": "code",
   "execution_count": 33,
   "metadata": {},
   "outputs": [
    {
     "data": {
      "text/html": [
       "<div>\n",
       "<style scoped>\n",
       "    .dataframe tbody tr th:only-of-type {\n",
       "        vertical-align: middle;\n",
       "    }\n",
       "\n",
       "    .dataframe tbody tr th {\n",
       "        vertical-align: top;\n",
       "    }\n",
       "\n",
       "    .dataframe thead th {\n",
       "        text-align: right;\n",
       "    }\n",
       "</style>\n",
       "<table border=\"1\" class=\"dataframe\">\n",
       "  <thead>\n",
       "    <tr style=\"text-align: right;\">\n",
       "      <th></th>\n",
       "      <th>ID</th>\n",
       "      <th>NOME</th>\n",
       "      <th>CIDADE</th>\n",
       "      <th>Experiência</th>\n",
       "    </tr>\n",
       "  </thead>\n",
       "  <tbody>\n",
       "    <tr>\n",
       "      <th>0</th>\n",
       "      <td>10</td>\n",
       "      <td>Mario</td>\n",
       "      <td>SÃO PAULO</td>\n",
       "      <td>NaN</td>\n",
       "    </tr>\n",
       "    <tr>\n",
       "      <th>1</th>\n",
       "      <td>11</td>\n",
       "      <td>Joana</td>\n",
       "      <td>RIO DE JANEIRO</td>\n",
       "      <td>Senior</td>\n",
       "    </tr>\n",
       "    <tr>\n",
       "      <th>2</th>\n",
       "      <td>12</td>\n",
       "      <td>Claudia</td>\n",
       "      <td>SÃO PAULO</td>\n",
       "      <td>Pleno</td>\n",
       "    </tr>\n",
       "    <tr>\n",
       "      <th>3</th>\n",
       "      <td>13</td>\n",
       "      <td>Lucas</td>\n",
       "      <td>CAMPINAS</td>\n",
       "      <td>Estagiário</td>\n",
       "    </tr>\n",
       "    <tr>\n",
       "      <th>4</th>\n",
       "      <td>14</td>\n",
       "      <td>Gabriel</td>\n",
       "      <td>PORTO ALEGRE</td>\n",
       "      <td>NaN</td>\n",
       "    </tr>\n",
       "    <tr>\n",
       "      <th>5</th>\n",
       "      <td>16</td>\n",
       "      <td>NaN</td>\n",
       "      <td>NaN</td>\n",
       "      <td>Junior</td>\n",
       "    </tr>\n",
       "    <tr>\n",
       "      <th>6</th>\n",
       "      <td>18</td>\n",
       "      <td>NaN</td>\n",
       "      <td>NaN</td>\n",
       "      <td>Analista</td>\n",
       "    </tr>\n",
       "  </tbody>\n",
       "</table>\n",
       "</div>"
      ],
      "text/plain": [
       "   ID     NOME          CIDADE Experiência\n",
       "0  10    Mario       SÃO PAULO         NaN\n",
       "1  11    Joana  RIO DE JANEIRO      Senior\n",
       "2  12  Claudia       SÃO PAULO       Pleno\n",
       "3  13    Lucas        CAMPINAS  Estagiário\n",
       "4  14  Gabriel    PORTO ALEGRE         NaN\n",
       "5  16      NaN             NaN      Junior\n",
       "6  18      NaN             NaN    Analista"
      ]
     },
     "execution_count": 33,
     "metadata": {},
     "output_type": "execute_result"
    }
   ],
   "source": [
    "merge_outer"
   ]
  },
  {
   "cell_type": "markdown",
   "metadata": {},
   "source": [
    "- MERGE ( LEFT )"
   ]
  },
  {
   "cell_type": "code",
   "execution_count": 34,
   "metadata": {},
   "outputs": [],
   "source": [
    "merge_left = pd.merge(df4,df5, how='left')"
   ]
  },
  {
   "cell_type": "code",
   "execution_count": 35,
   "metadata": {},
   "outputs": [
    {
     "data": {
      "text/html": [
       "<div>\n",
       "<style scoped>\n",
       "    .dataframe tbody tr th:only-of-type {\n",
       "        vertical-align: middle;\n",
       "    }\n",
       "\n",
       "    .dataframe tbody tr th {\n",
       "        vertical-align: top;\n",
       "    }\n",
       "\n",
       "    .dataframe thead th {\n",
       "        text-align: right;\n",
       "    }\n",
       "</style>\n",
       "<table border=\"1\" class=\"dataframe\">\n",
       "  <thead>\n",
       "    <tr style=\"text-align: right;\">\n",
       "      <th></th>\n",
       "      <th>ID</th>\n",
       "      <th>NOME</th>\n",
       "      <th>CIDADE</th>\n",
       "      <th>Experiência</th>\n",
       "    </tr>\n",
       "  </thead>\n",
       "  <tbody>\n",
       "    <tr>\n",
       "      <th>0</th>\n",
       "      <td>10</td>\n",
       "      <td>Mario</td>\n",
       "      <td>SÃO PAULO</td>\n",
       "      <td>NaN</td>\n",
       "    </tr>\n",
       "    <tr>\n",
       "      <th>1</th>\n",
       "      <td>11</td>\n",
       "      <td>Joana</td>\n",
       "      <td>RIO DE JANEIRO</td>\n",
       "      <td>Senior</td>\n",
       "    </tr>\n",
       "    <tr>\n",
       "      <th>2</th>\n",
       "      <td>12</td>\n",
       "      <td>Claudia</td>\n",
       "      <td>SÃO PAULO</td>\n",
       "      <td>Pleno</td>\n",
       "    </tr>\n",
       "    <tr>\n",
       "      <th>3</th>\n",
       "      <td>13</td>\n",
       "      <td>Lucas</td>\n",
       "      <td>CAMPINAS</td>\n",
       "      <td>Estagiário</td>\n",
       "    </tr>\n",
       "    <tr>\n",
       "      <th>4</th>\n",
       "      <td>14</td>\n",
       "      <td>Gabriel</td>\n",
       "      <td>PORTO ALEGRE</td>\n",
       "      <td>NaN</td>\n",
       "    </tr>\n",
       "  </tbody>\n",
       "</table>\n",
       "</div>"
      ],
      "text/plain": [
       "   ID     NOME          CIDADE Experiência\n",
       "0  10    Mario       SÃO PAULO         NaN\n",
       "1  11    Joana  RIO DE JANEIRO      Senior\n",
       "2  12  Claudia       SÃO PAULO       Pleno\n",
       "3  13    Lucas        CAMPINAS  Estagiário\n",
       "4  14  Gabriel    PORTO ALEGRE         NaN"
      ]
     },
     "execution_count": 35,
     "metadata": {},
     "output_type": "execute_result"
    }
   ],
   "source": [
    "merge_left"
   ]
  },
  {
   "cell_type": "markdown",
   "metadata": {},
   "source": [
    "- MERGE ( RIGHT )"
   ]
  },
  {
   "cell_type": "code",
   "execution_count": 36,
   "metadata": {},
   "outputs": [],
   "source": [
    "merge_right = pd.merge(df4,df5, how='right')"
   ]
  },
  {
   "cell_type": "code",
   "execution_count": 37,
   "metadata": {},
   "outputs": [
    {
     "data": {
      "text/html": [
       "<div>\n",
       "<style scoped>\n",
       "    .dataframe tbody tr th:only-of-type {\n",
       "        vertical-align: middle;\n",
       "    }\n",
       "\n",
       "    .dataframe tbody tr th {\n",
       "        vertical-align: top;\n",
       "    }\n",
       "\n",
       "    .dataframe thead th {\n",
       "        text-align: right;\n",
       "    }\n",
       "</style>\n",
       "<table border=\"1\" class=\"dataframe\">\n",
       "  <thead>\n",
       "    <tr style=\"text-align: right;\">\n",
       "      <th></th>\n",
       "      <th>ID</th>\n",
       "      <th>NOME</th>\n",
       "      <th>CIDADE</th>\n",
       "      <th>Experiência</th>\n",
       "    </tr>\n",
       "  </thead>\n",
       "  <tbody>\n",
       "    <tr>\n",
       "      <th>0</th>\n",
       "      <td>11</td>\n",
       "      <td>Joana</td>\n",
       "      <td>RIO DE JANEIRO</td>\n",
       "      <td>Senior</td>\n",
       "    </tr>\n",
       "    <tr>\n",
       "      <th>1</th>\n",
       "      <td>12</td>\n",
       "      <td>Claudia</td>\n",
       "      <td>SÃO PAULO</td>\n",
       "      <td>Pleno</td>\n",
       "    </tr>\n",
       "    <tr>\n",
       "      <th>2</th>\n",
       "      <td>13</td>\n",
       "      <td>Lucas</td>\n",
       "      <td>CAMPINAS</td>\n",
       "      <td>Estagiário</td>\n",
       "    </tr>\n",
       "    <tr>\n",
       "      <th>3</th>\n",
       "      <td>16</td>\n",
       "      <td>NaN</td>\n",
       "      <td>NaN</td>\n",
       "      <td>Junior</td>\n",
       "    </tr>\n",
       "    <tr>\n",
       "      <th>4</th>\n",
       "      <td>18</td>\n",
       "      <td>NaN</td>\n",
       "      <td>NaN</td>\n",
       "      <td>Analista</td>\n",
       "    </tr>\n",
       "  </tbody>\n",
       "</table>\n",
       "</div>"
      ],
      "text/plain": [
       "   ID     NOME          CIDADE Experiência\n",
       "0  11    Joana  RIO DE JANEIRO      Senior\n",
       "1  12  Claudia       SÃO PAULO       Pleno\n",
       "2  13    Lucas        CAMPINAS  Estagiário\n",
       "3  16      NaN             NaN      Junior\n",
       "4  18      NaN             NaN    Analista"
      ]
     },
     "execution_count": 37,
     "metadata": {},
     "output_type": "execute_result"
    }
   ],
   "source": [
    "merge_right"
   ]
  },
  {
   "cell_type": "markdown",
   "metadata": {},
   "source": [
    "### Diferença entre o MERGE e o JOIN"
   ]
  },
  {
   "cell_type": "markdown",
   "metadata": {},
   "source": [
    "#### CASO JOIN\n",
    "\n",
    "\n",
    "- O Join é utilizado para unir Dataframes através de SEUS ÍNDICES (iguais entre eles), se houver colunas com o mesmo nome entre os dois Dataframes ocorrerá um erro e será necessário incluir sufixos para as duas colunas que possuem nomes iguais para que o comando funcione. Nos Dataframes abaixo existe uma coluna em comum, a coluna 'ID'\n",
    "\n",
    "![](images/caso_join.jpg)"
   ]
  },
  {
   "cell_type": "markdown",
   "metadata": {},
   "source": [
    "Se fizermos: join_esquerda = df4.join(df5) irá dar erro por causa das colunas iguais então devemos fazer como se segue abaixo:"
   ]
  },
  {
   "cell_type": "code",
   "execution_count": 38,
   "metadata": {},
   "outputs": [],
   "source": [
    "join_esquerda = df4.join(df5, lsuffix='_x', rsuffix='_y')   "
   ]
  },
  {
   "cell_type": "markdown",
   "metadata": {},
   "source": [
    "lsuffix (sufixo do df da esquerda) e rsuffix (sufixo do df da direita) irão acrescentar termos nas colunas que são iguais nos dois df´s\n",
    "\n",
    "Os termos _x e _y serão acrescentados nas colunas para diferenciá-las e as duas colunas serão mostradas, o que não é legal !"
   ]
  },
  {
   "cell_type": "code",
   "execution_count": 39,
   "metadata": {},
   "outputs": [
    {
     "data": {
      "text/html": [
       "<div>\n",
       "<style scoped>\n",
       "    .dataframe tbody tr th:only-of-type {\n",
       "        vertical-align: middle;\n",
       "    }\n",
       "\n",
       "    .dataframe tbody tr th {\n",
       "        vertical-align: top;\n",
       "    }\n",
       "\n",
       "    .dataframe thead th {\n",
       "        text-align: right;\n",
       "    }\n",
       "</style>\n",
       "<table border=\"1\" class=\"dataframe\">\n",
       "  <thead>\n",
       "    <tr style=\"text-align: right;\">\n",
       "      <th></th>\n",
       "      <th>IDx</th>\n",
       "      <th>NOME</th>\n",
       "      <th>CIDADE</th>\n",
       "      <th>IDy</th>\n",
       "      <th>Experiência</th>\n",
       "    </tr>\n",
       "  </thead>\n",
       "  <tbody>\n",
       "    <tr>\n",
       "      <th>0</th>\n",
       "      <td>10</td>\n",
       "      <td>Mario</td>\n",
       "      <td>SÃO PAULO</td>\n",
       "      <td>16</td>\n",
       "      <td>Junior</td>\n",
       "    </tr>\n",
       "    <tr>\n",
       "      <th>1</th>\n",
       "      <td>11</td>\n",
       "      <td>Joana</td>\n",
       "      <td>RIO DE JANEIRO</td>\n",
       "      <td>11</td>\n",
       "      <td>Senior</td>\n",
       "    </tr>\n",
       "    <tr>\n",
       "      <th>2</th>\n",
       "      <td>12</td>\n",
       "      <td>Claudia</td>\n",
       "      <td>SÃO PAULO</td>\n",
       "      <td>12</td>\n",
       "      <td>Pleno</td>\n",
       "    </tr>\n",
       "    <tr>\n",
       "      <th>3</th>\n",
       "      <td>13</td>\n",
       "      <td>Lucas</td>\n",
       "      <td>CAMPINAS</td>\n",
       "      <td>13</td>\n",
       "      <td>Estagiário</td>\n",
       "    </tr>\n",
       "    <tr>\n",
       "      <th>4</th>\n",
       "      <td>14</td>\n",
       "      <td>Gabriel</td>\n",
       "      <td>PORTO ALEGRE</td>\n",
       "      <td>18</td>\n",
       "      <td>Analista</td>\n",
       "    </tr>\n",
       "  </tbody>\n",
       "</table>\n",
       "</div>"
      ],
      "text/plain": [
       "   IDx     NOME          CIDADE  IDy Experiência\n",
       "0   10    Mario       SÃO PAULO   16      Junior\n",
       "1   11    Joana  RIO DE JANEIRO   11      Senior\n",
       "2   12  Claudia       SÃO PAULO   12       Pleno\n",
       "3   13    Lucas        CAMPINAS   13  Estagiário\n",
       "4   14  Gabriel    PORTO ALEGRE   18    Analista"
      ]
     },
     "execution_count": 39,
     "metadata": {},
     "output_type": "execute_result"
    }
   ],
   "source": [
    "join_esquerda"
   ]
  },
  {
   "cell_type": "code",
   "execution_count": 40,
   "metadata": {},
   "outputs": [],
   "source": [
    "dicionario3 = {'NOME':['Mario', 'Joana','Claudia', 'Lucas','Gabriel'],\n",
    "              'CIDADE':['SÃO PAULO', 'RIO DE JANEIRO', 'SÃO PAULO', 'CAMPINAS', 'PORTO ALEGRE']}\n",
    "dicionario4 = {'Experiência':['Junior', 'Senior', 'Pleno', 'Estagiário', 'Analista']}\n",
    "\n",
    "df7 = pd.DataFrame(data=dicionario3)\n",
    "df8 = pd.DataFrame(data=dicionario4)\n"
   ]
  },
  {
   "cell_type": "code",
   "execution_count": 41,
   "metadata": {},
   "outputs": [
    {
     "data": {
      "text/html": [
       "<div>\n",
       "<style scoped>\n",
       "    .dataframe tbody tr th:only-of-type {\n",
       "        vertical-align: middle;\n",
       "    }\n",
       "\n",
       "    .dataframe tbody tr th {\n",
       "        vertical-align: top;\n",
       "    }\n",
       "\n",
       "    .dataframe thead th {\n",
       "        text-align: right;\n",
       "    }\n",
       "</style>\n",
       "<table border=\"1\" class=\"dataframe\">\n",
       "  <thead>\n",
       "    <tr style=\"text-align: right;\">\n",
       "      <th></th>\n",
       "      <th>NOME</th>\n",
       "      <th>CIDADE</th>\n",
       "    </tr>\n",
       "  </thead>\n",
       "  <tbody>\n",
       "    <tr>\n",
       "      <th>0</th>\n",
       "      <td>Mario</td>\n",
       "      <td>SÃO PAULO</td>\n",
       "    </tr>\n",
       "    <tr>\n",
       "      <th>1</th>\n",
       "      <td>Joana</td>\n",
       "      <td>RIO DE JANEIRO</td>\n",
       "    </tr>\n",
       "    <tr>\n",
       "      <th>2</th>\n",
       "      <td>Claudia</td>\n",
       "      <td>SÃO PAULO</td>\n",
       "    </tr>\n",
       "    <tr>\n",
       "      <th>3</th>\n",
       "      <td>Lucas</td>\n",
       "      <td>CAMPINAS</td>\n",
       "    </tr>\n",
       "    <tr>\n",
       "      <th>4</th>\n",
       "      <td>Gabriel</td>\n",
       "      <td>PORTO ALEGRE</td>\n",
       "    </tr>\n",
       "  </tbody>\n",
       "</table>\n",
       "</div>"
      ],
      "text/plain": [
       "      NOME          CIDADE\n",
       "0    Mario       SÃO PAULO\n",
       "1    Joana  RIO DE JANEIRO\n",
       "2  Claudia       SÃO PAULO\n",
       "3    Lucas        CAMPINAS\n",
       "4  Gabriel    PORTO ALEGRE"
      ]
     },
     "execution_count": 41,
     "metadata": {},
     "output_type": "execute_result"
    }
   ],
   "source": [
    "df7"
   ]
  },
  {
   "cell_type": "code",
   "execution_count": 42,
   "metadata": {},
   "outputs": [
    {
     "data": {
      "text/html": [
       "<div>\n",
       "<style scoped>\n",
       "    .dataframe tbody tr th:only-of-type {\n",
       "        vertical-align: middle;\n",
       "    }\n",
       "\n",
       "    .dataframe tbody tr th {\n",
       "        vertical-align: top;\n",
       "    }\n",
       "\n",
       "    .dataframe thead th {\n",
       "        text-align: right;\n",
       "    }\n",
       "</style>\n",
       "<table border=\"1\" class=\"dataframe\">\n",
       "  <thead>\n",
       "    <tr style=\"text-align: right;\">\n",
       "      <th></th>\n",
       "      <th>Experiência</th>\n",
       "    </tr>\n",
       "  </thead>\n",
       "  <tbody>\n",
       "    <tr>\n",
       "      <th>0</th>\n",
       "      <td>Junior</td>\n",
       "    </tr>\n",
       "    <tr>\n",
       "      <th>1</th>\n",
       "      <td>Senior</td>\n",
       "    </tr>\n",
       "    <tr>\n",
       "      <th>2</th>\n",
       "      <td>Pleno</td>\n",
       "    </tr>\n",
       "    <tr>\n",
       "      <th>3</th>\n",
       "      <td>Estagiário</td>\n",
       "    </tr>\n",
       "    <tr>\n",
       "      <th>4</th>\n",
       "      <td>Analista</td>\n",
       "    </tr>\n",
       "  </tbody>\n",
       "</table>\n",
       "</div>"
      ],
      "text/plain": [
       "  Experiência\n",
       "0      Junior\n",
       "1      Senior\n",
       "2       Pleno\n",
       "3  Estagiário\n",
       "4    Analista"
      ]
     },
     "execution_count": 42,
     "metadata": {},
     "output_type": "execute_result"
    }
   ],
   "source": [
    "df8"
   ]
  },
  {
   "cell_type": "markdown",
   "metadata": {},
   "source": [
    "-------------------------------------------------------------------------------------------------------------------------------\n",
    "\n",
    "Acima temos dois df em que não existem colunas em comum e APENAS OS ÍNDICES coincidem. \n",
    "\n",
    "- O JOIN É APROPRIADO NESSES CASOS !"
   ]
  },
  {
   "cell_type": "code",
   "execution_count": 43,
   "metadata": {},
   "outputs": [],
   "source": [
    "join_esquerda2 = df7.join(df8)"
   ]
  },
  {
   "cell_type": "code",
   "execution_count": 44,
   "metadata": {},
   "outputs": [
    {
     "data": {
      "text/html": [
       "<div>\n",
       "<style scoped>\n",
       "    .dataframe tbody tr th:only-of-type {\n",
       "        vertical-align: middle;\n",
       "    }\n",
       "\n",
       "    .dataframe tbody tr th {\n",
       "        vertical-align: top;\n",
       "    }\n",
       "\n",
       "    .dataframe thead th {\n",
       "        text-align: right;\n",
       "    }\n",
       "</style>\n",
       "<table border=\"1\" class=\"dataframe\">\n",
       "  <thead>\n",
       "    <tr style=\"text-align: right;\">\n",
       "      <th></th>\n",
       "      <th>NOME</th>\n",
       "      <th>CIDADE</th>\n",
       "      <th>Experiência</th>\n",
       "    </tr>\n",
       "  </thead>\n",
       "  <tbody>\n",
       "    <tr>\n",
       "      <th>0</th>\n",
       "      <td>Mario</td>\n",
       "      <td>SÃO PAULO</td>\n",
       "      <td>Junior</td>\n",
       "    </tr>\n",
       "    <tr>\n",
       "      <th>1</th>\n",
       "      <td>Joana</td>\n",
       "      <td>RIO DE JANEIRO</td>\n",
       "      <td>Senior</td>\n",
       "    </tr>\n",
       "    <tr>\n",
       "      <th>2</th>\n",
       "      <td>Claudia</td>\n",
       "      <td>SÃO PAULO</td>\n",
       "      <td>Pleno</td>\n",
       "    </tr>\n",
       "    <tr>\n",
       "      <th>3</th>\n",
       "      <td>Lucas</td>\n",
       "      <td>CAMPINAS</td>\n",
       "      <td>Estagiário</td>\n",
       "    </tr>\n",
       "    <tr>\n",
       "      <th>4</th>\n",
       "      <td>Gabriel</td>\n",
       "      <td>PORTO ALEGRE</td>\n",
       "      <td>Analista</td>\n",
       "    </tr>\n",
       "  </tbody>\n",
       "</table>\n",
       "</div>"
      ],
      "text/plain": [
       "      NOME          CIDADE Experiência\n",
       "0    Mario       SÃO PAULO      Junior\n",
       "1    Joana  RIO DE JANEIRO      Senior\n",
       "2  Claudia       SÃO PAULO       Pleno\n",
       "3    Lucas        CAMPINAS  Estagiário\n",
       "4  Gabriel    PORTO ALEGRE    Analista"
      ]
     },
     "execution_count": 44,
     "metadata": {},
     "output_type": "execute_result"
    }
   ],
   "source": [
    "join_esquerda2"
   ]
  },
  {
   "cell_type": "markdown",
   "metadata": {},
   "source": [
    "#### CASO MERGE\n",
    "\n",
    "- O MERGE é utilizado para quando queremos unir Dataframes em que EXISTAM COLUNAS COMUNS entre eles. \n",
    "Ocorre erro se os df´s não possuírem alguma coluna em comum.\n",
    "\n",
    "Nos Dataframes abaixo o MERGE funcionária (Coluna 'ID' em ambos):\n",
    "\n",
    "\n",
    "![](images/caso_merge.jpg)"
   ]
  },
  {
   "cell_type": "markdown",
   "metadata": {},
   "source": [
    "-------------------------------------------------------------------------------------------------------------------------------\n",
    "\n",
    "\n",
    "Já nos Dataframes abaixo, que não possuem colunas em comum, o MERGE NÃO FUNCIONARIA ( daria erro ):\n",
    "\n",
    "![](images/caso_merge1.jpg)"
   ]
  },
  {
   "cell_type": "markdown",
   "metadata": {},
   "source": [
    "# AULA 19\n",
    "### Grouby Dataframes\n",
    "\n",
    "- Agrupar dados de alguma forma específica"
   ]
  },
  {
   "cell_type": "code",
   "execution_count": 45,
   "metadata": {},
   "outputs": [],
   "source": [
    "import pandas as pd\n",
    "import numpy as np"
   ]
  },
  {
   "cell_type": "code",
   "execution_count": 46,
   "metadata": {},
   "outputs": [],
   "source": [
    "data = {'Sede':['SP','SP','MG','MG','RJ','RJ','ES','ES'],\n",
    "       'Vendedor':['Jorge','Ana','Tiago','Pedro','Raphaela','Guto','Maria','Carolina'],\n",
    "       'Vendas':[2000,2500,3100,1200,1500,3900,2900,3900]}\n",
    "df = pd.DataFrame(data)"
   ]
  },
  {
   "cell_type": "code",
   "execution_count": 47,
   "metadata": {},
   "outputs": [
    {
     "data": {
      "text/html": [
       "<div>\n",
       "<style scoped>\n",
       "    .dataframe tbody tr th:only-of-type {\n",
       "        vertical-align: middle;\n",
       "    }\n",
       "\n",
       "    .dataframe tbody tr th {\n",
       "        vertical-align: top;\n",
       "    }\n",
       "\n",
       "    .dataframe thead th {\n",
       "        text-align: right;\n",
       "    }\n",
       "</style>\n",
       "<table border=\"1\" class=\"dataframe\">\n",
       "  <thead>\n",
       "    <tr style=\"text-align: right;\">\n",
       "      <th></th>\n",
       "      <th>Sede</th>\n",
       "      <th>Vendedor</th>\n",
       "      <th>Vendas</th>\n",
       "    </tr>\n",
       "  </thead>\n",
       "  <tbody>\n",
       "    <tr>\n",
       "      <th>0</th>\n",
       "      <td>SP</td>\n",
       "      <td>Jorge</td>\n",
       "      <td>2000</td>\n",
       "    </tr>\n",
       "    <tr>\n",
       "      <th>1</th>\n",
       "      <td>SP</td>\n",
       "      <td>Ana</td>\n",
       "      <td>2500</td>\n",
       "    </tr>\n",
       "    <tr>\n",
       "      <th>2</th>\n",
       "      <td>MG</td>\n",
       "      <td>Tiago</td>\n",
       "      <td>3100</td>\n",
       "    </tr>\n",
       "    <tr>\n",
       "      <th>3</th>\n",
       "      <td>MG</td>\n",
       "      <td>Pedro</td>\n",
       "      <td>1200</td>\n",
       "    </tr>\n",
       "    <tr>\n",
       "      <th>4</th>\n",
       "      <td>RJ</td>\n",
       "      <td>Raphaela</td>\n",
       "      <td>1500</td>\n",
       "    </tr>\n",
       "    <tr>\n",
       "      <th>5</th>\n",
       "      <td>RJ</td>\n",
       "      <td>Guto</td>\n",
       "      <td>3900</td>\n",
       "    </tr>\n",
       "    <tr>\n",
       "      <th>6</th>\n",
       "      <td>ES</td>\n",
       "      <td>Maria</td>\n",
       "      <td>2900</td>\n",
       "    </tr>\n",
       "    <tr>\n",
       "      <th>7</th>\n",
       "      <td>ES</td>\n",
       "      <td>Carolina</td>\n",
       "      <td>3900</td>\n",
       "    </tr>\n",
       "  </tbody>\n",
       "</table>\n",
       "</div>"
      ],
      "text/plain": [
       "  Sede  Vendedor  Vendas\n",
       "0   SP     Jorge    2000\n",
       "1   SP       Ana    2500\n",
       "2   MG     Tiago    3100\n",
       "3   MG     Pedro    1200\n",
       "4   RJ  Raphaela    1500\n",
       "5   RJ      Guto    3900\n",
       "6   ES     Maria    2900\n",
       "7   ES  Carolina    3900"
      ]
     },
     "execution_count": 47,
     "metadata": {},
     "output_type": "execute_result"
    }
   ],
   "source": [
    "df"
   ]
  },
  {
   "cell_type": "code",
   "execution_count": 49,
   "metadata": {},
   "outputs": [],
   "source": [
    "by_sede = df.groupby('Sede')  #Agrupe esse dataframe por Sede"
   ]
  },
  {
   "cell_type": "markdown",
   "metadata": {},
   "source": [
    "Acima é mostrado que o groupby ocorreu e está alocado na memória, porém não temos uma visualização desse novo agrupamento."
   ]
  },
  {
   "cell_type": "code",
   "execution_count": 55,
   "metadata": {},
   "outputs": [
    {
     "data": {
      "text/html": [
       "<div>\n",
       "<style scoped>\n",
       "    .dataframe tbody tr th:only-of-type {\n",
       "        vertical-align: middle;\n",
       "    }\n",
       "\n",
       "    .dataframe tbody tr th {\n",
       "        vertical-align: top;\n",
       "    }\n",
       "\n",
       "    .dataframe thead th {\n",
       "        text-align: right;\n",
       "    }\n",
       "</style>\n",
       "<table border=\"1\" class=\"dataframe\">\n",
       "  <thead>\n",
       "    <tr style=\"text-align: right;\">\n",
       "      <th></th>\n",
       "      <th>Vendedor</th>\n",
       "      <th>Vendas</th>\n",
       "    </tr>\n",
       "    <tr>\n",
       "      <th>Sede</th>\n",
       "      <th></th>\n",
       "      <th></th>\n",
       "    </tr>\n",
       "  </thead>\n",
       "  <tbody>\n",
       "    <tr>\n",
       "      <th>ES</th>\n",
       "      <td>Maria</td>\n",
       "      <td>3900</td>\n",
       "    </tr>\n",
       "    <tr>\n",
       "      <th>MG</th>\n",
       "      <td>Tiago</td>\n",
       "      <td>3100</td>\n",
       "    </tr>\n",
       "    <tr>\n",
       "      <th>RJ</th>\n",
       "      <td>Raphaela</td>\n",
       "      <td>3900</td>\n",
       "    </tr>\n",
       "    <tr>\n",
       "      <th>SP</th>\n",
       "      <td>Jorge</td>\n",
       "      <td>2500</td>\n",
       "    </tr>\n",
       "  </tbody>\n",
       "</table>\n",
       "</div>"
      ],
      "text/plain": [
       "      Vendedor  Vendas\n",
       "Sede                  \n",
       "ES       Maria    3900\n",
       "MG       Tiago    3100\n",
       "RJ    Raphaela    3900\n",
       "SP       Jorge    2500"
      ]
     },
     "execution_count": 55,
     "metadata": {},
     "output_type": "execute_result"
    }
   ],
   "source": [
    "by_sede.max() # Qual foi as sedes que venderam mais:"
   ]
  },
  {
   "cell_type": "code",
   "execution_count": 57,
   "metadata": {},
   "outputs": [
    {
     "data": {
      "text/html": [
       "<div>\n",
       "<style scoped>\n",
       "    .dataframe tbody tr th:only-of-type {\n",
       "        vertical-align: middle;\n",
       "    }\n",
       "\n",
       "    .dataframe tbody tr th {\n",
       "        vertical-align: top;\n",
       "    }\n",
       "\n",
       "    .dataframe thead th {\n",
       "        text-align: right;\n",
       "    }\n",
       "</style>\n",
       "<table border=\"1\" class=\"dataframe\">\n",
       "  <thead>\n",
       "    <tr style=\"text-align: right;\">\n",
       "      <th></th>\n",
       "      <th>Vendas</th>\n",
       "    </tr>\n",
       "    <tr>\n",
       "      <th>Sede</th>\n",
       "      <th></th>\n",
       "    </tr>\n",
       "  </thead>\n",
       "  <tbody>\n",
       "    <tr>\n",
       "      <th>ES</th>\n",
       "      <td>3400</td>\n",
       "    </tr>\n",
       "    <tr>\n",
       "      <th>MG</th>\n",
       "      <td>2150</td>\n",
       "    </tr>\n",
       "    <tr>\n",
       "      <th>RJ</th>\n",
       "      <td>2700</td>\n",
       "    </tr>\n",
       "    <tr>\n",
       "      <th>SP</th>\n",
       "      <td>2250</td>\n",
       "    </tr>\n",
       "  </tbody>\n",
       "</table>\n",
       "</div>"
      ],
      "text/plain": [
       "      Vendas\n",
       "Sede        \n",
       "ES      3400\n",
       "MG      2150\n",
       "RJ      2700\n",
       "SP      2250"
      ]
     },
     "execution_count": 57,
     "metadata": {},
     "output_type": "execute_result"
    }
   ],
   "source": [
    "by_sede.mean() # Retorne a média por sede desse df agrupado"
   ]
  },
  {
   "cell_type": "code",
   "execution_count": 59,
   "metadata": {},
   "outputs": [
    {
     "data": {
      "text/html": [
       "<div>\n",
       "<style scoped>\n",
       "    .dataframe tbody tr th:only-of-type {\n",
       "        vertical-align: middle;\n",
       "    }\n",
       "\n",
       "    .dataframe tbody tr th {\n",
       "        vertical-align: top;\n",
       "    }\n",
       "\n",
       "    .dataframe thead tr th {\n",
       "        text-align: left;\n",
       "    }\n",
       "\n",
       "    .dataframe thead tr:last-of-type th {\n",
       "        text-align: right;\n",
       "    }\n",
       "</style>\n",
       "<table border=\"1\" class=\"dataframe\">\n",
       "  <thead>\n",
       "    <tr>\n",
       "      <th></th>\n",
       "      <th colspan=\"8\" halign=\"left\">Vendas</th>\n",
       "    </tr>\n",
       "    <tr>\n",
       "      <th></th>\n",
       "      <th>count</th>\n",
       "      <th>mean</th>\n",
       "      <th>std</th>\n",
       "      <th>min</th>\n",
       "      <th>25%</th>\n",
       "      <th>50%</th>\n",
       "      <th>75%</th>\n",
       "      <th>max</th>\n",
       "    </tr>\n",
       "    <tr>\n",
       "      <th>Sede</th>\n",
       "      <th></th>\n",
       "      <th></th>\n",
       "      <th></th>\n",
       "      <th></th>\n",
       "      <th></th>\n",
       "      <th></th>\n",
       "      <th></th>\n",
       "      <th></th>\n",
       "    </tr>\n",
       "  </thead>\n",
       "  <tbody>\n",
       "    <tr>\n",
       "      <th>ES</th>\n",
       "      <td>2.0</td>\n",
       "      <td>3400.0</td>\n",
       "      <td>707.106781</td>\n",
       "      <td>2900.0</td>\n",
       "      <td>3150.0</td>\n",
       "      <td>3400.0</td>\n",
       "      <td>3650.0</td>\n",
       "      <td>3900.0</td>\n",
       "    </tr>\n",
       "    <tr>\n",
       "      <th>MG</th>\n",
       "      <td>2.0</td>\n",
       "      <td>2150.0</td>\n",
       "      <td>1343.502884</td>\n",
       "      <td>1200.0</td>\n",
       "      <td>1675.0</td>\n",
       "      <td>2150.0</td>\n",
       "      <td>2625.0</td>\n",
       "      <td>3100.0</td>\n",
       "    </tr>\n",
       "    <tr>\n",
       "      <th>RJ</th>\n",
       "      <td>2.0</td>\n",
       "      <td>2700.0</td>\n",
       "      <td>1697.056275</td>\n",
       "      <td>1500.0</td>\n",
       "      <td>2100.0</td>\n",
       "      <td>2700.0</td>\n",
       "      <td>3300.0</td>\n",
       "      <td>3900.0</td>\n",
       "    </tr>\n",
       "    <tr>\n",
       "      <th>SP</th>\n",
       "      <td>2.0</td>\n",
       "      <td>2250.0</td>\n",
       "      <td>353.553391</td>\n",
       "      <td>2000.0</td>\n",
       "      <td>2125.0</td>\n",
       "      <td>2250.0</td>\n",
       "      <td>2375.0</td>\n",
       "      <td>2500.0</td>\n",
       "    </tr>\n",
       "  </tbody>\n",
       "</table>\n",
       "</div>"
      ],
      "text/plain": [
       "     Vendas                                                             \n",
       "      count    mean          std     min     25%     50%     75%     max\n",
       "Sede                                                                    \n",
       "ES      2.0  3400.0   707.106781  2900.0  3150.0  3400.0  3650.0  3900.0\n",
       "MG      2.0  2150.0  1343.502884  1200.0  1675.0  2150.0  2625.0  3100.0\n",
       "RJ      2.0  2700.0  1697.056275  1500.0  2100.0  2700.0  3300.0  3900.0\n",
       "SP      2.0  2250.0   353.553391  2000.0  2125.0  2250.0  2375.0  2500.0"
      ]
     },
     "execution_count": 59,
     "metadata": {},
     "output_type": "execute_result"
    }
   ],
   "source": [
    "by_sede.describe() # Dados estatísticos para o df agrupado"
   ]
  },
  {
   "cell_type": "code",
   "execution_count": 61,
   "metadata": {},
   "outputs": [
    {
     "data": {
      "text/html": [
       "<div>\n",
       "<style scoped>\n",
       "    .dataframe tbody tr th:only-of-type {\n",
       "        vertical-align: middle;\n",
       "    }\n",
       "\n",
       "    .dataframe tbody tr th {\n",
       "        vertical-align: top;\n",
       "    }\n",
       "\n",
       "    .dataframe thead th {\n",
       "        text-align: right;\n",
       "    }\n",
       "</style>\n",
       "<table border=\"1\" class=\"dataframe\">\n",
       "  <thead>\n",
       "    <tr style=\"text-align: right;\">\n",
       "      <th></th>\n",
       "      <th>Sede</th>\n",
       "      <th>ES</th>\n",
       "      <th>MG</th>\n",
       "      <th>RJ</th>\n",
       "      <th>SP</th>\n",
       "    </tr>\n",
       "  </thead>\n",
       "  <tbody>\n",
       "    <tr>\n",
       "      <th rowspan=\"8\" valign=\"top\">Vendas</th>\n",
       "      <th>count</th>\n",
       "      <td>2.000000</td>\n",
       "      <td>2.000000</td>\n",
       "      <td>2.000000</td>\n",
       "      <td>2.000000</td>\n",
       "    </tr>\n",
       "    <tr>\n",
       "      <th>mean</th>\n",
       "      <td>3400.000000</td>\n",
       "      <td>2150.000000</td>\n",
       "      <td>2700.000000</td>\n",
       "      <td>2250.000000</td>\n",
       "    </tr>\n",
       "    <tr>\n",
       "      <th>std</th>\n",
       "      <td>707.106781</td>\n",
       "      <td>1343.502884</td>\n",
       "      <td>1697.056275</td>\n",
       "      <td>353.553391</td>\n",
       "    </tr>\n",
       "    <tr>\n",
       "      <th>min</th>\n",
       "      <td>2900.000000</td>\n",
       "      <td>1200.000000</td>\n",
       "      <td>1500.000000</td>\n",
       "      <td>2000.000000</td>\n",
       "    </tr>\n",
       "    <tr>\n",
       "      <th>25%</th>\n",
       "      <td>3150.000000</td>\n",
       "      <td>1675.000000</td>\n",
       "      <td>2100.000000</td>\n",
       "      <td>2125.000000</td>\n",
       "    </tr>\n",
       "    <tr>\n",
       "      <th>50%</th>\n",
       "      <td>3400.000000</td>\n",
       "      <td>2150.000000</td>\n",
       "      <td>2700.000000</td>\n",
       "      <td>2250.000000</td>\n",
       "    </tr>\n",
       "    <tr>\n",
       "      <th>75%</th>\n",
       "      <td>3650.000000</td>\n",
       "      <td>2625.000000</td>\n",
       "      <td>3300.000000</td>\n",
       "      <td>2375.000000</td>\n",
       "    </tr>\n",
       "    <tr>\n",
       "      <th>max</th>\n",
       "      <td>3900.000000</td>\n",
       "      <td>3100.000000</td>\n",
       "      <td>3900.000000</td>\n",
       "      <td>2500.000000</td>\n",
       "    </tr>\n",
       "  </tbody>\n",
       "</table>\n",
       "</div>"
      ],
      "text/plain": [
       "Sede                   ES           MG           RJ           SP\n",
       "Vendas count     2.000000     2.000000     2.000000     2.000000\n",
       "       mean   3400.000000  2150.000000  2700.000000  2250.000000\n",
       "       std     707.106781  1343.502884  1697.056275   353.553391\n",
       "       min    2900.000000  1200.000000  1500.000000  2000.000000\n",
       "       25%    3150.000000  1675.000000  2100.000000  2125.000000\n",
       "       50%    3400.000000  2150.000000  2700.000000  2250.000000\n",
       "       75%    3650.000000  2625.000000  3300.000000  2375.000000\n",
       "       max    3900.000000  3100.000000  3900.000000  2500.000000"
      ]
     },
     "execution_count": 61,
     "metadata": {},
     "output_type": "execute_result"
    }
   ],
   "source": [
    "by_sede.describe().transpose() # Inverte a tabela anterior (O que era linha vira coluna e o que era coluna vira linha)"
   ]
  },
  {
   "cell_type": "code",
   "execution_count": 62,
   "metadata": {},
   "outputs": [
    {
     "data": {
      "text/plain": [
       "Vendas  count       2.000000\n",
       "        mean     2250.000000\n",
       "        std       353.553391\n",
       "        min      2000.000000\n",
       "        25%      2125.000000\n",
       "        50%      2250.000000\n",
       "        75%      2375.000000\n",
       "        max      2500.000000\n",
       "Name: SP, dtype: float64"
      ]
     },
     "execution_count": 62,
     "metadata": {},
     "output_type": "execute_result"
    }
   ],
   "source": [
    "by_sede.describe().transpose()['SP'] # Mostra os dados da tabela anterior só para o estado de SP"
   ]
  },
  {
   "cell_type": "markdown",
   "metadata": {},
   "source": [
    "------------------------------------------------------------------\n",
    "\n",
    "#### Agrupando Dataframes Multi-Index"
   ]
  },
  {
   "cell_type": "code",
   "execution_count": 63,
   "metadata": {},
   "outputs": [],
   "source": [
    "arrays = [['São Paulo', 'São Paulo', 'Rio de Janeiro', 'Rio de Janeiro','Minas Gerais','Minas Gerais'],\n",
    "['Garrafas','Copos','Garrafas','Copos','Garrafas','Copos' ]]\n",
    "index = pd.MultiIndex.from_arrays(arrays, names=('Estado', 'Produto'))\n",
    "df1 = pd.DataFrame({'Total Vendido R$': [10000, 35000, 22400, 12890,10880,13900]},index=index)"
   ]
  },
  {
   "cell_type": "code",
   "execution_count": 64,
   "metadata": {},
   "outputs": [
    {
     "data": {
      "text/html": [
       "<div>\n",
       "<style scoped>\n",
       "    .dataframe tbody tr th:only-of-type {\n",
       "        vertical-align: middle;\n",
       "    }\n",
       "\n",
       "    .dataframe tbody tr th {\n",
       "        vertical-align: top;\n",
       "    }\n",
       "\n",
       "    .dataframe thead th {\n",
       "        text-align: right;\n",
       "    }\n",
       "</style>\n",
       "<table border=\"1\" class=\"dataframe\">\n",
       "  <thead>\n",
       "    <tr style=\"text-align: right;\">\n",
       "      <th></th>\n",
       "      <th></th>\n",
       "      <th>Total Vendido R$</th>\n",
       "    </tr>\n",
       "    <tr>\n",
       "      <th>Estado</th>\n",
       "      <th>Produto</th>\n",
       "      <th></th>\n",
       "    </tr>\n",
       "  </thead>\n",
       "  <tbody>\n",
       "    <tr>\n",
       "      <th rowspan=\"2\" valign=\"top\">São Paulo</th>\n",
       "      <th>Garrafas</th>\n",
       "      <td>10000</td>\n",
       "    </tr>\n",
       "    <tr>\n",
       "      <th>Copos</th>\n",
       "      <td>35000</td>\n",
       "    </tr>\n",
       "    <tr>\n",
       "      <th rowspan=\"2\" valign=\"top\">Rio de Janeiro</th>\n",
       "      <th>Garrafas</th>\n",
       "      <td>22400</td>\n",
       "    </tr>\n",
       "    <tr>\n",
       "      <th>Copos</th>\n",
       "      <td>12890</td>\n",
       "    </tr>\n",
       "    <tr>\n",
       "      <th rowspan=\"2\" valign=\"top\">Minas Gerais</th>\n",
       "      <th>Garrafas</th>\n",
       "      <td>10880</td>\n",
       "    </tr>\n",
       "    <tr>\n",
       "      <th>Copos</th>\n",
       "      <td>13900</td>\n",
       "    </tr>\n",
       "  </tbody>\n",
       "</table>\n",
       "</div>"
      ],
      "text/plain": [
       "                         Total Vendido R$\n",
       "Estado         Produto                   \n",
       "São Paulo      Garrafas             10000\n",
       "               Copos                35000\n",
       "Rio de Janeiro Garrafas             22400\n",
       "               Copos                12890\n",
       "Minas Gerais   Garrafas             10880\n",
       "               Copos                13900"
      ]
     },
     "execution_count": 64,
     "metadata": {},
     "output_type": "execute_result"
    }
   ],
   "source": [
    "df1"
   ]
  },
  {
   "cell_type": "code",
   "execution_count": 65,
   "metadata": {},
   "outputs": [],
   "source": [
    "multi_byestado = df1.groupby('Estado',level=0) "
   ]
  },
  {
   "cell_type": "markdown",
   "metadata": {},
   "source": [
    "Agrupar o df1 por 'Estado' e é preciso indicar que 'Estado está no level 0 dos índices"
   ]
  },
  {
   "cell_type": "code",
   "execution_count": 66,
   "metadata": {},
   "outputs": [
    {
     "data": {
      "text/plain": [
       "<pandas.core.groupby.generic.DataFrameGroupBy object at 0x00000268EA5F5848>"
      ]
     },
     "execution_count": 66,
     "metadata": {},
     "output_type": "execute_result"
    }
   ],
   "source": [
    "multi_byestado"
   ]
  },
  {
   "cell_type": "code",
   "execution_count": 67,
   "metadata": {},
   "outputs": [
    {
     "data": {
      "text/html": [
       "<div>\n",
       "<style scoped>\n",
       "    .dataframe tbody tr th:only-of-type {\n",
       "        vertical-align: middle;\n",
       "    }\n",
       "\n",
       "    .dataframe tbody tr th {\n",
       "        vertical-align: top;\n",
       "    }\n",
       "\n",
       "    .dataframe thead th {\n",
       "        text-align: right;\n",
       "    }\n",
       "</style>\n",
       "<table border=\"1\" class=\"dataframe\">\n",
       "  <thead>\n",
       "    <tr style=\"text-align: right;\">\n",
       "      <th></th>\n",
       "      <th>Total Vendido R$</th>\n",
       "    </tr>\n",
       "    <tr>\n",
       "      <th>Estado</th>\n",
       "      <th></th>\n",
       "    </tr>\n",
       "  </thead>\n",
       "  <tbody>\n",
       "    <tr>\n",
       "      <th>Minas Gerais</th>\n",
       "      <td>12390</td>\n",
       "    </tr>\n",
       "    <tr>\n",
       "      <th>Rio de Janeiro</th>\n",
       "      <td>17645</td>\n",
       "    </tr>\n",
       "    <tr>\n",
       "      <th>São Paulo</th>\n",
       "      <td>22500</td>\n",
       "    </tr>\n",
       "  </tbody>\n",
       "</table>\n",
       "</div>"
      ],
      "text/plain": [
       "                Total Vendido R$\n",
       "Estado                          \n",
       "Minas Gerais               12390\n",
       "Rio de Janeiro             17645\n",
       "São Paulo                  22500"
      ]
     },
     "execution_count": 67,
     "metadata": {},
     "output_type": "execute_result"
    }
   ],
   "source": [
    "multi_byestado.mean()"
   ]
  },
  {
   "cell_type": "code",
   "execution_count": 68,
   "metadata": {},
   "outputs": [
    {
     "data": {
      "text/html": [
       "<div>\n",
       "<style scoped>\n",
       "    .dataframe tbody tr th:only-of-type {\n",
       "        vertical-align: middle;\n",
       "    }\n",
       "\n",
       "    .dataframe tbody tr th {\n",
       "        vertical-align: top;\n",
       "    }\n",
       "\n",
       "    .dataframe thead th {\n",
       "        text-align: right;\n",
       "    }\n",
       "</style>\n",
       "<table border=\"1\" class=\"dataframe\">\n",
       "  <thead>\n",
       "    <tr style=\"text-align: right;\">\n",
       "      <th></th>\n",
       "      <th>Total Vendido R$</th>\n",
       "    </tr>\n",
       "    <tr>\n",
       "      <th>Estado</th>\n",
       "      <th></th>\n",
       "    </tr>\n",
       "  </thead>\n",
       "  <tbody>\n",
       "    <tr>\n",
       "      <th>Minas Gerais</th>\n",
       "      <td>13900</td>\n",
       "    </tr>\n",
       "    <tr>\n",
       "      <th>Rio de Janeiro</th>\n",
       "      <td>22400</td>\n",
       "    </tr>\n",
       "    <tr>\n",
       "      <th>São Paulo</th>\n",
       "      <td>35000</td>\n",
       "    </tr>\n",
       "  </tbody>\n",
       "</table>\n",
       "</div>"
      ],
      "text/plain": [
       "                Total Vendido R$\n",
       "Estado                          \n",
       "Minas Gerais               13900\n",
       "Rio de Janeiro             22400\n",
       "São Paulo                  35000"
      ]
     },
     "execution_count": 68,
     "metadata": {},
     "output_type": "execute_result"
    }
   ],
   "source": [
    "multi_byestado.max()"
   ]
  },
  {
   "cell_type": "code",
   "execution_count": 71,
   "metadata": {},
   "outputs": [],
   "source": [
    "multi_byproduto = df1.groupby('Produto', level=1)"
   ]
  },
  {
   "cell_type": "code",
   "execution_count": 72,
   "metadata": {},
   "outputs": [
    {
     "data": {
      "text/html": [
       "<div>\n",
       "<style scoped>\n",
       "    .dataframe tbody tr th:only-of-type {\n",
       "        vertical-align: middle;\n",
       "    }\n",
       "\n",
       "    .dataframe tbody tr th {\n",
       "        vertical-align: top;\n",
       "    }\n",
       "\n",
       "    .dataframe thead th {\n",
       "        text-align: right;\n",
       "    }\n",
       "</style>\n",
       "<table border=\"1\" class=\"dataframe\">\n",
       "  <thead>\n",
       "    <tr style=\"text-align: right;\">\n",
       "      <th></th>\n",
       "      <th>Total Vendido R$</th>\n",
       "    </tr>\n",
       "    <tr>\n",
       "      <th>Produto</th>\n",
       "      <th></th>\n",
       "    </tr>\n",
       "  </thead>\n",
       "  <tbody>\n",
       "    <tr>\n",
       "      <th>Copos</th>\n",
       "      <td>20596.666667</td>\n",
       "    </tr>\n",
       "    <tr>\n",
       "      <th>Garrafas</th>\n",
       "      <td>14426.666667</td>\n",
       "    </tr>\n",
       "  </tbody>\n",
       "</table>\n",
       "</div>"
      ],
      "text/plain": [
       "          Total Vendido R$\n",
       "Produto                   \n",
       "Copos         20596.666667\n",
       "Garrafas      14426.666667"
      ]
     },
     "execution_count": 72,
     "metadata": {},
     "output_type": "execute_result"
    }
   ],
   "source": [
    "multi_byproduto.mean()"
   ]
  },
  {
   "cell_type": "markdown",
   "metadata": {},
   "source": [
    "------------------------------------------------------------------\n",
    "\n",
    "# AULA 20\n",
    "\n",
    "### Funções do Pandas"
   ]
  },
  {
   "cell_type": "code",
   "execution_count": 73,
   "metadata": {},
   "outputs": [],
   "source": [
    "import pandas as pd\n",
    "import numpy as np"
   ]
  },
  {
   "cell_type": "code",
   "execution_count": 74,
   "metadata": {},
   "outputs": [],
   "source": [
    "df = pd.read_csv('campeonato-brasileiro-full.csv')"
   ]
  },
  {
   "cell_type": "code",
   "execution_count": 75,
   "metadata": {},
   "outputs": [
    {
     "data": {
      "text/html": [
       "<div>\n",
       "<style scoped>\n",
       "    .dataframe tbody tr th:only-of-type {\n",
       "        vertical-align: middle;\n",
       "    }\n",
       "\n",
       "    .dataframe tbody tr th {\n",
       "        vertical-align: top;\n",
       "    }\n",
       "\n",
       "    .dataframe thead th {\n",
       "        text-align: right;\n",
       "    }\n",
       "</style>\n",
       "<table border=\"1\" class=\"dataframe\">\n",
       "  <thead>\n",
       "    <tr style=\"text-align: right;\">\n",
       "      <th></th>\n",
       "      <th>Horário</th>\n",
       "      <th>Dia</th>\n",
       "      <th>Data</th>\n",
       "      <th>Clube 1</th>\n",
       "      <th>Clube 2</th>\n",
       "      <th>Vencedor</th>\n",
       "      <th>Rodada</th>\n",
       "      <th>Arena</th>\n",
       "      <th>Clube 1 Gols</th>\n",
       "      <th>Clube 2 Gols</th>\n",
       "      <th>Clube 1 Estado</th>\n",
       "      <th>Clube 2 Estado</th>\n",
       "      <th>Estado Clube Vencedor</th>\n",
       "    </tr>\n",
       "  </thead>\n",
       "  <tbody>\n",
       "    <tr>\n",
       "      <th>0</th>\n",
       "      <td>16h00</td>\n",
       "      <td>Sábado</td>\n",
       "      <td>2000-07-29</td>\n",
       "      <td>Fluminense</td>\n",
       "      <td>Bahia</td>\n",
       "      <td>Fluminense</td>\n",
       "      <td>1ª Rodada</td>\n",
       "      <td>Maracanã</td>\n",
       "      <td>2</td>\n",
       "      <td>0</td>\n",
       "      <td>RJ</td>\n",
       "      <td>BA</td>\n",
       "      <td>RJ</td>\n",
       "    </tr>\n",
       "    <tr>\n",
       "      <th>1</th>\n",
       "      <td>16h00</td>\n",
       "      <td>Sábado</td>\n",
       "      <td>2000-07-29</td>\n",
       "      <td>Vasco</td>\n",
       "      <td>Sport</td>\n",
       "      <td>Sport</td>\n",
       "      <td>1ª Rodada</td>\n",
       "      <td>São Januário</td>\n",
       "      <td>0</td>\n",
       "      <td>2</td>\n",
       "      <td>RJ</td>\n",
       "      <td>PE</td>\n",
       "      <td>PE</td>\n",
       "    </tr>\n",
       "    <tr>\n",
       "      <th>2</th>\n",
       "      <td>16h00</td>\n",
       "      <td>Sábado</td>\n",
       "      <td>2000-07-29</td>\n",
       "      <td>Vitória</td>\n",
       "      <td>Palmeiras</td>\n",
       "      <td>Vitória</td>\n",
       "      <td>1ª Rodada</td>\n",
       "      <td>Barradão</td>\n",
       "      <td>4</td>\n",
       "      <td>1</td>\n",
       "      <td>ES</td>\n",
       "      <td>SP</td>\n",
       "      <td>ES</td>\n",
       "    </tr>\n",
       "    <tr>\n",
       "      <th>3</th>\n",
       "      <td>17h00</td>\n",
       "      <td>Domingo</td>\n",
       "      <td>2000-07-30</td>\n",
       "      <td>Botafogo-RJ</td>\n",
       "      <td>Atlético-MG</td>\n",
       "      <td>-</td>\n",
       "      <td>1ª Rodada</td>\n",
       "      <td>Caio Martins</td>\n",
       "      <td>0</td>\n",
       "      <td>0</td>\n",
       "      <td>RJ</td>\n",
       "      <td>MG</td>\n",
       "      <td>Empate</td>\n",
       "    </tr>\n",
       "    <tr>\n",
       "      <th>4</th>\n",
       "      <td>18h30</td>\n",
       "      <td>Domingo</td>\n",
       "      <td>2000-07-30</td>\n",
       "      <td>Juventude</td>\n",
       "      <td>Flamengo</td>\n",
       "      <td>-</td>\n",
       "      <td>1ª Rodada</td>\n",
       "      <td>Alfredo Jaconi</td>\n",
       "      <td>1</td>\n",
       "      <td>1</td>\n",
       "      <td>RS</td>\n",
       "      <td>RJ</td>\n",
       "      <td>Empate</td>\n",
       "    </tr>\n",
       "    <tr>\n",
       "      <th>...</th>\n",
       "      <td>...</td>\n",
       "      <td>...</td>\n",
       "      <td>...</td>\n",
       "      <td>...</td>\n",
       "      <td>...</td>\n",
       "      <td>...</td>\n",
       "      <td>...</td>\n",
       "      <td>...</td>\n",
       "      <td>...</td>\n",
       "      <td>...</td>\n",
       "      <td>...</td>\n",
       "      <td>...</td>\n",
       "      <td>...</td>\n",
       "    </tr>\n",
       "    <tr>\n",
       "      <th>7934</th>\n",
       "      <td>17:00</td>\n",
       "      <td>Domingo</td>\n",
       "      <td>2019-12-08</td>\n",
       "      <td>Goiás</td>\n",
       "      <td>Grêmio</td>\n",
       "      <td>Goiás</td>\n",
       "      <td>38ª Rodada</td>\n",
       "      <td>Serra Dourada</td>\n",
       "      <td>3</td>\n",
       "      <td>2</td>\n",
       "      <td>GO</td>\n",
       "      <td>RS</td>\n",
       "      <td>GO</td>\n",
       "    </tr>\n",
       "    <tr>\n",
       "      <th>7935</th>\n",
       "      <td>17:00</td>\n",
       "      <td>Domingo</td>\n",
       "      <td>2019-12-08</td>\n",
       "      <td>Internacional</td>\n",
       "      <td>Atlético-MG</td>\n",
       "      <td>Internacional</td>\n",
       "      <td>38ª Rodada</td>\n",
       "      <td>Beira Rio</td>\n",
       "      <td>2</td>\n",
       "      <td>1</td>\n",
       "      <td>RS</td>\n",
       "      <td>MG</td>\n",
       "      <td>RS</td>\n",
       "    </tr>\n",
       "    <tr>\n",
       "      <th>7936</th>\n",
       "      <td>17:00</td>\n",
       "      <td>Domingo</td>\n",
       "      <td>2019-12-08</td>\n",
       "      <td>Cruzeiro</td>\n",
       "      <td>Palmeiras</td>\n",
       "      <td>Palmeiras</td>\n",
       "      <td>38ª Rodada</td>\n",
       "      <td>Mineirão</td>\n",
       "      <td>0</td>\n",
       "      <td>2</td>\n",
       "      <td>MG</td>\n",
       "      <td>SP</td>\n",
       "      <td>SP</td>\n",
       "    </tr>\n",
       "    <tr>\n",
       "      <th>7937</th>\n",
       "      <td>17:00</td>\n",
       "      <td>Domingo</td>\n",
       "      <td>2019-12-08</td>\n",
       "      <td>Santos</td>\n",
       "      <td>Flamengo</td>\n",
       "      <td>Santos</td>\n",
       "      <td>38ª Rodada</td>\n",
       "      <td>Vila Belmiro</td>\n",
       "      <td>4</td>\n",
       "      <td>0</td>\n",
       "      <td>SP</td>\n",
       "      <td>RJ</td>\n",
       "      <td>SP</td>\n",
       "    </tr>\n",
       "    <tr>\n",
       "      <th>7938</th>\n",
       "      <td>17:00</td>\n",
       "      <td>Domingo</td>\n",
       "      <td>2019-12-08</td>\n",
       "      <td>CSA</td>\n",
       "      <td>São Paulo</td>\n",
       "      <td>São Paulo</td>\n",
       "      <td>38ª Rodada</td>\n",
       "      <td>Rei Pelé</td>\n",
       "      <td>1</td>\n",
       "      <td>2</td>\n",
       "      <td>AL</td>\n",
       "      <td>SP</td>\n",
       "      <td>SP</td>\n",
       "    </tr>\n",
       "  </tbody>\n",
       "</table>\n",
       "<p>7939 rows × 13 columns</p>\n",
       "</div>"
      ],
      "text/plain": [
       "     Horário      Dia        Data        Clube 1      Clube 2       Vencedor  \\\n",
       "0      16h00   Sábado  2000-07-29     Fluminense        Bahia     Fluminense   \n",
       "1      16h00   Sábado  2000-07-29          Vasco        Sport          Sport   \n",
       "2      16h00   Sábado  2000-07-29        Vitória    Palmeiras        Vitória   \n",
       "3      17h00  Domingo  2000-07-30    Botafogo-RJ  Atlético-MG              -   \n",
       "4      18h30  Domingo  2000-07-30      Juventude     Flamengo              -   \n",
       "...      ...      ...         ...            ...          ...            ...   \n",
       "7934   17:00  Domingo  2019-12-08          Goiás       Grêmio          Goiás   \n",
       "7935   17:00  Domingo  2019-12-08  Internacional  Atlético-MG  Internacional   \n",
       "7936   17:00  Domingo  2019-12-08       Cruzeiro    Palmeiras      Palmeiras   \n",
       "7937   17:00  Domingo  2019-12-08         Santos     Flamengo         Santos   \n",
       "7938   17:00  Domingo  2019-12-08            CSA    São Paulo      São Paulo   \n",
       "\n",
       "          Rodada           Arena  Clube 1 Gols  Clube 2 Gols Clube 1 Estado  \\\n",
       "0      1ª Rodada        Maracanã             2             0             RJ   \n",
       "1      1ª Rodada    São Januário             0             2             RJ   \n",
       "2      1ª Rodada        Barradão             4             1             ES   \n",
       "3      1ª Rodada    Caio Martins             0             0             RJ   \n",
       "4      1ª Rodada  Alfredo Jaconi             1             1             RS   \n",
       "...          ...             ...           ...           ...            ...   \n",
       "7934  38ª Rodada   Serra Dourada             3             2             GO   \n",
       "7935  38ª Rodada       Beira Rio             2             1             RS   \n",
       "7936  38ª Rodada        Mineirão             0             2             MG   \n",
       "7937  38ª Rodada    Vila Belmiro             4             0             SP   \n",
       "7938  38ª Rodada        Rei Pelé             1             2             AL   \n",
       "\n",
       "     Clube 2 Estado Estado Clube Vencedor  \n",
       "0                BA                    RJ  \n",
       "1                PE                    PE  \n",
       "2                SP                    ES  \n",
       "3                MG                Empate  \n",
       "4                RJ                Empate  \n",
       "...             ...                   ...  \n",
       "7934             RS                    GO  \n",
       "7935             MG                    RS  \n",
       "7936             SP                    SP  \n",
       "7937             RJ                    SP  \n",
       "7938             SP                    SP  \n",
       "\n",
       "[7939 rows x 13 columns]"
      ]
     },
     "execution_count": 75,
     "metadata": {},
     "output_type": "execute_result"
    }
   ],
   "source": [
    "df"
   ]
  },
  {
   "cell_type": "code",
   "execution_count": 76,
   "metadata": {},
   "outputs": [
    {
     "data": {
      "text/html": [
       "<div>\n",
       "<style scoped>\n",
       "    .dataframe tbody tr th:only-of-type {\n",
       "        vertical-align: middle;\n",
       "    }\n",
       "\n",
       "    .dataframe tbody tr th {\n",
       "        vertical-align: top;\n",
       "    }\n",
       "\n",
       "    .dataframe thead th {\n",
       "        text-align: right;\n",
       "    }\n",
       "</style>\n",
       "<table border=\"1\" class=\"dataframe\">\n",
       "  <thead>\n",
       "    <tr style=\"text-align: right;\">\n",
       "      <th></th>\n",
       "      <th>Horário</th>\n",
       "      <th>Dia</th>\n",
       "      <th>Data</th>\n",
       "      <th>Clube 1</th>\n",
       "      <th>Clube 2</th>\n",
       "      <th>Vencedor</th>\n",
       "      <th>Rodada</th>\n",
       "      <th>Arena</th>\n",
       "      <th>Clube 1 Gols</th>\n",
       "      <th>Clube 2 Gols</th>\n",
       "      <th>Clube 1 Estado</th>\n",
       "      <th>Clube 2 Estado</th>\n",
       "      <th>Estado Clube Vencedor</th>\n",
       "    </tr>\n",
       "  </thead>\n",
       "  <tbody>\n",
       "    <tr>\n",
       "      <th>0</th>\n",
       "      <td>16h00</td>\n",
       "      <td>Sábado</td>\n",
       "      <td>2000-07-29</td>\n",
       "      <td>Fluminense</td>\n",
       "      <td>Bahia</td>\n",
       "      <td>Fluminense</td>\n",
       "      <td>1ª Rodada</td>\n",
       "      <td>Maracanã</td>\n",
       "      <td>2</td>\n",
       "      <td>0</td>\n",
       "      <td>RJ</td>\n",
       "      <td>BA</td>\n",
       "      <td>RJ</td>\n",
       "    </tr>\n",
       "    <tr>\n",
       "      <th>1</th>\n",
       "      <td>16h00</td>\n",
       "      <td>Sábado</td>\n",
       "      <td>2000-07-29</td>\n",
       "      <td>Vasco</td>\n",
       "      <td>Sport</td>\n",
       "      <td>Sport</td>\n",
       "      <td>1ª Rodada</td>\n",
       "      <td>São Januário</td>\n",
       "      <td>0</td>\n",
       "      <td>2</td>\n",
       "      <td>RJ</td>\n",
       "      <td>PE</td>\n",
       "      <td>PE</td>\n",
       "    </tr>\n",
       "    <tr>\n",
       "      <th>2</th>\n",
       "      <td>16h00</td>\n",
       "      <td>Sábado</td>\n",
       "      <td>2000-07-29</td>\n",
       "      <td>Vitória</td>\n",
       "      <td>Palmeiras</td>\n",
       "      <td>Vitória</td>\n",
       "      <td>1ª Rodada</td>\n",
       "      <td>Barradão</td>\n",
       "      <td>4</td>\n",
       "      <td>1</td>\n",
       "      <td>ES</td>\n",
       "      <td>SP</td>\n",
       "      <td>ES</td>\n",
       "    </tr>\n",
       "    <tr>\n",
       "      <th>3</th>\n",
       "      <td>17h00</td>\n",
       "      <td>Domingo</td>\n",
       "      <td>2000-07-30</td>\n",
       "      <td>Botafogo-RJ</td>\n",
       "      <td>Atlético-MG</td>\n",
       "      <td>-</td>\n",
       "      <td>1ª Rodada</td>\n",
       "      <td>Caio Martins</td>\n",
       "      <td>0</td>\n",
       "      <td>0</td>\n",
       "      <td>RJ</td>\n",
       "      <td>MG</td>\n",
       "      <td>Empate</td>\n",
       "    </tr>\n",
       "    <tr>\n",
       "      <th>4</th>\n",
       "      <td>18h30</td>\n",
       "      <td>Domingo</td>\n",
       "      <td>2000-07-30</td>\n",
       "      <td>Juventude</td>\n",
       "      <td>Flamengo</td>\n",
       "      <td>-</td>\n",
       "      <td>1ª Rodada</td>\n",
       "      <td>Alfredo Jaconi</td>\n",
       "      <td>1</td>\n",
       "      <td>1</td>\n",
       "      <td>RS</td>\n",
       "      <td>RJ</td>\n",
       "      <td>Empate</td>\n",
       "    </tr>\n",
       "  </tbody>\n",
       "</table>\n",
       "</div>"
      ],
      "text/plain": [
       "  Horário      Dia        Data      Clube 1      Clube 2    Vencedor  \\\n",
       "0   16h00   Sábado  2000-07-29   Fluminense        Bahia  Fluminense   \n",
       "1   16h00   Sábado  2000-07-29        Vasco        Sport       Sport   \n",
       "2   16h00   Sábado  2000-07-29      Vitória    Palmeiras     Vitória   \n",
       "3   17h00  Domingo  2000-07-30  Botafogo-RJ  Atlético-MG           -   \n",
       "4   18h30  Domingo  2000-07-30    Juventude     Flamengo           -   \n",
       "\n",
       "      Rodada           Arena  Clube 1 Gols  Clube 2 Gols Clube 1 Estado  \\\n",
       "0  1ª Rodada        Maracanã             2             0             RJ   \n",
       "1  1ª Rodada    São Januário             0             2             RJ   \n",
       "2  1ª Rodada        Barradão             4             1             ES   \n",
       "3  1ª Rodada    Caio Martins             0             0             RJ   \n",
       "4  1ª Rodada  Alfredo Jaconi             1             1             RS   \n",
       "\n",
       "  Clube 2 Estado Estado Clube Vencedor  \n",
       "0             BA                    RJ  \n",
       "1             PE                    PE  \n",
       "2             SP                    ES  \n",
       "3             MG                Empate  \n",
       "4             RJ                Empate  "
      ]
     },
     "execution_count": 76,
     "metadata": {},
     "output_type": "execute_result"
    }
   ],
   "source": [
    "df.head()"
   ]
  },
  {
   "cell_type": "code",
   "execution_count": 77,
   "metadata": {},
   "outputs": [
    {
     "name": "stdout",
     "output_type": "stream",
     "text": [
      "<class 'pandas.core.frame.DataFrame'>\n",
      "RangeIndex: 7939 entries, 0 to 7938\n",
      "Data columns (total 13 columns):\n",
      " #   Column                 Non-Null Count  Dtype \n",
      "---  ------                 --------------  ----- \n",
      " 0   Horário                7582 non-null   object\n",
      " 1   Dia                    7939 non-null   object\n",
      " 2   Data                   7939 non-null   object\n",
      " 3   Clube 1                7939 non-null   object\n",
      " 4   Clube 2                7939 non-null   object\n",
      " 5   Vencedor               7939 non-null   object\n",
      " 6   Rodada                 7939 non-null   object\n",
      " 7   Arena                  7939 non-null   object\n",
      " 8   Clube 1 Gols           7939 non-null   int64 \n",
      " 9   Clube 2 Gols           7939 non-null   int64 \n",
      " 10  Clube 1 Estado         7939 non-null   object\n",
      " 11  Clube 2 Estado         7939 non-null   object\n",
      " 12  Estado Clube Vencedor  7939 non-null   object\n",
      "dtypes: int64(2), object(11)\n",
      "memory usage: 806.4+ KB\n"
     ]
    }
   ],
   "source": [
    "df.info()"
   ]
  },
  {
   "cell_type": "markdown",
   "metadata": {},
   "source": [
    "\n",
    "-------------------------------------------------------------------------------------------------------------------------------\n"
   ]
  },
  {
   "cell_type": "code",
   "execution_count": 83,
   "metadata": {},
   "outputs": [
    {
     "data": {
      "text/plain": [
       "'2000-07-29'"
      ]
     },
     "execution_count": 83,
     "metadata": {},
     "output_type": "execute_result"
    }
   ],
   "source": [
    "df['Data'].min()"
   ]
  },
  {
   "cell_type": "code",
   "execution_count": 82,
   "metadata": {},
   "outputs": [
    {
     "data": {
      "text/plain": [
       "'2019-12-08'"
      ]
     },
     "execution_count": 82,
     "metadata": {},
     "output_type": "execute_result"
    }
   ],
   "source": [
    "df['Data'].max()"
   ]
  },
  {
   "cell_type": "markdown",
   "metadata": {},
   "source": [
    " ------------------------------------------------------------------------------------------------------------------------------\n",
    " \n",
    " \n",
    " - Qual foi a média de gols de todos os jogos do time mandande ( Clube 1 ) ? (No período em que o dataframe abrange que é de 2000 a 2019)"
   ]
  },
  {
   "cell_type": "code",
   "execution_count": 81,
   "metadata": {},
   "outputs": [
    {
     "data": {
      "text/plain": [
       "1.5968006046101524"
      ]
     },
     "execution_count": 81,
     "metadata": {},
     "output_type": "execute_result"
    }
   ],
   "source": [
    "df['Clube 1 Gols'].mean()"
   ]
  },
  {
   "cell_type": "code",
   "execution_count": 84,
   "metadata": {},
   "outputs": [
    {
     "data": {
      "text/plain": [
       "1.0525255069908048"
      ]
     },
     "execution_count": 84,
     "metadata": {},
     "output_type": "execute_result"
    }
   ],
   "source": [
    "df['Clube 2 Gols'].mean() # Média de gols do visitante no período de 2000 a 2019"
   ]
  },
  {
   "cell_type": "markdown",
   "metadata": {},
   "source": [
    "- E se desejarmos saber a média do TOTAL de gols ? Total = [Clube 1 Gols] + [Clube 2 Gols]\n",
    "\n",
    "Precisamos CRIAR essa nova coluna de valores:"
   ]
  },
  {
   "cell_type": "code",
   "execution_count": 85,
   "metadata": {},
   "outputs": [],
   "source": [
    "df['Total de Gols'] = df['Clube 1 Gols'] + df['Clube 2 Gols']"
   ]
  },
  {
   "cell_type": "markdown",
   "metadata": {},
   "source": [
    "A coluna foi criada:"
   ]
  },
  {
   "cell_type": "code",
   "execution_count": 86,
   "metadata": {},
   "outputs": [
    {
     "data": {
      "text/html": [
       "<div>\n",
       "<style scoped>\n",
       "    .dataframe tbody tr th:only-of-type {\n",
       "        vertical-align: middle;\n",
       "    }\n",
       "\n",
       "    .dataframe tbody tr th {\n",
       "        vertical-align: top;\n",
       "    }\n",
       "\n",
       "    .dataframe thead th {\n",
       "        text-align: right;\n",
       "    }\n",
       "</style>\n",
       "<table border=\"1\" class=\"dataframe\">\n",
       "  <thead>\n",
       "    <tr style=\"text-align: right;\">\n",
       "      <th></th>\n",
       "      <th>Horário</th>\n",
       "      <th>Dia</th>\n",
       "      <th>Data</th>\n",
       "      <th>Clube 1</th>\n",
       "      <th>Clube 2</th>\n",
       "      <th>Vencedor</th>\n",
       "      <th>Rodada</th>\n",
       "      <th>Arena</th>\n",
       "      <th>Clube 1 Gols</th>\n",
       "      <th>Clube 2 Gols</th>\n",
       "      <th>Clube 1 Estado</th>\n",
       "      <th>Clube 2 Estado</th>\n",
       "      <th>Estado Clube Vencedor</th>\n",
       "      <th>Total de Gols</th>\n",
       "    </tr>\n",
       "  </thead>\n",
       "  <tbody>\n",
       "    <tr>\n",
       "      <th>0</th>\n",
       "      <td>16h00</td>\n",
       "      <td>Sábado</td>\n",
       "      <td>2000-07-29</td>\n",
       "      <td>Fluminense</td>\n",
       "      <td>Bahia</td>\n",
       "      <td>Fluminense</td>\n",
       "      <td>1ª Rodada</td>\n",
       "      <td>Maracanã</td>\n",
       "      <td>2</td>\n",
       "      <td>0</td>\n",
       "      <td>RJ</td>\n",
       "      <td>BA</td>\n",
       "      <td>RJ</td>\n",
       "      <td>2</td>\n",
       "    </tr>\n",
       "    <tr>\n",
       "      <th>1</th>\n",
       "      <td>16h00</td>\n",
       "      <td>Sábado</td>\n",
       "      <td>2000-07-29</td>\n",
       "      <td>Vasco</td>\n",
       "      <td>Sport</td>\n",
       "      <td>Sport</td>\n",
       "      <td>1ª Rodada</td>\n",
       "      <td>São Januário</td>\n",
       "      <td>0</td>\n",
       "      <td>2</td>\n",
       "      <td>RJ</td>\n",
       "      <td>PE</td>\n",
       "      <td>PE</td>\n",
       "      <td>2</td>\n",
       "    </tr>\n",
       "    <tr>\n",
       "      <th>2</th>\n",
       "      <td>16h00</td>\n",
       "      <td>Sábado</td>\n",
       "      <td>2000-07-29</td>\n",
       "      <td>Vitória</td>\n",
       "      <td>Palmeiras</td>\n",
       "      <td>Vitória</td>\n",
       "      <td>1ª Rodada</td>\n",
       "      <td>Barradão</td>\n",
       "      <td>4</td>\n",
       "      <td>1</td>\n",
       "      <td>ES</td>\n",
       "      <td>SP</td>\n",
       "      <td>ES</td>\n",
       "      <td>5</td>\n",
       "    </tr>\n",
       "    <tr>\n",
       "      <th>3</th>\n",
       "      <td>17h00</td>\n",
       "      <td>Domingo</td>\n",
       "      <td>2000-07-30</td>\n",
       "      <td>Botafogo-RJ</td>\n",
       "      <td>Atlético-MG</td>\n",
       "      <td>-</td>\n",
       "      <td>1ª Rodada</td>\n",
       "      <td>Caio Martins</td>\n",
       "      <td>0</td>\n",
       "      <td>0</td>\n",
       "      <td>RJ</td>\n",
       "      <td>MG</td>\n",
       "      <td>Empate</td>\n",
       "      <td>0</td>\n",
       "    </tr>\n",
       "    <tr>\n",
       "      <th>4</th>\n",
       "      <td>18h30</td>\n",
       "      <td>Domingo</td>\n",
       "      <td>2000-07-30</td>\n",
       "      <td>Juventude</td>\n",
       "      <td>Flamengo</td>\n",
       "      <td>-</td>\n",
       "      <td>1ª Rodada</td>\n",
       "      <td>Alfredo Jaconi</td>\n",
       "      <td>1</td>\n",
       "      <td>1</td>\n",
       "      <td>RS</td>\n",
       "      <td>RJ</td>\n",
       "      <td>Empate</td>\n",
       "      <td>2</td>\n",
       "    </tr>\n",
       "  </tbody>\n",
       "</table>\n",
       "</div>"
      ],
      "text/plain": [
       "  Horário      Dia        Data      Clube 1      Clube 2    Vencedor  \\\n",
       "0   16h00   Sábado  2000-07-29   Fluminense        Bahia  Fluminense   \n",
       "1   16h00   Sábado  2000-07-29        Vasco        Sport       Sport   \n",
       "2   16h00   Sábado  2000-07-29      Vitória    Palmeiras     Vitória   \n",
       "3   17h00  Domingo  2000-07-30  Botafogo-RJ  Atlético-MG           -   \n",
       "4   18h30  Domingo  2000-07-30    Juventude     Flamengo           -   \n",
       "\n",
       "      Rodada           Arena  Clube 1 Gols  Clube 2 Gols Clube 1 Estado  \\\n",
       "0  1ª Rodada        Maracanã             2             0             RJ   \n",
       "1  1ª Rodada    São Januário             0             2             RJ   \n",
       "2  1ª Rodada        Barradão             4             1             ES   \n",
       "3  1ª Rodada    Caio Martins             0             0             RJ   \n",
       "4  1ª Rodada  Alfredo Jaconi             1             1             RS   \n",
       "\n",
       "  Clube 2 Estado Estado Clube Vencedor  Total de Gols  \n",
       "0             BA                    RJ              2  \n",
       "1             PE                    PE              2  \n",
       "2             SP                    ES              5  \n",
       "3             MG                Empate              0  \n",
       "4             RJ                Empate              2  "
      ]
     },
     "execution_count": 86,
     "metadata": {},
     "output_type": "execute_result"
    }
   ],
   "source": [
    "df.head()"
   ]
  },
  {
   "cell_type": "markdown",
   "metadata": {},
   "source": [
    "Assim, podemos agora calcular a média do total de gols das partidas:"
   ]
  },
  {
   "cell_type": "code",
   "execution_count": 87,
   "metadata": {},
   "outputs": [
    {
     "data": {
      "text/plain": [
       "2.649326111600957"
      ]
     },
     "execution_count": 87,
     "metadata": {},
     "output_type": "execute_result"
    }
   ],
   "source": [
    "df['Total de Gols'].mean()"
   ]
  },
  {
   "cell_type": "code",
   "execution_count": 88,
   "metadata": {},
   "outputs": [],
   "source": [
    "# Qual foi o time que mais venceu ?"
   ]
  },
  {
   "cell_type": "code",
   "execution_count": 93,
   "metadata": {},
   "outputs": [
    {
     "data": {
      "text/plain": [
       "-                  2040\n",
       "São Paulo           348\n",
       "Cruzeiro            322\n",
       "Santos              319\n",
       "Grêmio              308\n",
       "Internacional       302\n",
       "Flamengo            298\n",
       "Corinthians         293\n",
       "Athlético-PR        291\n",
       "Fluminense          288\n",
       "Atlético-MG         282\n",
       "Palmeiras           279\n",
       "Vasco               216\n",
       "Goiás               214\n",
       "Botafogo-RJ         205\n",
       "Coritiba            187\n",
       "Vitória             152\n",
       "Figueirense         151\n",
       "Ponte Preta         149\n",
       "Sport               127\n",
       "Bahia               123\n",
       "Paraná              104\n",
       "São Caetano         103\n",
       "Juventude            96\n",
       "Chapecoense          69\n",
       "Guarani              63\n",
       "Portuguesa           57\n",
       "Avaí                 57\n",
       "Náutico              54\n",
       "Fortaleza            51\n",
       "Criciúma             50\n",
       "Paysandu             50\n",
       "Ceará                40\n",
       "Atlético-GO          39\n",
       "América-MG           38\n",
       "Botafogo-rj          26\n",
       "Santa Cruz           25\n",
       "Gama                 21\n",
       "Barueri              12\n",
       "Santo André          11\n",
       "Brasiliense          10\n",
       "Ipatinga              9\n",
       "CSA                   8\n",
       "Joinville             7\n",
       "Grêmio Prudente       7\n",
       "Botafogo-SP           6\n",
       "SANTOS                6\n",
       "CRUZEIRO              4\n",
       "América-RN            4\n",
       "FLUMINENSE            4\n",
       "VASCO                 4\n",
       "CORINTHIANS           3\n",
       "SPORT                 2\n",
       "FLAMENGO              1\n",
       "PALMEIRAS             1\n",
       "INTERNACIONAL         1\n",
       "PONTE PRETA           1\n",
       "portuguesa            1\n",
       "Name: Vencedor, dtype: int64"
      ]
     },
     "execution_count": 93,
     "metadata": {},
     "output_type": "execute_result"
    }
   ],
   "source": [
    "df['Vencedor'].value_counts()"
   ]
  },
  {
   "cell_type": "markdown",
   "metadata": {},
   "source": [
    "------------------------------------------------------------------\n",
    "\n",
    "- De acordo com o exibido vemos que São Paulo, seguido de Cruzeiro e Santos foram os clubes que mais venceram no campeonato entre os anos de 2000 a 2019.\n",
    "\n",
    "------------------------------------------------------------------\n",
    "\n",
    "- PORÉM nota-se que no final da lista ocorre a repetição de clubes, porém, estes estão com letras maiúsculas. É PRECISO deixar o nome dos clubes TODOS NO MESMO FORMATO para uma análise geral correta:"
   ]
  },
  {
   "cell_type": "code",
   "execution_count": 94,
   "metadata": {},
   "outputs": [],
   "source": [
    "df['Vencedor'] = df['Vencedor'].str.upper()"
   ]
  },
  {
   "cell_type": "markdown",
   "metadata": {},
   "source": [
    " A função str.upper() irá percorrer os valores string (str) da coluna vencedor e alterar tudo pra maiúsculo (upper)."
   ]
  },
  {
   "cell_type": "code",
   "execution_count": 97,
   "metadata": {},
   "outputs": [
    {
     "data": {
      "text/plain": [
       "0          FLUMINENSE\n",
       "1               SPORT\n",
       "2             VITÓRIA\n",
       "3                   -\n",
       "4                   -\n",
       "            ...      \n",
       "7934            GOIÁS\n",
       "7935    INTERNACIONAL\n",
       "7936        PALMEIRAS\n",
       "7937           SANTOS\n",
       "7938        SÃO PAULO\n",
       "Name: Vencedor, Length: 7939, dtype: object"
      ]
     },
     "execution_count": 97,
     "metadata": {},
     "output_type": "execute_result"
    }
   ],
   "source": [
    "df['Vencedor']  # Agora TODOS os clubes estão com a letra maiúscula e assim podemos avaliar corretamente quem mais venceu"
   ]
  },
  {
   "cell_type": "code",
   "execution_count": 98,
   "metadata": {},
   "outputs": [
    {
     "data": {
      "text/plain": [
       "-                  2040\n",
       "SÃO PAULO           348\n",
       "CRUZEIRO            326\n",
       "SANTOS              325\n",
       "GRÊMIO              308\n",
       "INTERNACIONAL       303\n",
       "FLAMENGO            299\n",
       "CORINTHIANS         296\n",
       "FLUMINENSE          292\n",
       "ATHLÉTICO-PR        291\n",
       "ATLÉTICO-MG         282\n",
       "PALMEIRAS           280\n",
       "BOTAFOGO-RJ         231\n",
       "VASCO               220\n",
       "GOIÁS               214\n",
       "CORITIBA            187\n",
       "VITÓRIA             152\n",
       "FIGUEIRENSE         151\n",
       "PONTE PRETA         150\n",
       "SPORT               129\n",
       "BAHIA               123\n",
       "PARANÁ              104\n",
       "SÃO CAETANO         103\n",
       "JUVENTUDE            96\n",
       "CHAPECOENSE          69\n",
       "GUARANI              63\n",
       "PORTUGUESA           58\n",
       "AVAÍ                 57\n",
       "NÁUTICO              54\n",
       "FORTALEZA            51\n",
       "CRICIÚMA             50\n",
       "PAYSANDU             50\n",
       "CEARÁ                40\n",
       "ATLÉTICO-GO          39\n",
       "AMÉRICA-MG           38\n",
       "SANTA CRUZ           25\n",
       "GAMA                 21\n",
       "BARUERI              12\n",
       "SANTO ANDRÉ          11\n",
       "BRASILIENSE          10\n",
       "IPATINGA              9\n",
       "CSA                   8\n",
       "JOINVILLE             7\n",
       "GRÊMIO PRUDENTE       7\n",
       "BOTAFOGO-SP           6\n",
       "AMÉRICA-RN            4\n",
       "Name: Vencedor, dtype: int64"
      ]
     },
     "execution_count": 98,
     "metadata": {},
     "output_type": "execute_result"
    }
   ],
   "source": [
    "df['Vencedor'].value_counts()"
   ]
  },
  {
   "cell_type": "code",
   "execution_count": 99,
   "metadata": {},
   "outputs": [
    {
     "data": {
      "text/plain": [
       "-            2040\n",
       "SÃO PAULO     348\n",
       "CRUZEIRO      326\n",
       "SANTOS        325\n",
       "GRÊMIO        308\n",
       "Name: Vencedor, dtype: int64"
      ]
     },
     "execution_count": 99,
     "metadata": {},
     "output_type": "execute_result"
    }
   ],
   "source": [
    "df['Vencedor'].value_counts().head()"
   ]
  },
  {
   "cell_type": "code",
   "execution_count": 100,
   "metadata": {},
   "outputs": [],
   "source": [
    "# Qual o estado com maior número de vitórias ?"
   ]
  },
  {
   "cell_type": "code",
   "execution_count": 102,
   "metadata": {},
   "outputs": [
    {
     "data": {
      "text/plain": [
       "Empate    2040\n",
       "SP        1659\n",
       "RJ        1042\n",
       "RS         707\n",
       "MG         655\n",
       "PR         582\n",
       "SC         334\n",
       "GO         253\n",
       "PE         208\n",
       "ES         152\n",
       "BA         123\n",
       "CE          91\n",
       "PA          50\n",
       "DF          31\n",
       "AL           8\n",
       "RN           4\n",
       "Name: Estado Clube Vencedor, dtype: int64"
      ]
     },
     "execution_count": 102,
     "metadata": {},
     "output_type": "execute_result"
    }
   ],
   "source": [
    "df['Estado Clube Vencedor'].value_counts()"
   ]
  },
  {
   "cell_type": "markdown",
   "metadata": {},
   "source": [
    "------------------------------------------------------------------\n",
    "\n",
    "#### Função sort_values()      -    Ordena os valores "
   ]
  },
  {
   "cell_type": "markdown",
   "metadata": {},
   "source": [
    "- Qual o maior número de gols que um clube mandante fez no período ?\n",
    "\n",
    "Utilizamos a função sort_values(), porém por padrão a função vem configurada para mostrar do menor pro maior, então para mostrar do maior pro menos precisamos colocar no argumento: ascending = False"
   ]
  },
  {
   "cell_type": "code",
   "execution_count": 106,
   "metadata": {},
   "outputs": [
    {
     "data": {
      "text/html": [
       "<div>\n",
       "<style scoped>\n",
       "    .dataframe tbody tr th:only-of-type {\n",
       "        vertical-align: middle;\n",
       "    }\n",
       "\n",
       "    .dataframe tbody tr th {\n",
       "        vertical-align: top;\n",
       "    }\n",
       "\n",
       "    .dataframe thead th {\n",
       "        text-align: right;\n",
       "    }\n",
       "</style>\n",
       "<table border=\"1\" class=\"dataframe\">\n",
       "  <thead>\n",
       "    <tr style=\"text-align: right;\">\n",
       "      <th></th>\n",
       "      <th>Horário</th>\n",
       "      <th>Dia</th>\n",
       "      <th>Data</th>\n",
       "      <th>Clube 1</th>\n",
       "      <th>Clube 2</th>\n",
       "      <th>Vencedor</th>\n",
       "      <th>Rodada</th>\n",
       "      <th>Arena</th>\n",
       "      <th>Clube 1 Gols</th>\n",
       "      <th>Clube 2 Gols</th>\n",
       "      <th>Clube 1 Estado</th>\n",
       "      <th>Clube 2 Estado</th>\n",
       "      <th>Estado Clube Vencedor</th>\n",
       "      <th>Total de Gols</th>\n",
       "    </tr>\n",
       "  </thead>\n",
       "  <tbody>\n",
       "    <tr>\n",
       "      <th>693</th>\n",
       "      <td>16h00</td>\n",
       "      <td>Domingo</td>\n",
       "      <td>2001-11-25</td>\n",
       "      <td>Vasco</td>\n",
       "      <td>São Paulo</td>\n",
       "      <td>VASCO</td>\n",
       "      <td>26ª Rodada</td>\n",
       "      <td>São Januário</td>\n",
       "      <td>7</td>\n",
       "      <td>1</td>\n",
       "      <td>RJ</td>\n",
       "      <td>SP</td>\n",
       "      <td>RJ</td>\n",
       "      <td>8</td>\n",
       "    </tr>\n",
       "    <tr>\n",
       "      <th>1122</th>\n",
       "      <td>16h00</td>\n",
       "      <td>Domingo</td>\n",
       "      <td>2003-04-27</td>\n",
       "      <td>Goiás</td>\n",
       "      <td>Juventude</td>\n",
       "      <td>GOIÁS</td>\n",
       "      <td>6ª Rodada</td>\n",
       "      <td>Serra Dourada</td>\n",
       "      <td>7</td>\n",
       "      <td>0</td>\n",
       "      <td>GO</td>\n",
       "      <td>RS</td>\n",
       "      <td>GO</td>\n",
       "      <td>7</td>\n",
       "    </tr>\n",
       "    <tr>\n",
       "      <th>1992</th>\n",
       "      <td>20h30</td>\n",
       "      <td>Terça-feira</td>\n",
       "      <td>2004-09-28</td>\n",
       "      <td>São Paulo</td>\n",
       "      <td>Paysandu</td>\n",
       "      <td>SÃO PAULO</td>\n",
       "      <td>33ª Rodada</td>\n",
       "      <td>Morumbi</td>\n",
       "      <td>7</td>\n",
       "      <td>0</td>\n",
       "      <td>SP</td>\n",
       "      <td>PA</td>\n",
       "      <td>SP</td>\n",
       "      <td>7</td>\n",
       "    </tr>\n",
       "    <tr>\n",
       "      <th>2309</th>\n",
       "      <td>21h45</td>\n",
       "      <td>Quarta-feira</td>\n",
       "      <td>2005-07-27</td>\n",
       "      <td>Athlético-PR</td>\n",
       "      <td>Vasco</td>\n",
       "      <td>ATHLÉTICO-PR</td>\n",
       "      <td>15ª Rodada</td>\n",
       "      <td>Arena da Baixada</td>\n",
       "      <td>7</td>\n",
       "      <td>2</td>\n",
       "      <td>PR</td>\n",
       "      <td>RJ</td>\n",
       "      <td>PR</td>\n",
       "      <td>9</td>\n",
       "    </tr>\n",
       "    <tr>\n",
       "      <th>357</th>\n",
       "      <td>14h30</td>\n",
       "      <td>Domingo</td>\n",
       "      <td>2001-08-05</td>\n",
       "      <td>Vasco</td>\n",
       "      <td>Guarani</td>\n",
       "      <td>VASCO</td>\n",
       "      <td>2ª Rodada</td>\n",
       "      <td>São Januário</td>\n",
       "      <td>7</td>\n",
       "      <td>1</td>\n",
       "      <td>RJ</td>\n",
       "      <td>SP</td>\n",
       "      <td>RJ</td>\n",
       "      <td>8</td>\n",
       "    </tr>\n",
       "    <tr>\n",
       "      <th>...</th>\n",
       "      <td>...</td>\n",
       "      <td>...</td>\n",
       "      <td>...</td>\n",
       "      <td>...</td>\n",
       "      <td>...</td>\n",
       "      <td>...</td>\n",
       "      <td>...</td>\n",
       "      <td>...</td>\n",
       "      <td>...</td>\n",
       "      <td>...</td>\n",
       "      <td>...</td>\n",
       "      <td>...</td>\n",
       "      <td>...</td>\n",
       "      <td>...</td>\n",
       "    </tr>\n",
       "    <tr>\n",
       "      <th>6365</th>\n",
       "      <td>18h00</td>\n",
       "      <td>Domingo</td>\n",
       "      <td>2015-11-01</td>\n",
       "      <td>Vasco</td>\n",
       "      <td>Fluminense</td>\n",
       "      <td>FLUMINENSE</td>\n",
       "      <td>33ª Rodada</td>\n",
       "      <td>Engenhão</td>\n",
       "      <td>0</td>\n",
       "      <td>1</td>\n",
       "      <td>RJ</td>\n",
       "      <td>RJ</td>\n",
       "      <td>RJ</td>\n",
       "      <td>1</td>\n",
       "    </tr>\n",
       "    <tr>\n",
       "      <th>6364</th>\n",
       "      <td>17h00</td>\n",
       "      <td>Domingo</td>\n",
       "      <td>2015-11-01</td>\n",
       "      <td>Atlético-MG</td>\n",
       "      <td>Corinthians</td>\n",
       "      <td>CORINTHIANS</td>\n",
       "      <td>33ª Rodada</td>\n",
       "      <td>Independência</td>\n",
       "      <td>0</td>\n",
       "      <td>3</td>\n",
       "      <td>MG</td>\n",
       "      <td>SP</td>\n",
       "      <td>SP</td>\n",
       "      <td>3</td>\n",
       "    </tr>\n",
       "    <tr>\n",
       "      <th>6363</th>\n",
       "      <td>17h00</td>\n",
       "      <td>Domingo</td>\n",
       "      <td>2015-11-01</td>\n",
       "      <td>Chapecoense</td>\n",
       "      <td>Athlético-PR</td>\n",
       "      <td>-</td>\n",
       "      <td>33ª Rodada</td>\n",
       "      <td>Arena Condá</td>\n",
       "      <td>0</td>\n",
       "      <td>0</td>\n",
       "      <td>SC</td>\n",
       "      <td>PR</td>\n",
       "      <td>Empate</td>\n",
       "      <td>0</td>\n",
       "    </tr>\n",
       "    <tr>\n",
       "      <th>4253</th>\n",
       "      <td>16h00</td>\n",
       "      <td>Domingo</td>\n",
       "      <td>2010-08-01</td>\n",
       "      <td>Internacional</td>\n",
       "      <td>Grêmio</td>\n",
       "      <td>-</td>\n",
       "      <td>12ª Rodada</td>\n",
       "      <td>Beira Rio</td>\n",
       "      <td>0</td>\n",
       "      <td>0</td>\n",
       "      <td>RS</td>\n",
       "      <td>RS</td>\n",
       "      <td>Empate</td>\n",
       "      <td>0</td>\n",
       "    </tr>\n",
       "    <tr>\n",
       "      <th>2956</th>\n",
       "      <td>20h30</td>\n",
       "      <td>Quinta-feira</td>\n",
       "      <td>2006-11-09</td>\n",
       "      <td>Fluminense</td>\n",
       "      <td>Ponte Preta</td>\n",
       "      <td>-</td>\n",
       "      <td>34ª Rodada</td>\n",
       "      <td>Maracanã</td>\n",
       "      <td>0</td>\n",
       "      <td>0</td>\n",
       "      <td>RJ</td>\n",
       "      <td>SP</td>\n",
       "      <td>Empate</td>\n",
       "      <td>0</td>\n",
       "    </tr>\n",
       "  </tbody>\n",
       "</table>\n",
       "<p>7939 rows × 14 columns</p>\n",
       "</div>"
      ],
      "text/plain": [
       "     Horário           Dia        Data        Clube 1       Clube 2  \\\n",
       "693    16h00       Domingo  2001-11-25          Vasco     São Paulo   \n",
       "1122   16h00       Domingo  2003-04-27          Goiás     Juventude   \n",
       "1992   20h30   Terça-feira  2004-09-28      São Paulo      Paysandu   \n",
       "2309   21h45  Quarta-feira  2005-07-27   Athlético-PR         Vasco   \n",
       "357    14h30       Domingo  2001-08-05          Vasco       Guarani   \n",
       "...      ...           ...         ...            ...           ...   \n",
       "6365   18h00       Domingo  2015-11-01          Vasco    Fluminense   \n",
       "6364   17h00       Domingo  2015-11-01    Atlético-MG   Corinthians   \n",
       "6363   17h00       Domingo  2015-11-01    Chapecoense  Athlético-PR   \n",
       "4253   16h00       Domingo  2010-08-01  Internacional        Grêmio   \n",
       "2956   20h30  Quinta-feira  2006-11-09     Fluminense   Ponte Preta   \n",
       "\n",
       "          Vencedor      Rodada             Arena  Clube 1 Gols  Clube 2 Gols  \\\n",
       "693          VASCO  26ª Rodada      São Januário             7             1   \n",
       "1122         GOIÁS   6ª Rodada     Serra Dourada             7             0   \n",
       "1992     SÃO PAULO  33ª Rodada           Morumbi             7             0   \n",
       "2309  ATHLÉTICO-PR  15ª Rodada  Arena da Baixada             7             2   \n",
       "357          VASCO   2ª Rodada      São Januário             7             1   \n",
       "...            ...         ...               ...           ...           ...   \n",
       "6365    FLUMINENSE  33ª Rodada          Engenhão             0             1   \n",
       "6364   CORINTHIANS  33ª Rodada     Independência             0             3   \n",
       "6363             -  33ª Rodada       Arena Condá             0             0   \n",
       "4253             -  12ª Rodada         Beira Rio             0             0   \n",
       "2956             -  34ª Rodada          Maracanã             0             0   \n",
       "\n",
       "     Clube 1 Estado Clube 2 Estado Estado Clube Vencedor  Total de Gols  \n",
       "693              RJ             SP                    RJ              8  \n",
       "1122             GO             RS                    GO              7  \n",
       "1992             SP             PA                    SP              7  \n",
       "2309             PR             RJ                    PR              9  \n",
       "357              RJ             SP                    RJ              8  \n",
       "...             ...            ...                   ...            ...  \n",
       "6365             RJ             RJ                    RJ              1  \n",
       "6364             MG             SP                    SP              3  \n",
       "6363             SC             PR                Empate              0  \n",
       "4253             RS             RS                Empate              0  \n",
       "2956             RJ             SP                Empate              0  \n",
       "\n",
       "[7939 rows x 14 columns]"
      ]
     },
     "execution_count": 106,
     "metadata": {},
     "output_type": "execute_result"
    }
   ],
   "source": [
    "df.sort_values(by = 'Clube 1 Gols', ascending = False)   "
   ]
  },
  {
   "cell_type": "markdown",
   "metadata": {},
   "source": [
    "------------------------------------------------------------------\n",
    "\n",
    "#### - Função unique()     -     Pega os valores únicos desse Dataframe (coluna) "
   ]
  },
  {
   "cell_type": "code",
   "execution_count": 107,
   "metadata": {},
   "outputs": [],
   "source": [
    "df['Clube 1'] = df['Clube 1'].str.upper()"
   ]
  },
  {
   "cell_type": "code",
   "execution_count": 113,
   "metadata": {},
   "outputs": [
    {
     "data": {
      "text/plain": [
       "array(['FLUMINENSE', 'VASCO', 'VITÓRIA', 'BOTAFOGO-RJ', 'JUVENTUDE',\n",
       "       'GUARANI', 'CRUZEIRO', 'AMÉRICA-MG', 'GOIÁS', 'CORITIBA', 'BAHIA',\n",
       "       'FLAMENGO', 'GAMA', 'INTERNACIONAL', 'PONTE PRETA', 'SANTOS',\n",
       "       'PALMEIRAS', 'ATHLÉTICO-PR', 'CORINTHIANS', 'ATLÉTICO-MG',\n",
       "       'PORTUGUESA', 'GRÊMIO', 'SÃO PAULO', 'SANTA CRUZ', 'SPORT',\n",
       "       'PARANÁ', 'REMO', 'SÃO CAETANO', 'MALUTROM', 'BOTAFOGO-SP',\n",
       "       'FIGUEIRENSE', 'PAYSANDU', 'FORTALEZA', 'CRICIÚMA', 'BRASILIENSE',\n",
       "       'AMÉRICA-RN', 'NÁUTICO', 'IPATINGA', 'AVAÍ', 'SANTO ANDRÉ',\n",
       "       'BARUERI', 'ATLÉTICO-GO', 'CEARÁ', 'GRÊMIO PRUDENTE',\n",
       "       'CHAPECOENSE', 'JOINVILLE', 'CSA'], dtype=object)"
      ]
     },
     "execution_count": 113,
     "metadata": {},
     "output_type": "execute_result"
    }
   ],
   "source": [
    "df['Clube 1'].unique()  # Todos os valores únicos na coluna 'Clube 1', ou seja, todos os times presentes nessa coluna."
   ]
  },
  {
   "cell_type": "code",
   "execution_count": 111,
   "metadata": {},
   "outputs": [],
   "source": [
    "df['Clube 2'] = df['Clube 2'].str.upper()"
   ]
  },
  {
   "cell_type": "code",
   "execution_count": 112,
   "metadata": {},
   "outputs": [
    {
     "data": {
      "text/plain": [
       "array(['BAHIA', 'SPORT', 'PALMEIRAS', 'ATLÉTICO-MG', 'FLAMENGO',\n",
       "       'SANTA CRUZ', 'ATHLÉTICO-PR', 'GAMA', 'CORINTHIANS', 'GRÊMIO',\n",
       "       'FLUMINENSE', 'GOIÁS', 'AMÉRICA-MG', 'VITÓRIA', 'BOTAFOGO-RJ',\n",
       "       'SANTOS', 'CRUZEIRO', 'PONTE PRETA', 'GUARANI', 'SÃO PAULO',\n",
       "       'PORTUGUESA', 'CORITIBA', 'INTERNACIONAL', 'JUVENTUDE', 'VASCO',\n",
       "       'PARANÁ', 'MALUTROM', 'SÃO CAETANO', 'REMO', 'BOTAFOGO-SP',\n",
       "       'PAYSANDU', 'FIGUEIRENSE', 'FORTALEZA', 'CRICIÚMA', 'BRASILIENSE',\n",
       "       'NÁUTICO', 'AMÉRICA-RN', 'IPATINGA', 'BARUERI', 'AVAÍ',\n",
       "       'SANTO ANDRÉ', 'GRÊMIO PRUDENTE', 'ATLÉTICO-GO', 'CEARÁ',\n",
       "       'CHAPECOENSE', 'JOINVILLE', 'CSA'], dtype=object)"
      ]
     },
     "execution_count": 112,
     "metadata": {},
     "output_type": "execute_result"
    }
   ],
   "source": [
    "df['Clube 2'].unique()  # Todos os valores únicos na coluna 'Clube 2', ou seja, todos os times presentes nessa coluna."
   ]
  },
  {
   "cell_type": "markdown",
   "metadata": {},
   "source": [
    "####  - Função nunique()     -     Ao invés de mostrar um array com os nomes dos valores únicos esta função mostra a QUANTIDADE de valores únicos."
   ]
  },
  {
   "cell_type": "code",
   "execution_count": 114,
   "metadata": {},
   "outputs": [
    {
     "data": {
      "text/plain": [
       "47"
      ]
     },
     "execution_count": 114,
     "metadata": {},
     "output_type": "execute_result"
    }
   ],
   "source": [
    "df['Clube 1'].nunique()"
   ]
  },
  {
   "cell_type": "code",
   "execution_count": 115,
   "metadata": {},
   "outputs": [
    {
     "data": {
      "text/plain": [
       "47"
      ]
     },
     "execution_count": 115,
     "metadata": {},
     "output_type": "execute_result"
    }
   ],
   "source": [
    "df['Clube 2'].nunique()"
   ]
  },
  {
   "cell_type": "code",
   "execution_count": 116,
   "metadata": {},
   "outputs": [],
   "source": [
    "# Quais foram as maiores goleadas no período ?"
   ]
  },
  {
   "cell_type": "markdown",
   "metadata": {},
   "source": [
    "Queremos um dataframe em que a coluna 'Clube 1 Gols' do df apresente os valores iguais ao valor máximo atingido por essa coluna:"
   ]
  },
  {
   "cell_type": "code",
   "execution_count": 117,
   "metadata": {},
   "outputs": [
    {
     "data": {
      "text/html": [
       "<div>\n",
       "<style scoped>\n",
       "    .dataframe tbody tr th:only-of-type {\n",
       "        vertical-align: middle;\n",
       "    }\n",
       "\n",
       "    .dataframe tbody tr th {\n",
       "        vertical-align: top;\n",
       "    }\n",
       "\n",
       "    .dataframe thead th {\n",
       "        text-align: right;\n",
       "    }\n",
       "</style>\n",
       "<table border=\"1\" class=\"dataframe\">\n",
       "  <thead>\n",
       "    <tr style=\"text-align: right;\">\n",
       "      <th></th>\n",
       "      <th>Horário</th>\n",
       "      <th>Dia</th>\n",
       "      <th>Data</th>\n",
       "      <th>Clube 1</th>\n",
       "      <th>Clube 2</th>\n",
       "      <th>Vencedor</th>\n",
       "      <th>Rodada</th>\n",
       "      <th>Arena</th>\n",
       "      <th>Clube 1 Gols</th>\n",
       "      <th>Clube 2 Gols</th>\n",
       "      <th>Clube 1 Estado</th>\n",
       "      <th>Clube 2 Estado</th>\n",
       "      <th>Estado Clube Vencedor</th>\n",
       "      <th>Total de Gols</th>\n",
       "    </tr>\n",
       "  </thead>\n",
       "  <tbody>\n",
       "    <tr>\n",
       "      <th>357</th>\n",
       "      <td>14h30</td>\n",
       "      <td>Domingo</td>\n",
       "      <td>2001-08-05</td>\n",
       "      <td>VASCO</td>\n",
       "      <td>GUARANI</td>\n",
       "      <td>VASCO</td>\n",
       "      <td>2ª Rodada</td>\n",
       "      <td>São Januário</td>\n",
       "      <td>7</td>\n",
       "      <td>1</td>\n",
       "      <td>RJ</td>\n",
       "      <td>SP</td>\n",
       "      <td>RJ</td>\n",
       "      <td>8</td>\n",
       "    </tr>\n",
       "    <tr>\n",
       "      <th>693</th>\n",
       "      <td>16h00</td>\n",
       "      <td>Domingo</td>\n",
       "      <td>2001-11-25</td>\n",
       "      <td>VASCO</td>\n",
       "      <td>SÃO PAULO</td>\n",
       "      <td>VASCO</td>\n",
       "      <td>26ª Rodada</td>\n",
       "      <td>São Januário</td>\n",
       "      <td>7</td>\n",
       "      <td>1</td>\n",
       "      <td>RJ</td>\n",
       "      <td>SP</td>\n",
       "      <td>RJ</td>\n",
       "      <td>8</td>\n",
       "    </tr>\n",
       "    <tr>\n",
       "      <th>1122</th>\n",
       "      <td>16h00</td>\n",
       "      <td>Domingo</td>\n",
       "      <td>2003-04-27</td>\n",
       "      <td>GOIÁS</td>\n",
       "      <td>JUVENTUDE</td>\n",
       "      <td>GOIÁS</td>\n",
       "      <td>6ª Rodada</td>\n",
       "      <td>Serra Dourada</td>\n",
       "      <td>7</td>\n",
       "      <td>0</td>\n",
       "      <td>GO</td>\n",
       "      <td>RS</td>\n",
       "      <td>GO</td>\n",
       "      <td>7</td>\n",
       "    </tr>\n",
       "    <tr>\n",
       "      <th>1671</th>\n",
       "      <td>16h00</td>\n",
       "      <td>Domingo</td>\n",
       "      <td>2004-05-16</td>\n",
       "      <td>CRICIÚMA</td>\n",
       "      <td>GOIÁS</td>\n",
       "      <td>CRICIÚMA</td>\n",
       "      <td>6ª Rodada</td>\n",
       "      <td>Heriberto Hulse</td>\n",
       "      <td>7</td>\n",
       "      <td>2</td>\n",
       "      <td>SC</td>\n",
       "      <td>GO</td>\n",
       "      <td>SC</td>\n",
       "      <td>9</td>\n",
       "    </tr>\n",
       "    <tr>\n",
       "      <th>1992</th>\n",
       "      <td>20h30</td>\n",
       "      <td>Terça-feira</td>\n",
       "      <td>2004-09-28</td>\n",
       "      <td>SÃO PAULO</td>\n",
       "      <td>PAYSANDU</td>\n",
       "      <td>SÃO PAULO</td>\n",
       "      <td>33ª Rodada</td>\n",
       "      <td>Morumbi</td>\n",
       "      <td>7</td>\n",
       "      <td>0</td>\n",
       "      <td>SP</td>\n",
       "      <td>PA</td>\n",
       "      <td>SP</td>\n",
       "      <td>7</td>\n",
       "    </tr>\n",
       "    <tr>\n",
       "      <th>2055</th>\n",
       "      <td>20h30</td>\n",
       "      <td>Quarta-feira</td>\n",
       "      <td>2004-10-27</td>\n",
       "      <td>FLUMINENSE</td>\n",
       "      <td>JUVENTUDE</td>\n",
       "      <td>FLUMINENSE</td>\n",
       "      <td>38ª Rodada</td>\n",
       "      <td>Raulino de Oliveira</td>\n",
       "      <td>7</td>\n",
       "      <td>1</td>\n",
       "      <td>RJ</td>\n",
       "      <td>RS</td>\n",
       "      <td>RJ</td>\n",
       "      <td>8</td>\n",
       "    </tr>\n",
       "    <tr>\n",
       "      <th>2309</th>\n",
       "      <td>21h45</td>\n",
       "      <td>Quarta-feira</td>\n",
       "      <td>2005-07-27</td>\n",
       "      <td>ATHLÉTICO-PR</td>\n",
       "      <td>VASCO</td>\n",
       "      <td>ATHLÉTICO-PR</td>\n",
       "      <td>15ª Rodada</td>\n",
       "      <td>Arena da Baixada</td>\n",
       "      <td>7</td>\n",
       "      <td>2</td>\n",
       "      <td>PR</td>\n",
       "      <td>RJ</td>\n",
       "      <td>PR</td>\n",
       "      <td>9</td>\n",
       "    </tr>\n",
       "    <tr>\n",
       "      <th>2557</th>\n",
       "      <td>16h00</td>\n",
       "      <td>Domingo</td>\n",
       "      <td>2005-11-06</td>\n",
       "      <td>CORINTHIANS</td>\n",
       "      <td>SANTOS</td>\n",
       "      <td>CORINTHIANS</td>\n",
       "      <td>37ª Rodada</td>\n",
       "      <td>Pacaembu</td>\n",
       "      <td>7</td>\n",
       "      <td>1</td>\n",
       "      <td>SP</td>\n",
       "      <td>SP</td>\n",
       "      <td>SP</td>\n",
       "      <td>8</td>\n",
       "    </tr>\n",
       "  </tbody>\n",
       "</table>\n",
       "</div>"
      ],
      "text/plain": [
       "     Horário           Dia        Data       Clube 1    Clube 2      Vencedor  \\\n",
       "357    14h30       Domingo  2001-08-05         VASCO    GUARANI         VASCO   \n",
       "693    16h00       Domingo  2001-11-25         VASCO  SÃO PAULO         VASCO   \n",
       "1122   16h00       Domingo  2003-04-27         GOIÁS  JUVENTUDE         GOIÁS   \n",
       "1671   16h00       Domingo  2004-05-16      CRICIÚMA      GOIÁS      CRICIÚMA   \n",
       "1992   20h30   Terça-feira  2004-09-28     SÃO PAULO   PAYSANDU     SÃO PAULO   \n",
       "2055   20h30  Quarta-feira  2004-10-27    FLUMINENSE  JUVENTUDE    FLUMINENSE   \n",
       "2309   21h45  Quarta-feira  2005-07-27  ATHLÉTICO-PR      VASCO  ATHLÉTICO-PR   \n",
       "2557   16h00       Domingo  2005-11-06   CORINTHIANS     SANTOS   CORINTHIANS   \n",
       "\n",
       "          Rodada                Arena  Clube 1 Gols  Clube 2 Gols  \\\n",
       "357    2ª Rodada         São Januário             7             1   \n",
       "693   26ª Rodada         São Januário             7             1   \n",
       "1122   6ª Rodada        Serra Dourada             7             0   \n",
       "1671   6ª Rodada      Heriberto Hulse             7             2   \n",
       "1992  33ª Rodada              Morumbi             7             0   \n",
       "2055  38ª Rodada  Raulino de Oliveira             7             1   \n",
       "2309  15ª Rodada     Arena da Baixada             7             2   \n",
       "2557  37ª Rodada             Pacaembu             7             1   \n",
       "\n",
       "     Clube 1 Estado Clube 2 Estado Estado Clube Vencedor  Total de Gols  \n",
       "357              RJ             SP                    RJ              8  \n",
       "693              RJ             SP                    RJ              8  \n",
       "1122             GO             RS                    GO              7  \n",
       "1671             SC             GO                    SC              9  \n",
       "1992             SP             PA                    SP              7  \n",
       "2055             RJ             RS                    RJ              8  \n",
       "2309             PR             RJ                    PR              9  \n",
       "2557             SP             SP                    SP              8  "
      ]
     },
     "execution_count": 117,
     "metadata": {},
     "output_type": "execute_result"
    }
   ],
   "source": [
    "df[df['Clube 1 Gols'] == df['Clube 1 Gols'].max()]"
   ]
  },
  {
   "cell_type": "code",
   "execution_count": 118,
   "metadata": {},
   "outputs": [
    {
     "data": {
      "text/html": [
       "<div>\n",
       "<style scoped>\n",
       "    .dataframe tbody tr th:only-of-type {\n",
       "        vertical-align: middle;\n",
       "    }\n",
       "\n",
       "    .dataframe tbody tr th {\n",
       "        vertical-align: top;\n",
       "    }\n",
       "\n",
       "    .dataframe thead th {\n",
       "        text-align: right;\n",
       "    }\n",
       "</style>\n",
       "<table border=\"1\" class=\"dataframe\">\n",
       "  <thead>\n",
       "    <tr style=\"text-align: right;\">\n",
       "      <th></th>\n",
       "      <th>Horário</th>\n",
       "      <th>Dia</th>\n",
       "      <th>Data</th>\n",
       "      <th>Clube 1</th>\n",
       "      <th>Clube 2</th>\n",
       "      <th>Vencedor</th>\n",
       "      <th>Rodada</th>\n",
       "      <th>Arena</th>\n",
       "      <th>Clube 1 Gols</th>\n",
       "      <th>Clube 2 Gols</th>\n",
       "      <th>Clube 1 Estado</th>\n",
       "      <th>Clube 2 Estado</th>\n",
       "      <th>Estado Clube Vencedor</th>\n",
       "      <th>Total de Gols</th>\n",
       "    </tr>\n",
       "  </thead>\n",
       "  <tbody>\n",
       "    <tr>\n",
       "      <th>1501</th>\n",
       "      <td>21h40</td>\n",
       "      <td>Quarta-feira</td>\n",
       "      <td>2003-10-22</td>\n",
       "      <td>BAHIA</td>\n",
       "      <td>SANTOS</td>\n",
       "      <td>SANTOS</td>\n",
       "      <td>38ª Rodada</td>\n",
       "      <td>Fonte Nova</td>\n",
       "      <td>4</td>\n",
       "      <td>7</td>\n",
       "      <td>BH</td>\n",
       "      <td>SP</td>\n",
       "      <td>SP</td>\n",
       "      <td>11</td>\n",
       "    </tr>\n",
       "    <tr>\n",
       "      <th>1600</th>\n",
       "      <td>16h00</td>\n",
       "      <td>Domingo</td>\n",
       "      <td>2003-12-14</td>\n",
       "      <td>BAHIA</td>\n",
       "      <td>CRUZEIRO</td>\n",
       "      <td>CRUZEIRO</td>\n",
       "      <td>46ª Rodada</td>\n",
       "      <td>Fonte Nova</td>\n",
       "      <td>0</td>\n",
       "      <td>7</td>\n",
       "      <td>BH</td>\n",
       "      <td>MG</td>\n",
       "      <td>MG</td>\n",
       "      <td>7</td>\n",
       "    </tr>\n",
       "    <tr>\n",
       "      <th>3498</th>\n",
       "      <td>20h30</td>\n",
       "      <td>Quinta-feira</td>\n",
       "      <td>2008-07-17</td>\n",
       "      <td>FIGUEIRENSE</td>\n",
       "      <td>GRÊMIO</td>\n",
       "      <td>GRÊMIO</td>\n",
       "      <td>14ª Rodada</td>\n",
       "      <td>Orlando Scarpelli</td>\n",
       "      <td>1</td>\n",
       "      <td>7</td>\n",
       "      <td>SC</td>\n",
       "      <td>RS</td>\n",
       "      <td>RS</td>\n",
       "      <td>8</td>\n",
       "    </tr>\n",
       "  </tbody>\n",
       "</table>\n",
       "</div>"
      ],
      "text/plain": [
       "     Horário           Dia        Data      Clube 1   Clube 2  Vencedor  \\\n",
       "1501   21h40  Quarta-feira  2003-10-22        BAHIA    SANTOS    SANTOS   \n",
       "1600   16h00       Domingo  2003-12-14        BAHIA  CRUZEIRO  CRUZEIRO   \n",
       "3498   20h30  Quinta-feira  2008-07-17  FIGUEIRENSE    GRÊMIO    GRÊMIO   \n",
       "\n",
       "          Rodada              Arena  Clube 1 Gols  Clube 2 Gols  \\\n",
       "1501  38ª Rodada         Fonte Nova             4             7   \n",
       "1600  46ª Rodada         Fonte Nova             0             7   \n",
       "3498  14ª Rodada  Orlando Scarpelli             1             7   \n",
       "\n",
       "     Clube 1 Estado Clube 2 Estado Estado Clube Vencedor  Total de Gols  \n",
       "1501             BH             SP                    SP             11  \n",
       "1600             BH             MG                    MG              7  \n",
       "3498             SC             RS                    RS              8  "
      ]
     },
     "execution_count": 118,
     "metadata": {},
     "output_type": "execute_result"
    }
   ],
   "source": [
    "df[df['Clube 2 Gols'] == df['Clube 2 Gols'].max()]"
   ]
  },
  {
   "cell_type": "code",
   "execution_count": 120,
   "metadata": {},
   "outputs": [],
   "source": [
    "# Qual foram os 5 times que fizeram mais gols no campeonato brasileiro entre os anos 2000 e 2019 ?"
   ]
  },
  {
   "cell_type": "code",
   "execution_count": 123,
   "metadata": {},
   "outputs": [],
   "source": [
    "by_clube1 = df.groupby('Clube 1')"
   ]
  },
  {
   "cell_type": "code",
   "execution_count": 133,
   "metadata": {},
   "outputs": [
    {
     "data": {
      "text/plain": [
       "Clube 1\n",
       "SANTOS          701\n",
       "CRUZEIRO        668\n",
       "SÃO PAULO       663\n",
       "ATLÉTICO-MG     620\n",
       "ATHLÉTICO-PR    618\n",
       "Name: Clube 1 Gols, dtype: int64"
      ]
     },
     "execution_count": 133,
     "metadata": {},
     "output_type": "execute_result"
    }
   ],
   "source": [
    "by_clube1['Clube 1 Gols'].sum().sort_values(ascending = False).head()\n",
    "# Quero a soma da coluna 'Clube 1 Gols' do Dataframe (que foi agrupado no passo anterior), de forma decrescente (5 primeiros)."
   ]
  },
  {
   "cell_type": "code",
   "execution_count": null,
   "metadata": {},
   "outputs": [],
   "source": []
  }
 ],
 "metadata": {
  "kernelspec": {
   "display_name": "Python 3",
   "language": "python",
   "name": "python3"
  },
  "language_info": {
   "codemirror_mode": {
    "name": "ipython",
    "version": 3
   },
   "file_extension": ".py",
   "mimetype": "text/x-python",
   "name": "python",
   "nbconvert_exporter": "python",
   "pygments_lexer": "ipython3",
   "version": "3.7.7"
  }
 },
 "nbformat": 4,
 "nbformat_minor": 4
}
